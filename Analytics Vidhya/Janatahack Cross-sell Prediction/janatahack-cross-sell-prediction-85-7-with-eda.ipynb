{
 "cells": [
  {
   "cell_type": "code",
   "execution_count": 1,
   "metadata": {
    "_cell_guid": "b1076dfc-b9ad-4769-8c92-a6c4dae69d19",
    "_uuid": "8f2839f25d086af736a60e9eeb907d3b93b6e0e5",
    "execution": {
     "iopub.execute_input": "2020-09-18T22:23:23.137298Z",
     "iopub.status.busy": "2020-09-18T22:23:23.136769Z",
     "iopub.status.idle": "2020-09-18T22:23:24.277444Z",
     "shell.execute_reply": "2020-09-18T22:23:24.276049Z"
    },
    "papermill": {
     "duration": 1.171366,
     "end_time": "2020-09-18T22:23:24.277564",
     "exception": false,
     "start_time": "2020-09-18T22:23:23.106198",
     "status": "completed"
    },
    "tags": []
   },
   "outputs": [],
   "source": [
    "import pandas as pd\n",
    "import numpy as np\n",
    "from sklearn.preprocessing import LabelEncoder,StandardScaler, MinMaxScaler\n",
    "from sklearn.model_selection import train_test_split\n",
    "import seaborn as sns\n",
    "import matplotlib.pyplot as plt\n",
    "from sklearn.metrics import roc_auc_score,auc\n",
    "from lightgbm import LGBMClassifier\n"
   ]
  },
  {
   "cell_type": "code",
   "execution_count": 2,
   "metadata": {
    "_cell_guid": "79c7e3d0-c299-4dcb-8224-4455121ee9b0",
    "_uuid": "d629ff2d2480ee46fbb7e2d37f6b5fab8052498a",
    "execution": {
     "iopub.execute_input": "2020-09-18T22:23:24.336389Z",
     "iopub.status.busy": "2020-09-18T22:23:24.335837Z",
     "iopub.status.idle": "2020-09-18T22:23:24.957509Z",
     "shell.execute_reply": "2020-09-18T22:23:24.956912Z"
    },
    "papermill": {
     "duration": 0.655589,
     "end_time": "2020-09-18T22:23:24.957613",
     "exception": false,
     "start_time": "2020-09-18T22:23:24.302024",
     "status": "completed"
    },
    "tags": []
   },
   "outputs": [],
   "source": [
    "train_data = pd.read_csv('../input/janatahack-crosssell-prediction-dataset/train.csv',index_col = 'id')\n",
    "test_data = pd.read_csv('../input/janatahack-crosssell-prediction-dataset/test.csv',index_col = 'id')\n",
    "combined = [train_data,test_data]"
   ]
  },
  {
   "cell_type": "code",
   "execution_count": 3,
   "metadata": {
    "execution": {
     "iopub.execute_input": "2020-09-18T22:23:25.016391Z",
     "iopub.status.busy": "2020-09-18T22:23:25.015865Z",
     "iopub.status.idle": "2020-09-18T22:23:25.026549Z",
     "shell.execute_reply": "2020-09-18T22:23:25.027097Z"
    },
    "papermill": {
     "duration": 0.045536,
     "end_time": "2020-09-18T22:23:25.027220",
     "exception": false,
     "start_time": "2020-09-18T22:23:24.981684",
     "status": "completed"
    },
    "tags": []
   },
   "outputs": [
    {
     "data": {
      "text/html": [
       "<div>\n",
       "<style scoped>\n",
       "    .dataframe tbody tr th:only-of-type {\n",
       "        vertical-align: middle;\n",
       "    }\n",
       "\n",
       "    .dataframe tbody tr th {\n",
       "        vertical-align: top;\n",
       "    }\n",
       "\n",
       "    .dataframe thead th {\n",
       "        text-align: right;\n",
       "    }\n",
       "</style>\n",
       "<table border=\"1\" class=\"dataframe\">\n",
       "  <thead>\n",
       "    <tr style=\"text-align: right;\">\n",
       "      <th></th>\n",
       "      <th>Gender</th>\n",
       "      <th>Age</th>\n",
       "      <th>Driving_License</th>\n",
       "      <th>Region_Code</th>\n",
       "      <th>Previously_Insured</th>\n",
       "      <th>Vehicle_Age</th>\n",
       "      <th>Vehicle_Damage</th>\n",
       "      <th>Annual_Premium</th>\n",
       "      <th>Policy_Sales_Channel</th>\n",
       "      <th>Vintage</th>\n",
       "      <th>Response</th>\n",
       "    </tr>\n",
       "    <tr>\n",
       "      <th>id</th>\n",
       "      <th></th>\n",
       "      <th></th>\n",
       "      <th></th>\n",
       "      <th></th>\n",
       "      <th></th>\n",
       "      <th></th>\n",
       "      <th></th>\n",
       "      <th></th>\n",
       "      <th></th>\n",
       "      <th></th>\n",
       "      <th></th>\n",
       "    </tr>\n",
       "  </thead>\n",
       "  <tbody>\n",
       "    <tr>\n",
       "      <th>1</th>\n",
       "      <td>Male</td>\n",
       "      <td>44</td>\n",
       "      <td>1</td>\n",
       "      <td>28.0</td>\n",
       "      <td>0</td>\n",
       "      <td>&gt; 2 Years</td>\n",
       "      <td>Yes</td>\n",
       "      <td>40454.0</td>\n",
       "      <td>26.0</td>\n",
       "      <td>217</td>\n",
       "      <td>1</td>\n",
       "    </tr>\n",
       "    <tr>\n",
       "      <th>2</th>\n",
       "      <td>Male</td>\n",
       "      <td>76</td>\n",
       "      <td>1</td>\n",
       "      <td>3.0</td>\n",
       "      <td>0</td>\n",
       "      <td>1-2 Year</td>\n",
       "      <td>No</td>\n",
       "      <td>33536.0</td>\n",
       "      <td>26.0</td>\n",
       "      <td>183</td>\n",
       "      <td>0</td>\n",
       "    </tr>\n",
       "    <tr>\n",
       "      <th>3</th>\n",
       "      <td>Male</td>\n",
       "      <td>47</td>\n",
       "      <td>1</td>\n",
       "      <td>28.0</td>\n",
       "      <td>0</td>\n",
       "      <td>&gt; 2 Years</td>\n",
       "      <td>Yes</td>\n",
       "      <td>38294.0</td>\n",
       "      <td>26.0</td>\n",
       "      <td>27</td>\n",
       "      <td>1</td>\n",
       "    </tr>\n",
       "    <tr>\n",
       "      <th>4</th>\n",
       "      <td>Male</td>\n",
       "      <td>21</td>\n",
       "      <td>1</td>\n",
       "      <td>11.0</td>\n",
       "      <td>1</td>\n",
       "      <td>&lt; 1 Year</td>\n",
       "      <td>No</td>\n",
       "      <td>28619.0</td>\n",
       "      <td>152.0</td>\n",
       "      <td>203</td>\n",
       "      <td>0</td>\n",
       "    </tr>\n",
       "    <tr>\n",
       "      <th>5</th>\n",
       "      <td>Female</td>\n",
       "      <td>29</td>\n",
       "      <td>1</td>\n",
       "      <td>41.0</td>\n",
       "      <td>1</td>\n",
       "      <td>&lt; 1 Year</td>\n",
       "      <td>No</td>\n",
       "      <td>27496.0</td>\n",
       "      <td>152.0</td>\n",
       "      <td>39</td>\n",
       "      <td>0</td>\n",
       "    </tr>\n",
       "  </tbody>\n",
       "</table>\n",
       "</div>"
      ],
      "text/plain": [
       "    Gender  Age  Driving_License  Region_Code  Previously_Insured Vehicle_Age  \\\n",
       "id                                                                              \n",
       "1     Male   44                1         28.0                   0   > 2 Years   \n",
       "2     Male   76                1          3.0                   0    1-2 Year   \n",
       "3     Male   47                1         28.0                   0   > 2 Years   \n",
       "4     Male   21                1         11.0                   1    < 1 Year   \n",
       "5   Female   29                1         41.0                   1    < 1 Year   \n",
       "\n",
       "   Vehicle_Damage  Annual_Premium  Policy_Sales_Channel  Vintage  Response  \n",
       "id                                                                          \n",
       "1             Yes         40454.0                  26.0      217         1  \n",
       "2              No         33536.0                  26.0      183         0  \n",
       "3             Yes         38294.0                  26.0       27         1  \n",
       "4              No         28619.0                 152.0      203         0  \n",
       "5              No         27496.0                 152.0       39         0  "
      ]
     },
     "execution_count": 3,
     "metadata": {},
     "output_type": "execute_result"
    }
   ],
   "source": [
    "train_data.head()"
   ]
  },
  {
   "cell_type": "code",
   "execution_count": 4,
   "metadata": {
    "execution": {
     "iopub.execute_input": "2020-09-18T22:23:25.085134Z",
     "iopub.status.busy": "2020-09-18T22:23:25.084068Z",
     "iopub.status.idle": "2020-09-18T22:23:25.199341Z",
     "shell.execute_reply": "2020-09-18T22:23:25.198868Z"
    },
    "papermill": {
     "duration": 0.145328,
     "end_time": "2020-09-18T22:23:25.199435",
     "exception": false,
     "start_time": "2020-09-18T22:23:25.054107",
     "status": "completed"
    },
    "tags": []
   },
   "outputs": [
    {
     "data": {
      "text/plain": [
       "Gender                  0\n",
       "Age                     0\n",
       "Driving_License         0\n",
       "Region_Code             0\n",
       "Previously_Insured      0\n",
       "Vehicle_Age             0\n",
       "Vehicle_Damage          0\n",
       "Annual_Premium          0\n",
       "Policy_Sales_Channel    0\n",
       "Vintage                 0\n",
       "Response                0\n",
       "dtype: int64"
      ]
     },
     "execution_count": 4,
     "metadata": {},
     "output_type": "execute_result"
    }
   ],
   "source": [
    "train_data.isnull().sum()"
   ]
  },
  {
   "cell_type": "code",
   "execution_count": 5,
   "metadata": {
    "execution": {
     "iopub.execute_input": "2020-09-18T22:23:25.253504Z",
     "iopub.status.busy": "2020-09-18T22:23:25.252742Z",
     "iopub.status.idle": "2020-09-18T22:23:25.302274Z",
     "shell.execute_reply": "2020-09-18T22:23:25.303095Z"
    },
    "papermill": {
     "duration": 0.078568,
     "end_time": "2020-09-18T22:23:25.303258",
     "exception": false,
     "start_time": "2020-09-18T22:23:25.224690",
     "status": "completed"
    },
    "tags": []
   },
   "outputs": [
    {
     "name": "stdout",
     "output_type": "stream",
     "text": [
      "<class 'pandas.core.frame.DataFrame'>\n",
      "Int64Index: 127037 entries, 381110 to 508146\n",
      "Data columns (total 10 columns):\n",
      " #   Column                Non-Null Count   Dtype  \n",
      "---  ------                --------------   -----  \n",
      " 0   Gender                127037 non-null  object \n",
      " 1   Age                   127037 non-null  int64  \n",
      " 2   Driving_License       127037 non-null  int64  \n",
      " 3   Region_Code           127037 non-null  float64\n",
      " 4   Previously_Insured    127037 non-null  int64  \n",
      " 5   Vehicle_Age           127037 non-null  object \n",
      " 6   Vehicle_Damage        127037 non-null  object \n",
      " 7   Annual_Premium        127037 non-null  float64\n",
      " 8   Policy_Sales_Channel  127037 non-null  float64\n",
      " 9   Vintage               127037 non-null  int64  \n",
      "dtypes: float64(3), int64(4), object(3)\n",
      "memory usage: 10.7+ MB\n"
     ]
    }
   ],
   "source": [
    "test_data.info()"
   ]
  },
  {
   "cell_type": "code",
   "execution_count": 6,
   "metadata": {
    "execution": {
     "iopub.execute_input": "2020-09-18T22:23:25.377546Z",
     "iopub.status.busy": "2020-09-18T22:23:25.377027Z",
     "iopub.status.idle": "2020-09-18T22:23:25.485966Z",
     "shell.execute_reply": "2020-09-18T22:23:25.486399Z"
    },
    "papermill": {
     "duration": 0.153984,
     "end_time": "2020-09-18T22:23:25.486527",
     "exception": false,
     "start_time": "2020-09-18T22:23:25.332543",
     "status": "completed"
    },
    "tags": []
   },
   "outputs": [
    {
     "data": {
      "text/html": [
       "<div>\n",
       "<style scoped>\n",
       "    .dataframe tbody tr th:only-of-type {\n",
       "        vertical-align: middle;\n",
       "    }\n",
       "\n",
       "    .dataframe tbody tr th {\n",
       "        vertical-align: top;\n",
       "    }\n",
       "\n",
       "    .dataframe thead th {\n",
       "        text-align: right;\n",
       "    }\n",
       "</style>\n",
       "<table border=\"1\" class=\"dataframe\">\n",
       "  <thead>\n",
       "    <tr style=\"text-align: right;\">\n",
       "      <th></th>\n",
       "      <th>Age</th>\n",
       "      <th>Driving_License</th>\n",
       "      <th>Region_Code</th>\n",
       "      <th>Previously_Insured</th>\n",
       "      <th>Annual_Premium</th>\n",
       "      <th>Policy_Sales_Channel</th>\n",
       "      <th>Vintage</th>\n",
       "      <th>Response</th>\n",
       "    </tr>\n",
       "  </thead>\n",
       "  <tbody>\n",
       "    <tr>\n",
       "      <th>count</th>\n",
       "      <td>381109.000000</td>\n",
       "      <td>381109.000000</td>\n",
       "      <td>381109.000000</td>\n",
       "      <td>381109.000000</td>\n",
       "      <td>381109.000000</td>\n",
       "      <td>381109.000000</td>\n",
       "      <td>381109.000000</td>\n",
       "      <td>381109.000000</td>\n",
       "    </tr>\n",
       "    <tr>\n",
       "      <th>mean</th>\n",
       "      <td>38.822584</td>\n",
       "      <td>0.997869</td>\n",
       "      <td>26.388807</td>\n",
       "      <td>0.458210</td>\n",
       "      <td>30564.389581</td>\n",
       "      <td>112.034295</td>\n",
       "      <td>154.347397</td>\n",
       "      <td>0.122563</td>\n",
       "    </tr>\n",
       "    <tr>\n",
       "      <th>std</th>\n",
       "      <td>15.511611</td>\n",
       "      <td>0.046110</td>\n",
       "      <td>13.229888</td>\n",
       "      <td>0.498251</td>\n",
       "      <td>17213.155057</td>\n",
       "      <td>54.203995</td>\n",
       "      <td>83.671304</td>\n",
       "      <td>0.327936</td>\n",
       "    </tr>\n",
       "    <tr>\n",
       "      <th>min</th>\n",
       "      <td>20.000000</td>\n",
       "      <td>0.000000</td>\n",
       "      <td>0.000000</td>\n",
       "      <td>0.000000</td>\n",
       "      <td>2630.000000</td>\n",
       "      <td>1.000000</td>\n",
       "      <td>10.000000</td>\n",
       "      <td>0.000000</td>\n",
       "    </tr>\n",
       "    <tr>\n",
       "      <th>25%</th>\n",
       "      <td>25.000000</td>\n",
       "      <td>1.000000</td>\n",
       "      <td>15.000000</td>\n",
       "      <td>0.000000</td>\n",
       "      <td>24405.000000</td>\n",
       "      <td>29.000000</td>\n",
       "      <td>82.000000</td>\n",
       "      <td>0.000000</td>\n",
       "    </tr>\n",
       "    <tr>\n",
       "      <th>50%</th>\n",
       "      <td>36.000000</td>\n",
       "      <td>1.000000</td>\n",
       "      <td>28.000000</td>\n",
       "      <td>0.000000</td>\n",
       "      <td>31669.000000</td>\n",
       "      <td>133.000000</td>\n",
       "      <td>154.000000</td>\n",
       "      <td>0.000000</td>\n",
       "    </tr>\n",
       "    <tr>\n",
       "      <th>75%</th>\n",
       "      <td>49.000000</td>\n",
       "      <td>1.000000</td>\n",
       "      <td>35.000000</td>\n",
       "      <td>1.000000</td>\n",
       "      <td>39400.000000</td>\n",
       "      <td>152.000000</td>\n",
       "      <td>227.000000</td>\n",
       "      <td>0.000000</td>\n",
       "    </tr>\n",
       "    <tr>\n",
       "      <th>max</th>\n",
       "      <td>85.000000</td>\n",
       "      <td>1.000000</td>\n",
       "      <td>52.000000</td>\n",
       "      <td>1.000000</td>\n",
       "      <td>540165.000000</td>\n",
       "      <td>163.000000</td>\n",
       "      <td>299.000000</td>\n",
       "      <td>1.000000</td>\n",
       "    </tr>\n",
       "  </tbody>\n",
       "</table>\n",
       "</div>"
      ],
      "text/plain": [
       "                 Age  Driving_License    Region_Code  Previously_Insured  \\\n",
       "count  381109.000000    381109.000000  381109.000000       381109.000000   \n",
       "mean       38.822584         0.997869      26.388807            0.458210   \n",
       "std        15.511611         0.046110      13.229888            0.498251   \n",
       "min        20.000000         0.000000       0.000000            0.000000   \n",
       "25%        25.000000         1.000000      15.000000            0.000000   \n",
       "50%        36.000000         1.000000      28.000000            0.000000   \n",
       "75%        49.000000         1.000000      35.000000            1.000000   \n",
       "max        85.000000         1.000000      52.000000            1.000000   \n",
       "\n",
       "       Annual_Premium  Policy_Sales_Channel        Vintage       Response  \n",
       "count   381109.000000         381109.000000  381109.000000  381109.000000  \n",
       "mean     30564.389581            112.034295     154.347397       0.122563  \n",
       "std      17213.155057             54.203995      83.671304       0.327936  \n",
       "min       2630.000000              1.000000      10.000000       0.000000  \n",
       "25%      24405.000000             29.000000      82.000000       0.000000  \n",
       "50%      31669.000000            133.000000     154.000000       0.000000  \n",
       "75%      39400.000000            152.000000     227.000000       0.000000  \n",
       "max     540165.000000            163.000000     299.000000       1.000000  "
      ]
     },
     "execution_count": 6,
     "metadata": {},
     "output_type": "execute_result"
    }
   ],
   "source": [
    "train_data.describe()"
   ]
  },
  {
   "cell_type": "code",
   "execution_count": 7,
   "metadata": {
    "execution": {
     "iopub.execute_input": "2020-09-18T22:23:25.548334Z",
     "iopub.status.busy": "2020-09-18T22:23:25.547457Z",
     "iopub.status.idle": "2020-09-18T22:23:25.559600Z",
     "shell.execute_reply": "2020-09-18T22:23:25.559166Z"
    },
    "papermill": {
     "duration": 0.044846,
     "end_time": "2020-09-18T22:23:25.559705",
     "exception": false,
     "start_time": "2020-09-18T22:23:25.514859",
     "status": "completed"
    },
    "tags": []
   },
   "outputs": [
    {
     "data": {
      "text/plain": [
       "Index(['Gender', 'Vehicle_Age', 'Vehicle_Damage'], dtype='object')"
      ]
     },
     "execution_count": 7,
     "metadata": {},
     "output_type": "execute_result"
    }
   ],
   "source": [
    "cat_features = train_data.select_dtypes(['object']).columns\n",
    "cat_features"
   ]
  },
  {
   "cell_type": "code",
   "execution_count": 8,
   "metadata": {
    "execution": {
     "iopub.execute_input": "2020-09-18T22:23:25.635671Z",
     "iopub.status.busy": "2020-09-18T22:23:25.634893Z",
     "iopub.status.idle": "2020-09-18T22:23:25.696824Z",
     "shell.execute_reply": "2020-09-18T22:23:25.697474Z"
    },
    "papermill": {
     "duration": 0.11161,
     "end_time": "2020-09-18T22:23:25.697638",
     "exception": false,
     "start_time": "2020-09-18T22:23:25.586028",
     "status": "completed"
    },
    "tags": []
   },
   "outputs": [
    {
     "name": "stdout",
     "output_type": "stream",
     "text": [
      "2\n",
      "3\n",
      "2\n"
     ]
    }
   ],
   "source": [
    "for col in cat_features:\n",
    "    print(train_data[col].nunique())"
   ]
  },
  {
   "cell_type": "code",
   "execution_count": 9,
   "metadata": {
    "execution": {
     "iopub.execute_input": "2020-09-18T22:23:25.788101Z",
     "iopub.status.busy": "2020-09-18T22:23:25.782935Z",
     "iopub.status.idle": "2020-09-18T22:23:26.231269Z",
     "shell.execute_reply": "2020-09-18T22:23:26.231683Z"
    },
    "papermill": {
     "duration": 0.506125,
     "end_time": "2020-09-18T22:23:26.231825",
     "exception": false,
     "start_time": "2020-09-18T22:23:25.725700",
     "status": "completed"
    },
    "tags": []
   },
   "outputs": [],
   "source": [
    "le = LabelEncoder()\n",
    "for col in cat_features:\n",
    "    train_data[col] = le.fit_transform(train_data[col])\n",
    "    test_data[col] = le.fit_transform(test_data[col])"
   ]
  },
  {
   "cell_type": "code",
   "execution_count": 10,
   "metadata": {
    "execution": {
     "iopub.execute_input": "2020-09-18T22:23:26.291266Z",
     "iopub.status.busy": "2020-09-18T22:23:26.290078Z",
     "iopub.status.idle": "2020-09-18T22:23:26.321978Z",
     "shell.execute_reply": "2020-09-18T22:23:26.322466Z"
    },
    "papermill": {
     "duration": 0.063597,
     "end_time": "2020-09-18T22:23:26.322595",
     "exception": false,
     "start_time": "2020-09-18T22:23:26.258998",
     "status": "completed"
    },
    "tags": []
   },
   "outputs": [
    {
     "name": "stdout",
     "output_type": "stream",
     "text": [
      "<class 'pandas.core.frame.DataFrame'>\n",
      "Int64Index: 381109 entries, 1 to 381109\n",
      "Data columns (total 11 columns):\n",
      " #   Column                Non-Null Count   Dtype  \n",
      "---  ------                --------------   -----  \n",
      " 0   Gender                381109 non-null  int64  \n",
      " 1   Age                   381109 non-null  int64  \n",
      " 2   Driving_License       381109 non-null  int64  \n",
      " 3   Region_Code           381109 non-null  float64\n",
      " 4   Previously_Insured    381109 non-null  int64  \n",
      " 5   Vehicle_Age           381109 non-null  int64  \n",
      " 6   Vehicle_Damage        381109 non-null  int64  \n",
      " 7   Annual_Premium        381109 non-null  float64\n",
      " 8   Policy_Sales_Channel  381109 non-null  float64\n",
      " 9   Vintage               381109 non-null  int64  \n",
      " 10  Response              381109 non-null  int64  \n",
      "dtypes: float64(3), int64(8)\n",
      "memory usage: 34.9 MB\n"
     ]
    }
   ],
   "source": [
    "train_data.info()"
   ]
  },
  {
   "cell_type": "code",
   "execution_count": 11,
   "metadata": {
    "execution": {
     "iopub.execute_input": "2020-09-18T22:23:26.400184Z",
     "iopub.status.busy": "2020-09-18T22:23:26.399349Z",
     "iopub.status.idle": "2020-09-18T22:23:26.536263Z",
     "shell.execute_reply": "2020-09-18T22:23:26.536716Z"
    },
    "papermill": {
     "duration": 0.184382,
     "end_time": "2020-09-18T22:23:26.536856",
     "exception": false,
     "start_time": "2020-09-18T22:23:26.352474",
     "status": "completed"
    },
    "tags": []
   },
   "outputs": [
    {
     "data": {
      "text/html": [
       "<div>\n",
       "<style scoped>\n",
       "    .dataframe tbody tr th:only-of-type {\n",
       "        vertical-align: middle;\n",
       "    }\n",
       "\n",
       "    .dataframe tbody tr th {\n",
       "        vertical-align: top;\n",
       "    }\n",
       "\n",
       "    .dataframe thead th {\n",
       "        text-align: right;\n",
       "    }\n",
       "</style>\n",
       "<table border=\"1\" class=\"dataframe\">\n",
       "  <thead>\n",
       "    <tr style=\"text-align: right;\">\n",
       "      <th></th>\n",
       "      <th>Gender</th>\n",
       "      <th>Age</th>\n",
       "      <th>Driving_License</th>\n",
       "      <th>Region_Code</th>\n",
       "      <th>Previously_Insured</th>\n",
       "      <th>Vehicle_Age</th>\n",
       "      <th>Vehicle_Damage</th>\n",
       "      <th>Annual_Premium</th>\n",
       "      <th>Policy_Sales_Channel</th>\n",
       "      <th>Vintage</th>\n",
       "      <th>Response</th>\n",
       "    </tr>\n",
       "  </thead>\n",
       "  <tbody>\n",
       "    <tr>\n",
       "      <th>count</th>\n",
       "      <td>381109.000000</td>\n",
       "      <td>381109.000000</td>\n",
       "      <td>381109.000000</td>\n",
       "      <td>381109.000000</td>\n",
       "      <td>381109.000000</td>\n",
       "      <td>381109.000000</td>\n",
       "      <td>381109.000000</td>\n",
       "      <td>381109.000000</td>\n",
       "      <td>381109.000000</td>\n",
       "      <td>381109.000000</td>\n",
       "      <td>381109.000000</td>\n",
       "    </tr>\n",
       "    <tr>\n",
       "      <th>mean</th>\n",
       "      <td>0.540761</td>\n",
       "      <td>38.822584</td>\n",
       "      <td>0.997869</td>\n",
       "      <td>26.388807</td>\n",
       "      <td>0.458210</td>\n",
       "      <td>0.516388</td>\n",
       "      <td>0.504877</td>\n",
       "      <td>30564.389581</td>\n",
       "      <td>112.034295</td>\n",
       "      <td>154.347397</td>\n",
       "      <td>0.122563</td>\n",
       "    </tr>\n",
       "    <tr>\n",
       "      <th>std</th>\n",
       "      <td>0.498336</td>\n",
       "      <td>15.511611</td>\n",
       "      <td>0.046110</td>\n",
       "      <td>13.229888</td>\n",
       "      <td>0.498251</td>\n",
       "      <td>0.577698</td>\n",
       "      <td>0.499977</td>\n",
       "      <td>17213.155057</td>\n",
       "      <td>54.203995</td>\n",
       "      <td>83.671304</td>\n",
       "      <td>0.327936</td>\n",
       "    </tr>\n",
       "    <tr>\n",
       "      <th>min</th>\n",
       "      <td>0.000000</td>\n",
       "      <td>20.000000</td>\n",
       "      <td>0.000000</td>\n",
       "      <td>0.000000</td>\n",
       "      <td>0.000000</td>\n",
       "      <td>0.000000</td>\n",
       "      <td>0.000000</td>\n",
       "      <td>2630.000000</td>\n",
       "      <td>1.000000</td>\n",
       "      <td>10.000000</td>\n",
       "      <td>0.000000</td>\n",
       "    </tr>\n",
       "    <tr>\n",
       "      <th>25%</th>\n",
       "      <td>0.000000</td>\n",
       "      <td>25.000000</td>\n",
       "      <td>1.000000</td>\n",
       "      <td>15.000000</td>\n",
       "      <td>0.000000</td>\n",
       "      <td>0.000000</td>\n",
       "      <td>0.000000</td>\n",
       "      <td>24405.000000</td>\n",
       "      <td>29.000000</td>\n",
       "      <td>82.000000</td>\n",
       "      <td>0.000000</td>\n",
       "    </tr>\n",
       "    <tr>\n",
       "      <th>50%</th>\n",
       "      <td>1.000000</td>\n",
       "      <td>36.000000</td>\n",
       "      <td>1.000000</td>\n",
       "      <td>28.000000</td>\n",
       "      <td>0.000000</td>\n",
       "      <td>0.000000</td>\n",
       "      <td>1.000000</td>\n",
       "      <td>31669.000000</td>\n",
       "      <td>133.000000</td>\n",
       "      <td>154.000000</td>\n",
       "      <td>0.000000</td>\n",
       "    </tr>\n",
       "    <tr>\n",
       "      <th>75%</th>\n",
       "      <td>1.000000</td>\n",
       "      <td>49.000000</td>\n",
       "      <td>1.000000</td>\n",
       "      <td>35.000000</td>\n",
       "      <td>1.000000</td>\n",
       "      <td>1.000000</td>\n",
       "      <td>1.000000</td>\n",
       "      <td>39400.000000</td>\n",
       "      <td>152.000000</td>\n",
       "      <td>227.000000</td>\n",
       "      <td>0.000000</td>\n",
       "    </tr>\n",
       "    <tr>\n",
       "      <th>max</th>\n",
       "      <td>1.000000</td>\n",
       "      <td>85.000000</td>\n",
       "      <td>1.000000</td>\n",
       "      <td>52.000000</td>\n",
       "      <td>1.000000</td>\n",
       "      <td>2.000000</td>\n",
       "      <td>1.000000</td>\n",
       "      <td>540165.000000</td>\n",
       "      <td>163.000000</td>\n",
       "      <td>299.000000</td>\n",
       "      <td>1.000000</td>\n",
       "    </tr>\n",
       "  </tbody>\n",
       "</table>\n",
       "</div>"
      ],
      "text/plain": [
       "              Gender            Age  Driving_License    Region_Code  \\\n",
       "count  381109.000000  381109.000000    381109.000000  381109.000000   \n",
       "mean        0.540761      38.822584         0.997869      26.388807   \n",
       "std         0.498336      15.511611         0.046110      13.229888   \n",
       "min         0.000000      20.000000         0.000000       0.000000   \n",
       "25%         0.000000      25.000000         1.000000      15.000000   \n",
       "50%         1.000000      36.000000         1.000000      28.000000   \n",
       "75%         1.000000      49.000000         1.000000      35.000000   \n",
       "max         1.000000      85.000000         1.000000      52.000000   \n",
       "\n",
       "       Previously_Insured    Vehicle_Age  Vehicle_Damage  Annual_Premium  \\\n",
       "count       381109.000000  381109.000000   381109.000000   381109.000000   \n",
       "mean             0.458210       0.516388        0.504877    30564.389581   \n",
       "std              0.498251       0.577698        0.499977    17213.155057   \n",
       "min              0.000000       0.000000        0.000000     2630.000000   \n",
       "25%              0.000000       0.000000        0.000000    24405.000000   \n",
       "50%              0.000000       0.000000        1.000000    31669.000000   \n",
       "75%              1.000000       1.000000        1.000000    39400.000000   \n",
       "max              1.000000       2.000000        1.000000   540165.000000   \n",
       "\n",
       "       Policy_Sales_Channel        Vintage       Response  \n",
       "count         381109.000000  381109.000000  381109.000000  \n",
       "mean             112.034295     154.347397       0.122563  \n",
       "std               54.203995      83.671304       0.327936  \n",
       "min                1.000000      10.000000       0.000000  \n",
       "25%               29.000000      82.000000       0.000000  \n",
       "50%              133.000000     154.000000       0.000000  \n",
       "75%              152.000000     227.000000       0.000000  \n",
       "max              163.000000     299.000000       1.000000  "
      ]
     },
     "execution_count": 11,
     "metadata": {},
     "output_type": "execute_result"
    }
   ],
   "source": [
    "train_data.describe()"
   ]
  },
  {
   "cell_type": "code",
   "execution_count": 12,
   "metadata": {
    "execution": {
     "iopub.execute_input": "2020-09-18T22:23:26.602704Z",
     "iopub.status.busy": "2020-09-18T22:23:26.602057Z",
     "iopub.status.idle": "2020-09-18T22:23:26.845450Z",
     "shell.execute_reply": "2020-09-18T22:23:26.845027Z"
    },
    "papermill": {
     "duration": 0.278189,
     "end_time": "2020-09-18T22:23:26.845548",
     "exception": false,
     "start_time": "2020-09-18T22:23:26.567359",
     "status": "completed"
    },
    "tags": []
   },
   "outputs": [
    {
     "data": {
      "image/png": "[encoded data removed]",
      "text/plain": [
       "<Figure size 648x432 with 1 Axes>"
      ]
     },
     "metadata": {
      "needs_background": "light"
     },
     "output_type": "display_data"
    }
   ],
   "source": [
    "plt.figure(figsize = (9,6))\n",
    "sns.set_style('ticks')\n",
    "sns.countplot('Gender', hue = 'Response',data = train_data)\n",
    "plt.show()"
   ]
  },
  {
   "cell_type": "code",
   "execution_count": 13,
   "metadata": {
    "execution": {
     "iopub.execute_input": "2020-09-18T22:23:26.911456Z",
     "iopub.status.busy": "2020-09-18T22:23:26.910672Z",
     "iopub.status.idle": "2020-09-18T22:23:26.917420Z",
     "shell.execute_reply": "2020-09-18T22:23:26.916893Z"
    },
    "papermill": {
     "duration": 0.040934,
     "end_time": "2020-09-18T22:23:26.917507",
     "exception": false,
     "start_time": "2020-09-18T22:23:26.876573",
     "status": "completed"
    },
    "tags": []
   },
   "outputs": [
    {
     "data": {
      "text/plain": [
       "66"
      ]
     },
     "execution_count": 13,
     "metadata": {},
     "output_type": "execute_result"
    }
   ],
   "source": [
    "train_data['Age'].nunique()"
   ]
  },
  {
   "cell_type": "code",
   "execution_count": 14,
   "metadata": {
    "execution": {
     "iopub.execute_input": "2020-09-18T22:23:26.982936Z",
     "iopub.status.busy": "2020-09-18T22:23:26.982102Z",
     "iopub.status.idle": "2020-09-18T22:23:28.066982Z",
     "shell.execute_reply": "2020-09-18T22:23:28.067423Z"
    },
    "papermill": {
     "duration": 1.119877,
     "end_time": "2020-09-18T22:23:28.067544",
     "exception": false,
     "start_time": "2020-09-18T22:23:26.947667",
     "status": "completed"
    },
    "tags": []
   },
   "outputs": [
    {
     "data": {
      "image/png": "[encoded data removed]",
      "text/plain": [
       "<Figure size 648x432 with 1 Axes>"
      ]
     },
     "metadata": {},
     "output_type": "display_data"
    }
   ],
   "source": [
    "plt.figure(figsize = (9,6))\n",
    "sns.set_style('ticks')\n",
    "sns.violinplot('Response', 'Age',data = train_data)\n",
    "plt.show()"
   ]
  },
  {
   "cell_type": "code",
   "execution_count": 15,
   "metadata": {
    "execution": {
     "iopub.execute_input": "2020-09-18T22:23:28.141938Z",
     "iopub.status.busy": "2020-09-18T22:23:28.140627Z",
     "iopub.status.idle": "2020-09-18T22:23:28.155835Z",
     "shell.execute_reply": "2020-09-18T22:23:28.155391Z"
    },
    "papermill": {
     "duration": 0.054957,
     "end_time": "2020-09-18T22:23:28.155931",
     "exception": false,
     "start_time": "2020-09-18T22:23:28.100974",
     "status": "completed"
    },
    "tags": []
   },
   "outputs": [],
   "source": [
    "sc = StandardScaler()\n",
    "col = 'Age'\n",
    "train_data[col] = sc.fit_transform(train_data[col].values.reshape(-1,1))\n",
    "test_data[col] = sc.transform(test_data[col].values.reshape(-1,1))"
   ]
  },
  {
   "cell_type": "code",
   "execution_count": 16,
   "metadata": {
    "execution": {
     "iopub.execute_input": "2020-09-18T22:23:28.222071Z",
     "iopub.status.busy": "2020-09-18T22:23:28.221312Z",
     "iopub.status.idle": "2020-09-18T22:23:28.227660Z",
     "shell.execute_reply": "2020-09-18T22:23:28.228170Z"
    },
    "papermill": {
     "duration": 0.04088,
     "end_time": "2020-09-18T22:23:28.228272",
     "exception": false,
     "start_time": "2020-09-18T22:23:28.187392",
     "status": "completed"
    },
    "tags": []
   },
   "outputs": [
    {
     "data": {
      "text/plain": [
       "2"
      ]
     },
     "execution_count": 16,
     "metadata": {},
     "output_type": "execute_result"
    }
   ],
   "source": [
    "train_data['Driving_License'].nunique()"
   ]
  },
  {
   "cell_type": "code",
   "execution_count": 17,
   "metadata": {
    "execution": {
     "iopub.execute_input": "2020-09-18T22:23:28.295050Z",
     "iopub.status.busy": "2020-09-18T22:23:28.293536Z",
     "iopub.status.idle": "2020-09-18T22:23:28.321469Z",
     "shell.execute_reply": "2020-09-18T22:23:28.320989Z"
    },
    "papermill": {
     "duration": 0.062995,
     "end_time": "2020-09-18T22:23:28.321569",
     "exception": false,
     "start_time": "2020-09-18T22:23:28.258574",
     "status": "completed"
    },
    "tags": []
   },
   "outputs": [
    {
     "data": {
      "text/plain": [
       "380297"
      ]
     },
     "execution_count": 17,
     "metadata": {},
     "output_type": "execute_result"
    }
   ],
   "source": [
    "train_data[train_data['Driving_License'] == 1]['Response'].count()"
   ]
  },
  {
   "cell_type": "code",
   "execution_count": 18,
   "metadata": {
    "execution": {
     "iopub.execute_input": "2020-09-18T22:23:28.391222Z",
     "iopub.status.busy": "2020-09-18T22:23:28.390398Z",
     "iopub.status.idle": "2020-09-18T22:23:28.546480Z",
     "shell.execute_reply": "2020-09-18T22:23:28.547001Z"
    },
    "papermill": {
     "duration": 0.19352,
     "end_time": "2020-09-18T22:23:28.547139",
     "exception": false,
     "start_time": "2020-09-18T22:23:28.353619",
     "status": "completed"
    },
    "tags": []
   },
   "outputs": [
    {
     "data": {
      "image/png": "[encoded data removed]",
      "text/plain": [
       "<Figure size 648x432 with 1 Axes>"
      ]
     },
     "metadata": {},
     "output_type": "display_data"
    }
   ],
   "source": [
    "plt.figure(figsize = (9,6))\n",
    "sns.set_style('ticks')\n",
    "sns.countplot('Driving_License', hue = 'Response',data = train_data)\n",
    "plt.show()"
   ]
  },
  {
   "cell_type": "code",
   "execution_count": 19,
   "metadata": {
    "execution": {
     "iopub.execute_input": "2020-09-18T22:23:28.622481Z",
     "iopub.status.busy": "2020-09-18T22:23:28.621565Z",
     "iopub.status.idle": "2020-09-18T22:23:28.638813Z",
     "shell.execute_reply": "2020-09-18T22:23:28.637796Z"
    },
    "papermill": {
     "duration": 0.056984,
     "end_time": "2020-09-18T22:23:28.638977",
     "exception": false,
     "start_time": "2020-09-18T22:23:28.581993",
     "status": "completed"
    },
    "tags": []
   },
   "outputs": [
    {
     "data": {
      "text/plain": [
       "53"
      ]
     },
     "execution_count": 19,
     "metadata": {},
     "output_type": "execute_result"
    }
   ],
   "source": [
    "train_data['Region_Code'].nunique()"
   ]
  },
  {
   "cell_type": "code",
   "execution_count": 20,
   "metadata": {
    "execution": {
     "iopub.execute_input": "2020-09-18T22:23:28.771787Z",
     "iopub.status.busy": "2020-09-18T22:23:28.770769Z",
     "iopub.status.idle": "2020-09-18T22:23:30.145632Z",
     "shell.execute_reply": "2020-09-18T22:23:30.145071Z"
    },
    "papermill": {
     "duration": 1.444335,
     "end_time": "2020-09-18T22:23:30.145731",
     "exception": false,
     "start_time": "2020-09-18T22:23:28.701396",
     "status": "completed"
    },
    "tags": []
   },
   "outputs": [
    {
     "data": {
      "image/png": "[encoded data removed]",
      "text/plain": [
       "<Figure size 648x432 with 1 Axes>"
      ]
     },
     "metadata": {},
     "output_type": "display_data"
    }
   ],
   "source": [
    "plt.figure(figsize = (9,6))\n",
    "sns.set_style('ticks')\n",
    "sns.violinplot('Response', 'Region_Code',data = train_data)\n",
    "plt.show()"
   ]
  },
  {
   "cell_type": "code",
   "execution_count": 21,
   "metadata": {
    "execution": {
     "iopub.execute_input": "2020-09-18T22:23:30.225541Z",
     "iopub.status.busy": "2020-09-18T22:23:30.224728Z",
     "iopub.status.idle": "2020-09-18T22:23:30.232141Z",
     "shell.execute_reply": "2020-09-18T22:23:30.231711Z"
    },
    "papermill": {
     "duration": 0.047826,
     "end_time": "2020-09-18T22:23:30.232237",
     "exception": false,
     "start_time": "2020-09-18T22:23:30.184411",
     "status": "completed"
    },
    "tags": []
   },
   "outputs": [
    {
     "data": {
      "text/plain": [
       "2"
      ]
     },
     "execution_count": 21,
     "metadata": {},
     "output_type": "execute_result"
    }
   ],
   "source": [
    "train_data['Previously_Insured'].nunique()"
   ]
  },
  {
   "cell_type": "code",
   "execution_count": 22,
   "metadata": {
    "execution": {
     "iopub.execute_input": "2020-09-18T22:23:30.312104Z",
     "iopub.status.busy": "2020-09-18T22:23:30.311331Z",
     "iopub.status.idle": "2020-09-18T22:23:30.529602Z",
     "shell.execute_reply": "2020-09-18T22:23:30.530086Z"
    },
    "papermill": {
     "duration": 0.261644,
     "end_time": "2020-09-18T22:23:30.530340",
     "exception": false,
     "start_time": "2020-09-18T22:23:30.268696",
     "status": "completed"
    },
    "tags": []
   },
   "outputs": [
    {
     "data": {
      "image/png": "[encoded data removed]",
      "text/plain": [
       "<Figure size 648x432 with 1 Axes>"
      ]
     },
     "metadata": {},
     "output_type": "display_data"
    }
   ],
   "source": [
    "plt.figure(figsize = (9,6))\n",
    "sns.set_style('ticks')\n",
    "sns.countplot('Previously_Insured', hue = 'Response',data = train_data)\n",
    "plt.show()"
   ]
  },
  {
   "cell_type": "code",
   "execution_count": 23,
   "metadata": {
    "execution": {
     "iopub.execute_input": "2020-09-18T22:23:30.613911Z",
     "iopub.status.busy": "2020-09-18T22:23:30.612313Z",
     "iopub.status.idle": "2020-09-18T22:23:30.785464Z",
     "shell.execute_reply": "2020-09-18T22:23:30.785954Z"
    },
    "papermill": {
     "duration": 0.215843,
     "end_time": "2020-09-18T22:23:30.786088",
     "exception": false,
     "start_time": "2020-09-18T22:23:30.570245",
     "status": "completed"
    },
    "tags": []
   },
   "outputs": [
    {
     "data": {
      "image/png": "[encoded data removed]",
      "text/plain": [
       "<Figure size 648x432 with 1 Axes>"
      ]
     },
     "metadata": {},
     "output_type": "display_data"
    }
   ],
   "source": [
    "plt.figure(figsize = (9,6))\n",
    "sns.set_style('ticks')\n",
    "sns.countplot('Vehicle_Age', hue = 'Response',data = train_data)\n",
    "plt.show()"
   ]
  },
  {
   "cell_type": "code",
   "execution_count": 24,
   "metadata": {
    "execution": {
     "iopub.execute_input": "2020-09-18T22:23:30.866779Z",
     "iopub.status.busy": "2020-09-18T22:23:30.865615Z",
     "iopub.status.idle": "2020-09-18T22:23:30.873103Z",
     "shell.execute_reply": "2020-09-18T22:23:30.872604Z"
    },
    "papermill": {
     "duration": 0.047385,
     "end_time": "2020-09-18T22:23:30.873194",
     "exception": false,
     "start_time": "2020-09-18T22:23:30.825809",
     "status": "completed"
    },
    "tags": []
   },
   "outputs": [
    {
     "data": {
      "text/plain": [
       "2"
      ]
     },
     "execution_count": 24,
     "metadata": {},
     "output_type": "execute_result"
    }
   ],
   "source": [
    "train_data['Vehicle_Damage'].nunique()"
   ]
  },
  {
   "cell_type": "code",
   "execution_count": 25,
   "metadata": {
    "execution": {
     "iopub.execute_input": "2020-09-18T22:23:30.951873Z",
     "iopub.status.busy": "2020-09-18T22:23:30.951021Z",
     "iopub.status.idle": "2020-09-18T22:23:31.107225Z",
     "shell.execute_reply": "2020-09-18T22:23:31.107726Z"
    },
    "papermill": {
     "duration": 0.198483,
     "end_time": "2020-09-18T22:23:31.107865",
     "exception": false,
     "start_time": "2020-09-18T22:23:30.909382",
     "status": "completed"
    },
    "tags": []
   },
   "outputs": [
    {
     "data": {
      "image/png": "[encoded data removed]",
      "text/plain": [
       "<Figure size 648x432 with 1 Axes>"
      ]
     },
     "metadata": {},
     "output_type": "display_data"
    }
   ],
   "source": [
    "plt.figure(figsize = (9,6))\n",
    "sns.set_style('ticks')\n",
    "sns.countplot('Vehicle_Damage', hue = 'Response',data = train_data)\n",
    "plt.show()"
   ]
  },
  {
   "cell_type": "code",
   "execution_count": 26,
   "metadata": {
    "execution": {
     "iopub.execute_input": "2020-09-18T22:23:31.189567Z",
     "iopub.status.busy": "2020-09-18T22:23:31.189059Z",
     "iopub.status.idle": "2020-09-18T22:23:31.200934Z",
     "shell.execute_reply": "2020-09-18T22:23:31.201356Z"
    },
    "papermill": {
     "duration": 0.053318,
     "end_time": "2020-09-18T22:23:31.201479",
     "exception": false,
     "start_time": "2020-09-18T22:23:31.148161",
     "status": "completed"
    },
    "tags": []
   },
   "outputs": [
    {
     "data": {
      "text/plain": [
       "48838"
      ]
     },
     "execution_count": 26,
     "metadata": {},
     "output_type": "execute_result"
    }
   ],
   "source": [
    "train_data['Annual_Premium'].nunique()"
   ]
  },
  {
   "cell_type": "code",
   "execution_count": 27,
   "metadata": {
    "execution": {
     "iopub.execute_input": "2020-09-18T22:23:31.282882Z",
     "iopub.status.busy": "2020-09-18T22:23:31.282043Z",
     "iopub.status.idle": "2020-09-18T22:23:32.252300Z",
     "shell.execute_reply": "2020-09-18T22:23:32.252827Z"
    },
    "papermill": {
     "duration": 1.014026,
     "end_time": "2020-09-18T22:23:32.252981",
     "exception": false,
     "start_time": "2020-09-18T22:23:31.238955",
     "status": "completed"
    },
    "tags": []
   },
   "outputs": [
    {
     "data": {
      "image/png": "[encoded data removed]",
      "text/plain": [
       "<Figure size 648x432 with 1 Axes>"
      ]
     },
     "metadata": {},
     "output_type": "display_data"
    }
   ],
   "source": [
    "plt.figure(figsize = (9,6))\n",
    "sns.set_style('ticks')\n",
    "sns.violinplot('Response', 'Annual_Premium',data = train_data)\n",
    "plt.show()"
   ]
  },
  {
   "cell_type": "code",
   "execution_count": 28,
   "metadata": {
    "execution": {
     "iopub.execute_input": "2020-09-18T22:23:32.338200Z",
     "iopub.status.busy": "2020-09-18T22:23:32.336542Z",
     "iopub.status.idle": "2020-09-18T22:23:32.338886Z",
     "shell.execute_reply": "2020-09-18T22:23:32.339291Z"
    },
    "papermill": {
     "duration": 0.045009,
     "end_time": "2020-09-18T22:23:32.339398",
     "exception": false,
     "start_time": "2020-09-18T22:23:32.294389",
     "status": "completed"
    },
    "tags": []
   },
   "outputs": [],
   "source": [
    "# dataset = train_data\n",
    "# index = dataset[dataset['Annual_Premium'] >= 115000]['Annual_Premium'].index.values\n",
    "# dataset.drop(index,inplace = True)"
   ]
  },
  {
   "cell_type": "code",
   "execution_count": 29,
   "metadata": {
    "execution": {
     "iopub.execute_input": "2020-09-18T22:23:32.422438Z",
     "iopub.status.busy": "2020-09-18T22:23:32.421485Z",
     "iopub.status.idle": "2020-09-18T22:23:32.430876Z",
     "shell.execute_reply": "2020-09-18T22:23:32.431267Z"
    },
    "papermill": {
     "duration": 0.053669,
     "end_time": "2020-09-18T22:23:32.431378",
     "exception": false,
     "start_time": "2020-09-18T22:23:32.377709",
     "status": "completed"
    },
    "tags": []
   },
   "outputs": [],
   "source": [
    "sc = StandardScaler()\n",
    "col = 'Annual_Premium'\n",
    "train_data[col] = sc.fit_transform(train_data[col].values.reshape(-1,1))\n",
    "test_data[col] = sc.transform(test_data[col].values.reshape(-1,1))"
   ]
  },
  {
   "cell_type": "code",
   "execution_count": 30,
   "metadata": {
    "execution": {
     "iopub.execute_input": "2020-09-18T22:23:32.515129Z",
     "iopub.status.busy": "2020-09-18T22:23:32.514179Z",
     "iopub.status.idle": "2020-09-18T22:23:33.491576Z",
     "shell.execute_reply": "2020-09-18T22:23:33.491092Z"
    },
    "papermill": {
     "duration": 1.021596,
     "end_time": "2020-09-18T22:23:33.491702",
     "exception": false,
     "start_time": "2020-09-18T22:23:32.470106",
     "status": "completed"
    },
    "tags": []
   },
   "outputs": [
    {
     "data": {
      "image/png": "[encoded data removed]",
      "text/plain": [
       "<Figure size 648x432 with 1 Axes>"
      ]
     },
     "metadata": {},
     "output_type": "display_data"
    }
   ],
   "source": [
    "plt.figure(figsize = (9,6))\n",
    "sns.set_style('ticks')\n",
    "sns.violinplot('Response', 'Annual_Premium',data = train_data)\n",
    "plt.show()"
   ]
  },
  {
   "cell_type": "code",
   "execution_count": 31,
   "metadata": {
    "execution": {
     "iopub.execute_input": "2020-09-18T22:23:33.580715Z",
     "iopub.status.busy": "2020-09-18T22:23:33.579943Z",
     "iopub.status.idle": "2020-09-18T22:23:33.588363Z",
     "shell.execute_reply": "2020-09-18T22:23:33.587808Z"
    },
    "papermill": {
     "duration": 0.053461,
     "end_time": "2020-09-18T22:23:33.588476",
     "exception": false,
     "start_time": "2020-09-18T22:23:33.535015",
     "status": "completed"
    },
    "tags": []
   },
   "outputs": [
    {
     "data": {
      "text/plain": [
       "155"
      ]
     },
     "execution_count": 31,
     "metadata": {},
     "output_type": "execute_result"
    }
   ],
   "source": [
    "train_data['Policy_Sales_Channel'].nunique()"
   ]
  },
  {
   "cell_type": "code",
   "execution_count": 32,
   "metadata": {
    "execution": {
     "iopub.execute_input": "2020-09-18T22:23:33.676401Z",
     "iopub.status.busy": "2020-09-18T22:23:33.675552Z",
     "iopub.status.idle": "2020-09-18T22:23:33.683872Z",
     "shell.execute_reply": "2020-09-18T22:23:33.683413Z"
    },
    "papermill": {
     "duration": 0.052895,
     "end_time": "2020-09-18T22:23:33.683963",
     "exception": false,
     "start_time": "2020-09-18T22:23:33.631068",
     "status": "completed"
    },
    "tags": []
   },
   "outputs": [],
   "source": [
    "mms = MinMaxScaler()\n",
    "col = 'Policy_Sales_Channel'\n",
    "train_data[col] = mms.fit_transform(train_data[col].values.reshape(-1,1))\n",
    "test_data[col] = mms.transform(test_data[col].values.reshape(-1,1))"
   ]
  },
  {
   "cell_type": "code",
   "execution_count": 33,
   "metadata": {
    "execution": {
     "iopub.execute_input": "2020-09-18T22:23:33.770532Z",
     "iopub.status.busy": "2020-09-18T22:23:33.769673Z",
     "iopub.status.idle": "2020-09-18T22:23:33.778522Z",
     "shell.execute_reply": "2020-09-18T22:23:33.778964Z"
    },
    "papermill": {
     "duration": 0.055102,
     "end_time": "2020-09-18T22:23:33.779073",
     "exception": false,
     "start_time": "2020-09-18T22:23:33.723971",
     "status": "completed"
    },
    "tags": []
   },
   "outputs": [],
   "source": [
    "sc = StandardScaler()\n",
    "col = 'Policy_Sales_Channel'\n",
    "train_data[col] = sc.fit_transform(train_data[col].values.reshape(-1,1))\n",
    "test_data[col] = sc.transform(test_data[col].values.reshape(-1,1))"
   ]
  },
  {
   "cell_type": "code",
   "execution_count": 34,
   "metadata": {
    "execution": {
     "iopub.execute_input": "2020-09-18T22:23:33.865904Z",
     "iopub.status.busy": "2020-09-18T22:23:33.864865Z",
     "iopub.status.idle": "2020-09-18T22:23:34.821572Z",
     "shell.execute_reply": "2020-09-18T22:23:34.822163Z"
    },
    "papermill": {
     "duration": 1.003264,
     "end_time": "2020-09-18T22:23:34.822305",
     "exception": false,
     "start_time": "2020-09-18T22:23:33.819041",
     "status": "completed"
    },
    "tags": []
   },
   "outputs": [
    {
     "data": {
      "image/png": "[encoded data removed]",
      "text/plain": [
       "<Figure size 648x432 with 1 Axes>"
      ]
     },
     "metadata": {},
     "output_type": "display_data"
    }
   ],
   "source": [
    "plt.figure(figsize = (9,6))\n",
    "sns.set_style('ticks')\n",
    "sns.violinplot('Response', 'Policy_Sales_Channel',data = train_data)\n",
    "plt.show()"
   ]
  },
  {
   "cell_type": "code",
   "execution_count": 35,
   "metadata": {
    "execution": {
     "iopub.execute_input": "2020-09-18T22:23:34.914863Z",
     "iopub.status.busy": "2020-09-18T22:23:34.913889Z",
     "iopub.status.idle": "2020-09-18T22:23:34.920991Z",
     "shell.execute_reply": "2020-09-18T22:23:34.920527Z"
    },
    "papermill": {
     "duration": 0.05337,
     "end_time": "2020-09-18T22:23:34.921081",
     "exception": false,
     "start_time": "2020-09-18T22:23:34.867711",
     "status": "completed"
    },
    "tags": []
   },
   "outputs": [
    {
     "data": {
      "text/plain": [
       "290"
      ]
     },
     "execution_count": 35,
     "metadata": {},
     "output_type": "execute_result"
    }
   ],
   "source": [
    "train_data['Vintage'].nunique()"
   ]
  },
  {
   "cell_type": "code",
   "execution_count": 36,
   "metadata": {
    "execution": {
     "iopub.execute_input": "2020-09-18T22:23:35.011141Z",
     "iopub.status.busy": "2020-09-18T22:23:35.010316Z",
     "iopub.status.idle": "2020-09-18T22:23:35.996646Z",
     "shell.execute_reply": "2020-09-18T22:23:35.995761Z"
    },
    "papermill": {
     "duration": 1.033568,
     "end_time": "2020-09-18T22:23:35.996767",
     "exception": false,
     "start_time": "2020-09-18T22:23:34.963199",
     "status": "completed"
    },
    "tags": []
   },
   "outputs": [
    {
     "data": {
      "image/png": "[encoded data removed]",
      "text/plain": [
       "<Figure size 648x432 with 1 Axes>"
      ]
     },
     "metadata": {},
     "output_type": "display_data"
    }
   ],
   "source": [
    "plt.figure(figsize = (9,6))\n",
    "sns.set_style('ticks')\n",
    "sns.violinplot('Response', 'Vintage',data = train_data)\n",
    "plt.show()"
   ]
  },
  {
   "cell_type": "code",
   "execution_count": 37,
   "metadata": {
    "execution": {
     "iopub.execute_input": "2020-09-18T22:23:36.111206Z",
     "iopub.status.busy": "2020-09-18T22:23:36.110282Z",
     "iopub.status.idle": "2020-09-18T22:23:36.113881Z",
     "shell.execute_reply": "2020-09-18T22:23:36.114373Z"
    },
    "papermill": {
     "duration": 0.073366,
     "end_time": "2020-09-18T22:23:36.114508",
     "exception": false,
     "start_time": "2020-09-18T22:23:36.041142",
     "status": "completed"
    },
    "tags": []
   },
   "outputs": [
    {
     "data": {
      "text/html": [
       "<div>\n",
       "<style scoped>\n",
       "    .dataframe tbody tr th:only-of-type {\n",
       "        vertical-align: middle;\n",
       "    }\n",
       "\n",
       "    .dataframe tbody tr th {\n",
       "        vertical-align: top;\n",
       "    }\n",
       "\n",
       "    .dataframe thead th {\n",
       "        text-align: right;\n",
       "    }\n",
       "</style>\n",
       "<table border=\"1\" class=\"dataframe\">\n",
       "  <thead>\n",
       "    <tr style=\"text-align: right;\">\n",
       "      <th></th>\n",
       "      <th>Gender</th>\n",
       "      <th>Age</th>\n",
       "      <th>Driving_License</th>\n",
       "      <th>Region_Code</th>\n",
       "      <th>Previously_Insured</th>\n",
       "      <th>Vehicle_Age</th>\n",
       "      <th>Vehicle_Damage</th>\n",
       "      <th>Annual_Premium</th>\n",
       "      <th>Policy_Sales_Channel</th>\n",
       "      <th>Vintage</th>\n",
       "      <th>Response</th>\n",
       "    </tr>\n",
       "    <tr>\n",
       "      <th>id</th>\n",
       "      <th></th>\n",
       "      <th></th>\n",
       "      <th></th>\n",
       "      <th></th>\n",
       "      <th></th>\n",
       "      <th></th>\n",
       "      <th></th>\n",
       "      <th></th>\n",
       "      <th></th>\n",
       "      <th></th>\n",
       "      <th></th>\n",
       "    </tr>\n",
       "  </thead>\n",
       "  <tbody>\n",
       "    <tr>\n",
       "      <th>1</th>\n",
       "      <td>1</td>\n",
       "      <td>0.333777</td>\n",
       "      <td>1</td>\n",
       "      <td>28.0</td>\n",
       "      <td>0</td>\n",
       "      <td>2</td>\n",
       "      <td>1</td>\n",
       "      <td>0.574539</td>\n",
       "      <td>-1.587234</td>\n",
       "      <td>217</td>\n",
       "      <td>1</td>\n",
       "    </tr>\n",
       "    <tr>\n",
       "      <th>2</th>\n",
       "      <td>1</td>\n",
       "      <td>2.396751</td>\n",
       "      <td>1</td>\n",
       "      <td>3.0</td>\n",
       "      <td>0</td>\n",
       "      <td>0</td>\n",
       "      <td>0</td>\n",
       "      <td>0.172636</td>\n",
       "      <td>-1.587234</td>\n",
       "      <td>183</td>\n",
       "      <td>0</td>\n",
       "    </tr>\n",
       "    <tr>\n",
       "      <th>3</th>\n",
       "      <td>1</td>\n",
       "      <td>0.527181</td>\n",
       "      <td>1</td>\n",
       "      <td>28.0</td>\n",
       "      <td>0</td>\n",
       "      <td>2</td>\n",
       "      <td>1</td>\n",
       "      <td>0.449053</td>\n",
       "      <td>-1.587234</td>\n",
       "      <td>27</td>\n",
       "      <td>1</td>\n",
       "    </tr>\n",
       "    <tr>\n",
       "      <th>4</th>\n",
       "      <td>1</td>\n",
       "      <td>-1.148985</td>\n",
       "      <td>1</td>\n",
       "      <td>11.0</td>\n",
       "      <td>1</td>\n",
       "      <td>1</td>\n",
       "      <td>0</td>\n",
       "      <td>-0.113018</td>\n",
       "      <td>0.737321</td>\n",
       "      <td>203</td>\n",
       "      <td>0</td>\n",
       "    </tr>\n",
       "    <tr>\n",
       "      <th>5</th>\n",
       "      <td>0</td>\n",
       "      <td>-0.633242</td>\n",
       "      <td>1</td>\n",
       "      <td>41.0</td>\n",
       "      <td>1</td>\n",
       "      <td>1</td>\n",
       "      <td>0</td>\n",
       "      <td>-0.178259</td>\n",
       "      <td>0.737321</td>\n",
       "      <td>39</td>\n",
       "      <td>0</td>\n",
       "    </tr>\n",
       "  </tbody>\n",
       "</table>\n",
       "</div>"
      ],
      "text/plain": [
       "    Gender       Age  Driving_License  Region_Code  Previously_Insured  \\\n",
       "id                                                                       \n",
       "1        1  0.333777                1         28.0                   0   \n",
       "2        1  2.396751                1          3.0                   0   \n",
       "3        1  0.527181                1         28.0                   0   \n",
       "4        1 -1.148985                1         11.0                   1   \n",
       "5        0 -0.633242                1         41.0                   1   \n",
       "\n",
       "    Vehicle_Age  Vehicle_Damage  Annual_Premium  Policy_Sales_Channel  \\\n",
       "id                                                                      \n",
       "1             2               1        0.574539             -1.587234   \n",
       "2             0               0        0.172636             -1.587234   \n",
       "3             2               1        0.449053             -1.587234   \n",
       "4             1               0       -0.113018              0.737321   \n",
       "5             1               0       -0.178259              0.737321   \n",
       "\n",
       "    Vintage  Response  \n",
       "id                     \n",
       "1       217         1  \n",
       "2       183         0  \n",
       "3        27         1  \n",
       "4       203         0  \n",
       "5        39         0  "
      ]
     },
     "execution_count": 37,
     "metadata": {},
     "output_type": "execute_result"
    }
   ],
   "source": [
    "train_data.head()"
   ]
  },
  {
   "cell_type": "code",
   "execution_count": 38,
   "metadata": {
    "execution": {
     "iopub.execute_input": "2020-09-18T22:23:36.217219Z",
     "iopub.status.busy": "2020-09-18T22:23:36.215939Z",
     "iopub.status.idle": "2020-09-18T22:23:36.972126Z",
     "shell.execute_reply": "2020-09-18T22:23:36.972598Z"
    },
    "papermill": {
     "duration": 0.811779,
     "end_time": "2020-09-18T22:23:36.972781",
     "exception": false,
     "start_time": "2020-09-18T22:23:36.161002",
     "status": "completed"
    },
    "tags": []
   },
   "outputs": [
    {
     "data": {
      "image/png": "[encoded data removed]",
      "text/plain": [
       "<Figure size 648x432 with 2 Axes>"
      ]
     },
     "metadata": {},
     "output_type": "display_data"
    }
   ],
   "source": [
    "plt.figure(figsize = (9,6))\n",
    "sns.heatmap(train_data.corr(),annot=True,cbar = True)\n",
    "plt.show()"
   ]
  },
  {
   "cell_type": "code",
   "execution_count": 39,
   "metadata": {
    "execution": {
     "iopub.execute_input": "2020-09-18T22:23:37.102507Z",
     "iopub.status.busy": "2020-09-18T22:23:37.101385Z",
     "iopub.status.idle": "2020-09-18T22:23:37.112221Z",
     "shell.execute_reply": "2020-09-18T22:23:37.111660Z"
    },
    "papermill": {
     "duration": 0.087534,
     "end_time": "2020-09-18T22:23:37.112323",
     "exception": false,
     "start_time": "2020-09-18T22:23:37.024789",
     "status": "completed"
    },
    "tags": []
   },
   "outputs": [
    {
     "data": {
      "text/html": [
       "<div>\n",
       "<style scoped>\n",
       "    .dataframe tbody tr th:only-of-type {\n",
       "        vertical-align: middle;\n",
       "    }\n",
       "\n",
       "    .dataframe tbody tr th {\n",
       "        vertical-align: top;\n",
       "    }\n",
       "\n",
       "    .dataframe thead th {\n",
       "        text-align: right;\n",
       "    }\n",
       "</style>\n",
       "<table border=\"1\" class=\"dataframe\">\n",
       "  <thead>\n",
       "    <tr style=\"text-align: right;\">\n",
       "      <th></th>\n",
       "      <th>Gender</th>\n",
       "      <th>Age</th>\n",
       "      <th>Driving_License</th>\n",
       "      <th>Region_Code</th>\n",
       "      <th>Previously_Insured</th>\n",
       "      <th>Vehicle_Age</th>\n",
       "      <th>Vehicle_Damage</th>\n",
       "      <th>Annual_Premium</th>\n",
       "      <th>Policy_Sales_Channel</th>\n",
       "      <th>Vintage</th>\n",
       "    </tr>\n",
       "    <tr>\n",
       "      <th>id</th>\n",
       "      <th></th>\n",
       "      <th></th>\n",
       "      <th></th>\n",
       "      <th></th>\n",
       "      <th></th>\n",
       "      <th></th>\n",
       "      <th></th>\n",
       "      <th></th>\n",
       "      <th></th>\n",
       "      <th></th>\n",
       "    </tr>\n",
       "  </thead>\n",
       "  <tbody>\n",
       "    <tr>\n",
       "      <th>1</th>\n",
       "      <td>1</td>\n",
       "      <td>0.333777</td>\n",
       "      <td>1</td>\n",
       "      <td>28.0</td>\n",
       "      <td>0</td>\n",
       "      <td>2</td>\n",
       "      <td>1</td>\n",
       "      <td>0.574539</td>\n",
       "      <td>-1.587234</td>\n",
       "      <td>217</td>\n",
       "    </tr>\n",
       "    <tr>\n",
       "      <th>2</th>\n",
       "      <td>1</td>\n",
       "      <td>2.396751</td>\n",
       "      <td>1</td>\n",
       "      <td>3.0</td>\n",
       "      <td>0</td>\n",
       "      <td>0</td>\n",
       "      <td>0</td>\n",
       "      <td>0.172636</td>\n",
       "      <td>-1.587234</td>\n",
       "      <td>183</td>\n",
       "    </tr>\n",
       "    <tr>\n",
       "      <th>3</th>\n",
       "      <td>1</td>\n",
       "      <td>0.527181</td>\n",
       "      <td>1</td>\n",
       "      <td>28.0</td>\n",
       "      <td>0</td>\n",
       "      <td>2</td>\n",
       "      <td>1</td>\n",
       "      <td>0.449053</td>\n",
       "      <td>-1.587234</td>\n",
       "      <td>27</td>\n",
       "    </tr>\n",
       "    <tr>\n",
       "      <th>4</th>\n",
       "      <td>1</td>\n",
       "      <td>-1.148985</td>\n",
       "      <td>1</td>\n",
       "      <td>11.0</td>\n",
       "      <td>1</td>\n",
       "      <td>1</td>\n",
       "      <td>0</td>\n",
       "      <td>-0.113018</td>\n",
       "      <td>0.737321</td>\n",
       "      <td>203</td>\n",
       "    </tr>\n",
       "    <tr>\n",
       "      <th>5</th>\n",
       "      <td>0</td>\n",
       "      <td>-0.633242</td>\n",
       "      <td>1</td>\n",
       "      <td>41.0</td>\n",
       "      <td>1</td>\n",
       "      <td>1</td>\n",
       "      <td>0</td>\n",
       "      <td>-0.178259</td>\n",
       "      <td>0.737321</td>\n",
       "      <td>39</td>\n",
       "    </tr>\n",
       "    <tr>\n",
       "      <th>...</th>\n",
       "      <td>...</td>\n",
       "      <td>...</td>\n",
       "      <td>...</td>\n",
       "      <td>...</td>\n",
       "      <td>...</td>\n",
       "      <td>...</td>\n",
       "      <td>...</td>\n",
       "      <td>...</td>\n",
       "      <td>...</td>\n",
       "      <td>...</td>\n",
       "    </tr>\n",
       "    <tr>\n",
       "      <th>381105</th>\n",
       "      <td>1</td>\n",
       "      <td>2.267815</td>\n",
       "      <td>1</td>\n",
       "      <td>26.0</td>\n",
       "      <td>1</td>\n",
       "      <td>0</td>\n",
       "      <td>0</td>\n",
       "      <td>-0.022912</td>\n",
       "      <td>-1.587234</td>\n",
       "      <td>88</td>\n",
       "    </tr>\n",
       "    <tr>\n",
       "      <th>381106</th>\n",
       "      <td>1</td>\n",
       "      <td>-0.568774</td>\n",
       "      <td>1</td>\n",
       "      <td>37.0</td>\n",
       "      <td>1</td>\n",
       "      <td>1</td>\n",
       "      <td>0</td>\n",
       "      <td>0.549093</td>\n",
       "      <td>0.737321</td>\n",
       "      <td>131</td>\n",
       "    </tr>\n",
       "    <tr>\n",
       "      <th>381107</th>\n",
       "      <td>1</td>\n",
       "      <td>-1.148985</td>\n",
       "      <td>1</td>\n",
       "      <td>30.0</td>\n",
       "      <td>1</td>\n",
       "      <td>1</td>\n",
       "      <td>0</td>\n",
       "      <td>0.264543</td>\n",
       "      <td>0.884912</td>\n",
       "      <td>161</td>\n",
       "    </tr>\n",
       "    <tr>\n",
       "      <th>381108</th>\n",
       "      <td>0</td>\n",
       "      <td>1.881007</td>\n",
       "      <td>1</td>\n",
       "      <td>14.0</td>\n",
       "      <td>0</td>\n",
       "      <td>2</td>\n",
       "      <td>1</td>\n",
       "      <td>0.816389</td>\n",
       "      <td>0.220753</td>\n",
       "      <td>74</td>\n",
       "    </tr>\n",
       "    <tr>\n",
       "      <th>381109</th>\n",
       "      <td>1</td>\n",
       "      <td>0.462713</td>\n",
       "      <td>1</td>\n",
       "      <td>29.0</td>\n",
       "      <td>0</td>\n",
       "      <td>0</td>\n",
       "      <td>0</td>\n",
       "      <td>0.651399</td>\n",
       "      <td>-1.587234</td>\n",
       "      <td>237</td>\n",
       "    </tr>\n",
       "  </tbody>\n",
       "</table>\n",
       "<p>381109 rows × 10 columns</p>\n",
       "</div>"
      ],
      "text/plain": [
       "        Gender       Age  Driving_License  Region_Code  Previously_Insured  \\\n",
       "id                                                                           \n",
       "1            1  0.333777                1         28.0                   0   \n",
       "2            1  2.396751                1          3.0                   0   \n",
       "3            1  0.527181                1         28.0                   0   \n",
       "4            1 -1.148985                1         11.0                   1   \n",
       "5            0 -0.633242                1         41.0                   1   \n",
       "...        ...       ...              ...          ...                 ...   \n",
       "381105       1  2.267815                1         26.0                   1   \n",
       "381106       1 -0.568774                1         37.0                   1   \n",
       "381107       1 -1.148985                1         30.0                   1   \n",
       "381108       0  1.881007                1         14.0                   0   \n",
       "381109       1  0.462713                1         29.0                   0   \n",
       "\n",
       "        Vehicle_Age  Vehicle_Damage  Annual_Premium  Policy_Sales_Channel  \\\n",
       "id                                                                          \n",
       "1                 2               1        0.574539             -1.587234   \n",
       "2                 0               0        0.172636             -1.587234   \n",
       "3                 2               1        0.449053             -1.587234   \n",
       "4                 1               0       -0.113018              0.737321   \n",
       "5                 1               0       -0.178259              0.737321   \n",
       "...             ...             ...             ...                   ...   \n",
       "381105            0               0       -0.022912             -1.587234   \n",
       "381106            1               0        0.549093              0.737321   \n",
       "381107            1               0        0.264543              0.884912   \n",
       "381108            2               1        0.816389              0.220753   \n",
       "381109            0               0        0.651399             -1.587234   \n",
       "\n",
       "        Vintage  \n",
       "id               \n",
       "1           217  \n",
       "2           183  \n",
       "3            27  \n",
       "4           203  \n",
       "5            39  \n",
       "...         ...  \n",
       "381105       88  \n",
       "381106      131  \n",
       "381107      161  \n",
       "381108       74  \n",
       "381109      237  \n",
       "\n",
       "[381109 rows x 10 columns]"
      ]
     },
     "execution_count": 39,
     "metadata": {},
     "output_type": "execute_result"
    }
   ],
   "source": [
    "y = train_data.loc[:,'Response']\n",
    "X = train_data.drop('Response',axis = 1)\n",
    "X"
   ]
  },
  {
   "cell_type": "code",
   "execution_count": 40,
   "metadata": {
    "execution": {
     "iopub.execute_input": "2020-09-18T22:23:37.252788Z",
     "iopub.status.busy": "2020-09-18T22:23:37.251992Z",
     "iopub.status.idle": "2020-09-18T22:23:37.311956Z",
     "shell.execute_reply": "2020-09-18T22:23:37.311254Z"
    },
    "papermill": {
     "duration": 0.121119,
     "end_time": "2020-09-18T22:23:37.312068",
     "exception": false,
     "start_time": "2020-09-18T22:23:37.190949",
     "status": "completed"
    },
    "tags": []
   },
   "outputs": [],
   "source": [
    "\n",
    "x_train,x_val,y_train,y_val = train_test_split(X,y,test_size = 0.2,random_state = 42)\n"
   ]
  },
  {
   "cell_type": "code",
   "execution_count": 41,
   "metadata": {
    "execution": {
     "iopub.execute_input": "2020-09-18T22:23:37.418180Z",
     "iopub.status.busy": "2020-09-18T22:23:37.417317Z",
     "iopub.status.idle": "2020-09-18T22:23:47.551254Z",
     "shell.execute_reply": "2020-09-18T22:23:47.551848Z"
    },
    "papermill": {
     "duration": 10.188304,
     "end_time": "2020-09-18T22:23:47.552018",
     "exception": false,
     "start_time": "2020-09-18T22:23:37.363714",
     "status": "completed"
    },
    "tags": []
   },
   "outputs": [],
   "source": [
    "model = LGBMClassifier(boosting_type='gbdt',n_estimators=500,depth=10,learning_rate=0.04,objective='binary',metric='auc',is_unbalance=True,\n",
    "                 colsample_bytree=0.5,reg_lambda=2,reg_alpha=2,random_state=294,n_jobs=-1)\n",
    "\n",
    "clf = model.fit(x_train,y_train)"
   ]
  },
  {
   "cell_type": "code",
   "execution_count": 42,
   "metadata": {
    "execution": {
     "iopub.execute_input": "2020-09-18T22:23:47.689845Z",
     "iopub.status.busy": "2020-09-18T22:23:47.688203Z",
     "iopub.status.idle": "2020-09-18T22:23:53.766500Z",
     "shell.execute_reply": "2020-09-18T22:23:53.767490Z"
    },
    "papermill": {
     "duration": 6.149046,
     "end_time": "2020-09-18T22:23:53.767656",
     "exception": false,
     "start_time": "2020-09-18T22:23:47.618610",
     "status": "completed"
    },
    "tags": []
   },
   "outputs": [
    {
     "data": {
      "text/plain": [
       "0.8087433670124577"
      ]
     },
     "execution_count": 42,
     "metadata": {},
     "output_type": "execute_result"
    }
   ],
   "source": [
    "roc_auc_score(y_train,clf.predict(x_train))"
   ]
  },
  {
   "cell_type": "code",
   "execution_count": 43,
   "metadata": {
    "execution": {
     "iopub.execute_input": "2020-09-18T22:23:53.884243Z",
     "iopub.status.busy": "2020-09-18T22:23:53.883399Z",
     "iopub.status.idle": "2020-09-18T22:23:55.248546Z",
     "shell.execute_reply": "2020-09-18T22:23:55.249437Z"
    },
    "papermill": {
     "duration": 1.419632,
     "end_time": "2020-09-18T22:23:55.249604",
     "exception": false,
     "start_time": "2020-09-18T22:23:53.829972",
     "status": "completed"
    },
    "tags": []
   },
   "outputs": [
    {
     "data": {
      "text/plain": [
       "0.8613259288241318"
      ]
     },
     "execution_count": 43,
     "metadata": {},
     "output_type": "execute_result"
    }
   ],
   "source": [
    "roc_auc_score(y_val,clf.predict_proba(x_val)[:,1])"
   ]
  },
  {
   "cell_type": "code",
   "execution_count": 44,
   "metadata": {
    "execution": {
     "iopub.execute_input": "2020-09-18T22:23:55.386299Z",
     "iopub.status.busy": "2020-09-18T22:23:55.385608Z",
     "iopub.status.idle": "2020-09-18T22:23:57.628022Z",
     "shell.execute_reply": "2020-09-18T22:23:57.629223Z"
    },
    "papermill": {
     "duration": 2.316927,
     "end_time": "2020-09-18T22:23:57.629384",
     "exception": false,
     "start_time": "2020-09-18T22:23:55.312457",
     "status": "completed"
    },
    "tags": []
   },
   "outputs": [],
   "source": [
    "y_pred = clf.predict_proba(test_data)[:,1]"
   ]
  },
  {
   "cell_type": "code",
   "execution_count": 45,
   "metadata": {
    "execution": {
     "iopub.execute_input": "2020-09-18T22:23:57.765635Z",
     "iopub.status.busy": "2020-09-18T22:23:57.765007Z",
     "iopub.status.idle": "2020-09-18T22:23:57.827798Z",
     "shell.execute_reply": "2020-09-18T22:23:57.828248Z"
    },
    "papermill": {
     "duration": 0.135234,
     "end_time": "2020-09-18T22:23:57.828386",
     "exception": false,
     "start_time": "2020-09-18T22:23:57.693152",
     "status": "completed"
    },
    "tags": []
   },
   "outputs": [
    {
     "data": {
      "text/html": [
       "<div>\n",
       "<style scoped>\n",
       "    .dataframe tbody tr th:only-of-type {\n",
       "        vertical-align: middle;\n",
       "    }\n",
       "\n",
       "    .dataframe tbody tr th {\n",
       "        vertical-align: top;\n",
       "    }\n",
       "\n",
       "    .dataframe thead th {\n",
       "        text-align: right;\n",
       "    }\n",
       "</style>\n",
       "<table border=\"1\" class=\"dataframe\">\n",
       "  <thead>\n",
       "    <tr style=\"text-align: right;\">\n",
       "      <th></th>\n",
       "      <th>Response</th>\n",
       "    </tr>\n",
       "    <tr>\n",
       "      <th>id</th>\n",
       "      <th></th>\n",
       "    </tr>\n",
       "  </thead>\n",
       "  <tbody>\n",
       "    <tr>\n",
       "      <th>508142</th>\n",
       "      <td>0.003194</td>\n",
       "    </tr>\n",
       "    <tr>\n",
       "      <th>508143</th>\n",
       "      <td>0.810238</td>\n",
       "    </tr>\n",
       "    <tr>\n",
       "      <th>508144</th>\n",
       "      <td>0.001612</td>\n",
       "    </tr>\n",
       "    <tr>\n",
       "      <th>508145</th>\n",
       "      <td>0.001292</td>\n",
       "    </tr>\n",
       "    <tr>\n",
       "      <th>508146</th>\n",
       "      <td>0.006927</td>\n",
       "    </tr>\n",
       "  </tbody>\n",
       "</table>\n",
       "</div>"
      ],
      "text/plain": [
       "        Response\n",
       "id              \n",
       "508142  0.003194\n",
       "508143  0.810238\n",
       "508144  0.001612\n",
       "508145  0.001292\n",
       "508146  0.006927"
      ]
     },
     "execution_count": 45,
     "metadata": {},
     "output_type": "execute_result"
    }
   ],
   "source": [
    "sub = pd.DataFrame(y_pred,columns = ['Response'],index = [i + 381110 for i in range(test_data.shape[0])])\n",
    "\n",
    "sub.index.name = 'id'\n",
    "sub.tail()"
   ]
  },
  {
   "cell_type": "code",
   "execution_count": 46,
   "metadata": {
    "execution": {
     "iopub.execute_input": "2020-09-18T22:23:57.931600Z",
     "iopub.status.busy": "2020-09-18T22:23:57.931036Z",
     "iopub.status.idle": "2020-09-18T22:23:58.765767Z",
     "shell.execute_reply": "2020-09-18T22:23:58.764349Z"
    },
    "papermill": {
     "duration": 0.886674,
     "end_time": "2020-09-18T22:23:58.765877",
     "exception": false,
     "start_time": "2020-09-18T22:23:57.879203",
     "status": "completed"
    },
    "tags": []
   },
   "outputs": [],
   "source": [
    "sub.to_csv('sub.csv')"
   ]
  }
 ],
 "metadata": {
  "kernelspec": {
   "display_name": "Python 3",
   "language": "python",
   "name": "python3"
  },
  "language_info": {
   "codemirror_mode": {
    "name": "ipython",
    "version": 3
   },
   "file_extension": ".py",
   "mimetype": "text/x-python",
   "name": "python",
   "nbconvert_exporter": "python",
   "pygments_lexer": "ipython3",
   "version": "3.7.6"
  },
  "papermill": {
   "duration": 39.884921,
   "end_time": "2020-09-18T22:23:58.922741",
   "environment_variables": {},
   "exception": null,
   "input_path": "__notebook__.ipynb",
   "output_path": "__notebook__.ipynb",
   "parameters": {},
   "start_time": "2020-09-18T22:23:19.037820",
   "version": "2.1.0"
  }
 },
 "nbformat": 4,
 "nbformat_minor": 4
}
