{
 "metadata": {
  "language_info": {
   "codemirror_mode": {
    "name": "ipython",
    "version": 3
   },
   "file_extension": ".py",
   "mimetype": "text/x-python",
   "name": "python",
   "nbconvert_exporter": "python",
   "pygments_lexer": "ipython3",
   "version": "3.7.6"
  },
  "orig_nbformat": 2,
  "kernelspec": {
   "name": "python376jvsc74a57bd09fe2f98b7563adc8186c5292bf00518c3401f6f9c8a1445bf4e45c61673b1890",
   "display_name": "Python 3.7.6 64-bit ('base': conda)"
  }
 },
 "nbformat": 4,
 "nbformat_minor": 2,
 "cells": [
  {
   "cell_type": "code",
   "execution_count": 227,
   "metadata": {},
   "outputs": [],
   "source": [
    "import pandas as pd\n",
    "import numpy as np\n",
    "import seaborn as sns\n",
    "import matplotlib.pyplot as plt\n",
    "\n",
    "import warnings\n",
    "warnings.filterwarnings(\"ignore\")\n",
    "\n",
    "from sklearn.metrics import r2_score\n",
    "from sklearn.preprocessing import LabelEncoder,OneHotEncoder"
   ]
  },
  {
   "cell_type": "code",
   "execution_count": 228,
   "metadata": {},
   "outputs": [
    {
     "output_type": "execute_result",
     "data": {
      "text/plain": [
       "  tracking_id             datetime  wind_speed(m/s)  \\\n",
       "0    WM_19817  2017-04-19 08:53:20        94.324266   \n",
       "1    WM_18723  1930-03-19 07:43:20        10.088870   \n",
       "2    WM_34552  2010-08-19 11:33:20       347.152090   \n",
       "3    WM_28570  2026-06-19 03:53:20        24.471997   \n",
       "4    WM_36934  2027-08-19 16:43:20        96.997026   \n",
       "\n",
       "   atmospheric_temperature(°C)  shaft_temperature(°C)  blades_angle(°)  \\\n",
       "0                    17.641186              89.714193        51.146788   \n",
       "1                    13.978119              43.272846        46.516394   \n",
       "2                    31.423035              41.076640        26.931602   \n",
       "3                   -99.000000              14.375078        66.513953   \n",
       "4                    33.281836              41.405192         1.843112   \n",
       "\n",
       "   gearbox_temperature(°C)  engine_temperature(°C)  motor_torque(N-m)  \\\n",
       "0                40.460560               39.594734        1073.202715   \n",
       "1                40.027788               41.176860         517.436430   \n",
       "2                43.109122               43.439556        1480.716492   \n",
       "3                13.741253               15.577472         887.979475   \n",
       "4               121.572907               43.934587        2053.916354   \n",
       "\n",
       "   generator_temperature(°C)  ...  area_temperature(°C)  \\\n",
       "0                  66.830037  ...             24.004812   \n",
       "1                  37.284163  ...             29.431813   \n",
       "2                  70.010762  ...             29.924235   \n",
       "3                  41.445258  ...             23.886434   \n",
       "4                  68.007787  ...             35.906889   \n",
       "\n",
       "   windmill_body_temperature(°C)  wind_direction(°)  resistance(ohm)  \\\n",
       "0                      43.756693         445.976992      1664.222023   \n",
       "1                      42.728174         499.595287      1165.111992   \n",
       "2                      43.256122         245.432231      1667.720491   \n",
       "3                      13.501595                NaN      1329.744740   \n",
       "4                     -99.000000         442.425744       691.408996   \n",
       "\n",
       "   rotor_torque(N-m)  turbine_status cloud_level blade_length(m)  \\\n",
       "0          21.912243              BA      Medium        3.185837   \n",
       "1         -35.050093               A      Medium        3.016603   \n",
       "2          27.195302              B2      Medium        2.611941   \n",
       "3          15.245757             BBB         Low        2.866805   \n",
       "4          34.257024               A         Low        3.549672   \n",
       "\n",
       "   blade_breadth(m)  windmill_height(m)  \n",
       "0          0.403965           25.572431  \n",
       "1          0.444755           24.371823  \n",
       "2          0.387368           27.654677  \n",
       "3          0.450478           24.189426  \n",
       "4          0.368355            4.885440  \n",
       "\n",
       "[5 rows x 21 columns]"
      ],
      "text/html": "<div>\n<style scoped>\n    .dataframe tbody tr th:only-of-type {\n        vertical-align: middle;\n    }\n\n    .dataframe tbody tr th {\n        vertical-align: top;\n    }\n\n    .dataframe thead th {\n        text-align: right;\n    }\n</style>\n<table border=\"1\" class=\"dataframe\">\n  <thead>\n    <tr style=\"text-align: right;\">\n      <th></th>\n      <th>tracking_id</th>\n      <th>datetime</th>\n      <th>wind_speed(m/s)</th>\n      <th>atmospheric_temperature(°C)</th>\n      <th>shaft_temperature(°C)</th>\n      <th>blades_angle(°)</th>\n      <th>gearbox_temperature(°C)</th>\n      <th>engine_temperature(°C)</th>\n      <th>motor_torque(N-m)</th>\n      <th>generator_temperature(°C)</th>\n      <th>...</th>\n      <th>area_temperature(°C)</th>\n      <th>windmill_body_temperature(°C)</th>\n      <th>wind_direction(°)</th>\n      <th>resistance(ohm)</th>\n      <th>rotor_torque(N-m)</th>\n      <th>turbine_status</th>\n      <th>cloud_level</th>\n      <th>blade_length(m)</th>\n      <th>blade_breadth(m)</th>\n      <th>windmill_height(m)</th>\n    </tr>\n  </thead>\n  <tbody>\n    <tr>\n      <th>0</th>\n      <td>WM_19817</td>\n      <td>2017-04-19 08:53:20</td>\n      <td>94.324266</td>\n      <td>17.641186</td>\n      <td>89.714193</td>\n      <td>51.146788</td>\n      <td>40.460560</td>\n      <td>39.594734</td>\n      <td>1073.202715</td>\n      <td>66.830037</td>\n      <td>...</td>\n      <td>24.004812</td>\n      <td>43.756693</td>\n      <td>445.976992</td>\n      <td>1664.222023</td>\n      <td>21.912243</td>\n      <td>BA</td>\n      <td>Medium</td>\n      <td>3.185837</td>\n      <td>0.403965</td>\n      <td>25.572431</td>\n    </tr>\n    <tr>\n      <th>1</th>\n      <td>WM_18723</td>\n      <td>1930-03-19 07:43:20</td>\n      <td>10.088870</td>\n      <td>13.978119</td>\n      <td>43.272846</td>\n      <td>46.516394</td>\n      <td>40.027788</td>\n      <td>41.176860</td>\n      <td>517.436430</td>\n      <td>37.284163</td>\n      <td>...</td>\n      <td>29.431813</td>\n      <td>42.728174</td>\n      <td>499.595287</td>\n      <td>1165.111992</td>\n      <td>-35.050093</td>\n      <td>A</td>\n      <td>Medium</td>\n      <td>3.016603</td>\n      <td>0.444755</td>\n      <td>24.371823</td>\n    </tr>\n    <tr>\n      <th>2</th>\n      <td>WM_34552</td>\n      <td>2010-08-19 11:33:20</td>\n      <td>347.152090</td>\n      <td>31.423035</td>\n      <td>41.076640</td>\n      <td>26.931602</td>\n      <td>43.109122</td>\n      <td>43.439556</td>\n      <td>1480.716492</td>\n      <td>70.010762</td>\n      <td>...</td>\n      <td>29.924235</td>\n      <td>43.256122</td>\n      <td>245.432231</td>\n      <td>1667.720491</td>\n      <td>27.195302</td>\n      <td>B2</td>\n      <td>Medium</td>\n      <td>2.611941</td>\n      <td>0.387368</td>\n      <td>27.654677</td>\n    </tr>\n    <tr>\n      <th>3</th>\n      <td>WM_28570</td>\n      <td>2026-06-19 03:53:20</td>\n      <td>24.471997</td>\n      <td>-99.000000</td>\n      <td>14.375078</td>\n      <td>66.513953</td>\n      <td>13.741253</td>\n      <td>15.577472</td>\n      <td>887.979475</td>\n      <td>41.445258</td>\n      <td>...</td>\n      <td>23.886434</td>\n      <td>13.501595</td>\n      <td>NaN</td>\n      <td>1329.744740</td>\n      <td>15.245757</td>\n      <td>BBB</td>\n      <td>Low</td>\n      <td>2.866805</td>\n      <td>0.450478</td>\n      <td>24.189426</td>\n    </tr>\n    <tr>\n      <th>4</th>\n      <td>WM_36934</td>\n      <td>2027-08-19 16:43:20</td>\n      <td>96.997026</td>\n      <td>33.281836</td>\n      <td>41.405192</td>\n      <td>1.843112</td>\n      <td>121.572907</td>\n      <td>43.934587</td>\n      <td>2053.916354</td>\n      <td>68.007787</td>\n      <td>...</td>\n      <td>35.906889</td>\n      <td>-99.000000</td>\n      <td>442.425744</td>\n      <td>691.408996</td>\n      <td>34.257024</td>\n      <td>A</td>\n      <td>Low</td>\n      <td>3.549672</td>\n      <td>0.368355</td>\n      <td>4.885440</td>\n    </tr>\n  </tbody>\n</table>\n<p>5 rows × 21 columns</p>\n</div>"
     },
     "metadata": {},
     "execution_count": 228
    }
   ],
   "source": [
    "train_data = pd.read_csv('dataset/train.csv')\n",
    "test_data = pd.read_csv('dataset/test.csv')\n",
    "test_data.head()"
   ]
  },
  {
   "cell_type": "code",
   "execution_count": 229,
   "metadata": {},
   "outputs": [],
   "source": [
    "drop_columns = ['tracking_id','datetime']\n",
    "extra = test_data[drop_columns]\n",
    "train_data.drop(drop_columns,inplace=True,axis=1)\n",
    "test_data.drop(drop_columns,inplace=True,axis=1)"
   ]
  },
  {
   "cell_type": "code",
   "execution_count": 230,
   "metadata": {},
   "outputs": [
    {
     "output_type": "execute_result",
     "data": {
      "text/plain": [
       "wind_speed(m/s)                    0.968085\n",
       "atmospheric_temperature(°C)       12.234043\n",
       "shaft_temperature(°C)              0.007092\n",
       "blades_angle(°)                    0.765957\n",
       "gearbox_temperature(°C)            0.003546\n",
       "engine_temperature(°C)             0.042553\n",
       "motor_torque(N-m)                  0.085106\n",
       "generator_temperature(°C)          0.042553\n",
       "atmospheric_pressure(Pascal)       9.599291\n",
       "area_temperature(°C)               0.000000\n",
       "windmill_body_temperature(°C)      8.379433\n",
       "wind_direction(°)                 18.095745\n",
       "resistance(ohm)                    0.003546\n",
       "rotor_torque(N-m)                  2.028369\n",
       "turbine_status                     6.237589\n",
       "cloud_level                        0.978723\n",
       "blade_length(m)                   18.060284\n",
       "blade_breadth(m)                   0.000000\n",
       "windmill_height(m)                 1.925532\n",
       "windmill_generated_power(kW/h)     0.734043\n",
       "dtype: float64"
      ]
     },
     "metadata": {},
     "execution_count": 230
    }
   ],
   "source": [
    "train_data.isna().sum() / len(train_data) * 100"
   ]
  },
  {
   "cell_type": "code",
   "execution_count": 231,
   "metadata": {},
   "outputs": [
    {
     "output_type": "execute_result",
     "data": {
      "text/plain": [
       "wind_speed(m/s)                   float64\n",
       "atmospheric_temperature(°C)       float64\n",
       "shaft_temperature(°C)             float64\n",
       "blades_angle(°)                   float64\n",
       "gearbox_temperature(°C)           float64\n",
       "engine_temperature(°C)            float64\n",
       "motor_torque(N-m)                 float64\n",
       "generator_temperature(°C)         float64\n",
       "atmospheric_pressure(Pascal)      float64\n",
       "area_temperature(°C)              float64\n",
       "windmill_body_temperature(°C)     float64\n",
       "wind_direction(°)                 float64\n",
       "resistance(ohm)                   float64\n",
       "rotor_torque(N-m)                 float64\n",
       "turbine_status                     object\n",
       "cloud_level                        object\n",
       "blade_length(m)                   float64\n",
       "blade_breadth(m)                  float64\n",
       "windmill_height(m)                float64\n",
       "windmill_generated_power(kW/h)    float64\n",
       "dtype: object"
      ]
     },
     "metadata": {},
     "execution_count": 231
    }
   ],
   "source": [
    "train_data.dtypes"
   ]
  },
  {
   "cell_type": "code",
   "execution_count": 232,
   "metadata": {},
   "outputs": [
    {
     "output_type": "execute_result",
     "data": {
      "text/plain": [
       "turbine_status    14\n",
       "cloud_level        3\n",
       "dtype: int64"
      ]
     },
     "metadata": {},
     "execution_count": 232
    }
   ],
   "source": [
    "train_data.loc[:,train_data.dtypes == 'object'].nunique()"
   ]
  },
  {
   "cell_type": "code",
   "execution_count": 233,
   "metadata": {},
   "outputs": [
    {
     "output_type": "stream",
     "name": "stdout",
     "text": [
      "BB     1946\nAAA    1939\nBCB    1933\nB2     1931\nA      1930\nD      1922\nB      1882\nAB     1868\nABC    1867\nA2     1855\nBA     1854\nAC     1850\nBD     1843\nBBB    1821\nName: turbine_status, dtype: int64 \n\n\n Low              13921\nMedium           13704\nExtremely Low      299\nName: cloud_level, dtype: int64\n"
     ]
    }
   ],
   "source": [
    "print(train_data['turbine_status'].value_counts(),'\\n'*3,\n",
    "train_data['cloud_level'].value_counts())"
   ]
  },
  {
   "cell_type": "code",
   "execution_count": 234,
   "metadata": {},
   "outputs": [
    {
     "output_type": "execute_result",
     "data": {
      "text/plain": [
       "26176"
      ]
     },
     "metadata": {},
     "execution_count": 234
    }
   ],
   "source": [
    "train_data = train_data[train_data['turbine_status'].notna()]\n",
    "train_data = train_data[train_data['cloud_level'].notna()]\n",
    "len(train_data)"
   ]
  },
  {
   "cell_type": "code",
   "execution_count": 235,
   "metadata": {},
   "outputs": [
    {
     "output_type": "execute_result",
     "data": {
      "text/plain": [
       "Index(['wind_speed(m/s)', 'atmospheric_temperature(°C)',\n",
       "       'shaft_temperature(°C)', 'blades_angle(°)', 'gearbox_temperature(°C)',\n",
       "       'engine_temperature(°C)', 'motor_torque(N-m)',\n",
       "       'generator_temperature(°C)', 'atmospheric_pressure(Pascal)',\n",
       "       'area_temperature(°C)', 'windmill_body_temperature(°C)',\n",
       "       'wind_direction(°)', 'resistance(ohm)', 'rotor_torque(N-m)',\n",
       "       'blade_length(m)', 'blade_breadth(m)', 'windmill_height(m)',\n",
       "       'windmill_generated_power(kW/h)'],\n",
       "      dtype='object')"
      ]
     },
     "metadata": {},
     "execution_count": 235
    }
   ],
   "source": [
    "continous_cols = train_data.dtypes[train_data.dtypes != 'object'].index\n",
    "continous_cols_test = test_data.dtypes[test_data.dtypes != 'object'].index\n",
    "(continous_cols)"
   ]
  },
  {
   "cell_type": "code",
   "execution_count": 236,
   "metadata": {},
   "outputs": [],
   "source": [
    "for col in continous_cols:\n",
    "    train_data[col] = train_data[col].fillna(train_data[col].mean())\n",
    "for col in continous_cols_test:\n",
    "    test_data[col] = test_data[col].fillna(test_data[col].mean())"
   ]
  },
  {
   "cell_type": "code",
   "execution_count": 237,
   "metadata": {},
   "outputs": [],
   "source": [
    "test_data['cloud_level'].value_counts()\n",
    "test_data['cloud_level'].fillna('Low',inplace = True)"
   ]
  },
  {
   "cell_type": "code",
   "execution_count": 238,
   "metadata": {},
   "outputs": [],
   "source": [
    "test_data['turbine_status'].value_counts()\n",
    "test_data['turbine_status'].fillna('BB',inplace = True)"
   ]
  },
  {
   "cell_type": "code",
   "execution_count": 239,
   "metadata": {},
   "outputs": [
    {
     "output_type": "execute_result",
     "data": {
      "text/plain": [
       "wind_speed(m/s)                  0.0\n",
       "atmospheric_temperature(°C)      0.0\n",
       "shaft_temperature(°C)            0.0\n",
       "blades_angle(°)                  0.0\n",
       "gearbox_temperature(°C)          0.0\n",
       "engine_temperature(°C)           0.0\n",
       "motor_torque(N-m)                0.0\n",
       "generator_temperature(°C)        0.0\n",
       "atmospheric_pressure(Pascal)     0.0\n",
       "area_temperature(°C)             0.0\n",
       "windmill_body_temperature(°C)    0.0\n",
       "wind_direction(°)                0.0\n",
       "resistance(ohm)                  0.0\n",
       "rotor_torque(N-m)                0.0\n",
       "turbine_status                   0.0\n",
       "cloud_level                      0.0\n",
       "blade_length(m)                  0.0\n",
       "blade_breadth(m)                 0.0\n",
       "windmill_height(m)               0.0\n",
       "dtype: float64"
      ]
     },
     "metadata": {},
     "execution_count": 239
    }
   ],
   "source": [
    "test_data.isna().sum() / len(test_data) * 100"
   ]
  },
  {
   "cell_type": "code",
   "execution_count": 240,
   "metadata": {},
   "outputs": [
    {
     "output_type": "execute_result",
     "data": {
      "text/plain": [
       "       wind_speed(m/s)  atmospheric_temperature(°C)  shaft_temperature(°C)  \\\n",
       "count     26176.000000                 26176.000000           26176.000000   \n",
       "mean         68.927439                     0.458399              40.067020   \n",
       "std          75.663950                    41.475223              27.272877   \n",
       "min        -402.608736                   -99.000000             -99.000000   \n",
       "25%          21.304026                     0.458399              41.638432   \n",
       "50%          93.261685                    14.201454              43.691351   \n",
       "75%          95.248020                    22.636619              45.679701   \n",
       "max         601.455670                    80.217444             169.820455   \n",
       "\n",
       "       blades_angle(°)  gearbox_temperature(°C)  engine_temperature(°C)  \\\n",
       "count     26176.000000             26176.000000            26176.000000   \n",
       "mean         -9.743748                41.032699               42.631397   \n",
       "std          47.837610                43.722545                6.093881   \n",
       "min        -146.259543              -244.974098                3.167151   \n",
       "25%          -1.209093                40.559884               41.913381   \n",
       "50%          -0.528272                43.229537               43.526359   \n",
       "75%           5.366895                45.874994               45.187330   \n",
       "max         165.932123               999.000000               50.000000   \n",
       "\n",
       "       motor_torque(N-m)  generator_temperature(°C)  \\\n",
       "count       26176.000000               26176.000000   \n",
       "mean         1712.853025                  65.090239   \n",
       "std           826.837778                  19.809137   \n",
       "min           500.000000                  33.893779   \n",
       "25%           871.569504                  41.216874   \n",
       "50%          2032.661501                  70.753995   \n",
       "75%          2464.074854                  79.000425   \n",
       "max          3000.000000                 100.000000   \n",
       "\n",
       "       atmospheric_pressure(Pascal)  area_temperature(°C)  \\\n",
       "count                  2.617600e+04          26176.000000   \n",
       "mean                   5.257784e+04             32.752775   \n",
       "std                    1.779947e+05              7.716299   \n",
       "min                   -1.188624e+06            -30.000000   \n",
       "25%                    1.689131e+04             27.322601   \n",
       "50%                    1.874184e+04             32.620193   \n",
       "75%                    1.163726e+05             38.261766   \n",
       "max                    1.272552e+06             55.000000   \n",
       "\n",
       "       windmill_body_temperature(°C)  wind_direction(°)  resistance(ohm)  \\\n",
       "count                   26176.000000       26176.000000     26176.000000   \n",
       "mean                       20.894347         306.997781      1575.903442   \n",
       "std                        52.032731         121.432648       485.008451   \n",
       "min                      -999.000000           0.000000     -1005.222988   \n",
       "25%                        20.894347         246.746144      1268.604476   \n",
       "50%                        42.506184         290.140374      1678.402416   \n",
       "75%                        44.338160         332.834028      1830.504684   \n",
       "max                       323.000000         569.966479      4693.481933   \n",
       "\n",
       "       rotor_torque(N-m)  blade_length(m)  blade_breadth(m)  \\\n",
       "count       26176.000000     26176.000000      26176.000000   \n",
       "mean           25.925809         2.213593          0.397071   \n",
       "std            32.075801        10.373646          0.061180   \n",
       "min          -136.732217       -99.000000          0.200111   \n",
       "25%            13.848275         2.213593          0.347309   \n",
       "50%            31.753112         3.050854          0.398486   \n",
       "75%            41.387052         4.156647          0.449093   \n",
       "max           236.883264        18.209800          0.499975   \n",
       "\n",
       "       windmill_height(m)  windmill_generated_power(kW/h)  \n",
       "count        26176.000000                    26176.000000  \n",
       "mean            25.900650                        6.133326  \n",
       "std              7.705826                        2.693214  \n",
       "min            -30.295253                        0.962305  \n",
       "25%             24.468078                        4.076750  \n",
       "50%             25.900650                        5.799092  \n",
       "75%             27.451608                        7.932078  \n",
       "max             78.351335                       20.175358  "
      ],
      "text/html": "<div>\n<style scoped>\n    .dataframe tbody tr th:only-of-type {\n        vertical-align: middle;\n    }\n\n    .dataframe tbody tr th {\n        vertical-align: top;\n    }\n\n    .dataframe thead th {\n        text-align: right;\n    }\n</style>\n<table border=\"1\" class=\"dataframe\">\n  <thead>\n    <tr style=\"text-align: right;\">\n      <th></th>\n      <th>wind_speed(m/s)</th>\n      <th>atmospheric_temperature(°C)</th>\n      <th>shaft_temperature(°C)</th>\n      <th>blades_angle(°)</th>\n      <th>gearbox_temperature(°C)</th>\n      <th>engine_temperature(°C)</th>\n      <th>motor_torque(N-m)</th>\n      <th>generator_temperature(°C)</th>\n      <th>atmospheric_pressure(Pascal)</th>\n      <th>area_temperature(°C)</th>\n      <th>windmill_body_temperature(°C)</th>\n      <th>wind_direction(°)</th>\n      <th>resistance(ohm)</th>\n      <th>rotor_torque(N-m)</th>\n      <th>blade_length(m)</th>\n      <th>blade_breadth(m)</th>\n      <th>windmill_height(m)</th>\n      <th>windmill_generated_power(kW/h)</th>\n    </tr>\n  </thead>\n  <tbody>\n    <tr>\n      <th>count</th>\n      <td>26176.000000</td>\n      <td>26176.000000</td>\n      <td>26176.000000</td>\n      <td>26176.000000</td>\n      <td>26176.000000</td>\n      <td>26176.000000</td>\n      <td>26176.000000</td>\n      <td>26176.000000</td>\n      <td>2.617600e+04</td>\n      <td>26176.000000</td>\n      <td>26176.000000</td>\n      <td>26176.000000</td>\n      <td>26176.000000</td>\n      <td>26176.000000</td>\n      <td>26176.000000</td>\n      <td>26176.000000</td>\n      <td>26176.000000</td>\n      <td>26176.000000</td>\n    </tr>\n    <tr>\n      <th>mean</th>\n      <td>68.927439</td>\n      <td>0.458399</td>\n      <td>40.067020</td>\n      <td>-9.743748</td>\n      <td>41.032699</td>\n      <td>42.631397</td>\n      <td>1712.853025</td>\n      <td>65.090239</td>\n      <td>5.257784e+04</td>\n      <td>32.752775</td>\n      <td>20.894347</td>\n      <td>306.997781</td>\n      <td>1575.903442</td>\n      <td>25.925809</td>\n      <td>2.213593</td>\n      <td>0.397071</td>\n      <td>25.900650</td>\n      <td>6.133326</td>\n    </tr>\n    <tr>\n      <th>std</th>\n      <td>75.663950</td>\n      <td>41.475223</td>\n      <td>27.272877</td>\n      <td>47.837610</td>\n      <td>43.722545</td>\n      <td>6.093881</td>\n      <td>826.837778</td>\n      <td>19.809137</td>\n      <td>1.779947e+05</td>\n      <td>7.716299</td>\n      <td>52.032731</td>\n      <td>121.432648</td>\n      <td>485.008451</td>\n      <td>32.075801</td>\n      <td>10.373646</td>\n      <td>0.061180</td>\n      <td>7.705826</td>\n      <td>2.693214</td>\n    </tr>\n    <tr>\n      <th>min</th>\n      <td>-402.608736</td>\n      <td>-99.000000</td>\n      <td>-99.000000</td>\n      <td>-146.259543</td>\n      <td>-244.974098</td>\n      <td>3.167151</td>\n      <td>500.000000</td>\n      <td>33.893779</td>\n      <td>-1.188624e+06</td>\n      <td>-30.000000</td>\n      <td>-999.000000</td>\n      <td>0.000000</td>\n      <td>-1005.222988</td>\n      <td>-136.732217</td>\n      <td>-99.000000</td>\n      <td>0.200111</td>\n      <td>-30.295253</td>\n      <td>0.962305</td>\n    </tr>\n    <tr>\n      <th>25%</th>\n      <td>21.304026</td>\n      <td>0.458399</td>\n      <td>41.638432</td>\n      <td>-1.209093</td>\n      <td>40.559884</td>\n      <td>41.913381</td>\n      <td>871.569504</td>\n      <td>41.216874</td>\n      <td>1.689131e+04</td>\n      <td>27.322601</td>\n      <td>20.894347</td>\n      <td>246.746144</td>\n      <td>1268.604476</td>\n      <td>13.848275</td>\n      <td>2.213593</td>\n      <td>0.347309</td>\n      <td>24.468078</td>\n      <td>4.076750</td>\n    </tr>\n    <tr>\n      <th>50%</th>\n      <td>93.261685</td>\n      <td>14.201454</td>\n      <td>43.691351</td>\n      <td>-0.528272</td>\n      <td>43.229537</td>\n      <td>43.526359</td>\n      <td>2032.661501</td>\n      <td>70.753995</td>\n      <td>1.874184e+04</td>\n      <td>32.620193</td>\n      <td>42.506184</td>\n      <td>290.140374</td>\n      <td>1678.402416</td>\n      <td>31.753112</td>\n      <td>3.050854</td>\n      <td>0.398486</td>\n      <td>25.900650</td>\n      <td>5.799092</td>\n    </tr>\n    <tr>\n      <th>75%</th>\n      <td>95.248020</td>\n      <td>22.636619</td>\n      <td>45.679701</td>\n      <td>5.366895</td>\n      <td>45.874994</td>\n      <td>45.187330</td>\n      <td>2464.074854</td>\n      <td>79.000425</td>\n      <td>1.163726e+05</td>\n      <td>38.261766</td>\n      <td>44.338160</td>\n      <td>332.834028</td>\n      <td>1830.504684</td>\n      <td>41.387052</td>\n      <td>4.156647</td>\n      <td>0.449093</td>\n      <td>27.451608</td>\n      <td>7.932078</td>\n    </tr>\n    <tr>\n      <th>max</th>\n      <td>601.455670</td>\n      <td>80.217444</td>\n      <td>169.820455</td>\n      <td>165.932123</td>\n      <td>999.000000</td>\n      <td>50.000000</td>\n      <td>3000.000000</td>\n      <td>100.000000</td>\n      <td>1.272552e+06</td>\n      <td>55.000000</td>\n      <td>323.000000</td>\n      <td>569.966479</td>\n      <td>4693.481933</td>\n      <td>236.883264</td>\n      <td>18.209800</td>\n      <td>0.499975</td>\n      <td>78.351335</td>\n      <td>20.175358</td>\n    </tr>\n  </tbody>\n</table>\n</div>"
     },
     "metadata": {},
     "execution_count": 240
    }
   ],
   "source": [
    "train_data.describe()"
   ]
  },
  {
   "cell_type": "code",
   "execution_count": 241,
   "metadata": {},
   "outputs": [
    {
     "output_type": "execute_result",
     "data": {
      "text/plain": [
       "1    6057\n",
       "2    5893\n",
       "0     136\n",
       "Name: cloud_level, dtype: int64"
      ]
     },
     "metadata": {},
     "execution_count": 241
    }
   ],
   "source": [
    "label_enc = LabelEncoder()\n",
    "train_data['cloud_level'] = label_enc.fit_transform(train_data['cloud_level'])\n",
    "train_data['cloud_level'].value_counts()\n",
    "test_data['cloud_level'] = label_enc.fit_transform(test_data['cloud_level'])\n",
    "test_data['cloud_level'].value_counts()"
   ]
  },
  {
   "cell_type": "code",
   "execution_count": 242,
   "metadata": {},
   "outputs": [
    {
     "output_type": "execute_result",
     "data": {
      "text/plain": [
       "2    13050\n",
       "3    12842\n",
       "1      284\n",
       "Name: cloud_level, dtype: int64"
      ]
     },
     "metadata": {},
     "execution_count": 242
    }
   ],
   "source": [
    "train_data['cloud_level'] = train_data['cloud_level'].apply(lambda x:  x + 1)\n",
    "test_data['cloud_level'] = test_data['cloud_level'].apply(lambda x:  x + 1)\n",
    "train_data['cloud_level']\n",
    "train_data['cloud_level'].value_counts()"
   ]
  },
  {
   "cell_type": "code",
   "execution_count": 243,
   "metadata": {},
   "outputs": [],
   "source": [
    "enc = pd.get_dummies(train_data['turbine_status'])\n",
    "# print(enc)\n",
    "train_data.drop('turbine_status',axis = 1,inplace = True)"
   ]
  },
  {
   "cell_type": "code",
   "execution_count": 244,
   "metadata": {},
   "outputs": [],
   "source": [
    "enc = pd.get_dummies(test_data['turbine_status'])\n",
    "# print(enc)\n",
    "test_data.drop('turbine_status',axis = 1,inplace = True)"
   ]
  },
  {
   "cell_type": "code",
   "execution_count": 245,
   "metadata": {},
   "outputs": [],
   "source": [
    "train_data = train_data.join(enc)\n",
    "test_data = test_data.join(enc)"
   ]
  },
  {
   "cell_type": "code",
   "execution_count": 246,
   "metadata": {},
   "outputs": [
    {
     "output_type": "execute_result",
     "data": {
      "text/plain": [
       "Index(['wind_speed(m/s)', 'atmospheric_temperature(°C)',\n",
       "       'shaft_temperature(°C)', 'blades_angle(°)', 'gearbox_temperature(°C)',\n",
       "       'engine_temperature(°C)', 'motor_torque(N-m)',\n",
       "       'generator_temperature(°C)', 'atmospheric_pressure(Pascal)',\n",
       "       'area_temperature(°C)', 'windmill_body_temperature(°C)',\n",
       "       'wind_direction(°)', 'resistance(ohm)', 'rotor_torque(N-m)',\n",
       "       'cloud_level', 'blade_length(m)', 'blade_breadth(m)',\n",
       "       'windmill_height(m)', 'windmill_generated_power(kW/h)', 'A', 'A2',\n",
       "       'AAA', 'AB', 'ABC', 'AC', 'B', 'B2', 'BA', 'BB', 'BBB', 'BCB', 'BD',\n",
       "       'D'],\n",
       "      dtype='object')"
      ]
     },
     "metadata": {},
     "execution_count": 246
    }
   ],
   "source": [
    "train_data.columns"
   ]
  },
  {
   "cell_type": "code",
   "execution_count": 247,
   "metadata": {},
   "outputs": [],
   "source": [
    "from sklearn.model_selection import train_test_split\n",
    "from xgboost import XGBRegressor"
   ]
  },
  {
   "cell_type": "code",
   "execution_count": 248,
   "metadata": {},
   "outputs": [],
   "source": [
    "x = train_data.drop(['windmill_generated_power(kW/h)'],axis = 1)\n",
    "y = train_data['windmill_generated_power(kW/h)']\n",
    "x_train,x_test,y_train,y_test = train_test_split(x,y,train_size = 0.8,random_state = 42)"
   ]
  },
  {
   "cell_type": "code",
   "execution_count": 249,
   "metadata": {},
   "outputs": [
    {
     "output_type": "stream",
     "name": "stdout",
     "text": [
      "[17:12:27] WARNING: C:/Jenkins/workspace/xgboost-win64_release_0.90/src/objective/regression_obj.cu:152: reg:linear is now deprecated in favor of reg:squarederror.\n"
     ]
    },
    {
     "output_type": "execute_result",
     "data": {
      "text/plain": [
       "0.9276638125464726"
      ]
     },
     "metadata": {},
     "execution_count": 249
    }
   ],
   "source": [
    "model = XGBRegressor()\n",
    "model.fit(x_train,y_train)\n",
    "predictions = model.predict(x_test)\n",
    "r2_score(predictions,y_test)"
   ]
  },
  {
   "cell_type": "code",
   "execution_count": 250,
   "metadata": {},
   "outputs": [
    {
     "output_type": "execute_result",
     "data": {
      "text/plain": [
       "       wind_speed(m/s)  atmospheric_temperature(°C)  shaft_temperature(°C)  \\\n",
       "0            94.324266                    17.641186              89.714193   \n",
       "1            10.088870                    13.978119              43.272846   \n",
       "2           347.152090                    31.423035              41.076640   \n",
       "3            24.471997                   -99.000000              14.375078   \n",
       "4            96.997026                    33.281836              41.405192   \n",
       "...                ...                          ...                    ...   \n",
       "12081       -15.039400                    18.517204              43.545409   \n",
       "12082        97.594116                   -99.000000              44.747916   \n",
       "12083        16.186805                     8.109976              43.252012   \n",
       "12084        93.254033                   -99.000000              43.841789   \n",
       "12085        42.607485                    13.245828              43.480982   \n",
       "\n",
       "       blades_angle(°)  gearbox_temperature(°C)  engine_temperature(°C)  \\\n",
       "0            51.146788                40.460560               39.594734   \n",
       "1            46.516394                40.027788               41.176860   \n",
       "2            26.931602                43.109122               43.439556   \n",
       "3            66.513953                13.741253               15.577472   \n",
       "4             1.843112               121.572907               43.934587   \n",
       "...                ...                      ...                     ...   \n",
       "12081        -1.094038                44.550547               44.486619   \n",
       "12082         1.750553                43.308176               42.848779   \n",
       "12083        -0.691090               214.904165               41.177782   \n",
       "12084        -1.171974                41.976913               42.039796   \n",
       "12085         9.258178               132.587960               46.312684   \n",
       "\n",
       "       motor_torque(N-m)  generator_temperature(°C)  \\\n",
       "0            1073.202715                  66.830037   \n",
       "1             517.436430                  37.284163   \n",
       "2            1480.716492                  70.010762   \n",
       "3             887.979475                  41.445258   \n",
       "4            2053.916354                  68.007787   \n",
       "...                  ...                        ...   \n",
       "12081        2424.370244                  75.850209   \n",
       "12082        2085.627252                  73.091866   \n",
       "12083         788.687177                  39.514258   \n",
       "12084        2079.855634                  71.482324   \n",
       "12085         969.733090                  46.777642   \n",
       "\n",
       "       atmospheric_pressure(Pascal)  area_temperature(°C)  ...  ABC  AC  B  \\\n",
       "0                      16681.044120             24.004812  ...    0   0  0   \n",
       "1                      54283.324683             29.431813  ...    0   0  0   \n",
       "2                     214812.836200             29.924235  ...    0   0  0   \n",
       "3                      54283.324683             23.886434  ...    0   0  0   \n",
       "4                      16833.546520             35.906889  ...    0   0  0   \n",
       "...                             ...                   ...  ...  ...  .. ..   \n",
       "12081                  17239.345510             28.424722  ...    0   0  0   \n",
       "12082                  17131.448670             50.615296  ...    0   0  0   \n",
       "12083                 118707.643700             20.983939  ...    0   0  0   \n",
       "12084                  17155.269310             29.114305  ...    0   0  0   \n",
       "12085                 130018.594200             39.491015  ...    0   0  0   \n",
       "\n",
       "       B2  BA  BB  BBB  BCB  BD  D  \n",
       "0       0   1   0    0    0   0  0  \n",
       "1       0   0   0    0    0   0  0  \n",
       "2       1   0   0    0    0   0  0  \n",
       "3       0   0   0    1    0   0  0  \n",
       "4       0   0   0    0    0   0  0  \n",
       "...    ..  ..  ..  ...  ...  .. ..  \n",
       "12081   0   0   1    0    0   0  0  \n",
       "12082   0   0   0    0    0   0  0  \n",
       "12083   0   1   0    0    0   0  0  \n",
       "12084   0   0   0    0    0   0  0  \n",
       "12085   0   0   0    0    0   0  0  \n",
       "\n",
       "[12086 rows x 32 columns]"
      ],
      "text/html": "<div>\n<style scoped>\n    .dataframe tbody tr th:only-of-type {\n        vertical-align: middle;\n    }\n\n    .dataframe tbody tr th {\n        vertical-align: top;\n    }\n\n    .dataframe thead th {\n        text-align: right;\n    }\n</style>\n<table border=\"1\" class=\"dataframe\">\n  <thead>\n    <tr style=\"text-align: right;\">\n      <th></th>\n      <th>wind_speed(m/s)</th>\n      <th>atmospheric_temperature(°C)</th>\n      <th>shaft_temperature(°C)</th>\n      <th>blades_angle(°)</th>\n      <th>gearbox_temperature(°C)</th>\n      <th>engine_temperature(°C)</th>\n      <th>motor_torque(N-m)</th>\n      <th>generator_temperature(°C)</th>\n      <th>atmospheric_pressure(Pascal)</th>\n      <th>area_temperature(°C)</th>\n      <th>...</th>\n      <th>ABC</th>\n      <th>AC</th>\n      <th>B</th>\n      <th>B2</th>\n      <th>BA</th>\n      <th>BB</th>\n      <th>BBB</th>\n      <th>BCB</th>\n      <th>BD</th>\n      <th>D</th>\n    </tr>\n  </thead>\n  <tbody>\n    <tr>\n      <th>0</th>\n      <td>94.324266</td>\n      <td>17.641186</td>\n      <td>89.714193</td>\n      <td>51.146788</td>\n      <td>40.460560</td>\n      <td>39.594734</td>\n      <td>1073.202715</td>\n      <td>66.830037</td>\n      <td>16681.044120</td>\n      <td>24.004812</td>\n      <td>...</td>\n      <td>0</td>\n      <td>0</td>\n      <td>0</td>\n      <td>0</td>\n      <td>1</td>\n      <td>0</td>\n      <td>0</td>\n      <td>0</td>\n      <td>0</td>\n      <td>0</td>\n    </tr>\n    <tr>\n      <th>1</th>\n      <td>10.088870</td>\n      <td>13.978119</td>\n      <td>43.272846</td>\n      <td>46.516394</td>\n      <td>40.027788</td>\n      <td>41.176860</td>\n      <td>517.436430</td>\n      <td>37.284163</td>\n      <td>54283.324683</td>\n      <td>29.431813</td>\n      <td>...</td>\n      <td>0</td>\n      <td>0</td>\n      <td>0</td>\n      <td>0</td>\n      <td>0</td>\n      <td>0</td>\n      <td>0</td>\n      <td>0</td>\n      <td>0</td>\n      <td>0</td>\n    </tr>\n    <tr>\n      <th>2</th>\n      <td>347.152090</td>\n      <td>31.423035</td>\n      <td>41.076640</td>\n      <td>26.931602</td>\n      <td>43.109122</td>\n      <td>43.439556</td>\n      <td>1480.716492</td>\n      <td>70.010762</td>\n      <td>214812.836200</td>\n      <td>29.924235</td>\n      <td>...</td>\n      <td>0</td>\n      <td>0</td>\n      <td>0</td>\n      <td>1</td>\n      <td>0</td>\n      <td>0</td>\n      <td>0</td>\n      <td>0</td>\n      <td>0</td>\n      <td>0</td>\n    </tr>\n    <tr>\n      <th>3</th>\n      <td>24.471997</td>\n      <td>-99.000000</td>\n      <td>14.375078</td>\n      <td>66.513953</td>\n      <td>13.741253</td>\n      <td>15.577472</td>\n      <td>887.979475</td>\n      <td>41.445258</td>\n      <td>54283.324683</td>\n      <td>23.886434</td>\n      <td>...</td>\n      <td>0</td>\n      <td>0</td>\n      <td>0</td>\n      <td>0</td>\n      <td>0</td>\n      <td>0</td>\n      <td>1</td>\n      <td>0</td>\n      <td>0</td>\n      <td>0</td>\n    </tr>\n    <tr>\n      <th>4</th>\n      <td>96.997026</td>\n      <td>33.281836</td>\n      <td>41.405192</td>\n      <td>1.843112</td>\n      <td>121.572907</td>\n      <td>43.934587</td>\n      <td>2053.916354</td>\n      <td>68.007787</td>\n      <td>16833.546520</td>\n      <td>35.906889</td>\n      <td>...</td>\n      <td>0</td>\n      <td>0</td>\n      <td>0</td>\n      <td>0</td>\n      <td>0</td>\n      <td>0</td>\n      <td>0</td>\n      <td>0</td>\n      <td>0</td>\n      <td>0</td>\n    </tr>\n    <tr>\n      <th>...</th>\n      <td>...</td>\n      <td>...</td>\n      <td>...</td>\n      <td>...</td>\n      <td>...</td>\n      <td>...</td>\n      <td>...</td>\n      <td>...</td>\n      <td>...</td>\n      <td>...</td>\n      <td>...</td>\n      <td>...</td>\n      <td>...</td>\n      <td>...</td>\n      <td>...</td>\n      <td>...</td>\n      <td>...</td>\n      <td>...</td>\n      <td>...</td>\n      <td>...</td>\n      <td>...</td>\n    </tr>\n    <tr>\n      <th>12081</th>\n      <td>-15.039400</td>\n      <td>18.517204</td>\n      <td>43.545409</td>\n      <td>-1.094038</td>\n      <td>44.550547</td>\n      <td>44.486619</td>\n      <td>2424.370244</td>\n      <td>75.850209</td>\n      <td>17239.345510</td>\n      <td>28.424722</td>\n      <td>...</td>\n      <td>0</td>\n      <td>0</td>\n      <td>0</td>\n      <td>0</td>\n      <td>0</td>\n      <td>1</td>\n      <td>0</td>\n      <td>0</td>\n      <td>0</td>\n      <td>0</td>\n    </tr>\n    <tr>\n      <th>12082</th>\n      <td>97.594116</td>\n      <td>-99.000000</td>\n      <td>44.747916</td>\n      <td>1.750553</td>\n      <td>43.308176</td>\n      <td>42.848779</td>\n      <td>2085.627252</td>\n      <td>73.091866</td>\n      <td>17131.448670</td>\n      <td>50.615296</td>\n      <td>...</td>\n      <td>0</td>\n      <td>0</td>\n      <td>0</td>\n      <td>0</td>\n      <td>0</td>\n      <td>0</td>\n      <td>0</td>\n      <td>0</td>\n      <td>0</td>\n      <td>0</td>\n    </tr>\n    <tr>\n      <th>12083</th>\n      <td>16.186805</td>\n      <td>8.109976</td>\n      <td>43.252012</td>\n      <td>-0.691090</td>\n      <td>214.904165</td>\n      <td>41.177782</td>\n      <td>788.687177</td>\n      <td>39.514258</td>\n      <td>118707.643700</td>\n      <td>20.983939</td>\n      <td>...</td>\n      <td>0</td>\n      <td>0</td>\n      <td>0</td>\n      <td>0</td>\n      <td>1</td>\n      <td>0</td>\n      <td>0</td>\n      <td>0</td>\n      <td>0</td>\n      <td>0</td>\n    </tr>\n    <tr>\n      <th>12084</th>\n      <td>93.254033</td>\n      <td>-99.000000</td>\n      <td>43.841789</td>\n      <td>-1.171974</td>\n      <td>41.976913</td>\n      <td>42.039796</td>\n      <td>2079.855634</td>\n      <td>71.482324</td>\n      <td>17155.269310</td>\n      <td>29.114305</td>\n      <td>...</td>\n      <td>0</td>\n      <td>0</td>\n      <td>0</td>\n      <td>0</td>\n      <td>0</td>\n      <td>0</td>\n      <td>0</td>\n      <td>0</td>\n      <td>0</td>\n      <td>0</td>\n    </tr>\n    <tr>\n      <th>12085</th>\n      <td>42.607485</td>\n      <td>13.245828</td>\n      <td>43.480982</td>\n      <td>9.258178</td>\n      <td>132.587960</td>\n      <td>46.312684</td>\n      <td>969.733090</td>\n      <td>46.777642</td>\n      <td>130018.594200</td>\n      <td>39.491015</td>\n      <td>...</td>\n      <td>0</td>\n      <td>0</td>\n      <td>0</td>\n      <td>0</td>\n      <td>0</td>\n      <td>0</td>\n      <td>0</td>\n      <td>0</td>\n      <td>0</td>\n      <td>0</td>\n    </tr>\n  </tbody>\n</table>\n<p>12086 rows × 32 columns</p>\n</div>"
     },
     "metadata": {},
     "execution_count": 250
    }
   ],
   "source": [
    "test_data"
   ]
  },
  {
   "cell_type": "code",
   "execution_count": 251,
   "metadata": {},
   "outputs": [
    {
     "output_type": "execute_result",
     "data": {
      "text/plain": [
       "(12086,)"
      ]
     },
     "metadata": {},
     "execution_count": 251
    }
   ],
   "source": [
    "submission = model.predict(test_data)\n",
    "submission.shape"
   ]
  },
  {
   "cell_type": "code",
   "execution_count": 252,
   "metadata": {},
   "outputs": [
    {
     "output_type": "execute_result",
     "data": {
      "text/plain": [
       "      tracking_id             datetime  windmill_generated_power(kW/h)\n",
       "0        WM_19817  2017-04-19 08:53:20                        2.605420\n",
       "1        WM_18723  1930-03-19 07:43:20                        2.872419\n",
       "2        WM_34552  2010-08-19 11:33:20                        3.039419\n",
       "3        WM_28570  2026-06-19 03:53:20                        7.504499\n",
       "4        WM_36934  2027-08-19 16:43:20                        3.874941\n",
       "...           ...                  ...                             ...\n",
       "12081    WM_13376  2012-02-19 11:33:20                        6.796721\n",
       "12082     WM_1630  2012-11-18 17:33:20                        3.578464\n",
       "12083    WM_24703  2027-05-19 11:53:20                        5.202962\n",
       "12084    WM_22893  2013-05-19 21:53:20                        4.920625\n",
       "12085    WM_14513  2020-02-19 23:43:20                       10.749421\n",
       "\n",
       "[12086 rows x 3 columns]"
      ],
      "text/html": "<div>\n<style scoped>\n    .dataframe tbody tr th:only-of-type {\n        vertical-align: middle;\n    }\n\n    .dataframe tbody tr th {\n        vertical-align: top;\n    }\n\n    .dataframe thead th {\n        text-align: right;\n    }\n</style>\n<table border=\"1\" class=\"dataframe\">\n  <thead>\n    <tr style=\"text-align: right;\">\n      <th></th>\n      <th>tracking_id</th>\n      <th>datetime</th>\n      <th>windmill_generated_power(kW/h)</th>\n    </tr>\n  </thead>\n  <tbody>\n    <tr>\n      <th>0</th>\n      <td>WM_19817</td>\n      <td>2017-04-19 08:53:20</td>\n      <td>2.605420</td>\n    </tr>\n    <tr>\n      <th>1</th>\n      <td>WM_18723</td>\n      <td>1930-03-19 07:43:20</td>\n      <td>2.872419</td>\n    </tr>\n    <tr>\n      <th>2</th>\n      <td>WM_34552</td>\n      <td>2010-08-19 11:33:20</td>\n      <td>3.039419</td>\n    </tr>\n    <tr>\n      <th>3</th>\n      <td>WM_28570</td>\n      <td>2026-06-19 03:53:20</td>\n      <td>7.504499</td>\n    </tr>\n    <tr>\n      <th>4</th>\n      <td>WM_36934</td>\n      <td>2027-08-19 16:43:20</td>\n      <td>3.874941</td>\n    </tr>\n    <tr>\n      <th>...</th>\n      <td>...</td>\n      <td>...</td>\n      <td>...</td>\n    </tr>\n    <tr>\n      <th>12081</th>\n      <td>WM_13376</td>\n      <td>2012-02-19 11:33:20</td>\n      <td>6.796721</td>\n    </tr>\n    <tr>\n      <th>12082</th>\n      <td>WM_1630</td>\n      <td>2012-11-18 17:33:20</td>\n      <td>3.578464</td>\n    </tr>\n    <tr>\n      <th>12083</th>\n      <td>WM_24703</td>\n      <td>2027-05-19 11:53:20</td>\n      <td>5.202962</td>\n    </tr>\n    <tr>\n      <th>12084</th>\n      <td>WM_22893</td>\n      <td>2013-05-19 21:53:20</td>\n      <td>4.920625</td>\n    </tr>\n    <tr>\n      <th>12085</th>\n      <td>WM_14513</td>\n      <td>2020-02-19 23:43:20</td>\n      <td>10.749421</td>\n    </tr>\n  </tbody>\n</table>\n<p>12086 rows × 3 columns</p>\n</div>"
     },
     "metadata": {},
     "execution_count": 252
    }
   ],
   "source": [
    "extra = extra.join(pd.DataFrame(submission))\n",
    "target = 'windmill_generated_power(kW/h)'\n",
    "extra[target] = extra[0]\n",
    "extra.drop([0],inplace = True,axis = 1)\n",
    "extra"
   ]
  },
  {
   "cell_type": "code",
   "execution_count": 253,
   "metadata": {},
   "outputs": [],
   "source": [
    "extra.to_csv('submission-1.csv',index = False)"
   ]
  }
 ]
}