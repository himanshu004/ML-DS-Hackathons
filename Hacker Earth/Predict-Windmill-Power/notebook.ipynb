{
 "metadata": {
  "language_info": {
   "codemirror_mode": {
    "name": "ipython",
    "version": 3
   },
   "file_extension": ".py",
   "mimetype": "text/x-python",
   "name": "python",
   "nbconvert_exporter": "python",
   "pygments_lexer": "ipython3",
   "version": "3.7.6"
  },
  "orig_nbformat": 2,
  "kernelspec": {
   "name": "python376jvsc74a57bd09fe2f98b7563adc8186c5292bf00518c3401f6f9c8a1445bf4e45c61673b1890",
   "display_name": "Python 3.7.6 64-bit ('base': conda)"
  }
 },
 "nbformat": 4,
 "nbformat_minor": 2,
 "cells": [
  {
   "cell_type": "code",
   "execution_count": 368,
   "metadata": {},
   "outputs": [],
   "source": [
    "import pandas as pd\n",
    "import numpy as np\n",
    "import seaborn as sns\n",
    "import matplotlib.pyplot as plt\n",
    "\n",
    "import warnings\n",
    "warnings.filterwarnings(\"ignore\")\n",
    "\n",
    "from sklearn.metrics import r2_score\n",
    "from sklearn.preprocessing import LabelEncoder,OneHotEncoder"
   ]
  },
  {
   "cell_type": "code",
   "execution_count": 369,
   "metadata": {},
   "outputs": [
    {
     "output_type": "execute_result",
     "data": {
      "text/plain": [
       "  tracking_id             datetime  wind_speed(m/s)  \\\n",
       "0    WM_19817  2019-04-17 08:53:20        94.324266   \n",
       "1    WM_18723  2019-03-30 07:43:20        10.088870   \n",
       "2    WM_34552  2019-08-10 11:33:20       347.152090   \n",
       "3    WM_28570  2019-06-26 03:53:20        24.471997   \n",
       "4    WM_36934  2019-08-27 16:43:20        96.997026   \n",
       "\n",
       "   atmospheric_temperature(°C)  shaft_temperature(°C)  blades_angle(°)  \\\n",
       "0                    17.641186              89.714193        51.146788   \n",
       "1                    13.978119              43.272846        46.516394   \n",
       "2                    31.423035              41.076640        26.931602   \n",
       "3                   -99.000000              14.375078        66.513953   \n",
       "4                    33.281836              41.405192         1.843112   \n",
       "\n",
       "   gearbox_temperature(°C)  engine_temperature(°C)  motor_torque(N-m)  \\\n",
       "0                40.460560               39.594734        1073.202715   \n",
       "1                40.027788               41.176860         517.436430   \n",
       "2                43.109122               43.439556        1480.716492   \n",
       "3                13.741253               15.577472         887.979475   \n",
       "4               121.572907               43.934587        2053.916354   \n",
       "\n",
       "   generator_temperature(°C)  ...  area_temperature(°C)  \\\n",
       "0                  66.830037  ...             24.004812   \n",
       "1                  37.284163  ...             29.431813   \n",
       "2                  70.010762  ...             29.924235   \n",
       "3                  41.445258  ...             23.886434   \n",
       "4                  68.007787  ...             35.906889   \n",
       "\n",
       "   windmill_body_temperature(°C)  wind_direction(°)  resistance(ohm)  \\\n",
       "0                      43.756693         445.976992      1664.222023   \n",
       "1                      42.728174         499.595287      1165.111992   \n",
       "2                      43.256122         245.432231      1667.720491   \n",
       "3                      13.501595                NaN      1329.744740   \n",
       "4                     -99.000000         442.425744       691.408996   \n",
       "\n",
       "   rotor_torque(N-m)  turbine_status cloud_level blade_length(m)  \\\n",
       "0          21.912243              BA      Medium        3.185837   \n",
       "1         -35.050093               A      Medium        3.016603   \n",
       "2          27.195302              B2      Medium        2.611941   \n",
       "3          15.245757             BBB         Low        2.866805   \n",
       "4          34.257024               A         Low        3.549672   \n",
       "\n",
       "   blade_breadth(m)  windmill_height(m)  \n",
       "0          0.403965           25.572431  \n",
       "1          0.444755           24.371823  \n",
       "2          0.387368           27.654677  \n",
       "3          0.450478           24.189426  \n",
       "4          0.368355            4.885440  \n",
       "\n",
       "[5 rows x 21 columns]"
      ],
      "text/html": "<div>\n<style scoped>\n    .dataframe tbody tr th:only-of-type {\n        vertical-align: middle;\n    }\n\n    .dataframe tbody tr th {\n        vertical-align: top;\n    }\n\n    .dataframe thead th {\n        text-align: right;\n    }\n</style>\n<table border=\"1\" class=\"dataframe\">\n  <thead>\n    <tr style=\"text-align: right;\">\n      <th></th>\n      <th>tracking_id</th>\n      <th>datetime</th>\n      <th>wind_speed(m/s)</th>\n      <th>atmospheric_temperature(°C)</th>\n      <th>shaft_temperature(°C)</th>\n      <th>blades_angle(°)</th>\n      <th>gearbox_temperature(°C)</th>\n      <th>engine_temperature(°C)</th>\n      <th>motor_torque(N-m)</th>\n      <th>generator_temperature(°C)</th>\n      <th>...</th>\n      <th>area_temperature(°C)</th>\n      <th>windmill_body_temperature(°C)</th>\n      <th>wind_direction(°)</th>\n      <th>resistance(ohm)</th>\n      <th>rotor_torque(N-m)</th>\n      <th>turbine_status</th>\n      <th>cloud_level</th>\n      <th>blade_length(m)</th>\n      <th>blade_breadth(m)</th>\n      <th>windmill_height(m)</th>\n    </tr>\n  </thead>\n  <tbody>\n    <tr>\n      <th>0</th>\n      <td>WM_19817</td>\n      <td>2019-04-17 08:53:20</td>\n      <td>94.324266</td>\n      <td>17.641186</td>\n      <td>89.714193</td>\n      <td>51.146788</td>\n      <td>40.460560</td>\n      <td>39.594734</td>\n      <td>1073.202715</td>\n      <td>66.830037</td>\n      <td>...</td>\n      <td>24.004812</td>\n      <td>43.756693</td>\n      <td>445.976992</td>\n      <td>1664.222023</td>\n      <td>21.912243</td>\n      <td>BA</td>\n      <td>Medium</td>\n      <td>3.185837</td>\n      <td>0.403965</td>\n      <td>25.572431</td>\n    </tr>\n    <tr>\n      <th>1</th>\n      <td>WM_18723</td>\n      <td>2019-03-30 07:43:20</td>\n      <td>10.088870</td>\n      <td>13.978119</td>\n      <td>43.272846</td>\n      <td>46.516394</td>\n      <td>40.027788</td>\n      <td>41.176860</td>\n      <td>517.436430</td>\n      <td>37.284163</td>\n      <td>...</td>\n      <td>29.431813</td>\n      <td>42.728174</td>\n      <td>499.595287</td>\n      <td>1165.111992</td>\n      <td>-35.050093</td>\n      <td>A</td>\n      <td>Medium</td>\n      <td>3.016603</td>\n      <td>0.444755</td>\n      <td>24.371823</td>\n    </tr>\n    <tr>\n      <th>2</th>\n      <td>WM_34552</td>\n      <td>2019-08-10 11:33:20</td>\n      <td>347.152090</td>\n      <td>31.423035</td>\n      <td>41.076640</td>\n      <td>26.931602</td>\n      <td>43.109122</td>\n      <td>43.439556</td>\n      <td>1480.716492</td>\n      <td>70.010762</td>\n      <td>...</td>\n      <td>29.924235</td>\n      <td>43.256122</td>\n      <td>245.432231</td>\n      <td>1667.720491</td>\n      <td>27.195302</td>\n      <td>B2</td>\n      <td>Medium</td>\n      <td>2.611941</td>\n      <td>0.387368</td>\n      <td>27.654677</td>\n    </tr>\n    <tr>\n      <th>3</th>\n      <td>WM_28570</td>\n      <td>2019-06-26 03:53:20</td>\n      <td>24.471997</td>\n      <td>-99.000000</td>\n      <td>14.375078</td>\n      <td>66.513953</td>\n      <td>13.741253</td>\n      <td>15.577472</td>\n      <td>887.979475</td>\n      <td>41.445258</td>\n      <td>...</td>\n      <td>23.886434</td>\n      <td>13.501595</td>\n      <td>NaN</td>\n      <td>1329.744740</td>\n      <td>15.245757</td>\n      <td>BBB</td>\n      <td>Low</td>\n      <td>2.866805</td>\n      <td>0.450478</td>\n      <td>24.189426</td>\n    </tr>\n    <tr>\n      <th>4</th>\n      <td>WM_36934</td>\n      <td>2019-08-27 16:43:20</td>\n      <td>96.997026</td>\n      <td>33.281836</td>\n      <td>41.405192</td>\n      <td>1.843112</td>\n      <td>121.572907</td>\n      <td>43.934587</td>\n      <td>2053.916354</td>\n      <td>68.007787</td>\n      <td>...</td>\n      <td>35.906889</td>\n      <td>-99.000000</td>\n      <td>442.425744</td>\n      <td>691.408996</td>\n      <td>34.257024</td>\n      <td>A</td>\n      <td>Low</td>\n      <td>3.549672</td>\n      <td>0.368355</td>\n      <td>4.885440</td>\n    </tr>\n  </tbody>\n</table>\n<p>5 rows × 21 columns</p>\n</div>"
     },
     "metadata": {},
     "execution_count": 369
    }
   ],
   "source": [
    "train_data = pd.read_csv('dataset/train.csv')\n",
    "test_data = pd.read_csv('dataset/test.csv')\n",
    "test_data.head()"
   ]
  },
  {
   "cell_type": "code",
   "execution_count": 370,
   "metadata": {},
   "outputs": [],
   "source": [
    "drop_columns = ['tracking_id','datetime']\n",
    "extra = test_data[drop_columns]\n",
    "train_data.drop(drop_columns,inplace=True,axis=1)\n",
    "test_data.drop(drop_columns,inplace=True,axis=1)"
   ]
  },
  {
   "cell_type": "code",
   "execution_count": 371,
   "metadata": {},
   "outputs": [
    {
     "output_type": "execute_result",
     "data": {
      "text/plain": [
       "wind_speed(m/s)                    0.968085\n",
       "atmospheric_temperature(°C)       12.234043\n",
       "shaft_temperature(°C)              0.007092\n",
       "blades_angle(°)                    0.765957\n",
       "gearbox_temperature(°C)            0.003546\n",
       "engine_temperature(°C)             0.042553\n",
       "motor_torque(N-m)                  0.085106\n",
       "generator_temperature(°C)          0.042553\n",
       "atmospheric_pressure(Pascal)       9.599291\n",
       "area_temperature(°C)               0.000000\n",
       "windmill_body_temperature(°C)      8.379433\n",
       "wind_direction(°)                 18.095745\n",
       "resistance(ohm)                    0.003546\n",
       "rotor_torque(N-m)                  2.028369\n",
       "turbine_status                     6.237589\n",
       "cloud_level                        0.978723\n",
       "blade_length(m)                   18.060284\n",
       "blade_breadth(m)                   0.000000\n",
       "windmill_height(m)                 1.925532\n",
       "windmill_generated_power(kW/h)     0.734043\n",
       "dtype: float64"
      ]
     },
     "metadata": {},
     "execution_count": 371
    }
   ],
   "source": [
    "train_data.isna().sum() / len(train_data) * 100"
   ]
  },
  {
   "cell_type": "code",
   "execution_count": 372,
   "metadata": {},
   "outputs": [
    {
     "output_type": "execute_result",
     "data": {
      "text/plain": [
       "wind_speed(m/s)                   float64\n",
       "atmospheric_temperature(°C)       float64\n",
       "shaft_temperature(°C)             float64\n",
       "blades_angle(°)                   float64\n",
       "gearbox_temperature(°C)           float64\n",
       "engine_temperature(°C)            float64\n",
       "motor_torque(N-m)                 float64\n",
       "generator_temperature(°C)         float64\n",
       "atmospheric_pressure(Pascal)      float64\n",
       "area_temperature(°C)              float64\n",
       "windmill_body_temperature(°C)     float64\n",
       "wind_direction(°)                 float64\n",
       "resistance(ohm)                   float64\n",
       "rotor_torque(N-m)                 float64\n",
       "turbine_status                     object\n",
       "cloud_level                        object\n",
       "blade_length(m)                   float64\n",
       "blade_breadth(m)                  float64\n",
       "windmill_height(m)                float64\n",
       "windmill_generated_power(kW/h)    float64\n",
       "dtype: object"
      ]
     },
     "metadata": {},
     "execution_count": 372
    }
   ],
   "source": [
    "train_data.dtypes"
   ]
  },
  {
   "cell_type": "code",
   "execution_count": 373,
   "metadata": {},
   "outputs": [
    {
     "output_type": "execute_result",
     "data": {
      "text/plain": [
       "turbine_status    14\n",
       "cloud_level        3\n",
       "dtype: int64"
      ]
     },
     "metadata": {},
     "execution_count": 373
    }
   ],
   "source": [
    "train_data.loc[:,train_data.dtypes == 'object'].nunique()"
   ]
  },
  {
   "cell_type": "code",
   "execution_count": 374,
   "metadata": {},
   "outputs": [
    {
     "output_type": "stream",
     "name": "stdout",
     "text": [
      "BB     1946\nAAA    1939\nBCB    1933\nB2     1931\nA      1930\nD      1922\nB      1882\nAB     1868\nABC    1867\nA2     1855\nBA     1854\nAC     1850\nBD     1843\nBBB    1821\nName: turbine_status, dtype: int64 \n\n\n Low              13921\nMedium           13704\nExtremely Low      299\nName: cloud_level, dtype: int64\n"
     ]
    }
   ],
   "source": [
    "print(train_data['turbine_status'].value_counts(),'\\n'*3,\n",
    "train_data['cloud_level'].value_counts())"
   ]
  },
  {
   "cell_type": "code",
   "execution_count": 375,
   "metadata": {},
   "outputs": [
    {
     "output_type": "execute_result",
     "data": {
      "text/plain": [
       "Index(['wind_speed(m/s)', 'atmospheric_temperature(°C)',\n",
       "       'shaft_temperature(°C)', 'blades_angle(°)', 'gearbox_temperature(°C)',\n",
       "       'engine_temperature(°C)', 'motor_torque(N-m)',\n",
       "       'generator_temperature(°C)', 'atmospheric_pressure(Pascal)',\n",
       "       'area_temperature(°C)', 'windmill_body_temperature(°C)',\n",
       "       'wind_direction(°)', 'resistance(ohm)', 'rotor_torque(N-m)',\n",
       "       'blade_length(m)', 'blade_breadth(m)', 'windmill_height(m)',\n",
       "       'windmill_generated_power(kW/h)'],\n",
       "      dtype='object')"
      ]
     },
     "metadata": {},
     "execution_count": 375
    }
   ],
   "source": [
    "continous_cols = train_data.dtypes[train_data.dtypes != 'object'].index\n",
    "continous_cols_test = test_data.dtypes[test_data.dtypes != 'object'].index\n",
    "(continous_cols)"
   ]
  },
  {
   "cell_type": "code",
   "execution_count": 376,
   "metadata": {},
   "outputs": [],
   "source": [
    "for col in continous_cols:\n",
    "    train_data[col] = train_data[col].fillna(train_data[col].mean())\n",
    "for col in continous_cols_test:\n",
    "    test_data[col] = test_data[col].fillna(test_data[col].mean())"
   ]
  },
  {
   "cell_type": "code",
   "execution_count": 377,
   "metadata": {},
   "outputs": [],
   "source": [
    "train_data['cloud_level'].value_counts()\n",
    "train_data['cloud_level'].fillna('Low',inplace = True)"
   ]
  },
  {
   "cell_type": "code",
   "execution_count": 378,
   "metadata": {},
   "outputs": [],
   "source": [
    "train_data['turbine_status'].value_counts()\n",
    "train_data['turbine_status'].fillna('BB',inplace = True)\n"
   ]
  },
  {
   "cell_type": "code",
   "execution_count": 379,
   "metadata": {},
   "outputs": [],
   "source": [
    "test_data['cloud_level'].value_counts()\n",
    "test_data['cloud_level'].fillna('Low',inplace = True)"
   ]
  },
  {
   "cell_type": "code",
   "execution_count": 380,
   "metadata": {},
   "outputs": [],
   "source": [
    "test_data['turbine_status'].value_counts()\n",
    "test_data['turbine_status'].fillna('BB',inplace = True)\n"
   ]
  },
  {
   "cell_type": "code",
   "execution_count": 381,
   "metadata": {},
   "outputs": [
    {
     "output_type": "execute_result",
     "data": {
      "text/plain": [
       "wind_speed(m/s)                  0.0\n",
       "atmospheric_temperature(°C)      0.0\n",
       "shaft_temperature(°C)            0.0\n",
       "blades_angle(°)                  0.0\n",
       "gearbox_temperature(°C)          0.0\n",
       "engine_temperature(°C)           0.0\n",
       "motor_torque(N-m)                0.0\n",
       "generator_temperature(°C)        0.0\n",
       "atmospheric_pressure(Pascal)     0.0\n",
       "area_temperature(°C)             0.0\n",
       "windmill_body_temperature(°C)    0.0\n",
       "wind_direction(°)                0.0\n",
       "resistance(ohm)                  0.0\n",
       "rotor_torque(N-m)                0.0\n",
       "turbine_status                   0.0\n",
       "cloud_level                      0.0\n",
       "blade_length(m)                  0.0\n",
       "blade_breadth(m)                 0.0\n",
       "windmill_height(m)               0.0\n",
       "dtype: float64"
      ]
     },
     "metadata": {},
     "execution_count": 381
    }
   ],
   "source": [
    "test_data.isna().sum() / len(test_data) * 100"
   ]
  },
  {
   "cell_type": "code",
   "execution_count": 382,
   "metadata": {},
   "outputs": [
    {
     "output_type": "execute_result",
     "data": {
      "text/plain": [
       "       wind_speed(m/s)  atmospheric_temperature(°C)  shaft_temperature(°C)  \\\n",
       "count     28200.000000                 28200.000000           28200.000000   \n",
       "mean         69.037071                     0.383727              40.085387   \n",
       "std          75.905527                    41.481572              27.203465   \n",
       "min        -496.211029                   -99.000000             -99.000000   \n",
       "25%          21.250907                     0.383727              41.632797   \n",
       "50%          93.256368                    14.150602              43.685853   \n",
       "75%          95.248020                    22.575311              45.673234   \n",
       "max         601.455670                    80.217444             169.820455   \n",
       "\n",
       "       blades_angle(°)  gearbox_temperature(°C)  engine_temperature(°C)  \\\n",
       "count     28200.000000             28200.000000            28200.000000   \n",
       "mean         -9.654038                41.027755               42.614239   \n",
       "std          47.734286                43.662831                6.123243   \n",
       "min        -146.259543              -244.974098                3.167151   \n",
       "25%          -1.206613                40.557993               41.911899   \n",
       "50%          -0.527911                43.221521               43.524018   \n",
       "75%           5.370015                45.879212               45.173397   \n",
       "max         165.932123               999.000000               50.000000   \n",
       "\n",
       "       motor_torque(N-m)  generator_temperature(°C)  \\\n",
       "count       28200.000000               28200.000000   \n",
       "mean         1710.819803                  65.027857   \n",
       "std           826.853447                  19.812283   \n",
       "min           500.000000                  33.893779   \n",
       "25%           870.621152                  41.200625   \n",
       "50%          2031.299986                  70.722083   \n",
       "75%          2462.164052                  78.939478   \n",
       "max          3000.000000                 100.000000   \n",
       "\n",
       "       atmospheric_pressure(Pascal)  area_temperature(°C)  \\\n",
       "count                  2.820000e+04          28200.000000   \n",
       "mean                   5.318506e+04             32.735091   \n",
       "std                    1.782768e+05              7.703391   \n",
       "min                   -1.188624e+06            -30.000000   \n",
       "25%                    1.689269e+04             27.311644   \n",
       "50%                    1.875303e+04             32.605195   \n",
       "75%                    1.164252e+05             38.232387   \n",
       "max                    1.272552e+06             55.000000   \n",
       "\n",
       "       windmill_body_temperature(°C)  wind_direction(°)  resistance(ohm)  \\\n",
       "count                   28200.000000       28200.000000     28200.000000   \n",
       "mean                       20.799761         306.888883      1575.560011   \n",
       "std                        52.029149         121.321415       483.317824   \n",
       "min                      -999.000000           0.000000     -1005.222988   \n",
       "25%                        20.799761         246.793261      1268.141402   \n",
       "50%                        42.495191         290.113549      1678.231923   \n",
       "75%                        44.325305         332.325695      1829.044723   \n",
       "max                       323.000000         569.966479      4693.481933   \n",
       "\n",
       "       rotor_torque(N-m)  blade_length(m)  blade_breadth(m)  \\\n",
       "count       28200.000000     28200.000000      28200.000000   \n",
       "mean           25.849894         2.254034          0.397249   \n",
       "std            32.093408        10.206698          0.061158   \n",
       "min          -136.732217       -99.000000          0.200111   \n",
       "25%            13.829618         2.254034          0.347445   \n",
       "50%            31.549128         3.049007          0.398591   \n",
       "75%            41.337104         4.156647          0.449354   \n",
       "max           236.883264        18.209800          0.499975   \n",
       "\n",
       "       windmill_height(m)  windmill_generated_power(kW/h)  \n",
       "count        28200.000000                    28200.000000  \n",
       "mean            25.887052                        6.130529  \n",
       "std              7.698401                        2.687601  \n",
       "min            -30.295253                        0.962305  \n",
       "25%             24.469380                        4.076167  \n",
       "50%             25.899163                        5.791403  \n",
       "75%             27.451080                        7.931295  \n",
       "max             78.351335                       20.175358  "
      ],
      "text/html": "<div>\n<style scoped>\n    .dataframe tbody tr th:only-of-type {\n        vertical-align: middle;\n    }\n\n    .dataframe tbody tr th {\n        vertical-align: top;\n    }\n\n    .dataframe thead th {\n        text-align: right;\n    }\n</style>\n<table border=\"1\" class=\"dataframe\">\n  <thead>\n    <tr style=\"text-align: right;\">\n      <th></th>\n      <th>wind_speed(m/s)</th>\n      <th>atmospheric_temperature(°C)</th>\n      <th>shaft_temperature(°C)</th>\n      <th>blades_angle(°)</th>\n      <th>gearbox_temperature(°C)</th>\n      <th>engine_temperature(°C)</th>\n      <th>motor_torque(N-m)</th>\n      <th>generator_temperature(°C)</th>\n      <th>atmospheric_pressure(Pascal)</th>\n      <th>area_temperature(°C)</th>\n      <th>windmill_body_temperature(°C)</th>\n      <th>wind_direction(°)</th>\n      <th>resistance(ohm)</th>\n      <th>rotor_torque(N-m)</th>\n      <th>blade_length(m)</th>\n      <th>blade_breadth(m)</th>\n      <th>windmill_height(m)</th>\n      <th>windmill_generated_power(kW/h)</th>\n    </tr>\n  </thead>\n  <tbody>\n    <tr>\n      <th>count</th>\n      <td>28200.000000</td>\n      <td>28200.000000</td>\n      <td>28200.000000</td>\n      <td>28200.000000</td>\n      <td>28200.000000</td>\n      <td>28200.000000</td>\n      <td>28200.000000</td>\n      <td>28200.000000</td>\n      <td>2.820000e+04</td>\n      <td>28200.000000</td>\n      <td>28200.000000</td>\n      <td>28200.000000</td>\n      <td>28200.000000</td>\n      <td>28200.000000</td>\n      <td>28200.000000</td>\n      <td>28200.000000</td>\n      <td>28200.000000</td>\n      <td>28200.000000</td>\n    </tr>\n    <tr>\n      <th>mean</th>\n      <td>69.037071</td>\n      <td>0.383727</td>\n      <td>40.085387</td>\n      <td>-9.654038</td>\n      <td>41.027755</td>\n      <td>42.614239</td>\n      <td>1710.819803</td>\n      <td>65.027857</td>\n      <td>5.318506e+04</td>\n      <td>32.735091</td>\n      <td>20.799761</td>\n      <td>306.888883</td>\n      <td>1575.560011</td>\n      <td>25.849894</td>\n      <td>2.254034</td>\n      <td>0.397249</td>\n      <td>25.887052</td>\n      <td>6.130529</td>\n    </tr>\n    <tr>\n      <th>std</th>\n      <td>75.905527</td>\n      <td>41.481572</td>\n      <td>27.203465</td>\n      <td>47.734286</td>\n      <td>43.662831</td>\n      <td>6.123243</td>\n      <td>826.853447</td>\n      <td>19.812283</td>\n      <td>1.782768e+05</td>\n      <td>7.703391</td>\n      <td>52.029149</td>\n      <td>121.321415</td>\n      <td>483.317824</td>\n      <td>32.093408</td>\n      <td>10.206698</td>\n      <td>0.061158</td>\n      <td>7.698401</td>\n      <td>2.687601</td>\n    </tr>\n    <tr>\n      <th>min</th>\n      <td>-496.211029</td>\n      <td>-99.000000</td>\n      <td>-99.000000</td>\n      <td>-146.259543</td>\n      <td>-244.974098</td>\n      <td>3.167151</td>\n      <td>500.000000</td>\n      <td>33.893779</td>\n      <td>-1.188624e+06</td>\n      <td>-30.000000</td>\n      <td>-999.000000</td>\n      <td>0.000000</td>\n      <td>-1005.222988</td>\n      <td>-136.732217</td>\n      <td>-99.000000</td>\n      <td>0.200111</td>\n      <td>-30.295253</td>\n      <td>0.962305</td>\n    </tr>\n    <tr>\n      <th>25%</th>\n      <td>21.250907</td>\n      <td>0.383727</td>\n      <td>41.632797</td>\n      <td>-1.206613</td>\n      <td>40.557993</td>\n      <td>41.911899</td>\n      <td>870.621152</td>\n      <td>41.200625</td>\n      <td>1.689269e+04</td>\n      <td>27.311644</td>\n      <td>20.799761</td>\n      <td>246.793261</td>\n      <td>1268.141402</td>\n      <td>13.829618</td>\n      <td>2.254034</td>\n      <td>0.347445</td>\n      <td>24.469380</td>\n      <td>4.076167</td>\n    </tr>\n    <tr>\n      <th>50%</th>\n      <td>93.256368</td>\n      <td>14.150602</td>\n      <td>43.685853</td>\n      <td>-0.527911</td>\n      <td>43.221521</td>\n      <td>43.524018</td>\n      <td>2031.299986</td>\n      <td>70.722083</td>\n      <td>1.875303e+04</td>\n      <td>32.605195</td>\n      <td>42.495191</td>\n      <td>290.113549</td>\n      <td>1678.231923</td>\n      <td>31.549128</td>\n      <td>3.049007</td>\n      <td>0.398591</td>\n      <td>25.899163</td>\n      <td>5.791403</td>\n    </tr>\n    <tr>\n      <th>75%</th>\n      <td>95.248020</td>\n      <td>22.575311</td>\n      <td>45.673234</td>\n      <td>5.370015</td>\n      <td>45.879212</td>\n      <td>45.173397</td>\n      <td>2462.164052</td>\n      <td>78.939478</td>\n      <td>1.164252e+05</td>\n      <td>38.232387</td>\n      <td>44.325305</td>\n      <td>332.325695</td>\n      <td>1829.044723</td>\n      <td>41.337104</td>\n      <td>4.156647</td>\n      <td>0.449354</td>\n      <td>27.451080</td>\n      <td>7.931295</td>\n    </tr>\n    <tr>\n      <th>max</th>\n      <td>601.455670</td>\n      <td>80.217444</td>\n      <td>169.820455</td>\n      <td>165.932123</td>\n      <td>999.000000</td>\n      <td>50.000000</td>\n      <td>3000.000000</td>\n      <td>100.000000</td>\n      <td>1.272552e+06</td>\n      <td>55.000000</td>\n      <td>323.000000</td>\n      <td>569.966479</td>\n      <td>4693.481933</td>\n      <td>236.883264</td>\n      <td>18.209800</td>\n      <td>0.499975</td>\n      <td>78.351335</td>\n      <td>20.175358</td>\n    </tr>\n  </tbody>\n</table>\n</div>"
     },
     "metadata": {},
     "execution_count": 382
    }
   ],
   "source": [
    "train_data.describe()"
   ]
  },
  {
   "cell_type": "code",
   "execution_count": 383,
   "metadata": {},
   "outputs": [
    {
     "output_type": "execute_result",
     "data": {
      "text/plain": [
       "1    6057\n",
       "2    5893\n",
       "0     136\n",
       "Name: cloud_level, dtype: int64"
      ]
     },
     "metadata": {},
     "execution_count": 383
    }
   ],
   "source": [
    "label_enc = LabelEncoder()\n",
    "train_data['cloud_level'] = label_enc.fit_transform(train_data['cloud_level'])\n",
    "train_data['cloud_level'].value_counts()\n",
    "test_data['cloud_level'] = label_enc.fit_transform(test_data['cloud_level'])\n",
    "test_data['cloud_level'].value_counts()"
   ]
  },
  {
   "cell_type": "code",
   "execution_count": 384,
   "metadata": {},
   "outputs": [
    {
     "output_type": "execute_result",
     "data": {
      "text/plain": [
       "2    14197\n",
       "3    13704\n",
       "1      299\n",
       "Name: cloud_level, dtype: int64"
      ]
     },
     "metadata": {},
     "execution_count": 384
    }
   ],
   "source": [
    "train_data['cloud_level'] = train_data['cloud_level'].apply(lambda x:  x + 1)\n",
    "test_data['cloud_level'] = test_data['cloud_level'].apply(lambda x:  x + 1)\n",
    "train_data['cloud_level']\n",
    "train_data['cloud_level'].value_counts()"
   ]
  },
  {
   "cell_type": "code",
   "execution_count": 385,
   "metadata": {},
   "outputs": [],
   "source": [
    "enc = pd.get_dummies(train_data['turbine_status'])\n",
    "train_data.drop('turbine_status',axis = 1,inplace = True)"
   ]
  },
  {
   "cell_type": "code",
   "execution_count": 386,
   "metadata": {},
   "outputs": [],
   "source": [
    "enc = pd.get_dummies(test_data['turbine_status'])\n",
    "test_data.drop('turbine_status',axis = 1,inplace = True)"
   ]
  },
  {
   "cell_type": "code",
   "execution_count": 387,
   "metadata": {},
   "outputs": [],
   "source": [
    "train_data = train_data.join(enc)\n",
    "test_data = test_data.join(enc)"
   ]
  },
  {
   "cell_type": "code",
   "execution_count": 388,
   "metadata": {},
   "outputs": [
    {
     "output_type": "execute_result",
     "data": {
      "text/plain": [
       "Index(['wind_speed(m/s)', 'atmospheric_temperature(°C)',\n",
       "       'shaft_temperature(°C)', 'blades_angle(°)', 'gearbox_temperature(°C)',\n",
       "       'engine_temperature(°C)', 'motor_torque(N-m)',\n",
       "       'generator_temperature(°C)', 'atmospheric_pressure(Pascal)',\n",
       "       'area_temperature(°C)', 'windmill_body_temperature(°C)',\n",
       "       'wind_direction(°)', 'resistance(ohm)', 'rotor_torque(N-m)',\n",
       "       'cloud_level', 'blade_length(m)', 'blade_breadth(m)',\n",
       "       'windmill_height(m)', 'windmill_generated_power(kW/h)', 'A', 'A2',\n",
       "       'AAA', 'AB', 'ABC', 'AC', 'B', 'B2', 'BA', 'BB', 'BBB', 'BCB', 'BD',\n",
       "       'D'],\n",
       "      dtype='object')"
      ]
     },
     "metadata": {},
     "execution_count": 388
    }
   ],
   "source": [
    "train_data.columns"
   ]
  },
  {
   "cell_type": "code",
   "execution_count": 389,
   "metadata": {},
   "outputs": [],
   "source": [
    "from sklearn.model_selection import train_test_split\n",
    "from xgboost import XGBRegressor"
   ]
  },
  {
   "cell_type": "code",
   "execution_count": 390,
   "metadata": {},
   "outputs": [],
   "source": [
    "x = train_data.drop(['windmill_generated_power(kW/h)'],axis = 1)\n",
    "y = train_data['windmill_generated_power(kW/h)']\n",
    "x_train,x_test,y_train,y_test = train_test_split(x,y,train_size = 0.8,random_state = 42)"
   ]
  },
  {
   "cell_type": "code",
   "execution_count": 391,
   "metadata": {},
   "outputs": [
    {
     "output_type": "stream",
     "name": "stdout",
     "text": [
      "[03:30:51] WARNING: C:/Jenkins/workspace/xgboost-win64_release_0.90/src/objective/regression_obj.cu:152: reg:linear is now deprecated in favor of reg:squarederror.\n"
     ]
    },
    {
     "output_type": "execute_result",
     "data": {
      "text/plain": [
       "0.9527556451532524"
      ]
     },
     "metadata": {},
     "execution_count": 391
    }
   ],
   "source": [
    "model = XGBRegressor(n_estimators=500,max_depth=5,booster='gbtree',n_jobs=-1,learning_rate=0.1,reg_lambda=0.01,reg_alpha=0.3)\n",
    "model.fit(x_train,y_train)\n",
    "predictions = model.predict(x_test)\n",
    "r2_score(predictions,y_test)"
   ]
  },
  {
   "cell_type": "code",
   "execution_count": 392,
   "metadata": {},
   "outputs": [
    {
     "output_type": "execute_result",
     "data": {
      "text/plain": [
       "(12086,)"
      ]
     },
     "metadata": {},
     "execution_count": 392
    }
   ],
   "source": [
    "submission = model.predict(test_data)\n",
    "submission.shape"
   ]
  },
  {
   "cell_type": "code",
   "execution_count": 393,
   "metadata": {},
   "outputs": [
    {
     "output_type": "execute_result",
     "data": {
      "text/plain": [
       "      tracking_id             datetime  windmill_generated_power(kW/h)\n",
       "0        WM_19817  2019-04-17 08:53:20                        2.547599\n",
       "1        WM_18723  2019-03-30 07:43:20                        2.360835\n",
       "2        WM_34552  2019-08-10 11:33:20                        3.216631\n",
       "3        WM_28570  2019-06-26 03:53:20                        7.135807\n",
       "4        WM_36934  2019-08-27 16:43:20                        3.556352\n",
       "...           ...                  ...                             ...\n",
       "12081    WM_13376  2019-02-12 11:33:20                        6.774065\n",
       "12082     WM_1630  2018-11-12 17:33:20                        3.269932\n",
       "12083    WM_24703  2019-05-27 11:53:20                        5.397360\n",
       "12084    WM_22893  2019-05-13 21:53:20                        5.464162\n",
       "12085    WM_14513  2019-02-20 23:43:20                       10.846429\n",
       "\n",
       "[12086 rows x 3 columns]"
      ],
      "text/html": "<div>\n<style scoped>\n    .dataframe tbody tr th:only-of-type {\n        vertical-align: middle;\n    }\n\n    .dataframe tbody tr th {\n        vertical-align: top;\n    }\n\n    .dataframe thead th {\n        text-align: right;\n    }\n</style>\n<table border=\"1\" class=\"dataframe\">\n  <thead>\n    <tr style=\"text-align: right;\">\n      <th></th>\n      <th>tracking_id</th>\n      <th>datetime</th>\n      <th>windmill_generated_power(kW/h)</th>\n    </tr>\n  </thead>\n  <tbody>\n    <tr>\n      <th>0</th>\n      <td>WM_19817</td>\n      <td>2019-04-17 08:53:20</td>\n      <td>2.547599</td>\n    </tr>\n    <tr>\n      <th>1</th>\n      <td>WM_18723</td>\n      <td>2019-03-30 07:43:20</td>\n      <td>2.360835</td>\n    </tr>\n    <tr>\n      <th>2</th>\n      <td>WM_34552</td>\n      <td>2019-08-10 11:33:20</td>\n      <td>3.216631</td>\n    </tr>\n    <tr>\n      <th>3</th>\n      <td>WM_28570</td>\n      <td>2019-06-26 03:53:20</td>\n      <td>7.135807</td>\n    </tr>\n    <tr>\n      <th>4</th>\n      <td>WM_36934</td>\n      <td>2019-08-27 16:43:20</td>\n      <td>3.556352</td>\n    </tr>\n    <tr>\n      <th>...</th>\n      <td>...</td>\n      <td>...</td>\n      <td>...</td>\n    </tr>\n    <tr>\n      <th>12081</th>\n      <td>WM_13376</td>\n      <td>2019-02-12 11:33:20</td>\n      <td>6.774065</td>\n    </tr>\n    <tr>\n      <th>12082</th>\n      <td>WM_1630</td>\n      <td>2018-11-12 17:33:20</td>\n      <td>3.269932</td>\n    </tr>\n    <tr>\n      <th>12083</th>\n      <td>WM_24703</td>\n      <td>2019-05-27 11:53:20</td>\n      <td>5.397360</td>\n    </tr>\n    <tr>\n      <th>12084</th>\n      <td>WM_22893</td>\n      <td>2019-05-13 21:53:20</td>\n      <td>5.464162</td>\n    </tr>\n    <tr>\n      <th>12085</th>\n      <td>WM_14513</td>\n      <td>2019-02-20 23:43:20</td>\n      <td>10.846429</td>\n    </tr>\n  </tbody>\n</table>\n<p>12086 rows × 3 columns</p>\n</div>"
     },
     "metadata": {},
     "execution_count": 393
    }
   ],
   "source": [
    "extra = extra.join(pd.DataFrame(submission))\n",
    "target = 'windmill_generated_power(kW/h)'\n",
    "extra[target] = extra[0]\n",
    "extra.drop([0],inplace = True,axis = 1)\n",
    "extra"
   ]
  },
  {
   "cell_type": "code",
   "execution_count": 394,
   "metadata": {},
   "outputs": [],
   "source": [
    "extra.to_csv('submission.csv',header = True,index = False)"
   ]
  }
 ]
}