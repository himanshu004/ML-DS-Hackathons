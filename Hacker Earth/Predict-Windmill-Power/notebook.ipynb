{
 "metadata": {
  "language_info": {
   "codemirror_mode": {
    "name": "ipython",
    "version": 3
   },
   "file_extension": ".py",
   "mimetype": "text/x-python",
   "name": "python",
   "nbconvert_exporter": "python",
   "pygments_lexer": "ipython3",
   "version": "3.7.6"
  },
  "orig_nbformat": 2,
  "kernelspec": {
   "name": "python376jvsc74a57bd09fe2f98b7563adc8186c5292bf00518c3401f6f9c8a1445bf4e45c61673b1890",
   "display_name": "Python 3.7.6 64-bit ('base': conda)"
  }
 },
 "nbformat": 4,
 "nbformat_minor": 2,
 "cells": [
  {
   "cell_type": "code",
   "execution_count": 151,
   "metadata": {},
   "outputs": [],
   "source": [
    "import pandas as pd\n",
    "import numpy as np\n",
    "import seaborn as sns\n",
    "import matplotlib.pyplot as plt\n",
    "\n",
    "import warnings\n",
    "warnings.filterwarnings(\"ignore\")\n",
    "\n",
    "from sklearn.metrics import r2_score\n",
    "from sklearn.preprocessing import LabelEncoder,OneHotEncoder"
   ]
  },
  {
   "cell_type": "code",
   "execution_count": 138,
   "metadata": {},
   "outputs": [
    {
     "output_type": "execute_result",
     "data": {
      "text/plain": [
       "  tracking_id             datetime  wind_speed(m/s)  \\\n",
       "0    WM_33725  2019-08-04 14:33:20        94.820023   \n",
       "1      WM_698  2018-11-05 10:13:20       241.832734   \n",
       "2    WM_39146  2019-09-14 14:03:20        95.484724   \n",
       "3     WM_6757  2018-12-25 15:33:20       238.819424   \n",
       "4    WM_21521  2019-05-04 03:13:20        10.722890   \n",
       "\n",
       "   atmospheric_temperature(°C)  shaft_temperature(°C)  blades_angle(°)  \\\n",
       "0                   -99.000000              41.723019        -0.903423   \n",
       "1                    27.764785             -99.000000       -99.000000   \n",
       "2                          NaN              41.855473        12.652763   \n",
       "3                   -99.000000              45.443914        15.115323   \n",
       "4                          NaN              41.981183         1.715696   \n",
       "\n",
       "   gearbox_temperature(°C)  engine_temperature(°C)  motor_torque(N-m)  \\\n",
       "0                82.410573               42.523015        2563.124522   \n",
       "1                44.104919               46.258870        2372.384119   \n",
       "2                42.322098               42.878552        1657.169646   \n",
       "3                44.759643               47.282101        2888.134079   \n",
       "4               -17.616459               43.469852         781.695419   \n",
       "\n",
       "   generator_temperature(°C)  ...  windmill_body_temperature(°C)  \\\n",
       "0                  76.665560  ...                            NaN   \n",
       "1                  78.129803  ...                            NaN   \n",
       "2                  67.654469  ...                      45.033197   \n",
       "3                  95.389974  ...                      44.827154   \n",
       "4                  37.423065  ...                     -99.000000   \n",
       "\n",
       "   wind_direction(°)  resistance(ohm)  rotor_torque(N-m)  turbine_status  \\\n",
       "0         239.836388      2730.310605          42.084666              BA   \n",
       "1         337.944723      1780.207200         107.888643              A2   \n",
       "2         227.850294      1666.049900         -42.931459             ABC   \n",
       "3         492.081520      1964.502895          42.744596             ABC   \n",
       "4         259.274601      1177.516152          13.387289             AAA   \n",
       "\n",
       "   cloud_level blade_length(m) blade_breadth(m)  windmill_height(m)  \\\n",
       "0       Medium        2.217542         0.314065           24.281689   \n",
       "1       Medium        4.210346         0.448494           27.262139   \n",
       "2       Medium        2.719475         0.302321           27.366127   \n",
       "3          NaN        4.857385         0.367140           24.287767   \n",
       "4       Medium             NaN         0.453374           27.971650   \n",
       "\n",
       "   windmill_generated_power(kW/h)  \n",
       "0                        6.766521  \n",
       "1                        5.966275  \n",
       "2                        2.874342  \n",
       "3                       14.851089  \n",
       "4                        3.519074  \n",
       "\n",
       "[5 rows x 22 columns]"
      ],
      "text/html": "<div>\n<style scoped>\n    .dataframe tbody tr th:only-of-type {\n        vertical-align: middle;\n    }\n\n    .dataframe tbody tr th {\n        vertical-align: top;\n    }\n\n    .dataframe thead th {\n        text-align: right;\n    }\n</style>\n<table border=\"1\" class=\"dataframe\">\n  <thead>\n    <tr style=\"text-align: right;\">\n      <th></th>\n      <th>tracking_id</th>\n      <th>datetime</th>\n      <th>wind_speed(m/s)</th>\n      <th>atmospheric_temperature(°C)</th>\n      <th>shaft_temperature(°C)</th>\n      <th>blades_angle(°)</th>\n      <th>gearbox_temperature(°C)</th>\n      <th>engine_temperature(°C)</th>\n      <th>motor_torque(N-m)</th>\n      <th>generator_temperature(°C)</th>\n      <th>...</th>\n      <th>windmill_body_temperature(°C)</th>\n      <th>wind_direction(°)</th>\n      <th>resistance(ohm)</th>\n      <th>rotor_torque(N-m)</th>\n      <th>turbine_status</th>\n      <th>cloud_level</th>\n      <th>blade_length(m)</th>\n      <th>blade_breadth(m)</th>\n      <th>windmill_height(m)</th>\n      <th>windmill_generated_power(kW/h)</th>\n    </tr>\n  </thead>\n  <tbody>\n    <tr>\n      <th>0</th>\n      <td>WM_33725</td>\n      <td>2019-08-04 14:33:20</td>\n      <td>94.820023</td>\n      <td>-99.000000</td>\n      <td>41.723019</td>\n      <td>-0.903423</td>\n      <td>82.410573</td>\n      <td>42.523015</td>\n      <td>2563.124522</td>\n      <td>76.665560</td>\n      <td>...</td>\n      <td>NaN</td>\n      <td>239.836388</td>\n      <td>2730.310605</td>\n      <td>42.084666</td>\n      <td>BA</td>\n      <td>Medium</td>\n      <td>2.217542</td>\n      <td>0.314065</td>\n      <td>24.281689</td>\n      <td>6.766521</td>\n    </tr>\n    <tr>\n      <th>1</th>\n      <td>WM_698</td>\n      <td>2018-11-05 10:13:20</td>\n      <td>241.832734</td>\n      <td>27.764785</td>\n      <td>-99.000000</td>\n      <td>-99.000000</td>\n      <td>44.104919</td>\n      <td>46.258870</td>\n      <td>2372.384119</td>\n      <td>78.129803</td>\n      <td>...</td>\n      <td>NaN</td>\n      <td>337.944723</td>\n      <td>1780.207200</td>\n      <td>107.888643</td>\n      <td>A2</td>\n      <td>Medium</td>\n      <td>4.210346</td>\n      <td>0.448494</td>\n      <td>27.262139</td>\n      <td>5.966275</td>\n    </tr>\n    <tr>\n      <th>2</th>\n      <td>WM_39146</td>\n      <td>2019-09-14 14:03:20</td>\n      <td>95.484724</td>\n      <td>NaN</td>\n      <td>41.855473</td>\n      <td>12.652763</td>\n      <td>42.322098</td>\n      <td>42.878552</td>\n      <td>1657.169646</td>\n      <td>67.654469</td>\n      <td>...</td>\n      <td>45.033197</td>\n      <td>227.850294</td>\n      <td>1666.049900</td>\n      <td>-42.931459</td>\n      <td>ABC</td>\n      <td>Medium</td>\n      <td>2.719475</td>\n      <td>0.302321</td>\n      <td>27.366127</td>\n      <td>2.874342</td>\n    </tr>\n    <tr>\n      <th>3</th>\n      <td>WM_6757</td>\n      <td>2018-12-25 15:33:20</td>\n      <td>238.819424</td>\n      <td>-99.000000</td>\n      <td>45.443914</td>\n      <td>15.115323</td>\n      <td>44.759643</td>\n      <td>47.282101</td>\n      <td>2888.134079</td>\n      <td>95.389974</td>\n      <td>...</td>\n      <td>44.827154</td>\n      <td>492.081520</td>\n      <td>1964.502895</td>\n      <td>42.744596</td>\n      <td>ABC</td>\n      <td>NaN</td>\n      <td>4.857385</td>\n      <td>0.367140</td>\n      <td>24.287767</td>\n      <td>14.851089</td>\n    </tr>\n    <tr>\n      <th>4</th>\n      <td>WM_21521</td>\n      <td>2019-05-04 03:13:20</td>\n      <td>10.722890</td>\n      <td>NaN</td>\n      <td>41.981183</td>\n      <td>1.715696</td>\n      <td>-17.616459</td>\n      <td>43.469852</td>\n      <td>781.695419</td>\n      <td>37.423065</td>\n      <td>...</td>\n      <td>-99.000000</td>\n      <td>259.274601</td>\n      <td>1177.516152</td>\n      <td>13.387289</td>\n      <td>AAA</td>\n      <td>Medium</td>\n      <td>NaN</td>\n      <td>0.453374</td>\n      <td>27.971650</td>\n      <td>3.519074</td>\n    </tr>\n  </tbody>\n</table>\n<p>5 rows × 22 columns</p>\n</div>"
     },
     "metadata": {},
     "execution_count": 138
    }
   ],
   "source": [
    "train_data = pd.read_csv('dataset/train.csv')\n",
    "train_data.head()"
   ]
  },
  {
   "cell_type": "code",
   "execution_count": 139,
   "metadata": {},
   "outputs": [],
   "source": [
    "drop_columns = ['tracking_id','datetime']\n",
    "train_data.drop(drop_columns,inplace=True,axis=1)"
   ]
  },
  {
   "cell_type": "code",
   "execution_count": 140,
   "metadata": {},
   "outputs": [
    {
     "output_type": "execute_result",
     "data": {
      "text/plain": [
       "wind_speed(m/s)                    0.968085\n",
       "atmospheric_temperature(°C)       12.234043\n",
       "shaft_temperature(°C)              0.007092\n",
       "blades_angle(°)                    0.765957\n",
       "gearbox_temperature(°C)            0.003546\n",
       "engine_temperature(°C)             0.042553\n",
       "motor_torque(N-m)                  0.085106\n",
       "generator_temperature(°C)          0.042553\n",
       "atmospheric_pressure(Pascal)       9.599291\n",
       "area_temperature(°C)               0.000000\n",
       "windmill_body_temperature(°C)      8.379433\n",
       "wind_direction(°)                 18.095745\n",
       "resistance(ohm)                    0.003546\n",
       "rotor_torque(N-m)                  2.028369\n",
       "turbine_status                     6.237589\n",
       "cloud_level                        0.978723\n",
       "blade_length(m)                   18.060284\n",
       "blade_breadth(m)                   0.000000\n",
       "windmill_height(m)                 1.925532\n",
       "windmill_generated_power(kW/h)     0.734043\n",
       "dtype: float64"
      ]
     },
     "metadata": {},
     "execution_count": 140
    }
   ],
   "source": [
    "train_data.isna().sum() / len(train_data) * 100"
   ]
  },
  {
   "cell_type": "code",
   "execution_count": 141,
   "metadata": {},
   "outputs": [
    {
     "output_type": "execute_result",
     "data": {
      "text/plain": [
       "wind_speed(m/s)                   float64\n",
       "atmospheric_temperature(°C)       float64\n",
       "shaft_temperature(°C)             float64\n",
       "blades_angle(°)                   float64\n",
       "gearbox_temperature(°C)           float64\n",
       "engine_temperature(°C)            float64\n",
       "motor_torque(N-m)                 float64\n",
       "generator_temperature(°C)         float64\n",
       "atmospheric_pressure(Pascal)      float64\n",
       "area_temperature(°C)              float64\n",
       "windmill_body_temperature(°C)     float64\n",
       "wind_direction(°)                 float64\n",
       "resistance(ohm)                   float64\n",
       "rotor_torque(N-m)                 float64\n",
       "turbine_status                     object\n",
       "cloud_level                        object\n",
       "blade_length(m)                   float64\n",
       "blade_breadth(m)                  float64\n",
       "windmill_height(m)                float64\n",
       "windmill_generated_power(kW/h)    float64\n",
       "dtype: object"
      ]
     },
     "metadata": {},
     "execution_count": 141
    }
   ],
   "source": [
    "train_data.dtypes"
   ]
  },
  {
   "cell_type": "code",
   "execution_count": 142,
   "metadata": {},
   "outputs": [
    {
     "output_type": "execute_result",
     "data": {
      "text/plain": [
       "turbine_status    14\n",
       "cloud_level        3\n",
       "dtype: int64"
      ]
     },
     "metadata": {},
     "execution_count": 142
    }
   ],
   "source": [
    "train_data.loc[:,train_data.dtypes == 'object'].nunique()"
   ]
  },
  {
   "cell_type": "code",
   "execution_count": 143,
   "metadata": {},
   "outputs": [
    {
     "output_type": "stream",
     "name": "stdout",
     "text": [
      "BB     1946\nAAA    1939\nBCB    1933\nB2     1931\nA      1930\nD      1922\nB      1882\nAB     1868\nABC    1867\nA2     1855\nBA     1854\nAC     1850\nBD     1843\nBBB    1821\nName: turbine_status, dtype: int64 \n\n\n Low              13921\nMedium           13704\nExtremely Low      299\nName: cloud_level, dtype: int64\n"
     ]
    }
   ],
   "source": [
    "print(train_data['turbine_status'].value_counts(),'\\n'*3,\n",
    "train_data['cloud_level'].value_counts())"
   ]
  },
  {
   "cell_type": "code",
   "execution_count": 144,
   "metadata": {},
   "outputs": [
    {
     "output_type": "execute_result",
     "data": {
      "text/plain": [
       "26176"
      ]
     },
     "metadata": {},
     "execution_count": 144
    }
   ],
   "source": [
    "train_data = train_data[train_data['turbine_status'].notna()]\n",
    "train_data = train_data[train_data['cloud_level'].notna()]\n",
    "len(train_data)"
   ]
  },
  {
   "cell_type": "code",
   "execution_count": 145,
   "metadata": {},
   "outputs": [
    {
     "output_type": "execute_result",
     "data": {
      "text/plain": [
       "Index(['wind_speed(m/s)', 'atmospheric_temperature(°C)',\n",
       "       'shaft_temperature(°C)', 'blades_angle(°)', 'gearbox_temperature(°C)',\n",
       "       'engine_temperature(°C)', 'motor_torque(N-m)',\n",
       "       'generator_temperature(°C)', 'atmospheric_pressure(Pascal)',\n",
       "       'area_temperature(°C)', 'windmill_body_temperature(°C)',\n",
       "       'wind_direction(°)', 'resistance(ohm)', 'rotor_torque(N-m)',\n",
       "       'blade_length(m)', 'blade_breadth(m)', 'windmill_height(m)',\n",
       "       'windmill_generated_power(kW/h)'],\n",
       "      dtype='object')"
      ]
     },
     "metadata": {},
     "execution_count": 145
    }
   ],
   "source": [
    "continous_cols = train_data.dtypes[train_data.dtypes != 'object'].index\n",
    "(continous_cols)"
   ]
  },
  {
   "cell_type": "code",
   "execution_count": 146,
   "metadata": {},
   "outputs": [],
   "source": [
    "for col in continous_cols:\n",
    "    train_data[col] = train_data[col].fillna(train_data[col].mean())"
   ]
  },
  {
   "cell_type": "code",
   "execution_count": 147,
   "metadata": {},
   "outputs": [
    {
     "output_type": "execute_result",
     "data": {
      "text/plain": [
       "wind_speed(m/s)                   0.0\n",
       "atmospheric_temperature(°C)       0.0\n",
       "shaft_temperature(°C)             0.0\n",
       "blades_angle(°)                   0.0\n",
       "gearbox_temperature(°C)           0.0\n",
       "engine_temperature(°C)            0.0\n",
       "motor_torque(N-m)                 0.0\n",
       "generator_temperature(°C)         0.0\n",
       "atmospheric_pressure(Pascal)      0.0\n",
       "area_temperature(°C)              0.0\n",
       "windmill_body_temperature(°C)     0.0\n",
       "wind_direction(°)                 0.0\n",
       "resistance(ohm)                   0.0\n",
       "rotor_torque(N-m)                 0.0\n",
       "turbine_status                    0.0\n",
       "cloud_level                       0.0\n",
       "blade_length(m)                   0.0\n",
       "blade_breadth(m)                  0.0\n",
       "windmill_height(m)                0.0\n",
       "windmill_generated_power(kW/h)    0.0\n",
       "dtype: float64"
      ]
     },
     "metadata": {},
     "execution_count": 147
    }
   ],
   "source": [
    "train_data.isna().sum() / len(train_data) * 100"
   ]
  },
  {
   "cell_type": "code",
   "execution_count": 148,
   "metadata": {},
   "outputs": [
    {
     "output_type": "execute_result",
     "data": {
      "text/plain": [
       "       wind_speed(m/s)  atmospheric_temperature(°C)  shaft_temperature(°C)  \\\n",
       "count     26176.000000                 26176.000000           26176.000000   \n",
       "mean         68.927439                     0.458399              40.067020   \n",
       "std          75.663950                    41.475223              27.272877   \n",
       "min        -402.608736                   -99.000000             -99.000000   \n",
       "25%          21.304026                     0.458399              41.638432   \n",
       "50%          93.261685                    14.201454              43.691351   \n",
       "75%          95.248020                    22.636619              45.679701   \n",
       "max         601.455670                    80.217444             169.820455   \n",
       "\n",
       "       blades_angle(°)  gearbox_temperature(°C)  engine_temperature(°C)  \\\n",
       "count     26176.000000             26176.000000            26176.000000   \n",
       "mean         -9.743748                41.032699               42.631397   \n",
       "std          47.837610                43.722545                6.093881   \n",
       "min        -146.259543              -244.974098                3.167151   \n",
       "25%          -1.209093                40.559884               41.913381   \n",
       "50%          -0.528272                43.229537               43.526359   \n",
       "75%           5.366895                45.874994               45.187330   \n",
       "max         165.932123               999.000000               50.000000   \n",
       "\n",
       "       motor_torque(N-m)  generator_temperature(°C)  \\\n",
       "count       26176.000000               26176.000000   \n",
       "mean         1712.853025                  65.090239   \n",
       "std           826.837778                  19.809137   \n",
       "min           500.000000                  33.893779   \n",
       "25%           871.569504                  41.216874   \n",
       "50%          2032.661501                  70.753995   \n",
       "75%          2464.074854                  79.000425   \n",
       "max          3000.000000                 100.000000   \n",
       "\n",
       "       atmospheric_pressure(Pascal)  area_temperature(°C)  \\\n",
       "count                  2.617600e+04          26176.000000   \n",
       "mean                   5.257784e+04             32.752775   \n",
       "std                    1.779947e+05              7.716299   \n",
       "min                   -1.188624e+06            -30.000000   \n",
       "25%                    1.689131e+04             27.322601   \n",
       "50%                    1.874184e+04             32.620193   \n",
       "75%                    1.163726e+05             38.261766   \n",
       "max                    1.272552e+06             55.000000   \n",
       "\n",
       "       windmill_body_temperature(°C)  wind_direction(°)  resistance(ohm)  \\\n",
       "count                   26176.000000       26176.000000     26176.000000   \n",
       "mean                       20.894347         306.997781      1575.903442   \n",
       "std                        52.032731         121.432648       485.008451   \n",
       "min                      -999.000000           0.000000     -1005.222988   \n",
       "25%                        20.894347         246.746144      1268.604476   \n",
       "50%                        42.506184         290.140374      1678.402416   \n",
       "75%                        44.338160         332.834028      1830.504684   \n",
       "max                       323.000000         569.966479      4693.481933   \n",
       "\n",
       "       rotor_torque(N-m)  blade_length(m)  blade_breadth(m)  \\\n",
       "count       26176.000000     26176.000000      26176.000000   \n",
       "mean           25.925809         2.213593          0.397071   \n",
       "std            32.075801        10.373646          0.061180   \n",
       "min          -136.732217       -99.000000          0.200111   \n",
       "25%            13.848275         2.213593          0.347309   \n",
       "50%            31.753112         3.050854          0.398486   \n",
       "75%            41.387052         4.156647          0.449093   \n",
       "max           236.883264        18.209800          0.499975   \n",
       "\n",
       "       windmill_height(m)  windmill_generated_power(kW/h)  \n",
       "count        26176.000000                    26176.000000  \n",
       "mean            25.900650                        6.133326  \n",
       "std              7.705826                        2.693214  \n",
       "min            -30.295253                        0.962305  \n",
       "25%             24.468078                        4.076750  \n",
       "50%             25.900650                        5.799092  \n",
       "75%             27.451608                        7.932078  \n",
       "max             78.351335                       20.175358  "
      ],
      "text/html": "<div>\n<style scoped>\n    .dataframe tbody tr th:only-of-type {\n        vertical-align: middle;\n    }\n\n    .dataframe tbody tr th {\n        vertical-align: top;\n    }\n\n    .dataframe thead th {\n        text-align: right;\n    }\n</style>\n<table border=\"1\" class=\"dataframe\">\n  <thead>\n    <tr style=\"text-align: right;\">\n      <th></th>\n      <th>wind_speed(m/s)</th>\n      <th>atmospheric_temperature(°C)</th>\n      <th>shaft_temperature(°C)</th>\n      <th>blades_angle(°)</th>\n      <th>gearbox_temperature(°C)</th>\n      <th>engine_temperature(°C)</th>\n      <th>motor_torque(N-m)</th>\n      <th>generator_temperature(°C)</th>\n      <th>atmospheric_pressure(Pascal)</th>\n      <th>area_temperature(°C)</th>\n      <th>windmill_body_temperature(°C)</th>\n      <th>wind_direction(°)</th>\n      <th>resistance(ohm)</th>\n      <th>rotor_torque(N-m)</th>\n      <th>blade_length(m)</th>\n      <th>blade_breadth(m)</th>\n      <th>windmill_height(m)</th>\n      <th>windmill_generated_power(kW/h)</th>\n    </tr>\n  </thead>\n  <tbody>\n    <tr>\n      <th>count</th>\n      <td>26176.000000</td>\n      <td>26176.000000</td>\n      <td>26176.000000</td>\n      <td>26176.000000</td>\n      <td>26176.000000</td>\n      <td>26176.000000</td>\n      <td>26176.000000</td>\n      <td>26176.000000</td>\n      <td>2.617600e+04</td>\n      <td>26176.000000</td>\n      <td>26176.000000</td>\n      <td>26176.000000</td>\n      <td>26176.000000</td>\n      <td>26176.000000</td>\n      <td>26176.000000</td>\n      <td>26176.000000</td>\n      <td>26176.000000</td>\n      <td>26176.000000</td>\n    </tr>\n    <tr>\n      <th>mean</th>\n      <td>68.927439</td>\n      <td>0.458399</td>\n      <td>40.067020</td>\n      <td>-9.743748</td>\n      <td>41.032699</td>\n      <td>42.631397</td>\n      <td>1712.853025</td>\n      <td>65.090239</td>\n      <td>5.257784e+04</td>\n      <td>32.752775</td>\n      <td>20.894347</td>\n      <td>306.997781</td>\n      <td>1575.903442</td>\n      <td>25.925809</td>\n      <td>2.213593</td>\n      <td>0.397071</td>\n      <td>25.900650</td>\n      <td>6.133326</td>\n    </tr>\n    <tr>\n      <th>std</th>\n      <td>75.663950</td>\n      <td>41.475223</td>\n      <td>27.272877</td>\n      <td>47.837610</td>\n      <td>43.722545</td>\n      <td>6.093881</td>\n      <td>826.837778</td>\n      <td>19.809137</td>\n      <td>1.779947e+05</td>\n      <td>7.716299</td>\n      <td>52.032731</td>\n      <td>121.432648</td>\n      <td>485.008451</td>\n      <td>32.075801</td>\n      <td>10.373646</td>\n      <td>0.061180</td>\n      <td>7.705826</td>\n      <td>2.693214</td>\n    </tr>\n    <tr>\n      <th>min</th>\n      <td>-402.608736</td>\n      <td>-99.000000</td>\n      <td>-99.000000</td>\n      <td>-146.259543</td>\n      <td>-244.974098</td>\n      <td>3.167151</td>\n      <td>500.000000</td>\n      <td>33.893779</td>\n      <td>-1.188624e+06</td>\n      <td>-30.000000</td>\n      <td>-999.000000</td>\n      <td>0.000000</td>\n      <td>-1005.222988</td>\n      <td>-136.732217</td>\n      <td>-99.000000</td>\n      <td>0.200111</td>\n      <td>-30.295253</td>\n      <td>0.962305</td>\n    </tr>\n    <tr>\n      <th>25%</th>\n      <td>21.304026</td>\n      <td>0.458399</td>\n      <td>41.638432</td>\n      <td>-1.209093</td>\n      <td>40.559884</td>\n      <td>41.913381</td>\n      <td>871.569504</td>\n      <td>41.216874</td>\n      <td>1.689131e+04</td>\n      <td>27.322601</td>\n      <td>20.894347</td>\n      <td>246.746144</td>\n      <td>1268.604476</td>\n      <td>13.848275</td>\n      <td>2.213593</td>\n      <td>0.347309</td>\n      <td>24.468078</td>\n      <td>4.076750</td>\n    </tr>\n    <tr>\n      <th>50%</th>\n      <td>93.261685</td>\n      <td>14.201454</td>\n      <td>43.691351</td>\n      <td>-0.528272</td>\n      <td>43.229537</td>\n      <td>43.526359</td>\n      <td>2032.661501</td>\n      <td>70.753995</td>\n      <td>1.874184e+04</td>\n      <td>32.620193</td>\n      <td>42.506184</td>\n      <td>290.140374</td>\n      <td>1678.402416</td>\n      <td>31.753112</td>\n      <td>3.050854</td>\n      <td>0.398486</td>\n      <td>25.900650</td>\n      <td>5.799092</td>\n    </tr>\n    <tr>\n      <th>75%</th>\n      <td>95.248020</td>\n      <td>22.636619</td>\n      <td>45.679701</td>\n      <td>5.366895</td>\n      <td>45.874994</td>\n      <td>45.187330</td>\n      <td>2464.074854</td>\n      <td>79.000425</td>\n      <td>1.163726e+05</td>\n      <td>38.261766</td>\n      <td>44.338160</td>\n      <td>332.834028</td>\n      <td>1830.504684</td>\n      <td>41.387052</td>\n      <td>4.156647</td>\n      <td>0.449093</td>\n      <td>27.451608</td>\n      <td>7.932078</td>\n    </tr>\n    <tr>\n      <th>max</th>\n      <td>601.455670</td>\n      <td>80.217444</td>\n      <td>169.820455</td>\n      <td>165.932123</td>\n      <td>999.000000</td>\n      <td>50.000000</td>\n      <td>3000.000000</td>\n      <td>100.000000</td>\n      <td>1.272552e+06</td>\n      <td>55.000000</td>\n      <td>323.000000</td>\n      <td>569.966479</td>\n      <td>4693.481933</td>\n      <td>236.883264</td>\n      <td>18.209800</td>\n      <td>0.499975</td>\n      <td>78.351335</td>\n      <td>20.175358</td>\n    </tr>\n  </tbody>\n</table>\n</div>"
     },
     "metadata": {},
     "execution_count": 148
    }
   ],
   "source": [
    "train_data.describe()"
   ]
  },
  {
   "cell_type": "code",
   "execution_count": 149,
   "metadata": {},
   "outputs": [
    {
     "output_type": "execute_result",
     "data": {
      "text/plain": [
       "1    13050\n",
       "2    12842\n",
       "0      284\n",
       "Name: cloud_level, dtype: int64"
      ]
     },
     "metadata": {},
     "execution_count": 149
    }
   ],
   "source": [
    "label_enc = LabelEncoder()\n",
    "train_data['cloud_level'] = label_enc.fit_transform(train_data['cloud_level'])\n",
    "train_data['cloud_level'].value_counts()"
   ]
  },
  {
   "cell_type": "code",
   "execution_count": 150,
   "metadata": {},
   "outputs": [
    {
     "output_type": "execute_result",
     "data": {
      "text/plain": [
       "2    13050\n",
       "3    12842\n",
       "1      284\n",
       "Name: cloud_level, dtype: int64"
      ]
     },
     "metadata": {},
     "execution_count": 150
    }
   ],
   "source": [
    "train_data['cloud_level'] = train_data['cloud_level'].apply(lambda x:  x + 1)\n",
    "train_data['cloud_level']\n",
    "train_data['cloud_level'].value_counts()"
   ]
  },
  {
   "cell_type": "code",
   "execution_count": 153,
   "metadata": {},
   "outputs": [
    {
     "output_type": "error",
     "ename": "ValueError",
     "evalue": "Expected 2D array, got 1D array instead:\narray=[ 8  1  4 ... 13 11 10].\nReshape your data either using array.reshape(-1, 1) if your data has a single feature or array.reshape(1, -1) if it contains a single sample.",
     "traceback": [
      "\u001b[1;31m---------------------------------------------------------------------------\u001b[0m",
      "\u001b[1;31mValueError\u001b[0m                                Traceback (most recent call last)",
      "\u001b[1;32m<ipython-input-153-d33ac61289c9>\u001b[0m in \u001b[0;36m<module>\u001b[1;34m\u001b[0m\n\u001b[0;32m      1\u001b[0m \u001b[0moh_enc\u001b[0m \u001b[1;33m=\u001b[0m \u001b[0mOneHotEncoder\u001b[0m\u001b[1;33m(\u001b[0m\u001b[1;33m)\u001b[0m\u001b[1;33m\u001b[0m\u001b[1;33m\u001b[0m\u001b[0m\n\u001b[1;32m----> 2\u001b[1;33m \u001b[0mtrain_data\u001b[0m\u001b[1;33m[\u001b[0m\u001b[1;34m'turbine_status'\u001b[0m\u001b[1;33m]\u001b[0m \u001b[1;33m=\u001b[0m \u001b[0moh_enc\u001b[0m\u001b[1;33m.\u001b[0m\u001b[0mfit_transform\u001b[0m\u001b[1;33m(\u001b[0m\u001b[0mtrain_data\u001b[0m\u001b[1;33m[\u001b[0m\u001b[1;34m'turbine_status'\u001b[0m\u001b[1;33m]\u001b[0m\u001b[1;33m)\u001b[0m\u001b[1;33m\u001b[0m\u001b[1;33m\u001b[0m\u001b[0m\n\u001b[0m\u001b[0;32m      3\u001b[0m \u001b[0mtrain_data\u001b[0m\u001b[1;33m[\u001b[0m\u001b[1;34m'turbine_status'\u001b[0m\u001b[1;33m]\u001b[0m\u001b[1;33m.\u001b[0m\u001b[0mvalue_counts\u001b[0m\u001b[1;33m(\u001b[0m\u001b[1;33m)\u001b[0m\u001b[1;33m\u001b[0m\u001b[1;33m\u001b[0m\u001b[0m\n",
      "\u001b[1;32m~\\anaconda3\\lib\\site-packages\\sklearn\\preprocessing\\_encoders.py\u001b[0m in \u001b[0;36mfit_transform\u001b[1;34m(self, X, y)\u001b[0m\n\u001b[0;32m    370\u001b[0m         \"\"\"\n\u001b[0;32m    371\u001b[0m         \u001b[0mself\u001b[0m\u001b[1;33m.\u001b[0m\u001b[0m_validate_keywords\u001b[0m\u001b[1;33m(\u001b[0m\u001b[1;33m)\u001b[0m\u001b[1;33m\u001b[0m\u001b[1;33m\u001b[0m\u001b[0m\n\u001b[1;32m--> 372\u001b[1;33m         \u001b[1;32mreturn\u001b[0m \u001b[0msuper\u001b[0m\u001b[1;33m(\u001b[0m\u001b[1;33m)\u001b[0m\u001b[1;33m.\u001b[0m\u001b[0mfit_transform\u001b[0m\u001b[1;33m(\u001b[0m\u001b[0mX\u001b[0m\u001b[1;33m,\u001b[0m \u001b[0my\u001b[0m\u001b[1;33m)\u001b[0m\u001b[1;33m\u001b[0m\u001b[1;33m\u001b[0m\u001b[0m\n\u001b[0m\u001b[0;32m    373\u001b[0m \u001b[1;33m\u001b[0m\u001b[0m\n\u001b[0;32m    374\u001b[0m     \u001b[1;32mdef\u001b[0m \u001b[0mtransform\u001b[0m\u001b[1;33m(\u001b[0m\u001b[0mself\u001b[0m\u001b[1;33m,\u001b[0m \u001b[0mX\u001b[0m\u001b[1;33m)\u001b[0m\u001b[1;33m:\u001b[0m\u001b[1;33m\u001b[0m\u001b[1;33m\u001b[0m\u001b[0m\n",
      "\u001b[1;32m~\\anaconda3\\lib\\site-packages\\sklearn\\base.py\u001b[0m in \u001b[0;36mfit_transform\u001b[1;34m(self, X, y, **fit_params)\u001b[0m\n\u001b[0;32m    569\u001b[0m         \u001b[1;32mif\u001b[0m \u001b[0my\u001b[0m \u001b[1;32mis\u001b[0m \u001b[1;32mNone\u001b[0m\u001b[1;33m:\u001b[0m\u001b[1;33m\u001b[0m\u001b[1;33m\u001b[0m\u001b[0m\n\u001b[0;32m    570\u001b[0m             \u001b[1;31m# fit method of arity 1 (unsupervised transformation)\u001b[0m\u001b[1;33m\u001b[0m\u001b[1;33m\u001b[0m\u001b[1;33m\u001b[0m\u001b[0m\n\u001b[1;32m--> 571\u001b[1;33m             \u001b[1;32mreturn\u001b[0m \u001b[0mself\u001b[0m\u001b[1;33m.\u001b[0m\u001b[0mfit\u001b[0m\u001b[1;33m(\u001b[0m\u001b[0mX\u001b[0m\u001b[1;33m,\u001b[0m \u001b[1;33m**\u001b[0m\u001b[0mfit_params\u001b[0m\u001b[1;33m)\u001b[0m\u001b[1;33m.\u001b[0m\u001b[0mtransform\u001b[0m\u001b[1;33m(\u001b[0m\u001b[0mX\u001b[0m\u001b[1;33m)\u001b[0m\u001b[1;33m\u001b[0m\u001b[1;33m\u001b[0m\u001b[0m\n\u001b[0m\u001b[0;32m    572\u001b[0m         \u001b[1;32melse\u001b[0m\u001b[1;33m:\u001b[0m\u001b[1;33m\u001b[0m\u001b[1;33m\u001b[0m\u001b[0m\n\u001b[0;32m    573\u001b[0m             \u001b[1;31m# fit method of arity 2 (supervised transformation)\u001b[0m\u001b[1;33m\u001b[0m\u001b[1;33m\u001b[0m\u001b[1;33m\u001b[0m\u001b[0m\n",
      "\u001b[1;32m~\\anaconda3\\lib\\site-packages\\sklearn\\preprocessing\\_encoders.py\u001b[0m in \u001b[0;36mfit\u001b[1;34m(self, X, y)\u001b[0m\n\u001b[0;32m    345\u001b[0m         \"\"\"\n\u001b[0;32m    346\u001b[0m         \u001b[0mself\u001b[0m\u001b[1;33m.\u001b[0m\u001b[0m_validate_keywords\u001b[0m\u001b[1;33m(\u001b[0m\u001b[1;33m)\u001b[0m\u001b[1;33m\u001b[0m\u001b[1;33m\u001b[0m\u001b[0m\n\u001b[1;32m--> 347\u001b[1;33m         \u001b[0mself\u001b[0m\u001b[1;33m.\u001b[0m\u001b[0m_fit\u001b[0m\u001b[1;33m(\u001b[0m\u001b[0mX\u001b[0m\u001b[1;33m,\u001b[0m \u001b[0mhandle_unknown\u001b[0m\u001b[1;33m=\u001b[0m\u001b[0mself\u001b[0m\u001b[1;33m.\u001b[0m\u001b[0mhandle_unknown\u001b[0m\u001b[1;33m)\u001b[0m\u001b[1;33m\u001b[0m\u001b[1;33m\u001b[0m\u001b[0m\n\u001b[0m\u001b[0;32m    348\u001b[0m         \u001b[0mself\u001b[0m\u001b[1;33m.\u001b[0m\u001b[0mdrop_idx_\u001b[0m \u001b[1;33m=\u001b[0m \u001b[0mself\u001b[0m\u001b[1;33m.\u001b[0m\u001b[0m_compute_drop_idx\u001b[0m\u001b[1;33m(\u001b[0m\u001b[1;33m)\u001b[0m\u001b[1;33m\u001b[0m\u001b[1;33m\u001b[0m\u001b[0m\n\u001b[0;32m    349\u001b[0m         \u001b[1;32mreturn\u001b[0m \u001b[0mself\u001b[0m\u001b[1;33m\u001b[0m\u001b[1;33m\u001b[0m\u001b[0m\n",
      "\u001b[1;32m~\\anaconda3\\lib\\site-packages\\sklearn\\preprocessing\\_encoders.py\u001b[0m in \u001b[0;36m_fit\u001b[1;34m(self, X, handle_unknown)\u001b[0m\n\u001b[0;32m     72\u001b[0m \u001b[1;33m\u001b[0m\u001b[0m\n\u001b[0;32m     73\u001b[0m     \u001b[1;32mdef\u001b[0m \u001b[0m_fit\u001b[0m\u001b[1;33m(\u001b[0m\u001b[0mself\u001b[0m\u001b[1;33m,\u001b[0m \u001b[0mX\u001b[0m\u001b[1;33m,\u001b[0m \u001b[0mhandle_unknown\u001b[0m\u001b[1;33m=\u001b[0m\u001b[1;34m'error'\u001b[0m\u001b[1;33m)\u001b[0m\u001b[1;33m:\u001b[0m\u001b[1;33m\u001b[0m\u001b[1;33m\u001b[0m\u001b[0m\n\u001b[1;32m---> 74\u001b[1;33m         \u001b[0mX_list\u001b[0m\u001b[1;33m,\u001b[0m \u001b[0mn_samples\u001b[0m\u001b[1;33m,\u001b[0m \u001b[0mn_features\u001b[0m \u001b[1;33m=\u001b[0m \u001b[0mself\u001b[0m\u001b[1;33m.\u001b[0m\u001b[0m_check_X\u001b[0m\u001b[1;33m(\u001b[0m\u001b[0mX\u001b[0m\u001b[1;33m)\u001b[0m\u001b[1;33m\u001b[0m\u001b[1;33m\u001b[0m\u001b[0m\n\u001b[0m\u001b[0;32m     75\u001b[0m \u001b[1;33m\u001b[0m\u001b[0m\n\u001b[0;32m     76\u001b[0m         \u001b[1;32mif\u001b[0m \u001b[0mself\u001b[0m\u001b[1;33m.\u001b[0m\u001b[0mcategories\u001b[0m \u001b[1;33m!=\u001b[0m \u001b[1;34m'auto'\u001b[0m\u001b[1;33m:\u001b[0m\u001b[1;33m\u001b[0m\u001b[1;33m\u001b[0m\u001b[0m\n",
      "\u001b[1;32m~\\anaconda3\\lib\\site-packages\\sklearn\\preprocessing\\_encoders.py\u001b[0m in \u001b[0;36m_check_X\u001b[1;34m(self, X)\u001b[0m\n\u001b[0;32m     41\u001b[0m         \u001b[1;32mif\u001b[0m \u001b[1;32mnot\u001b[0m \u001b[1;33m(\u001b[0m\u001b[0mhasattr\u001b[0m\u001b[1;33m(\u001b[0m\u001b[0mX\u001b[0m\u001b[1;33m,\u001b[0m \u001b[1;34m'iloc'\u001b[0m\u001b[1;33m)\u001b[0m \u001b[1;32mand\u001b[0m \u001b[0mgetattr\u001b[0m\u001b[1;33m(\u001b[0m\u001b[0mX\u001b[0m\u001b[1;33m,\u001b[0m \u001b[1;34m'ndim'\u001b[0m\u001b[1;33m,\u001b[0m \u001b[1;36m0\u001b[0m\u001b[1;33m)\u001b[0m \u001b[1;33m==\u001b[0m \u001b[1;36m2\u001b[0m\u001b[1;33m)\u001b[0m\u001b[1;33m:\u001b[0m\u001b[1;33m\u001b[0m\u001b[1;33m\u001b[0m\u001b[0m\n\u001b[0;32m     42\u001b[0m             \u001b[1;31m# if not a dataframe, do normal check_array validation\u001b[0m\u001b[1;33m\u001b[0m\u001b[1;33m\u001b[0m\u001b[1;33m\u001b[0m\u001b[0m\n\u001b[1;32m---> 43\u001b[1;33m             \u001b[0mX_temp\u001b[0m \u001b[1;33m=\u001b[0m \u001b[0mcheck_array\u001b[0m\u001b[1;33m(\u001b[0m\u001b[0mX\u001b[0m\u001b[1;33m,\u001b[0m \u001b[0mdtype\u001b[0m\u001b[1;33m=\u001b[0m\u001b[1;32mNone\u001b[0m\u001b[1;33m)\u001b[0m\u001b[1;33m\u001b[0m\u001b[1;33m\u001b[0m\u001b[0m\n\u001b[0m\u001b[0;32m     44\u001b[0m             if (not hasattr(X, 'dtype')\n\u001b[0;32m     45\u001b[0m                     and np.issubdtype(X_temp.dtype, np.str_)):\n",
      "\u001b[1;32m~\\anaconda3\\lib\\site-packages\\sklearn\\utils\\validation.py\u001b[0m in \u001b[0;36mcheck_array\u001b[1;34m(array, accept_sparse, accept_large_sparse, dtype, order, copy, force_all_finite, ensure_2d, allow_nd, ensure_min_samples, ensure_min_features, warn_on_dtype, estimator)\u001b[0m\n\u001b[0;32m    538\u001b[0m                     \u001b[1;34m\"Reshape your data either using array.reshape(-1, 1) if \"\u001b[0m\u001b[1;33m\u001b[0m\u001b[1;33m\u001b[0m\u001b[0m\n\u001b[0;32m    539\u001b[0m                     \u001b[1;34m\"your data has a single feature or array.reshape(1, -1) \"\u001b[0m\u001b[1;33m\u001b[0m\u001b[1;33m\u001b[0m\u001b[0m\n\u001b[1;32m--> 540\u001b[1;33m                     \"if it contains a single sample.\".format(array))\n\u001b[0m\u001b[0;32m    541\u001b[0m \u001b[1;33m\u001b[0m\u001b[0m\n\u001b[0;32m    542\u001b[0m         \u001b[1;31m# in the future np.flexible dtypes will be handled like object dtypes\u001b[0m\u001b[1;33m\u001b[0m\u001b[1;33m\u001b[0m\u001b[1;33m\u001b[0m\u001b[0m\n",
      "\u001b[1;31mValueError\u001b[0m: Expected 2D array, got 1D array instead:\narray=[ 8  1  4 ... 13 11 10].\nReshape your data either using array.reshape(-1, 1) if your data has a single feature or array.reshape(1, -1) if it contains a single sample."
     ]
    }
   ],
   "source": [
    "oh_enc = OneHotEncoder()\n",
    "train_data['turbine_status'] = oh_enc.fit_transform(train_data['turbine_status'])\n",
    "train_data['turbine_status'].value_counts()"
   ]
  },
  {
   "cell_type": "code",
   "execution_count": null,
   "metadata": {},
   "outputs": [],
   "source": []
  }
 ]
}