{
 "cells": [
  {
   "cell_type": "markdown",
   "metadata": {
    "papermill": {
     "duration": 0.082046,
     "end_time": "2020-10-31T12:33:02.862789",
     "exception": false,
     "start_time": "2020-10-31T12:33:02.780743",
     "status": "completed"
    },
    "tags": []
   },
   "source": [
    "# Things you will find in this notebook:\n",
    "* A step-by-step guide on how to approach any competition on Kaggle.\n",
    "* Exploratory Data Analysis on the famous Titanic Dataset.\n",
    "* Feature Selection and Feature Engineering for better results.\n",
    "* What are Ensembling Machine Learning Techniques and how we can use them optimally on any dataset. \n",
    "* Comparing different ensembling techniques on the basis of score and optimizing them."
   ]
  },
  {
   "cell_type": "markdown",
   "metadata": {
    "papermill": {
     "duration": 0.080241,
     "end_time": "2020-10-31T12:33:03.023838",
     "exception": false,
     "start_time": "2020-10-31T12:33:02.943597",
     "status": "completed"
    },
    "tags": []
   },
   "source": [
    "#### The objective of this notebook is to introduce the concept of ensemble learning and understand the algorithms which use this technique. To cement your understanding of this diverse topic, I will explain the advanced algorithms in Python using a hands-on case study on the titanic dataset."
   ]
  },
  {
   "cell_type": "markdown",
   "metadata": {
    "papermill": {
     "duration": 0.080747,
     "end_time": "2020-10-31T12:33:03.185551",
     "exception": false,
     "start_time": "2020-10-31T12:33:03.104804",
     "status": "completed"
    },
    "tags": []
   },
   "source": [
    "> Prerequisites: \n",
    "The notebook assumes that you have a basic understanding of the following\n",
    "concepts. If you don’t, I encourage you to go through the links I have provided:<br> <br>\n",
    "EDA, Missing Values, Outlier Treatment, etc.\n",
    "To understand the topics, you can go through\n",
    "this article: [Ultimate guide for Data Exploration in Python using NumPy, Matplotlib and\n",
    "Pandas.](https://www.analyticsvidhya.com/blog/2015/04/comprehensive-guide-data-exploration-sas-using-python-numpy-scipy-matplotlib-pandas/)<br><br>\n",
    "A basic understanding of Machine Learning algorithms. I would recommend going through\n",
    "this article to familiarize yourself with these concepts: [Commonly used Machine Learning\n",
    "Algorithms (with Python and R Codes)](https://www.analyticsvidhya.com/blog/2017/09/common-machine-learning-algorithms/)<br><br>\n",
    "> For tuning the hyper parameters of decision tree and other based models used, refer [here](https://www.kaggle.com/tug004/surviving-titanic-the-right-way).<br><br>\n",
    "    \n",
    "1) Simple:\n",
    "In this section, we will look at a few simple but powerful techniques, namely:\n",
    "1. Max Voting\n",
    "2. Averaging\n",
    "3. Weighted Averaging<br><br>\n",
    "\n",
    "2) Advanced<br>\n",
    "In this section, we will look at advanced techniques, namely:\n",
    "1.  Stacking\n",
    "1.  Blending\n",
    "1.  The other advanced EL techniques are Bagging and Boosting.<br><br>\n",
    "\n",
    "3) EL models based on Bagging and Boosting:\n",
    "1. Bagging<br>\n",
    "a) Bagging Meta Estimator\n",
    "b) Random Forest\n",
    "2. Boosting algorithms:<br>\n",
    "a) GBM\n",
    "b) XGBoost\n",
    "c) AdaBoost\n",
    "d) Light GBM\n",
    "e) CatBoost"
   ]
  },
  {
   "cell_type": "markdown",
   "metadata": {
    "papermill": {
     "duration": 0.080449,
     "end_time": "2020-10-31T12:33:03.346795",
     "exception": false,
     "start_time": "2020-10-31T12:33:03.266346",
     "status": "completed"
    },
    "tags": []
   },
   "source": [
    "> Do upvote if you find this notebook useful!\n"
   ]
  },
  {
   "cell_type": "markdown",
   "metadata": {
    "papermill": {
     "duration": 0.080006,
     "end_time": "2020-10-31T12:33:03.508102",
     "exception": false,
     "start_time": "2020-10-31T12:33:03.428096",
     "status": "completed"
    },
    "tags": []
   },
   "source": [
    "## Imports "
   ]
  },
  {
   "cell_type": "code",
   "execution_count": 1,
   "metadata": {
    "execution": {
     "iopub.execute_input": "2020-10-31T12:33:03.681880Z",
     "iopub.status.busy": "2020-10-31T12:33:03.680984Z",
     "iopub.status.idle": "2020-10-31T12:33:08.050739Z",
     "shell.execute_reply": "2020-10-31T12:33:08.049436Z"
    },
    "id": "ldK-vGgLDUDT",
    "papermill": {
     "duration": 4.461943,
     "end_time": "2020-10-31T12:33:08.050912",
     "exception": false,
     "start_time": "2020-10-31T12:33:03.588969",
     "status": "completed"
    },
    "scrolled": true,
    "tags": []
   },
   "outputs": [],
   "source": [
    "import pandas as pd\n",
    "import numpy as np\n",
    "import seaborn as sns\n",
    "import matplotlib.pyplot as plt\n",
    "from sklearn.preprocessing import OneHotEncoder, LabelEncoder, MinMaxScaler,StandardScaler\n",
    "from sklearn.model_selection import train_test_split,GridSearchCV,RandomizedSearchCV,KFold,StratifiedKFold,cross_val_score,cross_val_predict\n",
    "from sklearn.metrics import accuracy_score,precision_score,confusion_matrix,recall_score,f1_score,roc_auc_score,auc,roc_curve\n",
    "import re as re\n",
    "import statistics\n",
    "\n",
    "from sklearn.naive_bayes import GaussianNB\n",
    "from sklearn.linear_model import LogisticRegression\n",
    "from sklearn.tree import DecisionTreeClassifier\n",
    "from sklearn.neighbors import KNeighborsClassifier\n",
    "from sklearn.svm import LinearSVC\n",
    "from sklearn.ensemble import VotingClassifier,StackingClassifier, BaggingClassifier, AdaBoostClassifier,RandomForestClassifier,GradientBoostingClassifier\n",
    "from xgboost import XGBClassifier\n",
    "from lightgbm import LGBMClassifier\n",
    "from catboost import CatBoostClassifier\n",
    "import warnings \n",
    "warnings.filterwarnings('ignore')\n"
   ]
  },
  {
   "cell_type": "code",
   "execution_count": 2,
   "metadata": {
    "execution": {
     "iopub.execute_input": "2020-10-31T12:33:08.230668Z",
     "iopub.status.busy": "2020-10-31T12:33:08.229607Z",
     "iopub.status.idle": "2020-10-31T12:33:08.273657Z",
     "shell.execute_reply": "2020-10-31T12:33:08.274310Z"
    },
    "executionInfo": {
     "elapsed": 1903,
     "status": "ok",
     "timestamp": 1598562872828,
     "user": {
      "displayName": "Himanshu Madan",
      "photoUrl": "https://lh3.googleusercontent.com/a-/AOh14GisQhAk7cHciVsuMiO7hLXqPAhM8icJBjiKWEM9t30=s64",
      "userId": "07240434886741306598"
     },
     "user_tz": -330
    },
    "id": "b8cLR3Hdcw-g",
    "outputId": "0c69108d-aeba-4f9b-d7b2-56b2a49251b7",
    "papermill": {
     "duration": 0.141035,
     "end_time": "2020-10-31T12:33:08.274473",
     "exception": false,
     "start_time": "2020-10-31T12:33:08.133438",
     "status": "completed"
    },
    "scrolled": true,
    "tags": []
   },
   "outputs": [
    {
     "data": {
      "text/html": [
       "<div>\n",
       "<style scoped>\n",
       "    .dataframe tbody tr th:only-of-type {\n",
       "        vertical-align: middle;\n",
       "    }\n",
       "\n",
       "    .dataframe tbody tr th {\n",
       "        vertical-align: top;\n",
       "    }\n",
       "\n",
       "    .dataframe thead th {\n",
       "        text-align: right;\n",
       "    }\n",
       "</style>\n",
       "<table border=\"1\" class=\"dataframe\">\n",
       "  <thead>\n",
       "    <tr style=\"text-align: right;\">\n",
       "      <th></th>\n",
       "      <th>PassengerId</th>\n",
       "      <th>Survived</th>\n",
       "      <th>Pclass</th>\n",
       "      <th>Name</th>\n",
       "      <th>Sex</th>\n",
       "      <th>Age</th>\n",
       "      <th>SibSp</th>\n",
       "      <th>Parch</th>\n",
       "      <th>Ticket</th>\n",
       "      <th>Fare</th>\n",
       "      <th>Cabin</th>\n",
       "      <th>Embarked</th>\n",
       "    </tr>\n",
       "  </thead>\n",
       "  <tbody>\n",
       "    <tr>\n",
       "      <th>0</th>\n",
       "      <td>1</td>\n",
       "      <td>0</td>\n",
       "      <td>3</td>\n",
       "      <td>Braund, Mr. Owen Harris</td>\n",
       "      <td>male</td>\n",
       "      <td>22.0</td>\n",
       "      <td>1</td>\n",
       "      <td>0</td>\n",
       "      <td>A/5 21171</td>\n",
       "      <td>7.2500</td>\n",
       "      <td>NaN</td>\n",
       "      <td>S</td>\n",
       "    </tr>\n",
       "    <tr>\n",
       "      <th>1</th>\n",
       "      <td>2</td>\n",
       "      <td>1</td>\n",
       "      <td>1</td>\n",
       "      <td>Cumings, Mrs. John Bradley (Florence Briggs Th...</td>\n",
       "      <td>female</td>\n",
       "      <td>38.0</td>\n",
       "      <td>1</td>\n",
       "      <td>0</td>\n",
       "      <td>PC 17599</td>\n",
       "      <td>71.2833</td>\n",
       "      <td>C85</td>\n",
       "      <td>C</td>\n",
       "    </tr>\n",
       "    <tr>\n",
       "      <th>2</th>\n",
       "      <td>3</td>\n",
       "      <td>1</td>\n",
       "      <td>3</td>\n",
       "      <td>Heikkinen, Miss. Laina</td>\n",
       "      <td>female</td>\n",
       "      <td>26.0</td>\n",
       "      <td>0</td>\n",
       "      <td>0</td>\n",
       "      <td>STON/O2. 3101282</td>\n",
       "      <td>7.9250</td>\n",
       "      <td>NaN</td>\n",
       "      <td>S</td>\n",
       "    </tr>\n",
       "    <tr>\n",
       "      <th>3</th>\n",
       "      <td>4</td>\n",
       "      <td>1</td>\n",
       "      <td>1</td>\n",
       "      <td>Futrelle, Mrs. Jacques Heath (Lily May Peel)</td>\n",
       "      <td>female</td>\n",
       "      <td>35.0</td>\n",
       "      <td>1</td>\n",
       "      <td>0</td>\n",
       "      <td>113803</td>\n",
       "      <td>53.1000</td>\n",
       "      <td>C123</td>\n",
       "      <td>S</td>\n",
       "    </tr>\n",
       "    <tr>\n",
       "      <th>4</th>\n",
       "      <td>5</td>\n",
       "      <td>0</td>\n",
       "      <td>3</td>\n",
       "      <td>Allen, Mr. William Henry</td>\n",
       "      <td>male</td>\n",
       "      <td>35.0</td>\n",
       "      <td>0</td>\n",
       "      <td>0</td>\n",
       "      <td>373450</td>\n",
       "      <td>8.0500</td>\n",
       "      <td>NaN</td>\n",
       "      <td>S</td>\n",
       "    </tr>\n",
       "  </tbody>\n",
       "</table>\n",
       "</div>"
      ],
      "text/plain": [
       "   PassengerId  Survived  Pclass  \\\n",
       "0            1         0       3   \n",
       "1            2         1       1   \n",
       "2            3         1       3   \n",
       "3            4         1       1   \n",
       "4            5         0       3   \n",
       "\n",
       "                                                Name     Sex   Age  SibSp  \\\n",
       "0                            Braund, Mr. Owen Harris    male  22.0      1   \n",
       "1  Cumings, Mrs. John Bradley (Florence Briggs Th...  female  38.0      1   \n",
       "2                             Heikkinen, Miss. Laina  female  26.0      0   \n",
       "3       Futrelle, Mrs. Jacques Heath (Lily May Peel)  female  35.0      1   \n",
       "4                           Allen, Mr. William Henry    male  35.0      0   \n",
       "\n",
       "   Parch            Ticket     Fare Cabin Embarked  \n",
       "0      0         A/5 21171   7.2500   NaN        S  \n",
       "1      0          PC 17599  71.2833   C85        C  \n",
       "2      0  STON/O2. 3101282   7.9250   NaN        S  \n",
       "3      0            113803  53.1000  C123        S  \n",
       "4      0            373450   8.0500   NaN        S  "
      ]
     },
     "execution_count": 2,
     "metadata": {},
     "output_type": "execute_result"
    }
   ],
   "source": [
    "train_data = pd.read_csv('../input/titanic/train.csv')\n",
    "test_data = pd.read_csv('../input/titanic/test.csv',)\n",
    "combined = [train_data,test_data]\n",
    "train_data.head()"
   ]
  },
  {
   "cell_type": "code",
   "execution_count": 3,
   "metadata": {
    "execution": {
     "iopub.execute_input": "2020-10-31T12:33:08.473299Z",
     "iopub.status.busy": "2020-10-31T12:33:08.472224Z",
     "iopub.status.idle": "2020-10-31T12:33:08.479527Z",
     "shell.execute_reply": "2020-10-31T12:33:08.480395Z"
    },
    "executionInfo": {
     "elapsed": 1893,
     "status": "ok",
     "timestamp": 1598562872830,
     "user": {
      "displayName": "Himanshu Madan",
      "photoUrl": "https://lh3.googleusercontent.com/a-/AOh14GisQhAk7cHciVsuMiO7hLXqPAhM8icJBjiKWEM9t30=s64",
      "userId": "07240434886741306598"
     },
     "user_tz": -330
    },
    "id": "s-LiSQr0B5Pr",
    "outputId": "8c59820b-5f6a-493a-96e0-ddcec8837eea",
    "papermill": {
     "duration": 0.114401,
     "end_time": "2020-10-31T12:33:08.480602",
     "exception": false,
     "start_time": "2020-10-31T12:33:08.366201",
     "status": "completed"
    },
    "scrolled": true,
    "tags": []
   },
   "outputs": [
    {
     "name": "stdout",
     "output_type": "stream",
     "text": [
      "<class 'pandas.core.frame.DataFrame'>\n",
      "RangeIndex: 891 entries, 0 to 890\n",
      "Data columns (total 12 columns):\n",
      " #   Column       Non-Null Count  Dtype  \n",
      "---  ------       --------------  -----  \n",
      " 0   PassengerId  891 non-null    int64  \n",
      " 1   Survived     891 non-null    int64  \n",
      " 2   Pclass       891 non-null    int64  \n",
      " 3   Name         891 non-null    object \n",
      " 4   Sex          891 non-null    object \n",
      " 5   Age          714 non-null    float64\n",
      " 6   SibSp        891 non-null    int64  \n",
      " 7   Parch        891 non-null    int64  \n",
      " 8   Ticket       891 non-null    object \n",
      " 9   Fare         891 non-null    float64\n",
      " 10  Cabin        204 non-null    object \n",
      " 11  Embarked     889 non-null    object \n",
      "dtypes: float64(2), int64(5), object(5)\n",
      "memory usage: 83.7+ KB\n",
      "--------------------------------------------------\n",
      "<class 'pandas.core.frame.DataFrame'>\n",
      "RangeIndex: 418 entries, 0 to 417\n",
      "Data columns (total 11 columns):\n",
      " #   Column       Non-Null Count  Dtype  \n",
      "---  ------       --------------  -----  \n",
      " 0   PassengerId  418 non-null    int64  \n",
      " 1   Pclass       418 non-null    int64  \n",
      " 2   Name         418 non-null    object \n",
      " 3   Sex          418 non-null    object \n",
      " 4   Age          332 non-null    float64\n",
      " 5   SibSp        418 non-null    int64  \n",
      " 6   Parch        418 non-null    int64  \n",
      " 7   Ticket       418 non-null    object \n",
      " 8   Fare         417 non-null    float64\n",
      " 9   Cabin        91 non-null     object \n",
      " 10  Embarked     418 non-null    object \n",
      "dtypes: float64(2), int64(4), object(5)\n",
      "memory usage: 36.0+ KB\n"
     ]
    }
   ],
   "source": [
    "train_data.info()\n",
    "print('-' * 50)\n",
    "test_data.info()"
   ]
  },
  {
   "cell_type": "markdown",
   "metadata": {
    "papermill": {
     "duration": 0.091828,
     "end_time": "2020-10-31T12:33:08.665125",
     "exception": false,
     "start_time": "2020-10-31T12:33:08.573297",
     "status": "completed"
    },
    "tags": []
   },
   "source": [
    "### Comparing survival rate with gender."
   ]
  },
  {
   "cell_type": "code",
   "execution_count": 4,
   "metadata": {
    "execution": {
     "iopub.execute_input": "2020-10-31T12:33:08.848056Z",
     "iopub.status.busy": "2020-10-31T12:33:08.847185Z",
     "iopub.status.idle": "2020-10-31T12:33:09.045963Z",
     "shell.execute_reply": "2020-10-31T12:33:09.045138Z"
    },
    "executionInfo": {
     "elapsed": 1878,
     "status": "ok",
     "timestamp": 1598562872830,
     "user": {
      "displayName": "Himanshu Madan",
      "photoUrl": "https://lh3.googleusercontent.com/a-/AOh14GisQhAk7cHciVsuMiO7hLXqPAhM8icJBjiKWEM9t30=s64",
      "userId": "07240434886741306598"
     },
     "user_tz": -330
    },
    "id": "zmjcw2UuzLGO",
    "outputId": "9e97d3a6-cf07-409d-9afc-2c561388e8a1",
    "papermill": {
     "duration": 0.295003,
     "end_time": "2020-10-31T12:33:09.046113",
     "exception": false,
     "start_time": "2020-10-31T12:33:08.751110",
     "status": "completed"
    },
    "scrolled": true,
    "tags": []
   },
   "outputs": [
    {
     "data": {
      "image/png": "[encoded data removed]",
      "text/plain": [
       "<Figure size 432x288 with 1 Axes>"
      ]
     },
     "metadata": {},
     "output_type": "display_data"
    }
   ],
   "source": [
    "sns.set(style=\"whitegrid\")\n",
    "sns.countplot(train_data['Survived'],data = train_data)\n",
    "plt.show()"
   ]
  },
  {
   "cell_type": "code",
   "execution_count": 5,
   "metadata": {
    "execution": {
     "iopub.execute_input": "2020-10-31T12:33:09.239990Z",
     "iopub.status.busy": "2020-10-31T12:33:09.239093Z",
     "iopub.status.idle": "2020-10-31T12:33:09.245342Z",
     "shell.execute_reply": "2020-10-31T12:33:09.246015Z"
    },
    "executionInfo": {
     "elapsed": 1864,
     "status": "ok",
     "timestamp": 1598562872831,
     "user": {
      "displayName": "Himanshu Madan",
      "photoUrl": "https://lh3.googleusercontent.com/a-/AOh14GisQhAk7cHciVsuMiO7hLXqPAhM8icJBjiKWEM9t30=s64",
      "userId": "07240434886741306598"
     },
     "user_tz": -330
    },
    "id": "ZyL01vB-B-kE",
    "outputId": "5f15f03f-68d4-4f6c-cd2f-034172fe4630",
    "papermill": {
     "duration": 0.101608,
     "end_time": "2020-10-31T12:33:09.246186",
     "exception": false,
     "start_time": "2020-10-31T12:33:09.144578",
     "status": "completed"
    },
    "scrolled": true,
    "tags": []
   },
   "outputs": [
    {
     "name": "stdout",
     "output_type": "stream",
     "text": [
      "Percentage of null values in each column of train data:\n",
      "\n"
     ]
    },
    {
     "data": {
      "text/plain": [
       "PassengerId     0.000000\n",
       "Survived        0.000000\n",
       "Pclass          0.000000\n",
       "Name            0.000000\n",
       "Sex             0.000000\n",
       "Age            19.865320\n",
       "SibSp           0.000000\n",
       "Parch           0.000000\n",
       "Ticket          0.000000\n",
       "Fare            0.000000\n",
       "Cabin          77.104377\n",
       "Embarked        0.224467\n",
       "dtype: float64"
      ]
     },
     "execution_count": 5,
     "metadata": {},
     "output_type": "execute_result"
    }
   ],
   "source": [
    "print('Percentage of null values in each column of train data:\\n')\n",
    "(train_data.isnull().sum() / train_data.shape[0]) * 100"
   ]
  },
  {
   "cell_type": "code",
   "execution_count": 6,
   "metadata": {
    "execution": {
     "iopub.execute_input": "2020-10-31T12:33:09.443796Z",
     "iopub.status.busy": "2020-10-31T12:33:09.442999Z",
     "iopub.status.idle": "2020-10-31T12:33:09.451790Z",
     "shell.execute_reply": "2020-10-31T12:33:09.451064Z"
    },
    "executionInfo": {
     "elapsed": 1852,
     "status": "ok",
     "timestamp": 1598562872832,
     "user": {
      "displayName": "Himanshu Madan",
      "photoUrl": "https://lh3.googleusercontent.com/a-/AOh14GisQhAk7cHciVsuMiO7hLXqPAhM8icJBjiKWEM9t30=s64",
      "userId": "07240434886741306598"
     },
     "user_tz": -330
    },
    "id": "D5IN4ib5CQLZ",
    "outputId": "a701a042-ac9b-413d-81f9-661fcdd48782",
    "papermill": {
     "duration": 0.113624,
     "end_time": "2020-10-31T12:33:09.451967",
     "exception": false,
     "start_time": "2020-10-31T12:33:09.338343",
     "status": "completed"
    },
    "scrolled": true,
    "tags": []
   },
   "outputs": [
    {
     "name": "stdout",
     "output_type": "stream",
     "text": [
      "Percentage of null values in each column of test data:\n",
      "\n"
     ]
    },
    {
     "data": {
      "text/plain": [
       "PassengerId     0.000000\n",
       "Pclass          0.000000\n",
       "Name            0.000000\n",
       "Sex             0.000000\n",
       "Age            20.574163\n",
       "SibSp           0.000000\n",
       "Parch           0.000000\n",
       "Ticket          0.000000\n",
       "Fare            0.239234\n",
       "Cabin          78.229665\n",
       "Embarked        0.000000\n",
       "dtype: float64"
      ]
     },
     "execution_count": 6,
     "metadata": {},
     "output_type": "execute_result"
    }
   ],
   "source": [
    "print('Percentage of null values in each column of test data:\\n')\n",
    "(test_data.isnull().sum() / test_data.shape[0]) * 100"
   ]
  },
  {
   "cell_type": "code",
   "execution_count": 7,
   "metadata": {
    "execution": {
     "iopub.execute_input": "2020-10-31T12:33:09.704433Z",
     "iopub.status.busy": "2020-10-31T12:33:09.703181Z",
     "iopub.status.idle": "2020-10-31T12:33:09.807306Z",
     "shell.execute_reply": "2020-10-31T12:33:09.804120Z"
    },
    "executionInfo": {
     "elapsed": 1834,
     "status": "ok",
     "timestamp": 1598562872832,
     "user": {
      "displayName": "Himanshu Madan",
      "photoUrl": "https://lh3.googleusercontent.com/a-/AOh14GisQhAk7cHciVsuMiO7hLXqPAhM8icJBjiKWEM9t30=s64",
      "userId": "07240434886741306598"
     },
     "user_tz": -330
    },
    "id": "r7Rb31_xDSOz",
    "outputId": "6da89192-0fe7-4088-e419-6c5a88edad82",
    "papermill": {
     "duration": 0.260732,
     "end_time": "2020-10-31T12:33:09.807488",
     "exception": false,
     "start_time": "2020-10-31T12:33:09.546756",
     "status": "completed"
    },
    "scrolled": true,
    "tags": []
   },
   "outputs": [
    {
     "data": {
      "text/html": [
       "<div>\n",
       "<style scoped>\n",
       "    .dataframe tbody tr th:only-of-type {\n",
       "        vertical-align: middle;\n",
       "    }\n",
       "\n",
       "    .dataframe tbody tr th {\n",
       "        vertical-align: top;\n",
       "    }\n",
       "\n",
       "    .dataframe thead th {\n",
       "        text-align: right;\n",
       "    }\n",
       "</style>\n",
       "<table border=\"1\" class=\"dataframe\">\n",
       "  <thead>\n",
       "    <tr style=\"text-align: right;\">\n",
       "      <th></th>\n",
       "      <th>PassengerId</th>\n",
       "      <th>Survived</th>\n",
       "      <th>Pclass</th>\n",
       "      <th>Name</th>\n",
       "      <th>Sex</th>\n",
       "      <th>Age</th>\n",
       "      <th>SibSp</th>\n",
       "      <th>Parch</th>\n",
       "      <th>Ticket</th>\n",
       "      <th>Fare</th>\n",
       "      <th>Cabin</th>\n",
       "      <th>Embarked</th>\n",
       "    </tr>\n",
       "  </thead>\n",
       "  <tbody>\n",
       "    <tr>\n",
       "      <th>count</th>\n",
       "      <td>891.000000</td>\n",
       "      <td>891.000000</td>\n",
       "      <td>891.000000</td>\n",
       "      <td>891</td>\n",
       "      <td>891</td>\n",
       "      <td>714.000000</td>\n",
       "      <td>891.000000</td>\n",
       "      <td>891.000000</td>\n",
       "      <td>891</td>\n",
       "      <td>891.000000</td>\n",
       "      <td>204</td>\n",
       "      <td>889</td>\n",
       "    </tr>\n",
       "    <tr>\n",
       "      <th>unique</th>\n",
       "      <td>NaN</td>\n",
       "      <td>NaN</td>\n",
       "      <td>NaN</td>\n",
       "      <td>891</td>\n",
       "      <td>2</td>\n",
       "      <td>NaN</td>\n",
       "      <td>NaN</td>\n",
       "      <td>NaN</td>\n",
       "      <td>681</td>\n",
       "      <td>NaN</td>\n",
       "      <td>147</td>\n",
       "      <td>3</td>\n",
       "    </tr>\n",
       "    <tr>\n",
       "      <th>top</th>\n",
       "      <td>NaN</td>\n",
       "      <td>NaN</td>\n",
       "      <td>NaN</td>\n",
       "      <td>Meo, Mr. Alfonzo</td>\n",
       "      <td>male</td>\n",
       "      <td>NaN</td>\n",
       "      <td>NaN</td>\n",
       "      <td>NaN</td>\n",
       "      <td>347082</td>\n",
       "      <td>NaN</td>\n",
       "      <td>B96 B98</td>\n",
       "      <td>S</td>\n",
       "    </tr>\n",
       "    <tr>\n",
       "      <th>freq</th>\n",
       "      <td>NaN</td>\n",
       "      <td>NaN</td>\n",
       "      <td>NaN</td>\n",
       "      <td>1</td>\n",
       "      <td>577</td>\n",
       "      <td>NaN</td>\n",
       "      <td>NaN</td>\n",
       "      <td>NaN</td>\n",
       "      <td>7</td>\n",
       "      <td>NaN</td>\n",
       "      <td>4</td>\n",
       "      <td>644</td>\n",
       "    </tr>\n",
       "    <tr>\n",
       "      <th>mean</th>\n",
       "      <td>446.000000</td>\n",
       "      <td>0.383838</td>\n",
       "      <td>2.308642</td>\n",
       "      <td>NaN</td>\n",
       "      <td>NaN</td>\n",
       "      <td>29.699118</td>\n",
       "      <td>0.523008</td>\n",
       "      <td>0.381594</td>\n",
       "      <td>NaN</td>\n",
       "      <td>32.204208</td>\n",
       "      <td>NaN</td>\n",
       "      <td>NaN</td>\n",
       "    </tr>\n",
       "    <tr>\n",
       "      <th>std</th>\n",
       "      <td>257.353842</td>\n",
       "      <td>0.486592</td>\n",
       "      <td>0.836071</td>\n",
       "      <td>NaN</td>\n",
       "      <td>NaN</td>\n",
       "      <td>14.526497</td>\n",
       "      <td>1.102743</td>\n",
       "      <td>0.806057</td>\n",
       "      <td>NaN</td>\n",
       "      <td>49.693429</td>\n",
       "      <td>NaN</td>\n",
       "      <td>NaN</td>\n",
       "    </tr>\n",
       "    <tr>\n",
       "      <th>min</th>\n",
       "      <td>1.000000</td>\n",
       "      <td>0.000000</td>\n",
       "      <td>1.000000</td>\n",
       "      <td>NaN</td>\n",
       "      <td>NaN</td>\n",
       "      <td>0.420000</td>\n",
       "      <td>0.000000</td>\n",
       "      <td>0.000000</td>\n",
       "      <td>NaN</td>\n",
       "      <td>0.000000</td>\n",
       "      <td>NaN</td>\n",
       "      <td>NaN</td>\n",
       "    </tr>\n",
       "    <tr>\n",
       "      <th>25%</th>\n",
       "      <td>223.500000</td>\n",
       "      <td>0.000000</td>\n",
       "      <td>2.000000</td>\n",
       "      <td>NaN</td>\n",
       "      <td>NaN</td>\n",
       "      <td>20.125000</td>\n",
       "      <td>0.000000</td>\n",
       "      <td>0.000000</td>\n",
       "      <td>NaN</td>\n",
       "      <td>7.910400</td>\n",
       "      <td>NaN</td>\n",
       "      <td>NaN</td>\n",
       "    </tr>\n",
       "    <tr>\n",
       "      <th>50%</th>\n",
       "      <td>446.000000</td>\n",
       "      <td>0.000000</td>\n",
       "      <td>3.000000</td>\n",
       "      <td>NaN</td>\n",
       "      <td>NaN</td>\n",
       "      <td>28.000000</td>\n",
       "      <td>0.000000</td>\n",
       "      <td>0.000000</td>\n",
       "      <td>NaN</td>\n",
       "      <td>14.454200</td>\n",
       "      <td>NaN</td>\n",
       "      <td>NaN</td>\n",
       "    </tr>\n",
       "    <tr>\n",
       "      <th>75%</th>\n",
       "      <td>668.500000</td>\n",
       "      <td>1.000000</td>\n",
       "      <td>3.000000</td>\n",
       "      <td>NaN</td>\n",
       "      <td>NaN</td>\n",
       "      <td>38.000000</td>\n",
       "      <td>1.000000</td>\n",
       "      <td>0.000000</td>\n",
       "      <td>NaN</td>\n",
       "      <td>31.000000</td>\n",
       "      <td>NaN</td>\n",
       "      <td>NaN</td>\n",
       "    </tr>\n",
       "    <tr>\n",
       "      <th>max</th>\n",
       "      <td>891.000000</td>\n",
       "      <td>1.000000</td>\n",
       "      <td>3.000000</td>\n",
       "      <td>NaN</td>\n",
       "      <td>NaN</td>\n",
       "      <td>80.000000</td>\n",
       "      <td>8.000000</td>\n",
       "      <td>6.000000</td>\n",
       "      <td>NaN</td>\n",
       "      <td>512.329200</td>\n",
       "      <td>NaN</td>\n",
       "      <td>NaN</td>\n",
       "    </tr>\n",
       "  </tbody>\n",
       "</table>\n",
       "</div>"
      ],
      "text/plain": [
       "        PassengerId    Survived      Pclass              Name   Sex  \\\n",
       "count    891.000000  891.000000  891.000000               891   891   \n",
       "unique          NaN         NaN         NaN               891     2   \n",
       "top             NaN         NaN         NaN  Meo, Mr. Alfonzo  male   \n",
       "freq            NaN         NaN         NaN                 1   577   \n",
       "mean     446.000000    0.383838    2.308642               NaN   NaN   \n",
       "std      257.353842    0.486592    0.836071               NaN   NaN   \n",
       "min        1.000000    0.000000    1.000000               NaN   NaN   \n",
       "25%      223.500000    0.000000    2.000000               NaN   NaN   \n",
       "50%      446.000000    0.000000    3.000000               NaN   NaN   \n",
       "75%      668.500000    1.000000    3.000000               NaN   NaN   \n",
       "max      891.000000    1.000000    3.000000               NaN   NaN   \n",
       "\n",
       "               Age       SibSp       Parch  Ticket        Fare    Cabin  \\\n",
       "count   714.000000  891.000000  891.000000     891  891.000000      204   \n",
       "unique         NaN         NaN         NaN     681         NaN      147   \n",
       "top            NaN         NaN         NaN  347082         NaN  B96 B98   \n",
       "freq           NaN         NaN         NaN       7         NaN        4   \n",
       "mean     29.699118    0.523008    0.381594     NaN   32.204208      NaN   \n",
       "std      14.526497    1.102743    0.806057     NaN   49.693429      NaN   \n",
       "min       0.420000    0.000000    0.000000     NaN    0.000000      NaN   \n",
       "25%      20.125000    0.000000    0.000000     NaN    7.910400      NaN   \n",
       "50%      28.000000    0.000000    0.000000     NaN   14.454200      NaN   \n",
       "75%      38.000000    1.000000    0.000000     NaN   31.000000      NaN   \n",
       "max      80.000000    8.000000    6.000000     NaN  512.329200      NaN   \n",
       "\n",
       "       Embarked  \n",
       "count       889  \n",
       "unique        3  \n",
       "top           S  \n",
       "freq        644  \n",
       "mean        NaN  \n",
       "std         NaN  \n",
       "min         NaN  \n",
       "25%         NaN  \n",
       "50%         NaN  \n",
       "75%         NaN  \n",
       "max         NaN  "
      ]
     },
     "execution_count": 7,
     "metadata": {},
     "output_type": "execute_result"
    }
   ],
   "source": [
    "train_data.describe(include = 'all')"
   ]
  },
  {
   "cell_type": "code",
   "execution_count": 8,
   "metadata": {
    "execution": {
     "iopub.execute_input": "2020-10-31T12:33:10.140059Z",
     "iopub.status.busy": "2020-10-31T12:33:10.138732Z",
     "iopub.status.idle": "2020-10-31T12:33:10.909222Z",
     "shell.execute_reply": "2020-10-31T12:33:10.910922Z"
    },
    "executionInfo": {
     "elapsed": 3180,
     "status": "ok",
     "timestamp": 1598562874191,
     "user": {
      "displayName": "Himanshu Madan",
      "photoUrl": "https://lh3.googleusercontent.com/a-/AOh14GisQhAk7cHciVsuMiO7hLXqPAhM8icJBjiKWEM9t30=s64",
      "userId": "07240434886741306598"
     },
     "user_tz": -330
    },
    "id": "GaC9800xHVEi",
    "outputId": "481f8c99-7528-4dd8-e42a-16c353d3047b",
    "papermill": {
     "duration": 0.947354,
     "end_time": "2020-10-31T12:33:10.911182",
     "exception": false,
     "start_time": "2020-10-31T12:33:09.963828",
     "status": "completed"
    },
    "scrolled": true,
    "tags": []
   },
   "outputs": [
    {
     "data": {
      "image/png": "[encoded data removed]",
      "text/plain": [
       "<Figure size 720x576 with 2 Axes>"
      ]
     },
     "metadata": {},
     "output_type": "display_data"
    }
   ],
   "source": [
    "plt.figure(figsize = (10,8))\n",
    "sns.heatmap(train_data.corr(),annot=True,cbar = True)\n",
    "plt.show()"
   ]
  },
  {
   "cell_type": "markdown",
   "metadata": {
    "papermill": {
     "duration": 0.088022,
     "end_time": "2020-10-31T12:33:11.109505",
     "exception": false,
     "start_time": "2020-10-31T12:33:11.021483",
     "status": "completed"
    },
    "tags": []
   },
   "source": [
    "> Dropping passengerid as it does not affect survived class. <br>\n",
    "> Dropping cabin as it has lots of null values."
   ]
  },
  {
   "cell_type": "code",
   "execution_count": 9,
   "metadata": {
    "execution": {
     "iopub.execute_input": "2020-10-31T12:33:11.297894Z",
     "iopub.status.busy": "2020-10-31T12:33:11.296526Z",
     "iopub.status.idle": "2020-10-31T12:33:11.298877Z",
     "shell.execute_reply": "2020-10-31T12:33:11.299564Z"
    },
    "id": "Gc_n7QYZKCXF",
    "papermill": {
     "duration": 0.101102,
     "end_time": "2020-10-31T12:33:11.299711",
     "exception": false,
     "start_time": "2020-10-31T12:33:11.198609",
     "status": "completed"
    },
    "scrolled": true,
    "tags": []
   },
   "outputs": [],
   "source": [
    "train_data.drop(['PassengerId','Cabin'],inplace=True,axis = 1)\n",
    "test_data.drop(['PassengerId','Cabin'],inplace=True,axis = 1)"
   ]
  },
  {
   "cell_type": "code",
   "execution_count": 10,
   "metadata": {
    "execution": {
     "iopub.execute_input": "2020-10-31T12:33:11.479283Z",
     "iopub.status.busy": "2020-10-31T12:33:11.478362Z",
     "iopub.status.idle": "2020-10-31T12:33:11.482031Z",
     "shell.execute_reply": "2020-10-31T12:33:11.482613Z"
    },
    "executionInfo": {
     "elapsed": 3158,
     "status": "ok",
     "timestamp": 1598562874195,
     "user": {
      "displayName": "Himanshu Madan",
      "photoUrl": "https://lh3.googleusercontent.com/a-/AOh14GisQhAk7cHciVsuMiO7hLXqPAhM8icJBjiKWEM9t30=s64",
      "userId": "07240434886741306598"
     },
     "user_tz": -330
    },
    "id": "2N4cxqi6xYOi",
    "outputId": "0dd96924-448c-40c4-9dd0-6113f7750f88",
    "papermill": {
     "duration": 0.096253,
     "end_time": "2020-10-31T12:33:11.482750",
     "exception": false,
     "start_time": "2020-10-31T12:33:11.386497",
     "status": "completed"
    },
    "scrolled": true,
    "tags": []
   },
   "outputs": [
    {
     "data": {
      "text/plain": [
       "Index(['Survived', 'Pclass', 'Name', 'Sex', 'Age', 'SibSp', 'Parch', 'Ticket',\n",
       "       'Fare', 'Embarked'],\n",
       "      dtype='object')"
      ]
     },
     "execution_count": 10,
     "metadata": {},
     "output_type": "execute_result"
    }
   ],
   "source": [
    "train_data.columns"
   ]
  },
  {
   "cell_type": "code",
   "execution_count": 11,
   "metadata": {
    "execution": {
     "iopub.execute_input": "2020-10-31T12:33:11.666198Z",
     "iopub.status.busy": "2020-10-31T12:33:11.665206Z",
     "iopub.status.idle": "2020-10-31T12:33:11.668912Z",
     "shell.execute_reply": "2020-10-31T12:33:11.669578Z"
    },
    "executionInfo": {
     "elapsed": 3146,
     "status": "ok",
     "timestamp": 1598562874196,
     "user": {
      "displayName": "Himanshu Madan",
      "photoUrl": "https://lh3.googleusercontent.com/a-/AOh14GisQhAk7cHciVsuMiO7hLXqPAhM8icJBjiKWEM9t30=s64",
      "userId": "07240434886741306598"
     },
     "user_tz": -330
    },
    "id": "S4eoPJ-RKfNd",
    "outputId": "e148249d-be06-4e3d-a876-014b34735fd0",
    "papermill": {
     "duration": 0.100184,
     "end_time": "2020-10-31T12:33:11.669723",
     "exception": false,
     "start_time": "2020-10-31T12:33:11.569539",
     "status": "completed"
    },
    "scrolled": true,
    "tags": []
   },
   "outputs": [
    {
     "data": {
      "text/plain": [
       "Name        Braund, Mr. Owen Harris\n",
       "Sex                            male\n",
       "Ticket                    A/5 21171\n",
       "Embarked                          S\n",
       "Name: 0, dtype: object"
      ]
     },
     "execution_count": 11,
     "metadata": {},
     "output_type": "execute_result"
    }
   ],
   "source": [
    "train_data.loc[0,train_data.dtypes == object]"
   ]
  },
  {
   "cell_type": "markdown",
   "metadata": {
    "papermill": {
     "duration": 0.087268,
     "end_time": "2020-10-31T12:33:11.844409",
     "exception": false,
     "start_time": "2020-10-31T12:33:11.757141",
     "status": "completed"
    },
    "tags": []
   },
   "source": [
    "> Finding co-relations between target variable and name, sex, ticket and embarked columns."
   ]
  },
  {
   "cell_type": "code",
   "execution_count": 12,
   "metadata": {
    "execution": {
     "iopub.execute_input": "2020-10-31T12:33:12.029964Z",
     "iopub.status.busy": "2020-10-31T12:33:12.028472Z",
     "iopub.status.idle": "2020-10-31T12:33:12.221271Z",
     "shell.execute_reply": "2020-10-31T12:33:12.221890Z"
    },
    "executionInfo": {
     "elapsed": 3128,
     "status": "ok",
     "timestamp": 1598562874197,
     "user": {
      "displayName": "Himanshu Madan",
      "photoUrl": "https://lh3.googleusercontent.com/a-/AOh14GisQhAk7cHciVsuMiO7hLXqPAhM8icJBjiKWEM9t30=s64",
      "userId": "07240434886741306598"
     },
     "user_tz": -330
    },
    "id": "R8aUILSswITV",
    "outputId": "f5ecef97-eefe-4c27-9e59-9641414c6bdf",
    "papermill": {
     "duration": 0.289504,
     "end_time": "2020-10-31T12:33:12.222061",
     "exception": false,
     "start_time": "2020-10-31T12:33:11.932557",
     "status": "completed"
    },
    "scrolled": true,
    "tags": []
   },
   "outputs": [
    {
     "name": "stdout",
     "output_type": "stream",
     "text": [
      "Sex     Survived\n",
      "female  0            81\n",
      "        1           233\n",
      "male    0           468\n",
      "        1           109\n",
      "Name: Survived, dtype: int64\n"
     ]
    },
    {
     "data": {
      "image/png": "[encoded data removed]",
      "text/plain": [
       "<Figure size 432x288 with 1 Axes>"
      ]
     },
     "metadata": {},
     "output_type": "display_data"
    }
   ],
   "source": [
    "print(train_data.groupby(['Sex','Survived'])['Survived'].count())\n",
    "\n",
    "sns.set(style=\"whitegrid\")\n",
    "sns.countplot(train_data['Survived'],hue = 'Sex',data = train_data)\n",
    "plt.show()"
   ]
  },
  {
   "cell_type": "code",
   "execution_count": 13,
   "metadata": {
    "execution": {
     "iopub.execute_input": "2020-10-31T12:33:12.420348Z",
     "iopub.status.busy": "2020-10-31T12:33:12.419278Z",
     "iopub.status.idle": "2020-10-31T12:33:12.421881Z",
     "shell.execute_reply": "2020-10-31T12:33:12.422537Z"
    },
    "id": "hQv18O_O8BaX",
    "papermill": {
     "duration": 0.101732,
     "end_time": "2020-10-31T12:33:12.422686",
     "exception": false,
     "start_time": "2020-10-31T12:33:12.320954",
     "status": "completed"
    },
    "tags": []
   },
   "outputs": [],
   "source": [
    "train_data.drop(['Ticket'],axis = 1,inplace = True)\n",
    "test_data.drop(['Ticket'],axis = 1,inplace = True)"
   ]
  },
  {
   "cell_type": "code",
   "execution_count": 14,
   "metadata": {
    "execution": {
     "iopub.execute_input": "2020-10-31T12:33:12.608465Z",
     "iopub.status.busy": "2020-10-31T12:33:12.607383Z",
     "iopub.status.idle": "2020-10-31T12:33:12.818688Z",
     "shell.execute_reply": "2020-10-31T12:33:12.819414Z"
    },
    "executionInfo": {
     "elapsed": 3110,
     "status": "ok",
     "timestamp": 1598562874200,
     "user": {
      "displayName": "Himanshu Madan",
      "photoUrl": "https://lh3.googleusercontent.com/a-/AOh14GisQhAk7cHciVsuMiO7hLXqPAhM8icJBjiKWEM9t30=s64",
      "userId": "07240434886741306598"
     },
     "user_tz": -330
    },
    "id": "Pn6fMuuX2_Yl",
    "outputId": "ac899cf2-c04b-47f1-8bdd-ec1dc13f570d",
    "papermill": {
     "duration": 0.308703,
     "end_time": "2020-10-31T12:33:12.819590",
     "exception": false,
     "start_time": "2020-10-31T12:33:12.510887",
     "status": "completed"
    },
    "scrolled": true,
    "tags": []
   },
   "outputs": [
    {
     "name": "stdout",
     "output_type": "stream",
     "text": [
      "Embarked  Survived\n",
      "C         0            75\n",
      "          1            93\n",
      "Q         0            47\n",
      "          1            30\n",
      "S         0           427\n",
      "          1           217\n",
      "Name: Survived, dtype: int64\n"
     ]
    },
    {
     "data": {
      "image/png": "[encoded data removed]",
      "text/plain": [
       "<Figure size 432x288 with 1 Axes>"
      ]
     },
     "metadata": {},
     "output_type": "display_data"
    }
   ],
   "source": [
    "print(train_data.groupby(['Embarked','Survived'])['Survived'].count())\n",
    "sns.set(style=\"whitegrid\")\n",
    "sns.countplot(train_data['Survived'],hue = 'Embarked',data = train_data)\n",
    "plt.show()"
   ]
  },
  {
   "cell_type": "markdown",
   "metadata": {
    "papermill": {
     "duration": 0.090315,
     "end_time": "2020-10-31T12:33:13.015354",
     "exception": false,
     "start_time": "2020-10-31T12:33:12.925039",
     "status": "completed"
    },
    "tags": []
   },
   "source": [
    "> Feature engineering on Name,Age,SibSp + Parch and Fare features. "
   ]
  },
  {
   "cell_type": "code",
   "execution_count": 15,
   "metadata": {
    "execution": {
     "iopub.execute_input": "2020-10-31T12:33:13.228297Z",
     "iopub.status.busy": "2020-10-31T12:33:13.214748Z",
     "iopub.status.idle": "2020-10-31T12:33:13.261561Z",
     "shell.execute_reply": "2020-10-31T12:33:13.260842Z"
    },
    "executionInfo": {
     "elapsed": 3092,
     "status": "ok",
     "timestamp": 1598562874201,
     "user": {
      "displayName": "Himanshu Madan",
      "photoUrl": "https://lh3.googleusercontent.com/a-/AOh14GisQhAk7cHciVsuMiO7hLXqPAhM8icJBjiKWEM9t30=s64",
      "userId": "07240434886741306598"
     },
     "user_tz": -330
    },
    "id": "CWrOJ8Ul6Og-",
    "outputId": "faade7df-1870-45b0-f6ce-9f7245fc74ec",
    "papermill": {
     "duration": 0.15519,
     "end_time": "2020-10-31T12:33:13.261701",
     "exception": false,
     "start_time": "2020-10-31T12:33:13.106511",
     "status": "completed"
    },
    "scrolled": true,
    "tags": []
   },
   "outputs": [
    {
     "name": "stdout",
     "output_type": "stream",
     "text": [
      "Sex       female  male\n",
      "Title                 \n",
      "Capt           0     1\n",
      "Col            0     2\n",
      "Countess       1     0\n",
      "Don            0     1\n",
      "Dr             1     6\n",
      "Jonkheer       0     1\n",
      "Lady           1     0\n",
      "Major          0     2\n",
      "Master         0    40\n",
      "Miss         182     0\n",
      "Mlle           2     0\n",
      "Mme            1     0\n",
      "Mr             0   517\n",
      "Mrs          125     0\n",
      "Ms             1     0\n",
      "Rev            0     6\n",
      "Sir            0     1\n",
      "--------------------------------------------------\n",
      "Sex     female  male\n",
      "Title               \n",
      "Col          0     2\n",
      "Dona         1     0\n",
      "Dr           0     1\n",
      "Master       0    21\n",
      "Miss        78     0\n",
      "Mr           0   240\n",
      "Mrs         72     0\n",
      "Ms           1     0\n",
      "Rev          0     2\n"
     ]
    }
   ],
   "source": [
    "for dataset in combined:\n",
    "    dataset['Title'] = dataset.Name.str.extract(' ([A-Za-z]+)\\.', expand=False)\n",
    "print(pd.crosstab(train_data['Title'], train_data['Sex']))\n",
    "print('-' * 50)\n",
    "print(pd.crosstab(test_data['Title'], test_data['Sex']))"
   ]
  },
  {
   "cell_type": "code",
   "execution_count": 16,
   "metadata": {
    "execution": {
     "iopub.execute_input": "2020-10-31T12:33:13.481924Z",
     "iopub.status.busy": "2020-10-31T12:33:13.480915Z",
     "iopub.status.idle": "2020-10-31T12:33:13.485661Z",
     "shell.execute_reply": "2020-10-31T12:33:13.486534Z"
    },
    "executionInfo": {
     "elapsed": 3081,
     "status": "ok",
     "timestamp": 1598562874202,
     "user": {
      "displayName": "Himanshu Madan",
      "photoUrl": "https://lh3.googleusercontent.com/a-/AOh14GisQhAk7cHciVsuMiO7hLXqPAhM8icJBjiKWEM9t30=s64",
      "userId": "07240434886741306598"
     },
     "user_tz": -330
    },
    "id": "t5c-0hvYOTQV",
    "outputId": "07b72a69-55aa-40d7-8a76-e01db63cfca1",
    "papermill": {
     "duration": 0.12348,
     "end_time": "2020-10-31T12:33:13.486752",
     "exception": false,
     "start_time": "2020-10-31T12:33:13.363272",
     "status": "completed"
    },
    "scrolled": true,
    "tags": []
   },
   "outputs": [
    {
     "name": "stdout",
     "output_type": "stream",
     "text": [
      "    Title  Survived\n",
      "0  Master  0.575000\n",
      "1    Miss  0.702703\n",
      "2      Mr  0.156673\n",
      "3     Mrs  0.793651\n",
      "4    Rare  0.347826\n"
     ]
    }
   ],
   "source": [
    "for dataset in combined:\n",
    "    dataset['Title'] = dataset['Title'].replace(['Lady', 'Countess','Capt', 'Col',\n",
    " \t'Don', 'Dr', 'Major', 'Rev', 'Sir', 'Jonkheer', 'Dona'], 'Rare')\n",
    "\n",
    "    dataset['Title'] = dataset['Title'].replace('Mlle', 'Miss')\n",
    "    dataset['Title'] = dataset['Title'].replace('Ms', 'Miss')\n",
    "    dataset['Title'] = dataset['Title'].replace('Mme', 'Mrs')\n",
    "\n",
    "print(train_data[['Title', 'Survived']].groupby(['Title'], as_index = False).mean())"
   ]
  },
  {
   "cell_type": "code",
   "execution_count": 17,
   "metadata": {
    "execution": {
     "iopub.execute_input": "2020-10-31T12:33:13.763184Z",
     "iopub.status.busy": "2020-10-31T12:33:13.741653Z",
     "iopub.status.idle": "2020-10-31T12:33:13.766746Z",
     "shell.execute_reply": "2020-10-31T12:33:13.767457Z"
    },
    "executionInfo": {
     "elapsed": 3071,
     "status": "ok",
     "timestamp": 1598562874203,
     "user": {
      "displayName": "Himanshu Madan",
      "photoUrl": "https://lh3.googleusercontent.com/a-/AOh14GisQhAk7cHciVsuMiO7hLXqPAhM8icJBjiKWEM9t30=s64",
      "userId": "07240434886741306598"
     },
     "user_tz": -330
    },
    "id": "JgJqq17OPpNo",
    "outputId": "94f500cb-38f4-4b60-bf5b-4c84daaef9fa",
    "papermill": {
     "duration": 0.130407,
     "end_time": "2020-10-31T12:33:13.767627",
     "exception": false,
     "start_time": "2020-10-31T12:33:13.637220",
     "status": "completed"
    },
    "scrolled": true,
    "tags": []
   },
   "outputs": [
    {
     "name": "stdout",
     "output_type": "stream",
     "text": [
      "  CategoricalAge  Survived\n",
      "0  (-0.08, 16.0]  0.522523\n",
      "1   (16.0, 32.0]  0.359375\n",
      "2   (32.0, 48.0]  0.365079\n",
      "3   (48.0, 64.0]  0.434783\n",
      "4   (64.0, 80.0]  0.090909\n"
     ]
    }
   ],
   "source": [
    "for dataset in combined:\n",
    "    age_avg \t   = dataset['Age'].mean()\n",
    "    age_std \t   = dataset['Age'].std()\n",
    "    age_null_count = dataset['Age'].isnull().sum()\n",
    "    \n",
    "    age_null_random_list = np.random.randint(age_avg - age_std, age_avg + age_std, size=age_null_count)\n",
    "    dataset['Age'][np.isnan(dataset['Age'])] = age_null_random_list\n",
    "    dataset['Age'] = dataset['Age'].astype(int)\n",
    "    \n",
    "train_data['CategoricalAge'] = pd.cut(train_data['Age'], 5)\n",
    "\n",
    "print (train_data[['CategoricalAge', 'Survived']].groupby(['CategoricalAge'], as_index=False).mean())"
   ]
  },
  {
   "cell_type": "code",
   "execution_count": 18,
   "metadata": {
    "execution": {
     "iopub.execute_input": "2020-10-31T12:33:13.980144Z",
     "iopub.status.busy": "2020-10-31T12:33:13.979016Z",
     "iopub.status.idle": "2020-10-31T12:33:13.994608Z",
     "shell.execute_reply": "2020-10-31T12:33:13.993969Z"
    },
    "executionInfo": {
     "elapsed": 3048,
     "status": "ok",
     "timestamp": 1598562874203,
     "user": {
      "displayName": "Himanshu Madan",
      "photoUrl": "https://lh3.googleusercontent.com/a-/AOh14GisQhAk7cHciVsuMiO7hLXqPAhM8icJBjiKWEM9t30=s64",
      "userId": "07240434886741306598"
     },
     "user_tz": -330
    },
    "id": "klFxHkfLSQvR",
    "outputId": "09541355-8e35-4bd7-d8f1-7722499831da",
    "papermill": {
     "duration": 0.124772,
     "end_time": "2020-10-31T12:33:13.994742",
     "exception": false,
     "start_time": "2020-10-31T12:33:13.869970",
     "status": "completed"
    },
    "scrolled": true,
    "tags": []
   },
   "outputs": [
    {
     "data": {
      "text/html": [
       "<div>\n",
       "<style scoped>\n",
       "    .dataframe tbody tr th:only-of-type {\n",
       "        vertical-align: middle;\n",
       "    }\n",
       "\n",
       "    .dataframe tbody tr th {\n",
       "        vertical-align: top;\n",
       "    }\n",
       "\n",
       "    .dataframe thead th {\n",
       "        text-align: right;\n",
       "    }\n",
       "</style>\n",
       "<table border=\"1\" class=\"dataframe\">\n",
       "  <thead>\n",
       "    <tr style=\"text-align: right;\">\n",
       "      <th></th>\n",
       "      <th>FamilySize</th>\n",
       "      <th>Survived</th>\n",
       "    </tr>\n",
       "  </thead>\n",
       "  <tbody>\n",
       "    <tr>\n",
       "      <th>0</th>\n",
       "      <td>1</td>\n",
       "      <td>0.303538</td>\n",
       "    </tr>\n",
       "    <tr>\n",
       "      <th>1</th>\n",
       "      <td>2</td>\n",
       "      <td>0.552795</td>\n",
       "    </tr>\n",
       "    <tr>\n",
       "      <th>2</th>\n",
       "      <td>3</td>\n",
       "      <td>0.578431</td>\n",
       "    </tr>\n",
       "    <tr>\n",
       "      <th>3</th>\n",
       "      <td>4</td>\n",
       "      <td>0.724138</td>\n",
       "    </tr>\n",
       "    <tr>\n",
       "      <th>4</th>\n",
       "      <td>5</td>\n",
       "      <td>0.200000</td>\n",
       "    </tr>\n",
       "    <tr>\n",
       "      <th>5</th>\n",
       "      <td>6</td>\n",
       "      <td>0.136364</td>\n",
       "    </tr>\n",
       "    <tr>\n",
       "      <th>6</th>\n",
       "      <td>7</td>\n",
       "      <td>0.333333</td>\n",
       "    </tr>\n",
       "    <tr>\n",
       "      <th>7</th>\n",
       "      <td>8</td>\n",
       "      <td>0.000000</td>\n",
       "    </tr>\n",
       "    <tr>\n",
       "      <th>8</th>\n",
       "      <td>11</td>\n",
       "      <td>0.000000</td>\n",
       "    </tr>\n",
       "  </tbody>\n",
       "</table>\n",
       "</div>"
      ],
      "text/plain": [
       "   FamilySize  Survived\n",
       "0           1  0.303538\n",
       "1           2  0.552795\n",
       "2           3  0.578431\n",
       "3           4  0.724138\n",
       "4           5  0.200000\n",
       "5           6  0.136364\n",
       "6           7  0.333333\n",
       "7           8  0.000000\n",
       "8          11  0.000000"
      ]
     },
     "execution_count": 18,
     "metadata": {},
     "output_type": "execute_result"
    }
   ],
   "source": [
    "for dataset in combined:\n",
    "    dataset['FamilySize'] = dataset['SibSp'] + dataset['Parch'] + 1\n",
    "train_data[['FamilySize','Survived']].groupby('FamilySize',as_index = False).mean()"
   ]
  },
  {
   "cell_type": "code",
   "execution_count": 19,
   "metadata": {
    "execution": {
     "iopub.execute_input": "2020-10-31T12:33:14.194768Z",
     "iopub.status.busy": "2020-10-31T12:33:14.193613Z",
     "iopub.status.idle": "2020-10-31T12:33:14.621728Z",
     "shell.execute_reply": "2020-10-31T12:33:14.622368Z"
    },
    "papermill": {
     "duration": 0.533689,
     "end_time": "2020-10-31T12:33:14.622529",
     "exception": false,
     "start_time": "2020-10-31T12:33:14.088840",
     "status": "completed"
    },
    "tags": []
   },
   "outputs": [
    {
     "name": "stdout",
     "output_type": "stream",
     "text": [
      "   FamilySizeCategory  Survived\n",
      "0                   0  0.000000\n",
      "1                   1  0.204082\n",
      "2                   2  0.400483\n"
     ]
    },
    {
     "data": {
      "text/plain": [
       "3"
      ]
     },
     "execution_count": 19,
     "metadata": {},
     "output_type": "execute_result"
    }
   ],
   "source": [
    "for dataset in combined:\n",
    "    dataset['FamilySizeCategory'] = 0\n",
    "    for i in range(len(dataset)) : \n",
    "        if(dataset.loc[i,'FamilySize'] <= 4):\n",
    "            dataset.loc[i,'FamilySizeCategory'] = 2\n",
    "        elif((dataset.loc[i,'FamilySize'] > 4) & (dataset.loc[i,'FamilySize'] < 8)):\n",
    "            dataset.loc[i,'FamilySizeCategory'] = 1\n",
    "        else:\n",
    "            dataset.loc[i,'FamilySizeCategory'] = 0           \n",
    "    \n",
    "print (train_data[['FamilySizeCategory', 'Survived']].groupby(['FamilySizeCategory'], as_index=False).mean())\n",
    "train_data['FamilySizeCategory'].nunique()"
   ]
  },
  {
   "cell_type": "code",
   "execution_count": 20,
   "metadata": {
    "execution": {
     "iopub.execute_input": "2020-10-31T12:33:14.828750Z",
     "iopub.status.busy": "2020-10-31T12:33:14.827663Z",
     "iopub.status.idle": "2020-10-31T12:33:14.841498Z",
     "shell.execute_reply": "2020-10-31T12:33:14.840848Z"
    },
    "executionInfo": {
     "elapsed": 3025,
     "status": "ok",
     "timestamp": 1598562874204,
     "user": {
      "displayName": "Himanshu Madan",
      "photoUrl": "https://lh3.googleusercontent.com/a-/AOh14GisQhAk7cHciVsuMiO7hLXqPAhM8icJBjiKWEM9t30=s64",
      "userId": "07240434886741306598"
     },
     "user_tz": -330
    },
    "id": "N1_QEURKS-ef",
    "outputId": "cffa20a6-f915-4db2-ea6e-79e31aa1b9d6",
    "papermill": {
     "duration": 0.114758,
     "end_time": "2020-10-31T12:33:14.841641",
     "exception": false,
     "start_time": "2020-10-31T12:33:14.726883",
     "status": "completed"
    },
    "scrolled": true,
    "tags": []
   },
   "outputs": [
    {
     "name": "stdout",
     "output_type": "stream",
     "text": [
      "   IsAlone  Survived\n",
      "0        0  0.505650\n",
      "1        1  0.303538\n"
     ]
    }
   ],
   "source": [
    "for dataset in combined:\n",
    "    dataset['IsAlone'] = 0\n",
    "    dataset.loc[dataset['FamilySize'] == 1, 'IsAlone'] = 1\n",
    "print (train_data[['IsAlone', 'Survived']].groupby(['IsAlone'], as_index=False).mean())"
   ]
  },
  {
   "cell_type": "code",
   "execution_count": 21,
   "metadata": {
    "execution": {
     "iopub.execute_input": "2020-10-31T12:33:15.050698Z",
     "iopub.status.busy": "2020-10-31T12:33:15.049582Z",
     "iopub.status.idle": "2020-10-31T12:33:15.066828Z",
     "shell.execute_reply": "2020-10-31T12:33:15.066160Z"
    },
    "executionInfo": {
     "elapsed": 3017,
     "status": "ok",
     "timestamp": 1598562874205,
     "user": {
      "displayName": "Himanshu Madan",
      "photoUrl": "https://lh3.googleusercontent.com/a-/AOh14GisQhAk7cHciVsuMiO7hLXqPAhM8icJBjiKWEM9t30=s64",
      "userId": "07240434886741306598"
     },
     "user_tz": -330
    },
    "id": "5cyn989DUxiy",
    "outputId": "2156c72b-1ba3-41d8-e722-460d58978f75",
    "papermill": {
     "duration": 0.120761,
     "end_time": "2020-10-31T12:33:15.066988",
     "exception": false,
     "start_time": "2020-10-31T12:33:14.946227",
     "status": "completed"
    },
    "scrolled": true,
    "tags": []
   },
   "outputs": [
    {
     "name": "stdout",
     "output_type": "stream",
     "text": [
      "   CategoricalFare  Survived\n",
      "0   (-0.001, 7.91]  0.197309\n",
      "1   (7.91, 14.454]  0.303571\n",
      "2   (14.454, 31.0]  0.454955\n",
      "3  (31.0, 512.329]  0.581081\n"
     ]
    }
   ],
   "source": [
    "for dataset in combined:\n",
    "    dataset['Fare'] = dataset['Fare'].fillna(train_data['Fare'].median())\n",
    "train_data['CategoricalFare'] = pd.qcut(train_data['Fare'], 4)\n",
    "print (train_data[['CategoricalFare', 'Survived']].groupby(['CategoricalFare'], as_index=False).mean())"
   ]
  },
  {
   "cell_type": "code",
   "execution_count": 22,
   "metadata": {
    "execution": {
     "iopub.execute_input": "2020-10-31T12:33:15.290475Z",
     "iopub.status.busy": "2020-10-31T12:33:15.289303Z",
     "iopub.status.idle": "2020-10-31T12:33:15.293915Z",
     "shell.execute_reply": "2020-10-31T12:33:15.294565Z"
    },
    "executionInfo": {
     "elapsed": 3004,
     "status": "ok",
     "timestamp": 1598562874206,
     "user": {
      "displayName": "Himanshu Madan",
      "photoUrl": "https://lh3.googleusercontent.com/a-/AOh14GisQhAk7cHciVsuMiO7hLXqPAhM8icJBjiKWEM9t30=s64",
      "userId": "07240434886741306598"
     },
     "user_tz": -330
    },
    "id": "uPfgM3fnuLhf",
    "outputId": "be37b307-ec02-4473-b67a-ffe9690914ee",
    "papermill": {
     "duration": 0.121157,
     "end_time": "2020-10-31T12:33:15.294730",
     "exception": false,
     "start_time": "2020-10-31T12:33:15.173573",
     "status": "completed"
    },
    "scrolled": true,
    "tags": []
   },
   "outputs": [
    {
     "data": {
      "text/html": [
       "<div>\n",
       "<style scoped>\n",
       "    .dataframe tbody tr th:only-of-type {\n",
       "        vertical-align: middle;\n",
       "    }\n",
       "\n",
       "    .dataframe tbody tr th {\n",
       "        vertical-align: top;\n",
       "    }\n",
       "\n",
       "    .dataframe thead th {\n",
       "        text-align: right;\n",
       "    }\n",
       "</style>\n",
       "<table border=\"1\" class=\"dataframe\">\n",
       "  <thead>\n",
       "    <tr style=\"text-align: right;\">\n",
       "      <th></th>\n",
       "      <th>Embarked</th>\n",
       "      <th>Survived</th>\n",
       "    </tr>\n",
       "  </thead>\n",
       "  <tbody>\n",
       "    <tr>\n",
       "      <th>0</th>\n",
       "      <td>C</td>\n",
       "      <td>0.553571</td>\n",
       "    </tr>\n",
       "    <tr>\n",
       "      <th>1</th>\n",
       "      <td>Q</td>\n",
       "      <td>0.389610</td>\n",
       "    </tr>\n",
       "    <tr>\n",
       "      <th>2</th>\n",
       "      <td>S</td>\n",
       "      <td>0.339009</td>\n",
       "    </tr>\n",
       "  </tbody>\n",
       "</table>\n",
       "</div>"
      ],
      "text/plain": [
       "  Embarked  Survived\n",
       "0        C  0.553571\n",
       "1        Q  0.389610\n",
       "2        S  0.339009"
      ]
     },
     "execution_count": 22,
     "metadata": {},
     "output_type": "execute_result"
    }
   ],
   "source": [
    "for dataset in combined:\n",
    "    dataset['Embarked'] = dataset['Embarked'].fillna(train_data['Embarked'].mode()[0])\n",
    "train_data[['Embarked','Survived']].groupby(['Embarked'],as_index = False).mean()"
   ]
  },
  {
   "cell_type": "code",
   "execution_count": 23,
   "metadata": {
    "execution": {
     "iopub.execute_input": "2020-10-31T12:33:15.501751Z",
     "iopub.status.busy": "2020-10-31T12:33:15.500693Z",
     "iopub.status.idle": "2020-10-31T12:33:15.516060Z",
     "shell.execute_reply": "2020-10-31T12:33:15.515375Z"
    },
    "executionInfo": {
     "elapsed": 2992,
     "status": "ok",
     "timestamp": 1598562874207,
     "user": {
      "displayName": "Himanshu Madan",
      "photoUrl": "https://lh3.googleusercontent.com/a-/AOh14GisQhAk7cHciVsuMiO7hLXqPAhM8icJBjiKWEM9t30=s64",
      "userId": "07240434886741306598"
     },
     "user_tz": -330
    },
    "id": "dSRiqmhWB5hE",
    "outputId": "d3658bea-8e05-4977-f294-0c14ddad395f",
    "papermill": {
     "duration": 0.116961,
     "end_time": "2020-10-31T12:33:15.516201",
     "exception": false,
     "start_time": "2020-10-31T12:33:15.399240",
     "status": "completed"
    },
    "scrolled": true,
    "tags": []
   },
   "outputs": [
    {
     "name": "stdout",
     "output_type": "stream",
     "text": [
      "<class 'pandas.core.frame.DataFrame'>\n",
      "RangeIndex: 891 entries, 0 to 890\n",
      "Data columns (total 15 columns):\n",
      " #   Column              Non-Null Count  Dtype   \n",
      "---  ------              --------------  -----   \n",
      " 0   Survived            891 non-null    int64   \n",
      " 1   Pclass              891 non-null    int64   \n",
      " 2   Name                891 non-null    object  \n",
      " 3   Sex                 891 non-null    object  \n",
      " 4   Age                 891 non-null    int64   \n",
      " 5   SibSp               891 non-null    int64   \n",
      " 6   Parch               891 non-null    int64   \n",
      " 7   Fare                891 non-null    float64 \n",
      " 8   Embarked            891 non-null    object  \n",
      " 9   Title               891 non-null    object  \n",
      " 10  CategoricalAge      891 non-null    category\n",
      " 11  FamilySize          891 non-null    int64   \n",
      " 12  FamilySizeCategory  891 non-null    int64   \n",
      " 13  IsAlone             891 non-null    int64   \n",
      " 14  CategoricalFare     891 non-null    category\n",
      "dtypes: category(2), float64(1), int64(8), object(4)\n",
      "memory usage: 92.8+ KB\n"
     ]
    }
   ],
   "source": [
    "train_data.info()"
   ]
  },
  {
   "cell_type": "code",
   "execution_count": 24,
   "metadata": {
    "execution": {
     "iopub.execute_input": "2020-10-31T12:33:15.737668Z",
     "iopub.status.busy": "2020-10-31T12:33:15.736489Z",
     "iopub.status.idle": "2020-10-31T12:33:15.766763Z",
     "shell.execute_reply": "2020-10-31T12:33:15.766162Z"
    },
    "id": "xXY4oBkmVL0u",
    "papermill": {
     "duration": 0.145205,
     "end_time": "2020-10-31T12:33:15.766911",
     "exception": false,
     "start_time": "2020-10-31T12:33:15.621706",
     "status": "completed"
    },
    "tags": []
   },
   "outputs": [],
   "source": [
    "for dataset in combined:\n",
    "    dataset['Sex'] = dataset['Sex'].map( {'female' : 0,'male' : 1} )\n",
    "    \n",
    "    dataset.loc[dataset['Age'] <= 16,'Age'] = 0\n",
    "    dataset.loc[(dataset['Age'] > 16) & (dataset['Age'] <= 32),'Age'] = 1\n",
    "    dataset.loc[(dataset['Age'] > 32) & (dataset['Age'] <= 48),'Age'] = 2\n",
    "    dataset.loc[(dataset['Age'] > 48) & (dataset['Age'] <= 64),'Age'] = 3\n",
    "    dataset.loc[(dataset['Age'] > 64) & (dataset['Age'] <= 80),'Age'] = 4\n",
    "\n",
    "    dataset.loc[ dataset['Fare'] <= 7.91, 'Fare'] = 0\n",
    "    dataset.loc[(dataset['Fare'] > 7.91) & (dataset['Fare'] <= 14.454), 'Fare'] = 1\n",
    "    dataset.loc[(dataset['Fare'] > 14.454) & (dataset['Fare'] <= 31), 'Fare']   = 2\n",
    "    dataset.loc[ dataset['Fare'] > 31, 'Fare'] \t\t\t\t\t\t\t        = 3\n",
    "    dataset['Fare'] = dataset['Fare'].astype(int)\n",
    "\n",
    "    dataset['Embarked'] = dataset['Embarked'].map( {'S': 0, 'C': 1, 'Q': 2} )\n",
    "\n",
    "    title_mapping = {\"Mr\": 1, \"Miss\": 2, \"Mrs\": 3, \"Master\": 4, \"Rare\": 5}\n",
    "    dataset['Title'] = dataset['Title'].map(title_mapping)\n",
    "    drop_columns = ['Name','SibSp','Parch','FamilySize']\n",
    "    dataset.drop(drop_columns,axis = 1,inplace = True)\n",
    "\n",
    "drop_col = ['CategoricalAge','CategoricalFare']\n",
    "train_data.drop(drop_col,axis = 1,inplace = True)"
   ]
  },
  {
   "cell_type": "code",
   "execution_count": 25,
   "metadata": {
    "execution": {
     "iopub.execute_input": "2020-10-31T12:33:15.964777Z",
     "iopub.status.busy": "2020-10-31T12:33:15.963892Z",
     "iopub.status.idle": "2020-10-31T12:33:15.967356Z",
     "shell.execute_reply": "2020-10-31T12:33:15.968051Z"
    },
    "executionInfo": {
     "elapsed": 4118,
     "status": "ok",
     "timestamp": 1598562875350,
     "user": {
      "displayName": "Himanshu Madan",
      "photoUrl": "https://lh3.googleusercontent.com/a-/AOh14GisQhAk7cHciVsuMiO7hLXqPAhM8icJBjiKWEM9t30=s64",
      "userId": "07240434886741306598"
     },
     "user_tz": -330
    },
    "id": "Yssgqc2XD8s3",
    "outputId": "0b10baf6-d121-4f20-945a-fd094921b971",
    "papermill": {
     "duration": 0.107268,
     "end_time": "2020-10-31T12:33:15.968197",
     "exception": false,
     "start_time": "2020-10-31T12:33:15.860929",
     "status": "completed"
    },
    "scrolled": true,
    "tags": []
   },
   "outputs": [
    {
     "data": {
      "text/plain": [
       "3"
      ]
     },
     "execution_count": 25,
     "metadata": {},
     "output_type": "execute_result"
    }
   ],
   "source": [
    "train_data.FamilySizeCategory.nunique()"
   ]
  },
  {
   "cell_type": "code",
   "execution_count": 26,
   "metadata": {
    "execution": {
     "iopub.execute_input": "2020-10-31T12:33:16.174518Z",
     "iopub.status.busy": "2020-10-31T12:33:16.173218Z",
     "iopub.status.idle": "2020-10-31T12:33:16.181499Z",
     "shell.execute_reply": "2020-10-31T12:33:16.180532Z"
    },
    "id": "PeH__yEzEZMi",
    "papermill": {
     "duration": 0.11733,
     "end_time": "2020-10-31T12:33:16.181643",
     "exception": false,
     "start_time": "2020-10-31T12:33:16.064313",
     "status": "completed"
    },
    "scrolled": true,
    "tags": []
   },
   "outputs": [],
   "source": [
    "train_data = pd.get_dummies(train_data, prefix = ['Title'], columns = ['Title'])\n",
    "test_data = pd.get_dummies(test_data, prefix = ['Title'], columns = ['Title'])"
   ]
  },
  {
   "cell_type": "code",
   "execution_count": 27,
   "metadata": {
    "execution": {
     "iopub.execute_input": "2020-10-31T12:33:16.379521Z",
     "iopub.status.busy": "2020-10-31T12:33:16.378554Z",
     "iopub.status.idle": "2020-10-31T12:33:16.382218Z",
     "shell.execute_reply": "2020-10-31T12:33:16.382922Z"
    },
    "executionInfo": {
     "elapsed": 4101,
     "status": "ok",
     "timestamp": 1598562875352,
     "user": {
      "displayName": "Himanshu Madan",
      "photoUrl": "https://lh3.googleusercontent.com/a-/AOh14GisQhAk7cHciVsuMiO7hLXqPAhM8icJBjiKWEM9t30=s64",
      "userId": "07240434886741306598"
     },
     "user_tz": -330
    },
    "id": "Mj7inY6meCQU",
    "outputId": "ac823ed7-96d1-4a74-f2a5-3b7d944a7689",
    "papermill": {
     "duration": 0.105868,
     "end_time": "2020-10-31T12:33:16.383070",
     "exception": false,
     "start_time": "2020-10-31T12:33:16.277202",
     "status": "completed"
    },
    "scrolled": true,
    "tags": []
   },
   "outputs": [
    {
     "data": {
      "text/plain": [
       "3"
      ]
     },
     "execution_count": 27,
     "metadata": {},
     "output_type": "execute_result"
    }
   ],
   "source": [
    "train_data.FamilySizeCategory.nunique()"
   ]
  },
  {
   "cell_type": "code",
   "execution_count": 28,
   "metadata": {
    "execution": {
     "iopub.execute_input": "2020-10-31T12:33:16.583101Z",
     "iopub.status.busy": "2020-10-31T12:33:16.581845Z",
     "iopub.status.idle": "2020-10-31T12:33:18.042087Z",
     "shell.execute_reply": "2020-10-31T12:33:18.042732Z"
    },
    "executionInfo": {
     "elapsed": 4091,
     "status": "ok",
     "timestamp": 1598562875353,
     "user": {
      "displayName": "Himanshu Madan",
      "photoUrl": "https://lh3.googleusercontent.com/a-/AOh14GisQhAk7cHciVsuMiO7hLXqPAhM8icJBjiKWEM9t30=s64",
      "userId": "07240434886741306598"
     },
     "user_tz": -330
    },
    "id": "U5DunVq5vxPp",
    "outputId": "b8385c6a-3da3-4ba9-e5e3-bf353dc1ac3c",
    "papermill": {
     "duration": 1.564079,
     "end_time": "2020-10-31T12:33:18.042908",
     "exception": false,
     "start_time": "2020-10-31T12:33:16.478829",
     "status": "completed"
    },
    "scrolled": true,
    "tags": []
   },
   "outputs": [
    {
     "data": {
      "image/png": "[encoded data removed]",
      "text/plain": [
       "<Figure size 864x720 with 2 Axes>"
      ]
     },
     "metadata": {},
     "output_type": "display_data"
    }
   ],
   "source": [
    "plt.figure(figsize = (12,10))\n",
    "sns.heatmap(train_data.corr(),annot=True,cbar = True)\n",
    "plt.show()"
   ]
  },
  {
   "cell_type": "code",
   "execution_count": 29,
   "metadata": {
    "execution": {
     "iopub.execute_input": "2020-10-31T12:33:18.350159Z",
     "iopub.status.busy": "2020-10-31T12:33:18.349053Z",
     "iopub.status.idle": "2020-10-31T12:33:18.356736Z",
     "shell.execute_reply": "2020-10-31T12:33:18.357630Z"
    },
    "executionInfo": {
     "elapsed": 4079,
     "status": "ok",
     "timestamp": 1598562875353,
     "user": {
      "displayName": "Himanshu Madan",
      "photoUrl": "https://lh3.googleusercontent.com/a-/AOh14GisQhAk7cHciVsuMiO7hLXqPAhM8icJBjiKWEM9t30=s64",
      "userId": "07240434886741306598"
     },
     "user_tz": -330
    },
    "id": "VbTeUQVrwLu6",
    "outputId": "d1646382-1217-4c5f-e93e-0e529ef344f8",
    "papermill": {
     "duration": 0.17422,
     "end_time": "2020-10-31T12:33:18.357882",
     "exception": false,
     "start_time": "2020-10-31T12:33:18.183662",
     "status": "completed"
    },
    "scrolled": true,
    "tags": []
   },
   "outputs": [
    {
     "data": {
      "text/plain": [
       "0      0\n",
       "1      1\n",
       "2      1\n",
       "3      1\n",
       "4      0\n",
       "      ..\n",
       "886    0\n",
       "887    1\n",
       "888    0\n",
       "889    1\n",
       "890    0\n",
       "Name: Survived, Length: 891, dtype: int64"
      ]
     },
     "execution_count": 29,
     "metadata": {},
     "output_type": "execute_result"
    }
   ],
   "source": [
    "x_train = train_data.iloc[:,1:]\n",
    "y_train = train_data.iloc[:,0]\n",
    "x_test = test_data\n",
    "y_train"
   ]
  },
  {
   "cell_type": "markdown",
   "metadata": {
    "papermill": {
     "duration": 0.099845,
     "end_time": "2020-10-31T12:33:18.568191",
     "exception": false,
     "start_time": "2020-10-31T12:33:18.468346",
     "status": "completed"
    },
    "tags": []
   },
   "source": [
    "## Prediction Using Ensembling Methods"
   ]
  },
  {
   "cell_type": "markdown",
   "metadata": {
    "papermill": {
     "duration": 0.100054,
     "end_time": "2020-10-31T12:33:18.767883",
     "exception": false,
     "start_time": "2020-10-31T12:33:18.667829",
     "status": "completed"
    },
    "tags": []
   },
   "source": [
    "> Ensemble models in machine learning combine the decisions from multiple models to improve the overall performance. This can be achieved in various ways, which you will discover in this notebook."
   ]
  },
  {
   "cell_type": "markdown",
   "metadata": {
    "papermill": {
     "duration": 0.099521,
     "end_time": "2020-10-31T12:33:18.967285",
     "exception": false,
     "start_time": "2020-10-31T12:33:18.867764",
     "status": "completed"
    },
    "tags": []
   },
   "source": [
    "1. ## Simple Techniques"
   ]
  },
  {
   "cell_type": "markdown",
   "metadata": {
    "papermill": {
     "duration": 0.101013,
     "end_time": "2020-10-31T12:33:19.169132",
     "exception": false,
     "start_time": "2020-10-31T12:33:19.068119",
     "status": "completed"
    },
    "tags": []
   },
   "source": [
    "### 1. Max Voting\n",
    "\n",
    "> The Max Voting method is generally used for classication problems. In this technique, multiple models are used to make predictions for each data point. The predictions by each model are considered as a ‘vote’. The predictions which we get from the majority of the models are used as the final prediction.<br><br>\n",
    "For example, when you asked 5 of your colleagues to rate your movie (out of 5); we’ll assume three of them rated it as 4 while two of them gave it a 5. Since the majority gave a rating of 4, the final rating will be taken as 4. You can consider this as taking the mode of all the predictions.\n"
   ]
  },
  {
   "cell_type": "code",
   "execution_count": 30,
   "metadata": {
    "execution": {
     "iopub.execute_input": "2020-10-31T12:33:19.384421Z",
     "iopub.status.busy": "2020-10-31T12:33:19.383456Z",
     "iopub.status.idle": "2020-10-31T12:33:19.505081Z",
     "shell.execute_reply": "2020-10-31T12:33:19.504419Z"
    },
    "papermill": {
     "duration": 0.2354,
     "end_time": "2020-10-31T12:33:19.505212",
     "exception": false,
     "start_time": "2020-10-31T12:33:19.269812",
     "status": "completed"
    },
    "tags": []
   },
   "outputs": [],
   "source": [
    "model1 = DecisionTreeClassifier()\n",
    "model2 = KNeighborsClassifier()\n",
    "model3 = LogisticRegression()\n",
    "model4 = GaussianNB()\n",
    "model5 = LinearSVC()\n",
    "\n",
    "model1.fit(x_train,y_train)\n",
    "model2.fit(x_train,y_train)\n",
    "model3.fit(x_train,y_train)\n",
    "model4.fit(x_train,y_train)\n",
    "model5.fit(x_train,y_train)\n",
    "\n",
    "\n",
    "y1 = model1.predict(x_test)\n",
    "y2 = model2.predict(x_test)\n",
    "y3 = model3.predict(x_test)\n",
    "y4 = model4.predict(x_test)\n",
    "y5 = model5.predict(x_test)\n",
    "\n",
    "\n",
    "y = np.zeros(len(x_test))\n",
    "for i in range(0,len(x_test)):\n",
    "    count = y1[i] + y2[i] + y3[i] + y4[i] + y5[i]\n",
    "    y[i] = (count // 3)\n",
    "y = y.astype(int)"
   ]
  },
  {
   "cell_type": "code",
   "execution_count": 31,
   "metadata": {
    "execution": {
     "iopub.execute_input": "2020-10-31T12:33:19.714828Z",
     "iopub.status.busy": "2020-10-31T12:33:19.713738Z",
     "iopub.status.idle": "2020-10-31T12:33:19.942242Z",
     "shell.execute_reply": "2020-10-31T12:33:19.941575Z"
    },
    "papermill": {
     "duration": 0.336996,
     "end_time": "2020-10-31T12:33:19.942377",
     "exception": false,
     "start_time": "2020-10-31T12:33:19.605381",
     "status": "completed"
    },
    "tags": []
   },
   "outputs": [],
   "source": [
    "submit = pd.DataFrame(y,columns = ['Survived'],index = [i + 892 for i in range(0,418)])\n",
    "submit.index.name = 'PassengerId'\n",
    "submit.to_csv('maxvoting1.csv')"
   ]
  },
  {
   "cell_type": "markdown",
   "metadata": {
    "papermill": {
     "duration": 0.100767,
     "end_time": "2020-10-31T12:33:20.143426",
     "exception": false,
     "start_time": "2020-10-31T12:33:20.042659",
     "status": "completed"
    },
    "tags": []
   },
   "source": [
    "#### Another way to implement Max Voting:"
   ]
  },
  {
   "cell_type": "code",
   "execution_count": 32,
   "metadata": {
    "execution": {
     "iopub.execute_input": "2020-10-31T12:33:20.352846Z",
     "iopub.status.busy": "2020-10-31T12:33:20.351773Z",
     "iopub.status.idle": "2020-10-31T12:33:20.457288Z",
     "shell.execute_reply": "2020-10-31T12:33:20.457877Z"
    },
    "papermill": {
     "duration": 0.213089,
     "end_time": "2020-10-31T12:33:20.458027",
     "exception": false,
     "start_time": "2020-10-31T12:33:20.244938",
     "status": "completed"
    },
    "tags": []
   },
   "outputs": [
    {
     "data": {
      "text/plain": [
       "VotingClassifier(estimators=[('dtree', DecisionTreeClassifier()),\n",
       "                             ('knn', KNeighborsClassifier()),\n",
       "                             ('lr', LogisticRegression()),\n",
       "                             ('gnb', GaussianNB()), ('svc', LinearSVC())])"
      ]
     },
     "execution_count": 32,
     "metadata": {},
     "output_type": "execute_result"
    }
   ],
   "source": [
    "model = VotingClassifier(estimators=[('dtree', model1), ('knn', model2), ('lr', model3),('gnb',model4),('svc',model5)], voting='hard')\n",
    "model.fit(x_train,y_train)\n"
   ]
  },
  {
   "cell_type": "code",
   "execution_count": 33,
   "metadata": {
    "execution": {
     "iopub.execute_input": "2020-10-31T12:33:20.665919Z",
     "iopub.status.busy": "2020-10-31T12:33:20.664801Z",
     "iopub.status.idle": "2020-10-31T12:33:20.706828Z",
     "shell.execute_reply": "2020-10-31T12:33:20.706210Z"
    },
    "papermill": {
     "duration": 0.149166,
     "end_time": "2020-10-31T12:33:20.706976",
     "exception": false,
     "start_time": "2020-10-31T12:33:20.557810",
     "status": "completed"
    },
    "tags": []
   },
   "outputs": [],
   "source": [
    "y2 = model.predict(x_test)"
   ]
  },
  {
   "cell_type": "code",
   "execution_count": 34,
   "metadata": {
    "execution": {
     "iopub.execute_input": "2020-10-31T12:33:20.919826Z",
     "iopub.status.busy": "2020-10-31T12:33:20.917705Z",
     "iopub.status.idle": "2020-10-31T12:33:20.920684Z",
     "shell.execute_reply": "2020-10-31T12:33:20.921250Z"
    },
    "papermill": {
     "duration": 0.114099,
     "end_time": "2020-10-31T12:33:20.921396",
     "exception": false,
     "start_time": "2020-10-31T12:33:20.807297",
     "status": "completed"
    },
    "tags": []
   },
   "outputs": [],
   "source": [
    "submit = pd.DataFrame(y2,columns = ['Survived'],index = [i + 892 for i in range(0,418)])\n",
    "submit.index.name = 'PassengerId'\n",
    "submit.to_csv('maxvoting2.csv')"
   ]
  },
  {
   "cell_type": "markdown",
   "metadata": {
    "papermill": {
     "duration": 0.102687,
     "end_time": "2020-10-31T12:33:21.125034",
     "exception": false,
     "start_time": "2020-10-31T12:33:21.022347",
     "status": "completed"
    },
    "tags": []
   },
   "source": [
    "> Both the implementation methods gave 0.7751 as public score."
   ]
  },
  {
   "cell_type": "markdown",
   "metadata": {
    "papermill": {
     "duration": 0.100432,
     "end_time": "2020-10-31T12:33:21.327097",
     "exception": false,
     "start_time": "2020-10-31T12:33:21.226665",
     "status": "completed"
    },
    "tags": []
   },
   "source": [
    "### 2. Averaging "
   ]
  },
  {
   "cell_type": "markdown",
   "metadata": {
    "papermill": {
     "duration": 0.100043,
     "end_time": "2020-10-31T12:33:21.528274",
     "exception": false,
     "start_time": "2020-10-31T12:33:21.428231",
     "status": "completed"
    },
    "tags": []
   },
   "source": [
    "> Similar to the max voting technique, multiple predictions are made for each data point in averaging. In this method, we take an average of predictions from all the models and use it to make the final prediction. Averaging can be used for making predictions in regression problems or while calculating probabilities for classication problems."
   ]
  },
  {
   "cell_type": "markdown",
   "metadata": {
    "papermill": {
     "duration": 0.1002,
     "end_time": "2020-10-31T12:33:21.729027",
     "exception": false,
     "start_time": "2020-10-31T12:33:21.628827",
     "status": "completed"
    },
    "tags": []
   },
   "source": [
    "### 3.Weighted Averaging"
   ]
  },
  {
   "cell_type": "markdown",
   "metadata": {
    "papermill": {
     "duration": 0.101013,
     "end_time": "2020-10-31T12:33:21.930904",
     "exception": false,
     "start_time": "2020-10-31T12:33:21.829891",
     "status": "completed"
    },
    "tags": []
   },
   "source": [
    "> This is an extension of the averaging method. All models are assigned different weights defining the importance of each model for prediction. For instance, if two of your colleagues are critics, while others have no prior experience in this field, then the answers by these two friends are given more importance as compared to the other people.\n"
   ]
  },
  {
   "cell_type": "markdown",
   "metadata": {
    "papermill": {
     "duration": 0.104013,
     "end_time": "2020-10-31T12:33:22.135744",
     "exception": false,
     "start_time": "2020-10-31T12:33:22.031731",
     "status": "completed"
    },
    "tags": []
   },
   "source": [
    "> We can assign weights to the models by looking at the data, and then calculate the mean of the predicted values."
   ]
  },
  {
   "cell_type": "code",
   "execution_count": 35,
   "metadata": {
    "execution": {
     "iopub.execute_input": "2020-10-31T12:33:22.353749Z",
     "iopub.status.busy": "2020-10-31T12:33:22.352006Z",
     "iopub.status.idle": "2020-10-31T12:33:22.354536Z",
     "shell.execute_reply": "2020-10-31T12:33:22.355094Z"
    },
    "papermill": {
     "duration": 0.116495,
     "end_time": "2020-10-31T12:33:22.355243",
     "exception": false,
     "start_time": "2020-10-31T12:33:22.238748",
     "status": "completed"
    },
    "tags": []
   },
   "outputs": [],
   "source": [
    "y3 = np.zeros(len(x_test))\n",
    "for i in range(0,len(x_test)):\n",
    "    count = 0.5 * y1[i] + 0.5 + y2[i] + 2 * y3[i] + y4[i] + 2 * y5[i]\n",
    "    y3[i] = (count // 3)\n",
    "y3 = y3.astype(int)"
   ]
  },
  {
   "cell_type": "code",
   "execution_count": 36,
   "metadata": {
    "execution": {
     "iopub.execute_input": "2020-10-31T12:33:22.566971Z",
     "iopub.status.busy": "2020-10-31T12:33:22.565795Z",
     "iopub.status.idle": "2020-10-31T12:33:22.571643Z",
     "shell.execute_reply": "2020-10-31T12:33:22.570987Z"
    },
    "papermill": {
     "duration": 0.11561,
     "end_time": "2020-10-31T12:33:22.571762",
     "exception": false,
     "start_time": "2020-10-31T12:33:22.456152",
     "status": "completed"
    },
    "tags": []
   },
   "outputs": [],
   "source": [
    "submit = pd.DataFrame(y3,columns = ['Survived'],index = [i + 892 for i in range(0,418)])\n",
    "submit.index.name = 'PassengerId'\n",
    "submit.to_csv('weighted_averaging.csv')"
   ]
  },
  {
   "cell_type": "markdown",
   "metadata": {
    "papermill": {
     "duration": 0.101902,
     "end_time": "2020-10-31T12:33:22.775611",
     "exception": false,
     "start_time": "2020-10-31T12:33:22.673709",
     "status": "completed"
    },
    "tags": []
   },
   "source": [
    "## 2. Advanced techniques"
   ]
  },
  {
   "cell_type": "markdown",
   "metadata": {
    "papermill": {
     "duration": 0.170115,
     "end_time": "2020-10-31T12:33:23.131231",
     "exception": false,
     "start_time": "2020-10-31T12:33:22.961116",
     "status": "completed"
    },
    "tags": []
   },
   "source": [
    "### 1.Stacking"
   ]
  },
  {
   "cell_type": "markdown",
   "metadata": {
    "papermill": {
     "duration": 0.150494,
     "end_time": "2020-10-31T12:33:23.436776",
     "exception": false,
     "start_time": "2020-10-31T12:33:23.286282",
     "status": "completed"
    },
    "tags": []
   },
   "source": [
    "\n",
    "> Stacking is an ensemble learning technique that uses predictions from multiple models (for example decision tree, knn or svm) to build a new model. This model is used for making predictions on the test set."
   ]
  },
  {
   "cell_type": "markdown",
   "metadata": {
    "papermill": {
     "duration": 0.137404,
     "end_time": "2020-10-31T12:33:23.725586",
     "exception": false,
     "start_time": "2020-10-31T12:33:23.588182",
     "status": "completed"
    },
    "tags": []
   },
   "source": [
    "#### a). Implementing stacking from scratch"
   ]
  },
  {
   "cell_type": "code",
   "execution_count": 37,
   "metadata": {
    "execution": {
     "iopub.execute_input": "2020-10-31T12:33:23.972495Z",
     "iopub.status.busy": "2020-10-31T12:33:23.970922Z",
     "iopub.status.idle": "2020-10-31T12:33:24.265539Z",
     "shell.execute_reply": "2020-10-31T12:33:24.266254Z"
    },
    "papermill": {
     "duration": 0.439688,
     "end_time": "2020-10-31T12:33:24.266427",
     "exception": false,
     "start_time": "2020-10-31T12:33:23.826739",
     "status": "completed"
    },
    "tags": []
   },
   "outputs": [
    {
     "data": {
      "text/html": [
       "<div>\n",
       "<style scoped>\n",
       "    .dataframe tbody tr th:only-of-type {\n",
       "        vertical-align: middle;\n",
       "    }\n",
       "\n",
       "    .dataframe tbody tr th {\n",
       "        vertical-align: top;\n",
       "    }\n",
       "\n",
       "    .dataframe thead th {\n",
       "        text-align: right;\n",
       "    }\n",
       "</style>\n",
       "<table border=\"1\" class=\"dataframe\">\n",
       "  <thead>\n",
       "    <tr style=\"text-align: right;\">\n",
       "      <th></th>\n",
       "      <th>DT</th>\n",
       "      <th>KNN</th>\n",
       "      <th>LR</th>\n",
       "    </tr>\n",
       "  </thead>\n",
       "  <tbody>\n",
       "    <tr>\n",
       "      <th>0</th>\n",
       "      <td>0</td>\n",
       "      <td>0</td>\n",
       "      <td>0</td>\n",
       "    </tr>\n",
       "    <tr>\n",
       "      <th>1</th>\n",
       "      <td>1</td>\n",
       "      <td>1</td>\n",
       "      <td>1</td>\n",
       "    </tr>\n",
       "    <tr>\n",
       "      <th>2</th>\n",
       "      <td>0</td>\n",
       "      <td>0</td>\n",
       "      <td>1</td>\n",
       "    </tr>\n",
       "    <tr>\n",
       "      <th>3</th>\n",
       "      <td>1</td>\n",
       "      <td>1</td>\n",
       "      <td>1</td>\n",
       "    </tr>\n",
       "    <tr>\n",
       "      <th>4</th>\n",
       "      <td>0</td>\n",
       "      <td>0</td>\n",
       "      <td>0</td>\n",
       "    </tr>\n",
       "    <tr>\n",
       "      <th>...</th>\n",
       "      <td>...</td>\n",
       "      <td>...</td>\n",
       "      <td>...</td>\n",
       "    </tr>\n",
       "    <tr>\n",
       "      <th>886</th>\n",
       "      <td>0</td>\n",
       "      <td>0</td>\n",
       "      <td>0</td>\n",
       "    </tr>\n",
       "    <tr>\n",
       "      <th>887</th>\n",
       "      <td>1</td>\n",
       "      <td>1</td>\n",
       "      <td>1</td>\n",
       "    </tr>\n",
       "    <tr>\n",
       "      <th>888</th>\n",
       "      <td>0</td>\n",
       "      <td>0</td>\n",
       "      <td>1</td>\n",
       "    </tr>\n",
       "    <tr>\n",
       "      <th>889</th>\n",
       "      <td>0</td>\n",
       "      <td>0</td>\n",
       "      <td>0</td>\n",
       "    </tr>\n",
       "    <tr>\n",
       "      <th>890</th>\n",
       "      <td>0</td>\n",
       "      <td>0</td>\n",
       "      <td>0</td>\n",
       "    </tr>\n",
       "  </tbody>\n",
       "</table>\n",
       "<p>891 rows × 3 columns</p>\n",
       "</div>"
      ],
      "text/plain": [
       "     DT  KNN  LR\n",
       "0     0    0   0\n",
       "1     1    1   1\n",
       "2     0    0   1\n",
       "3     1    1   1\n",
       "4     0    0   0\n",
       "..   ..  ...  ..\n",
       "886   0    0   0\n",
       "887   1    1   1\n",
       "888   0    0   1\n",
       "889   0    0   0\n",
       "890   0    0   0\n",
       "\n",
       "[891 rows x 3 columns]"
      ]
     },
     "execution_count": 37,
     "metadata": {},
     "output_type": "execute_result"
    }
   ],
   "source": [
    "def predictor(model,x,y,x_test):\n",
    "    pred_train = cross_val_predict(model,x,y,cv = 4)   \n",
    "    \n",
    "    model.fit(x,y)\n",
    "    pred_test = model.predict(x_test)\n",
    "    \n",
    "    return pred_train,pred_test\n",
    "\n",
    "M1_pred,M1_pred_test = predictor(model1,x_train,y_train,x_test)\n",
    "M2_pred,M2_pred_test = predictor(model2,x_train,y_train,x_test)\n",
    "M3_pred,M3_pred_test = predictor(model3,x_train,y_train,x_test)\n",
    "\n",
    "stacked_x_train = {\n",
    "    'DT': M1_pred,\n",
    "    'KNN': M2_pred,\n",
    "    'LR': M3_pred\n",
    "}\n",
    "stacked_x_train = pd.DataFrame(stacked_x_train) \n",
    "stacked_x_train"
   ]
  },
  {
   "cell_type": "code",
   "execution_count": 38,
   "metadata": {
    "execution": {
     "iopub.execute_input": "2020-10-31T12:33:24.489117Z",
     "iopub.status.busy": "2020-10-31T12:33:24.487918Z",
     "iopub.status.idle": "2020-10-31T12:33:24.493156Z",
     "shell.execute_reply": "2020-10-31T12:33:24.493663Z"
    },
    "papermill": {
     "duration": 0.121333,
     "end_time": "2020-10-31T12:33:24.493812",
     "exception": false,
     "start_time": "2020-10-31T12:33:24.372479",
     "status": "completed"
    },
    "tags": []
   },
   "outputs": [
    {
     "data": {
      "text/html": [
       "<div>\n",
       "<style scoped>\n",
       "    .dataframe tbody tr th:only-of-type {\n",
       "        vertical-align: middle;\n",
       "    }\n",
       "\n",
       "    .dataframe tbody tr th {\n",
       "        vertical-align: top;\n",
       "    }\n",
       "\n",
       "    .dataframe thead th {\n",
       "        text-align: right;\n",
       "    }\n",
       "</style>\n",
       "<table border=\"1\" class=\"dataframe\">\n",
       "  <thead>\n",
       "    <tr style=\"text-align: right;\">\n",
       "      <th></th>\n",
       "      <th>DT</th>\n",
       "      <th>KNN</th>\n",
       "      <th>LR</th>\n",
       "    </tr>\n",
       "  </thead>\n",
       "  <tbody>\n",
       "    <tr>\n",
       "      <th>0</th>\n",
       "      <td>0</td>\n",
       "      <td>0</td>\n",
       "      <td>0</td>\n",
       "    </tr>\n",
       "    <tr>\n",
       "      <th>1</th>\n",
       "      <td>0</td>\n",
       "      <td>1</td>\n",
       "      <td>1</td>\n",
       "    </tr>\n",
       "    <tr>\n",
       "      <th>2</th>\n",
       "      <td>0</td>\n",
       "      <td>0</td>\n",
       "      <td>0</td>\n",
       "    </tr>\n",
       "    <tr>\n",
       "      <th>3</th>\n",
       "      <td>0</td>\n",
       "      <td>0</td>\n",
       "      <td>0</td>\n",
       "    </tr>\n",
       "    <tr>\n",
       "      <th>4</th>\n",
       "      <td>1</td>\n",
       "      <td>1</td>\n",
       "      <td>1</td>\n",
       "    </tr>\n",
       "    <tr>\n",
       "      <th>...</th>\n",
       "      <td>...</td>\n",
       "      <td>...</td>\n",
       "      <td>...</td>\n",
       "    </tr>\n",
       "    <tr>\n",
       "      <th>413</th>\n",
       "      <td>0</td>\n",
       "      <td>0</td>\n",
       "      <td>0</td>\n",
       "    </tr>\n",
       "    <tr>\n",
       "      <th>414</th>\n",
       "      <td>1</td>\n",
       "      <td>1</td>\n",
       "      <td>1</td>\n",
       "    </tr>\n",
       "    <tr>\n",
       "      <th>415</th>\n",
       "      <td>0</td>\n",
       "      <td>0</td>\n",
       "      <td>0</td>\n",
       "    </tr>\n",
       "    <tr>\n",
       "      <th>416</th>\n",
       "      <td>0</td>\n",
       "      <td>0</td>\n",
       "      <td>0</td>\n",
       "    </tr>\n",
       "    <tr>\n",
       "      <th>417</th>\n",
       "      <td>1</td>\n",
       "      <td>0</td>\n",
       "      <td>1</td>\n",
       "    </tr>\n",
       "  </tbody>\n",
       "</table>\n",
       "<p>418 rows × 3 columns</p>\n",
       "</div>"
      ],
      "text/plain": [
       "     DT  KNN  LR\n",
       "0     0    0   0\n",
       "1     0    1   1\n",
       "2     0    0   0\n",
       "3     0    0   0\n",
       "4     1    1   1\n",
       "..   ..  ...  ..\n",
       "413   0    0   0\n",
       "414   1    1   1\n",
       "415   0    0   0\n",
       "416   0    0   0\n",
       "417   1    0   1\n",
       "\n",
       "[418 rows x 3 columns]"
      ]
     },
     "execution_count": 38,
     "metadata": {},
     "output_type": "execute_result"
    }
   ],
   "source": [
    "stacked_x_test = {\n",
    "    'DT': M1_pred_test,\n",
    "    'KNN': M2_pred_test,\n",
    "    'LR': M3_pred_test\n",
    "}\n",
    "stacked_x_test = pd.DataFrame(stacked_x_test) \n",
    "stacked_x_test"
   ]
  },
  {
   "cell_type": "markdown",
   "metadata": {
    "papermill": {
     "duration": 0.102752,
     "end_time": "2020-10-31T12:33:24.699096",
     "exception": false,
     "start_time": "2020-10-31T12:33:24.596344",
     "status": "completed"
    },
    "tags": []
   },
   "source": [
    "> Using decision tree,knn and logistic regression as our base models and SVC as our meta-model."
   ]
  },
  {
   "cell_type": "code",
   "execution_count": 39,
   "metadata": {
    "execution": {
     "iopub.execute_input": "2020-10-31T12:33:24.917160Z",
     "iopub.status.busy": "2020-10-31T12:33:24.916123Z",
     "iopub.status.idle": "2020-10-31T12:33:24.929703Z",
     "shell.execute_reply": "2020-10-31T12:33:24.928850Z"
    },
    "papermill": {
     "duration": 0.127885,
     "end_time": "2020-10-31T12:33:24.929831",
     "exception": false,
     "start_time": "2020-10-31T12:33:24.801946",
     "status": "completed"
    },
    "tags": []
   },
   "outputs": [],
   "source": [
    "model5.fit(stacked_x_train,y_train)\n",
    "y4 = model5.predict(stacked_x_test)\n",
    "\n",
    "submit = pd.DataFrame(y4,columns = ['Survived'],index = [i + 892 for i in range(0,418)])\n",
    "submit.index.name = 'PassengerId'\n",
    "submit.to_csv('stacking_from_scratch.csv')"
   ]
  },
  {
   "cell_type": "markdown",
   "metadata": {
    "papermill": {
     "duration": 0.104817,
     "end_time": "2020-10-31T12:33:25.149887",
     "exception": false,
     "start_time": "2020-10-31T12:33:25.045070",
     "status": "completed"
    },
    "tags": []
   },
   "source": [
    "> We achieved score of 0.76794 by using the above technique.[](http://) "
   ]
  },
  {
   "cell_type": "markdown",
   "metadata": {
    "papermill": {
     "duration": 0.101972,
     "end_time": "2020-10-31T12:33:25.355481",
     "exception": false,
     "start_time": "2020-10-31T12:33:25.253509",
     "status": "completed"
    },
    "tags": []
   },
   "source": [
    "#### b.) Implementing stacking using SkLearn's StackingClassifier"
   ]
  },
  {
   "cell_type": "code",
   "execution_count": 40,
   "metadata": {
    "execution": {
     "iopub.execute_input": "2020-10-31T12:33:25.571558Z",
     "iopub.status.busy": "2020-10-31T12:33:25.570484Z",
     "iopub.status.idle": "2020-10-31T12:33:26.115650Z",
     "shell.execute_reply": "2020-10-31T12:33:26.114224Z"
    },
    "papermill": {
     "duration": 0.657485,
     "end_time": "2020-10-31T12:33:26.115831",
     "exception": false,
     "start_time": "2020-10-31T12:33:25.458346",
     "status": "completed"
    },
    "tags": []
   },
   "outputs": [],
   "source": [
    "estimators = [\n",
    "    ('dt',model1),\n",
    "    ('knn',model2),\n",
    "    ('lr',model3)\n",
    "]\n",
    "\n",
    "clf = StackingClassifier(estimators = estimators, final_estimator = model5,cv = 10)\n",
    "clf.fit(x_train, y_train)\n",
    "\n",
    "y5 = clf.predict(x_test)\n",
    "submit = pd.DataFrame(y5,columns = ['Survived'],index = [i + 892 for i in range(0,418)])\n",
    "submit.index.name = 'PassengerId'\n",
    "submit.to_csv('stacking.csv')"
   ]
  },
  {
   "cell_type": "markdown",
   "metadata": {
    "papermill": {
     "duration": 0.103837,
     "end_time": "2020-10-31T12:33:26.332827",
     "exception": false,
     "start_time": "2020-10-31T12:33:26.228990",
     "status": "completed"
    },
    "tags": []
   },
   "source": [
    " > We achieved score of 0.78229 by using the above technique, which is the best score yet!!!!!"
   ]
  },
  {
   "cell_type": "markdown",
   "metadata": {
    "papermill": {
     "duration": 0.103193,
     "end_time": "2020-10-31T12:33:26.539737",
     "exception": false,
     "start_time": "2020-10-31T12:33:26.436544",
     "status": "completed"
    },
    "tags": []
   },
   "source": [
    "### 2. Blending"
   ]
  },
  {
   "cell_type": "markdown",
   "metadata": {
    "papermill": {
     "duration": 0.103862,
     "end_time": "2020-10-31T12:33:26.747486",
     "exception": false,
     "start_time": "2020-10-31T12:33:26.643624",
     "status": "completed"
    },
    "tags": []
   },
   "source": [
    "> Blending follows the same approach as stacking but uses only a holdout (validation) set from the train set to make predictions. In other words, unlike stacking, the predictions are made on the holdout set only. The holdout set and the predictions are used to build a model which is run on the test set."
   ]
  },
  {
   "cell_type": "code",
   "execution_count": 41,
   "metadata": {
    "execution": {
     "iopub.execute_input": "2020-10-31T12:33:26.970446Z",
     "iopub.status.busy": "2020-10-31T12:33:26.969299Z",
     "iopub.status.idle": "2020-10-31T12:33:27.054938Z",
     "shell.execute_reply": "2020-10-31T12:33:27.054290Z"
    },
    "papermill": {
     "duration": 0.204082,
     "end_time": "2020-10-31T12:33:27.055078",
     "exception": false,
     "start_time": "2020-10-31T12:33:26.850996",
     "status": "completed"
    },
    "tags": []
   },
   "outputs": [],
   "source": [
    "base_x_train,x_val,base_y_train,y_val = train_test_split(x_train,y_train,random_state = 42,train_size = 0.8)\n",
    "\n",
    "def blending_predictor(model,x,y,x_val):\n",
    "    model.fit(x,y)\n",
    "    val_pred = model.predict(x_val)\n",
    "    test_pred = model.predict(x_test)\n",
    "    \n",
    "    return val_pred,test_pred\n",
    "\n",
    "M1_val_pred,M1_test_pred = blending_predictor(model1,base_x_train,base_y_train,x_val)\n",
    "M2_val_pred,M2_test_pred = blending_predictor(model2,base_x_train,base_y_train,x_val)\n",
    "M3_val_pred,M3_test_pred = blending_predictor(model3,base_x_train,base_y_train,x_val)\n"
   ]
  },
  {
   "cell_type": "code",
   "execution_count": 42,
   "metadata": {
    "execution": {
     "iopub.execute_input": "2020-10-31T12:33:27.274722Z",
     "iopub.status.busy": "2020-10-31T12:33:27.273741Z",
     "iopub.status.idle": "2020-10-31T12:33:27.277601Z",
     "shell.execute_reply": "2020-10-31T12:33:27.276983Z"
    },
    "papermill": {
     "duration": 0.115984,
     "end_time": "2020-10-31T12:33:27.277720",
     "exception": false,
     "start_time": "2020-10-31T12:33:27.161736",
     "status": "completed"
    },
    "tags": []
   },
   "outputs": [],
   "source": [
    "M1_val_pred = pd.DataFrame(M1_val_pred)\n",
    "M2_val_pred = pd.DataFrame(M2_val_pred)\n",
    "M3_val_pred = pd.DataFrame(M3_val_pred)\n",
    "\n",
    "\n",
    "M1_test_pred = pd.DataFrame(M1_test_pred)\n",
    "M2_test_pred = pd.DataFrame(M2_test_pred)\n",
    "M3_test_pred = pd.DataFrame(M3_test_pred)\n"
   ]
  },
  {
   "cell_type": "code",
   "execution_count": 43,
   "metadata": {
    "execution": {
     "iopub.execute_input": "2020-10-31T12:33:27.508205Z",
     "iopub.status.busy": "2020-10-31T12:33:27.507153Z",
     "iopub.status.idle": "2020-10-31T12:33:27.530267Z",
     "shell.execute_reply": "2020-10-31T12:33:27.531751Z"
    },
    "papermill": {
     "duration": 0.15036,
     "end_time": "2020-10-31T12:33:27.532009",
     "exception": false,
     "start_time": "2020-10-31T12:33:27.381649",
     "status": "completed"
    },
    "tags": []
   },
   "outputs": [],
   "source": [
    "x_val.index = range(179)\n",
    "df_val = pd.concat([x_val, M1_val_pred,M2_val_pred,M3_val_pred],axis=1,ignore_index = True)\n",
    "df_test = pd.concat([x_test, M1_test_pred,M2_test_pred,M3_test_pred],axis=1)\n",
    "\n",
    "model5.fit(df_val,y_val)\n",
    "y6 = model5.predict(df_test)\n",
    "\n",
    "submit = pd.DataFrame(y6,columns = ['Survived'],index = [i + 892 for i in range(0,418)])\n",
    "submit.index.name = 'PassengerId'\n",
    "submit.to_csv('blending.csv')"
   ]
  },
  {
   "cell_type": "markdown",
   "metadata": {
    "papermill": {
     "duration": 0.174522,
     "end_time": "2020-10-31T12:33:27.881549",
     "exception": false,
     "start_time": "2020-10-31T12:33:27.707027",
     "status": "completed"
    },
    "tags": []
   },
   "source": [
    "> Score received: 0.76076"
   ]
  },
  {
   "cell_type": "markdown",
   "metadata": {
    "papermill": {
     "duration": 0.153666,
     "end_time": "2020-10-31T12:33:28.238752",
     "exception": false,
     "start_time": "2020-10-31T12:33:28.085086",
     "status": "completed"
    },
    "tags": []
   },
   "source": [
    "### 3.EL models based on Bagging and Boosting:"
   ]
  },
  {
   "cell_type": "markdown",
   "metadata": {
    "papermill": {
     "duration": 0.10407,
     "end_time": "2020-10-31T12:33:28.455022",
     "exception": false,
     "start_time": "2020-10-31T12:33:28.350952",
     "status": "completed"
    },
    "tags": []
   },
   "source": [
    "### 1. Bagging:"
   ]
  },
  {
   "cell_type": "markdown",
   "metadata": {
    "papermill": {
     "duration": 0.103177,
     "end_time": "2020-10-31T12:33:28.665775",
     "exception": false,
     "start_time": "2020-10-31T12:33:28.562598",
     "status": "completed"
    },
    "tags": []
   },
   "source": [
    "#### What is Bagging?\n",
    "\n",
    "> The idea behind bagging is combining the results of multiple models (for instance, all decision trees) to get a generalized result. <br>\n",
    "Here’s a question: If you create all the models on the same set of data and combine it, will it be useful? There is a high chance that these models will give the\n",
    "same result since they are getting the same input. <br><br>\n",
    "So how can we solve this problem? One of the techniques is bootstrapping.\n",
    "<br>\n",
    "Bootstrapping is a sampling technique in which we create subsets of observations from the\n",
    "original dataset, with replacement. The size of the subsets is the same as the size of the original set.\n",
    "Bagging (or Bootstrap Aggregating) technique uses these subsets (bags) to get a fair idea of the distribution (complete set). The size of subsets created for bagging may be less than the original set."
   ]
  },
  {
   "cell_type": "markdown",
   "metadata": {
    "papermill": {
     "duration": 0.103752,
     "end_time": "2020-10-31T12:33:28.874504",
     "exception": false,
     "start_time": "2020-10-31T12:33:28.770752",
     "status": "completed"
    },
    "tags": []
   },
   "source": [
    "#### Procedure to follow:\n",
    "1. Multiple subsets are created from the original dataset, selecting observations with\n",
    "replacement.\n",
    "2. A base model (weak model) is created on each of these subsets.\n",
    "3. The models run in parallel and are independent of each other.\n",
    "4. The final predictions are determined by combining the predictions from all the models."
   ]
  },
  {
   "cell_type": "markdown",
   "metadata": {
    "papermill": {
     "duration": 0.175649,
     "end_time": "2020-10-31T12:33:29.205304",
     "exception": false,
     "start_time": "2020-10-31T12:33:29.029655",
     "status": "completed"
    },
    "tags": []
   },
   "source": [
    "#### a) Bagging Meta-Estimator\n",
    "\n",
    "> Bagging meta-estimator is an ensembling algorithm that can be used for both classication (BaggingClassier) and regression (BaggingRegressor) problems. It follows the typical bagging technique to make predictions.<br><br>\n",
    "Following are the steps for the bagging meta-estimator algorithm:\n",
    "1. Random subsets are created from the original dataset (Bootstrapping).\n",
    "2. The subset of the dataset includes all features.\n",
    "3. A user-specied base estimator is fitted on each of these smaller sets.\n",
    "4. Predictions from each model are combined to get the final result."
   ]
  },
  {
   "cell_type": "markdown",
   "metadata": {
    "papermill": {
     "duration": 0.152419,
     "end_time": "2020-10-31T12:33:29.512788",
     "exception": false,
     "start_time": "2020-10-31T12:33:29.360369",
     "status": "completed"
    },
    "tags": []
   },
   "source": [
    "> For tuning the hyper parameters of decision tree and other based models used, refer [here](https://www.kaggle.com/tug004/surviving-titanic-the-right-way)."
   ]
  },
  {
   "cell_type": "code",
   "execution_count": 44,
   "metadata": {
    "execution": {
     "iopub.execute_input": "2020-10-31T12:33:29.831118Z",
     "iopub.status.busy": "2020-10-31T12:33:29.830222Z",
     "iopub.status.idle": "2020-10-31T12:33:37.741828Z",
     "shell.execute_reply": "2020-10-31T12:33:37.741218Z"
    },
    "papermill": {
     "duration": 8.065828,
     "end_time": "2020-10-31T12:33:37.741974",
     "exception": false,
     "start_time": "2020-10-31T12:33:29.676146",
     "status": "completed"
    },
    "tags": []
   },
   "outputs": [
    {
     "data": {
      "text/plain": [
       "{'n_estimators': 13}"
      ]
     },
     "execution_count": 44,
     "metadata": {},
     "output_type": "execute_result"
    }
   ],
   "source": [
    "param_grid = {\n",
    "    'n_estimators': list(range(20))\n",
    "}\n",
    "gscv = GridSearchCV(BaggingClassifier(random_state = 0),param_grid = param_grid, cv = 10)\n",
    "gscv.fit(x_train,y_train)\n",
    "gscv.best_params_"
   ]
  },
  {
   "cell_type": "code",
   "execution_count": 45,
   "metadata": {
    "execution": {
     "iopub.execute_input": "2020-10-31T12:33:37.972067Z",
     "iopub.status.busy": "2020-10-31T12:33:37.971198Z",
     "iopub.status.idle": "2020-10-31T12:33:37.974630Z",
     "shell.execute_reply": "2020-10-31T12:33:37.975197Z"
    },
    "papermill": {
     "duration": 0.117622,
     "end_time": "2020-10-31T12:33:37.975339",
     "exception": false,
     "start_time": "2020-10-31T12:33:37.857717",
     "status": "completed"
    },
    "tags": []
   },
   "outputs": [
    {
     "data": {
      "text/plain": [
       "BaggingClassifier(n_estimators=13, random_state=0)"
      ]
     },
     "execution_count": 45,
     "metadata": {},
     "output_type": "execute_result"
    }
   ],
   "source": [
    "gscv.best_estimator_"
   ]
  },
  {
   "cell_type": "code",
   "execution_count": 46,
   "metadata": {
    "execution": {
     "iopub.execute_input": "2020-10-31T12:33:38.198358Z",
     "iopub.status.busy": "2020-10-31T12:33:38.197350Z",
     "iopub.status.idle": "2020-10-31T12:33:38.271005Z",
     "shell.execute_reply": "2020-10-31T12:33:38.270257Z"
    },
    "papermill": {
     "duration": 0.191159,
     "end_time": "2020-10-31T12:33:38.271163",
     "exception": false,
     "start_time": "2020-10-31T12:33:38.080004",
     "status": "completed"
    },
    "tags": []
   },
   "outputs": [],
   "source": [
    "clf = BaggingClassifier(model1,n_estimators = 19,random_state = 0)\n",
    "clf.fit(x_train,y_train)\n",
    "\n",
    "y7 = clf.predict(x_test)\n",
    "\n",
    "submit = pd.DataFrame(y7,columns = ['Survived'],index = [i + 892 for i in range(0,418)])\n",
    "submit.index.name = 'PassengerId'\n",
    "submit.to_csv('bagging.csv')"
   ]
  },
  {
   "cell_type": "markdown",
   "metadata": {
    "papermill": {
     "duration": 0.105139,
     "end_time": "2020-10-31T12:33:38.480934",
     "exception": false,
     "start_time": "2020-10-31T12:33:38.375795",
     "status": "completed"
    },
    "tags": []
   },
   "source": [
    "> We achieved score of 0.77511 by using the above technique."
   ]
  },
  {
   "cell_type": "markdown",
   "metadata": {
    "papermill": {
     "duration": 0.104267,
     "end_time": "2020-10-31T12:33:38.691287",
     "exception": false,
     "start_time": "2020-10-31T12:33:38.587020",
     "status": "completed"
    },
    "tags": []
   },
   "source": [
    "#### b) Random Forests<br>\n",
    "> Random Forest is considered to be a panacea of all data science problems. On a funny note, when you can’t think of any algorithm (irrespective of situation), use random forest!<br><br>\n",
    "> Random forest is like bootstrapping algorithm with Decision tree (CART) model. Say, we have 1000 observation in the complete population with 10 variables. Random forest tries to build multiple CART models with different samples and different initial variables. For instance, it will take a random sample of 100 observation and 5 randomly chosen initial variables to build a CART model. It will repeat the process (say) 10 times and then make a final prediction on each observation. Final prediction is a function of each prediction. This final prediction can simply be the mean of each prediction."
   ]
  },
  {
   "cell_type": "code",
   "execution_count": 47,
   "metadata": {
    "execution": {
     "iopub.execute_input": "2020-10-31T12:33:38.924693Z",
     "iopub.status.busy": "2020-10-31T12:33:38.923452Z",
     "iopub.status.idle": "2020-10-31T12:34:07.835894Z",
     "shell.execute_reply": "2020-10-31T12:34:07.836495Z"
    },
    "papermill": {
     "duration": 29.039465,
     "end_time": "2020-10-31T12:34:07.836692",
     "exception": false,
     "start_time": "2020-10-31T12:33:38.797227",
     "status": "completed"
    },
    "tags": []
   },
   "outputs": [
    {
     "data": {
      "text/plain": [
       "{'criterion': 'entropy', 'max_depth': 5, 'n_estimators': 20}"
      ]
     },
     "execution_count": 47,
     "metadata": {},
     "output_type": "execute_result"
    }
   ],
   "source": [
    "param_grid = {\n",
    "    'n_estimators': [5, 10, 15, 20, 25], \n",
    "    'max_depth': [3, 5, 7, 9, 11, 13],    \n",
    "    'criterion': ['gini', 'entropy']\n",
    "}\n",
    "gscv = GridSearchCV(RandomForestClassifier(random_state = 0),param_grid = param_grid, cv = 10,scoring = 'accuracy')\n",
    "gscv.fit(x_train,y_train)\n",
    "gscv.best_params_"
   ]
  },
  {
   "cell_type": "code",
   "execution_count": 48,
   "metadata": {
    "execution": {
     "iopub.execute_input": "2020-10-31T12:34:08.059740Z",
     "iopub.status.busy": "2020-10-31T12:34:08.058776Z",
     "iopub.status.idle": "2020-10-31T12:34:08.062478Z",
     "shell.execute_reply": "2020-10-31T12:34:08.063090Z"
    },
    "papermill": {
     "duration": 0.116586,
     "end_time": "2020-10-31T12:34:08.063233",
     "exception": false,
     "start_time": "2020-10-31T12:34:07.946647",
     "status": "completed"
    },
    "tags": []
   },
   "outputs": [
    {
     "data": {
      "text/plain": [
       "RandomForestClassifier(criterion='entropy', max_depth=5, n_estimators=20,\n",
       "                       random_state=0)"
      ]
     },
     "execution_count": 48,
     "metadata": {},
     "output_type": "execute_result"
    }
   ],
   "source": [
    "gscv.best_estimator_"
   ]
  },
  {
   "cell_type": "code",
   "execution_count": 49,
   "metadata": {
    "execution": {
     "iopub.execute_input": "2020-10-31T12:34:08.288713Z",
     "iopub.status.busy": "2020-10-31T12:34:08.286278Z",
     "iopub.status.idle": "2020-10-31T12:34:08.346955Z",
     "shell.execute_reply": "2020-10-31T12:34:08.346264Z"
    },
    "papermill": {
     "duration": 0.176116,
     "end_time": "2020-10-31T12:34:08.347082",
     "exception": false,
     "start_time": "2020-10-31T12:34:08.170966",
     "status": "completed"
    },
    "tags": []
   },
   "outputs": [],
   "source": [
    "clf = RandomForestClassifier(n_estimators = 20,max_depth = 5,criterion = 'gini',random_state = 0)\n",
    "clf.fit(x_train,y_train)\n",
    "\n",
    "y8 = clf.predict(x_test)\n",
    "\n",
    "submit = pd.DataFrame(y8,columns = ['Survived'],index = [i + 892 for i in range(0,418)])\n",
    "submit.index.name = 'PassengerId'\n",
    "submit.to_csv('random_forest.csv')"
   ]
  },
  {
   "cell_type": "markdown",
   "metadata": {
    "papermill": {
     "duration": 0.105697,
     "end_time": "2020-10-31T12:34:08.559078",
     "exception": false,
     "start_time": "2020-10-31T12:34:08.453381",
     "status": "completed"
    },
    "tags": []
   },
   "source": [
    "> We achieved score of 0.77990 by using the above technique."
   ]
  },
  {
   "cell_type": "code",
   "execution_count": 50,
   "metadata": {
    "execution": {
     "iopub.execute_input": "2020-10-31T12:34:08.783204Z",
     "iopub.status.busy": "2020-10-31T12:34:08.782184Z",
     "iopub.status.idle": "2020-10-31T12:34:08.786194Z",
     "shell.execute_reply": "2020-10-31T12:34:08.786808Z"
    },
    "papermill": {
     "duration": 0.120986,
     "end_time": "2020-10-31T12:34:08.786986",
     "exception": false,
     "start_time": "2020-10-31T12:34:08.666000",
     "status": "completed"
    },
    "tags": []
   },
   "outputs": [
    {
     "data": {
      "text/plain": [
       "array([0.15201777, 0.21349441, 0.02568767, 0.05102753, 0.02595096,\n",
       "       0.08159396, 0.01384946, 0.31520854, 0.05838478, 0.03026976,\n",
       "       0.01578348, 0.01673168])"
      ]
     },
     "execution_count": 50,
     "metadata": {},
     "output_type": "execute_result"
    }
   ],
   "source": [
    "clf.feature_importances_"
   ]
  },
  {
   "cell_type": "markdown",
   "metadata": {
    "papermill": {
     "duration": 0.107305,
     "end_time": "2020-10-31T12:34:09.006246",
     "exception": false,
     "start_time": "2020-10-31T12:34:08.898941",
     "status": "completed"
    },
    "tags": []
   },
   "source": [
    "### 2. Boosting"
   ]
  },
  {
   "cell_type": "markdown",
   "metadata": {
    "papermill": {
     "duration": 0.109635,
     "end_time": "2020-10-31T12:34:09.223959",
     "exception": false,
     "start_time": "2020-10-31T12:34:09.114324",
     "status": "completed"
    },
    "tags": []
   },
   "source": [
    "> Boosting is a sequential process, where each subsequent model attempts to correct the errors of the previous model. The succeeding models are dependent on the previous model.<br> <br>\n",
    "Let’s understand the way boosting works in detail:\n",
    "1. A subset is created from the original dataset.\n",
    "2. Initially, all data points are given equal weights.\n",
    "3. A base model is created on this subset.\n",
    "4. This model is used to make predictions on the whole dataset.\n",
    "5. Errors are calculated using the actual values and predicted values.\n",
    "6. The observations which are incorrectly predicted, are given higher weights.\n",
    "7. Another model is created and predictions are made on the dataset.\n",
    "8. Similarly, multiple models are created, each correcting the errors of the previous model.\n",
    "9. The final model (strong learner) is the weighted mean of all the models (weak learners).\n",
    "10. Thus, the boosting algorithm combines a number of weak learners to form a strong learner. The individual models would not perform well on the entire dataset, but they work well for some part of the dataset. Thus, each model actually boosts the performance of the ensemble."
   ]
  },
  {
   "cell_type": "markdown",
   "metadata": {
    "papermill": {
     "duration": 0.10706,
     "end_time": "2020-10-31T12:34:09.438092",
     "exception": false,
     "start_time": "2020-10-31T12:34:09.331032",
     "status": "completed"
    },
    "tags": []
   },
   "source": [
    "#### a). Gradient Boosting Machine (GBM)"
   ]
  },
  {
   "cell_type": "code",
   "execution_count": 51,
   "metadata": {
    "execution": {
     "iopub.execute_input": "2020-10-31T12:34:09.663306Z",
     "iopub.status.busy": "2020-10-31T12:34:09.662072Z",
     "iopub.status.idle": "2020-10-31T12:37:54.129168Z",
     "shell.execute_reply": "2020-10-31T12:37:54.129740Z"
    },
    "papermill": {
     "duration": 224.58435,
     "end_time": "2020-10-31T12:37:54.129927",
     "exception": false,
     "start_time": "2020-10-31T12:34:09.545577",
     "status": "completed"
    },
    "tags": []
   },
   "outputs": [
    {
     "data": {
      "text/plain": [
       "{'learning_rate': 0.05, 'loss': 'deviance', 'max_depth': 3, 'n_estimators': 25}"
      ]
     },
     "execution_count": 51,
     "metadata": {},
     "output_type": "execute_result"
    }
   ],
   "source": [
    "param_grid = {\n",
    "    'loss': ['deviance','exponential'],\n",
    "    'max_depth': [3, 5, 7, 9], \n",
    "    'n_estimators': [5, 10, 15, 20, 25, 50, 100],\n",
    "    'learning_rate': [0.01, 0.05, 0.1]\n",
    "    \n",
    "}\n",
    "gscv = GridSearchCV(GradientBoostingClassifier(random_state = 0),param_grid = param_grid, cv = 10)\n",
    "gscv.fit(x_train,y_train)\n",
    "gscv.best_params_"
   ]
  },
  {
   "cell_type": "code",
   "execution_count": 52,
   "metadata": {
    "execution": {
     "iopub.execute_input": "2020-10-31T12:37:54.360299Z",
     "iopub.status.busy": "2020-10-31T12:37:54.359265Z",
     "iopub.status.idle": "2020-10-31T12:37:54.828529Z",
     "shell.execute_reply": "2020-10-31T12:37:54.827827Z"
    },
    "papermill": {
     "duration": 0.590186,
     "end_time": "2020-10-31T12:37:54.828650",
     "exception": false,
     "start_time": "2020-10-31T12:37:54.238464",
     "status": "completed"
    },
    "tags": []
   },
   "outputs": [],
   "source": [
    "clf = GradientBoostingClassifier(\n",
    "    loss = 'exponential',\n",
    "    learning_rate = 0.1,\n",
    "    n_estimators = 50 ,\n",
    "    criterion = 'mae',\n",
    "    min_samples_split = 10,\n",
    "    min_samples_leaf = 3,\n",
    "    max_depth = 6,\n",
    "    max_features = 'sqrt',\n",
    "    random_state = 0)\n",
    "\n",
    "clf.fit(x_train,y_train)\n",
    "\n",
    "y9 = clf.predict(x_test)\n",
    "\n",
    "submit = pd.DataFrame(y9,columns = ['Survived'],index = [i + 892 for i in range(0,418)])\n",
    "submit.index.name = 'PassengerId'\n",
    "submit.to_csv('gradientboosting.csv')"
   ]
  },
  {
   "cell_type": "markdown",
   "metadata": {
    "papermill": {
     "duration": 0.108482,
     "end_time": "2020-10-31T12:37:55.045689",
     "exception": false,
     "start_time": "2020-10-31T12:37:54.937207",
     "status": "completed"
    },
    "tags": []
   },
   "source": [
    "#### b). Xtreme Gradient Boosting Machine (XGBM)"
   ]
  },
  {
   "cell_type": "code",
   "execution_count": 53,
   "metadata": {
    "execution": {
     "iopub.execute_input": "2020-10-31T12:37:55.274876Z",
     "iopub.status.busy": "2020-10-31T12:37:55.273767Z",
     "iopub.status.idle": "2020-10-31T12:38:24.901519Z",
     "shell.execute_reply": "2020-10-31T12:38:24.902563Z"
    },
    "papermill": {
     "duration": 29.74726,
     "end_time": "2020-10-31T12:38:24.902750",
     "exception": false,
     "start_time": "2020-10-31T12:37:55.155490",
     "status": "completed"
    },
    "tags": []
   },
   "outputs": [
    {
     "data": {
      "text/plain": [
       "{'learning_rate': 0.01, 'max_depth': 3, 'n_estimators': 50}"
      ]
     },
     "execution_count": 53,
     "metadata": {},
     "output_type": "execute_result"
    }
   ],
   "source": [
    "param_grid = {\n",
    "    'max_depth': [3, 5, 7, 9], \n",
    "    'n_estimators': [5, 10, 15, 20, 25, 50, 100],\n",
    "    'learning_rate': [0.01, 0.05, 0.1]\n",
    "}\n",
    "gscv = GridSearchCV(XGBClassifier(random_state = 0),param_grid = param_grid, cv = 10,scoring = 'accuracy')\n",
    "gscv.fit(x_train,y_train)\n",
    "gscv.best_params_"
   ]
  },
  {
   "cell_type": "code",
   "execution_count": 54,
   "metadata": {
    "execution": {
     "iopub.execute_input": "2020-10-31T12:38:25.178063Z",
     "iopub.status.busy": "2020-10-31T12:38:25.176990Z",
     "iopub.status.idle": "2020-10-31T12:38:25.180675Z",
     "shell.execute_reply": "2020-10-31T12:38:25.181253Z"
    },
    "papermill": {
     "duration": 0.132619,
     "end_time": "2020-10-31T12:38:25.181405",
     "exception": false,
     "start_time": "2020-10-31T12:38:25.048786",
     "status": "completed"
    },
    "tags": []
   },
   "outputs": [
    {
     "data": {
      "text/plain": [
       "0.8338951310861422"
      ]
     },
     "execution_count": 54,
     "metadata": {},
     "output_type": "execute_result"
    }
   ],
   "source": [
    "gscv.best_score_"
   ]
  },
  {
   "cell_type": "code",
   "execution_count": 55,
   "metadata": {
    "execution": {
     "iopub.execute_input": "2020-10-31T12:38:25.411874Z",
     "iopub.status.busy": "2020-10-31T12:38:25.410226Z",
     "iopub.status.idle": "2020-10-31T12:38:25.512054Z",
     "shell.execute_reply": "2020-10-31T12:38:25.513259Z"
    },
    "papermill": {
     "duration": 0.222319,
     "end_time": "2020-10-31T12:38:25.513454",
     "exception": false,
     "start_time": "2020-10-31T12:38:25.291135",
     "status": "completed"
    },
    "tags": []
   },
   "outputs": [],
   "source": [
    "clf = XGBClassifier(learning_rate = 0.05, max_depth = 7, n_estimators = 100,random_state = 42)\n",
    "\n",
    "clf.fit(x_train,y_train)\n",
    "\n",
    "y10 = clf.predict(x_test)\n",
    "\n",
    "submit = pd.DataFrame(y10,columns = ['Survived'],index = [i + 892 for i in range(0,418)])\n",
    "submit.index.name = 'PassengerId'\n",
    "submit.to_csv('xgboosting.csv')"
   ]
  },
  {
   "cell_type": "markdown",
   "metadata": {
    "papermill": {
     "duration": 0.117803,
     "end_time": "2020-10-31T12:38:25.762974",
     "exception": false,
     "start_time": "2020-10-31T12:38:25.645171",
     "status": "completed"
    },
    "tags": []
   },
   "source": [
    "#### c). Adaptive Boosting (AdaBoost)"
   ]
  },
  {
   "cell_type": "code",
   "execution_count": 56,
   "metadata": {
    "execution": {
     "iopub.execute_input": "2020-10-31T12:38:26.076848Z",
     "iopub.status.busy": "2020-10-31T12:38:26.075671Z",
     "iopub.status.idle": "2020-10-31T12:38:59.549413Z",
     "shell.execute_reply": "2020-10-31T12:38:59.550444Z"
    },
    "papermill": {
     "duration": 33.67898,
     "end_time": "2020-10-31T12:38:59.550686",
     "exception": false,
     "start_time": "2020-10-31T12:38:25.871706",
     "status": "completed"
    },
    "tags": []
   },
   "outputs": [
    {
     "name": "stdout",
     "output_type": "stream",
     "text": [
      "0.8294132334581773\n",
      "{'learning_rate': 0.1, 'n_estimators': 75}\n"
     ]
    }
   ],
   "source": [
    "param_grid = {\n",
    "    'n_estimators': [5, 10, 15, 20, 25, 50, 75, 100], \n",
    "    'learning_rate': [0.001, 0.01, 0.1, 1.],\n",
    "}\n",
    "gscv = GridSearchCV(AdaBoostClassifier(random_state = 0),param_grid = param_grid, cv = 10,scoring = 'accuracy')\n",
    "gscv.fit(x_train,y_train)\n",
    "print(gscv.best_score_)\n",
    "print(gscv.best_params_)"
   ]
  },
  {
   "cell_type": "code",
   "execution_count": 57,
   "metadata": {
    "execution": {
     "iopub.execute_input": "2020-10-31T12:38:59.795227Z",
     "iopub.status.busy": "2020-10-31T12:38:59.793801Z",
     "iopub.status.idle": "2020-10-31T12:38:59.991589Z",
     "shell.execute_reply": "2020-10-31T12:38:59.990839Z"
    },
    "papermill": {
     "duration": 0.321224,
     "end_time": "2020-10-31T12:38:59.991726",
     "exception": false,
     "start_time": "2020-10-31T12:38:59.670502",
     "status": "completed"
    },
    "tags": []
   },
   "outputs": [],
   "source": [
    "clf = AdaBoostClassifier(learning_rate = 0.1, n_estimators = 75,random_state = 42)\n",
    "\n",
    "clf.fit(x_train,y_train)\n",
    "\n",
    "y11 = clf.predict(x_test)\n",
    "\n",
    "submit = pd.DataFrame(y11,columns = ['Survived'],index = [i + 892 for i in range(0,418)])\n",
    "submit.index.name = 'PassengerId'\n",
    "submit.to_csv('adaboost.csv')"
   ]
  },
  {
   "cell_type": "markdown",
   "metadata": {
    "papermill": {
     "duration": 0.11279,
     "end_time": "2020-10-31T12:39:00.215517",
     "exception": false,
     "start_time": "2020-10-31T12:39:00.102727",
     "status": "completed"
    },
    "tags": []
   },
   "source": [
    "> We achieved score of 0.77990 by using the above technique."
   ]
  },
  {
   "cell_type": "markdown",
   "metadata": {
    "papermill": {
     "duration": 0.111245,
     "end_time": "2020-10-31T12:39:00.438480",
     "exception": false,
     "start_time": "2020-10-31T12:39:00.327235",
     "status": "completed"
    },
    "tags": []
   },
   "source": [
    "#### d.) LightGBM"
   ]
  },
  {
   "cell_type": "markdown",
   "metadata": {
    "papermill": {
     "duration": 0.110797,
     "end_time": "2020-10-31T12:39:00.659707",
     "exception": false,
     "start_time": "2020-10-31T12:39:00.548910",
     "status": "completed"
    },
    "tags": []
   },
   "source": [
    "> Before discussing how Light GBM works, let’s first understand why we need this algorithm when we have so many others (like the ones we have seen above). Light GBM beats all the other algorithms when the dataset is extremely large. Compared to the other algorithms, Light GBM takes lesser time to run on a huge dataset.\n",
    "<br><br>\n",
    "LightGBM is a gradient boosting framework that uses tree-based algorithms and follows leafwise approach while other algorithms work in a level-wise approach pattern. <br>\n",
    "\n"
   ]
  },
  {
   "cell_type": "code",
   "execution_count": 58,
   "metadata": {
    "execution": {
     "iopub.execute_input": "2020-10-31T12:39:00.889948Z",
     "iopub.status.busy": "2020-10-31T12:39:00.888815Z",
     "iopub.status.idle": "2020-10-31T12:40:14.461453Z",
     "shell.execute_reply": "2020-10-31T12:40:14.462568Z"
    },
    "papermill": {
     "duration": 73.692782,
     "end_time": "2020-10-31T12:40:14.462839",
     "exception": false,
     "start_time": "2020-10-31T12:39:00.770057",
     "status": "completed"
    },
    "tags": []
   },
   "outputs": [
    {
     "name": "stdout",
     "output_type": "stream",
     "text": [
      "0.8350187265917602\n",
      "{'learning_rate': 0.1, 'max_depth': 3, 'n_estimators': 15, 'num_leaves': 7}\n"
     ]
    }
   ],
   "source": [
    "param_grid = {\n",
    "    'n_estimators': [5, 10, 15, 20, 25, 50, 100],\n",
    "    'learning_rate': [0.01, 0.05, 0.1],\n",
    "    'num_leaves': [7, 15, 31],\n",
    "    'max_depth': [3,5,7,9,13]\n",
    "}\n",
    "gscv = GridSearchCV(LGBMClassifier(random_state = 0),param_grid = param_grid, cv = 10,scoring = 'accuracy')\n",
    "gscv.fit(x_train,y_train)\n",
    "print(gscv.best_score_)\n",
    "print(gscv.best_params_)"
   ]
  },
  {
   "cell_type": "code",
   "execution_count": 59,
   "metadata": {
    "execution": {
     "iopub.execute_input": "2020-10-31T12:40:14.704996Z",
     "iopub.status.busy": "2020-10-31T12:40:14.703909Z",
     "iopub.status.idle": "2020-10-31T12:40:14.735622Z",
     "shell.execute_reply": "2020-10-31T12:40:14.736385Z"
    },
    "papermill": {
     "duration": 0.152141,
     "end_time": "2020-10-31T12:40:14.736566",
     "exception": false,
     "start_time": "2020-10-31T12:40:14.584425",
     "status": "completed"
    },
    "tags": []
   },
   "outputs": [],
   "source": [
    "clf = LGBMClassifier(learning_rate = 0.05, n_estimators = 50,max_depth = 5,num_leaves = 15,random_state = 42)\n",
    "\n",
    "clf.fit(x_train,y_train)\n",
    "y12 = clf.predict(x_test)\n",
    "\n",
    "submit = pd.DataFrame(y12,columns = ['Survived'],index = [i + 892 for i in range(0,418)])\n",
    "submit.index.name = 'PassengerId'\n",
    "submit.to_csv('lgbm.csv')"
   ]
  },
  {
   "cell_type": "markdown",
   "metadata": {
    "papermill": {
     "duration": 0.176436,
     "end_time": "2020-10-31T12:40:15.045717",
     "exception": false,
     "start_time": "2020-10-31T12:40:14.869281",
     "status": "completed"
    },
    "tags": []
   },
   "source": [
    "#### e.) CatBoost"
   ]
  },
  {
   "cell_type": "markdown",
   "metadata": {
    "papermill": {
     "duration": 0.162212,
     "end_time": "2020-10-31T12:40:15.404890",
     "exception": false,
     "start_time": "2020-10-31T12:40:15.242678",
     "status": "completed"
    },
    "tags": []
   },
   "source": [
    "> Handling categorical variables is a tedious process, especially when you have a large number of such variables. When your categorical variables have too many labels (i.e. they are highly cardinal), performing one-hot-encoding on them exponentially increases the dimensionality and it becomes really difcult to work with the dataset.<br><br>\n",
    "CatBoost can automatically deal with categorical variables and does not require extensive data preprocessing like other machine learning algorithms."
   ]
  },
  {
   "cell_type": "code",
   "execution_count": 60,
   "metadata": {
    "execution": {
     "iopub.execute_input": "2020-10-31T12:40:15.765273Z",
     "iopub.status.busy": "2020-10-31T12:40:15.764038Z",
     "iopub.status.idle": "2020-10-31T12:41:28.667529Z",
     "shell.execute_reply": "2020-10-31T12:41:28.668531Z"
    },
    "papermill": {
     "duration": 73.073318,
     "end_time": "2020-10-31T12:41:28.668774",
     "exception": false,
     "start_time": "2020-10-31T12:40:15.595456",
     "status": "completed"
    },
    "tags": []
   },
   "outputs": [
    {
     "name": "stdout",
     "output_type": "stream",
     "text": [
      "0.8350187265917602\n",
      "{'depth': 5, 'iterations': 10, 'learning_rate': 0.1}\n"
     ]
    }
   ],
   "source": [
    "param_grid = {\n",
    "    'iterations': [5, 10, 15, 20, 25, 50, 100],\n",
    "    'learning_rate': [0.01, 0.05, 0.1],\n",
    "    'depth': [3, 5, 7, 9, 11, 13],\n",
    "}\n",
    "gscv = GridSearchCV(CatBoostClassifier(random_state = 0,verbose = False),param_grid = param_grid, cv = 10,scoring = 'accuracy')\n",
    "gscv.fit(x_train,y_train)\n",
    "print(gscv.best_score_)\n",
    "print(gscv.best_params_)"
   ]
  },
  {
   "cell_type": "code",
   "execution_count": 61,
   "metadata": {
    "execution": {
     "iopub.execute_input": "2020-10-31T12:41:28.938320Z",
     "iopub.status.busy": "2020-10-31T12:41:28.936894Z",
     "iopub.status.idle": "2020-10-31T12:41:28.988483Z",
     "shell.execute_reply": "2020-10-31T12:41:28.989159Z"
    },
    "papermill": {
     "duration": 0.190178,
     "end_time": "2020-10-31T12:41:28.989327",
     "exception": false,
     "start_time": "2020-10-31T12:41:28.799149",
     "status": "completed"
    },
    "tags": []
   },
   "outputs": [
    {
     "name": "stdout",
     "output_type": "stream",
     "text": [
      "0:\tlearn: 0.6536019\ttotal: 662us\tremaining: 5.96ms\n",
      "1:\tlearn: 0.6191447\ttotal: 1.63ms\tremaining: 6.51ms\n",
      "2:\tlearn: 0.5920434\ttotal: 2.35ms\tremaining: 5.48ms\n",
      "3:\tlearn: 0.5681246\ttotal: 2.95ms\tremaining: 4.43ms\n",
      "4:\tlearn: 0.5466532\ttotal: 3.57ms\tremaining: 3.57ms\n",
      "5:\tlearn: 0.5284692\ttotal: 4.15ms\tremaining: 2.76ms\n",
      "6:\tlearn: 0.5148503\ttotal: 4.73ms\tremaining: 2.03ms\n",
      "7:\tlearn: 0.5009728\ttotal: 5.29ms\tremaining: 1.32ms\n",
      "8:\tlearn: 0.4897600\ttotal: 5.79ms\tremaining: 643us\n",
      "9:\tlearn: 0.4785859\ttotal: 6.39ms\tremaining: 0us\n"
     ]
    }
   ],
   "source": [
    "clf = CatBoostClassifier(learning_rate = 0.1,depth = 5,iterations = 10,random_state = 42)\n",
    "\n",
    "clf.fit(x_train,y_train)\n",
    "\n",
    "y13 = clf.predict(x_test)\n",
    "\n",
    "submit = pd.DataFrame(y13,columns = ['Survived'],index = [i + 892 for i in range(0,418)])\n",
    "submit.index.name = 'PassengerId'\n",
    "submit.to_csv('catboost.csv')"
   ]
  },
  {
   "cell_type": "markdown",
   "metadata": {
    "papermill": {
     "duration": 0.114922,
     "end_time": "2020-10-31T12:41:29.218828",
     "exception": false,
     "start_time": "2020-10-31T12:41:29.103906",
     "status": "completed"
    },
    "tags": []
   },
   "source": [
    " > Thanks for going through the notebook. Do comment in case you have any doubts/suggestions.<br>\n"
   ]
  }
 ],
 "metadata": {
  "kernelspec": {
   "display_name": "Python 3",
   "language": "python",
   "name": "python3"
  },
  "language_info": {
   "codemirror_mode": {
    "name": "ipython",
    "version": 3
   },
   "file_extension": ".py",
   "mimetype": "text/x-python",
   "name": "python",
   "nbconvert_exporter": "python",
   "pygments_lexer": "ipython3",
   "version": "3.7.6"
  },
  "papermill": {
   "duration": 512.491231,
   "end_time": "2020-10-31T12:41:30.418346",
   "environment_variables": {},
   "exception": null,
   "input_path": "__notebook__.ipynb",
   "output_path": "__notebook__.ipynb",
   "parameters": {},
   "start_time": "2020-10-31T12:32:57.927115",
   "version": "2.1.0"
  }
 },
 "nbformat": 4,
 "nbformat_minor": 4
}
