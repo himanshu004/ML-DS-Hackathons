{
 "cells": [
  {
   "cell_type": "markdown",
   "metadata": {},
   "source": [
    "# Study Jam 3.0 Hackathon - Regression Challenge"
   ]
  },
  {
   "cell_type": "markdown",
   "metadata": {},
   "source": [
    "## Instructions"
   ]
  },
  {
   "cell_type": "markdown",
   "metadata": {},
   "source": [
    "Your task is to train a model to predict the column **target** using rest of the columns from the training dataset.\n",
    "\n",
    "Then predict the test using the columns in the test dataset using your model. \n",
    "\n",
    "You will be judged by the accuracy of the model based on the test dataset. RMSE will be used to calculate accuracy. \n",
    "\n",
    "Email your predictions (5640 rows,1 column) to sj3hackathon@gmail.com . Include your name, slack name, team name in the email. If you have any questions, please contact Sandeep Pawar or Sayeh Ahmed on Slack.\n",
    "\n",
    "To get you started, we have probvided the links to the datasets below. \n",
    "\n",
    "Good luck !!\n",
    "\n",
    "\n"
   ]
  },
  {
   "cell_type": "code",
   "execution_count": 1,
   "metadata": {},
   "outputs": [],
   "source": [
    "import pandas as pd\n",
    "import numpy as np\n",
    "\n"
   ]
  },
  {
   "cell_type": "code",
   "execution_count": 9,
   "metadata": {},
   "outputs": [],
   "source": [
    "train_path = \"https://raw.githubusercontent.com/pawarbi/datasets/master/train_sj3.csv\"\n",
    "test_path = \"https://raw.githubusercontent.com/pawarbi/datasets/master/test_sj3.csv\"\n",
    "\n",
    "# You can also download the csv files from \n",
    "# https://drive.google.com/drive/folders/1kiQ3HVgVIInlqnsLCk7WlzvxNcFOz9Pr?usp=sharing"
   ]
  },
  {
   "cell_type": "markdown",
   "metadata": {},
   "source": [
    "## Training Dataset"
   ]
  },
  {
   "cell_type": "code",
   "execution_count": 10,
   "metadata": {},
   "outputs": [
    {
     "data": {
      "text/html": [
       "<div>\n",
       "<style scoped>\n",
       "    .dataframe tbody tr th:only-of-type {\n",
       "        vertical-align: middle;\n",
       "    }\n",
       "\n",
       "    .dataframe tbody tr th {\n",
       "        vertical-align: top;\n",
       "    }\n",
       "\n",
       "    .dataframe thead th {\n",
       "        text-align: right;\n",
       "    }\n",
       "</style>\n",
       "<table border=\"1\" class=\"dataframe\">\n",
       "  <thead>\n",
       "    <tr style=\"text-align: right;\">\n",
       "      <th></th>\n",
       "      <th>col0</th>\n",
       "      <th>col1</th>\n",
       "      <th>col2</th>\n",
       "      <th>col3</th>\n",
       "      <th>col4</th>\n",
       "      <th>col5</th>\n",
       "      <th>col6</th>\n",
       "      <th>col7</th>\n",
       "      <th>col8</th>\n",
       "      <th>col9</th>\n",
       "      <th>target</th>\n",
       "    </tr>\n",
       "  </thead>\n",
       "  <tbody>\n",
       "    <tr>\n",
       "      <th>0</th>\n",
       "      <td>924</td>\n",
       "      <td>3.000000</td>\n",
       "      <td>70.064256</td>\n",
       "      <td>24.020824</td>\n",
       "      <td>44.508426</td>\n",
       "      <td>24.310492</td>\n",
       "      <td>3.117595</td>\n",
       "      <td>cat2</td>\n",
       "      <td>398.455102</td>\n",
       "      <td>cat13</td>\n",
       "      <td>1416.142572</td>\n",
       "    </tr>\n",
       "    <tr>\n",
       "      <th>1</th>\n",
       "      <td>956</td>\n",
       "      <td>4.898979</td>\n",
       "      <td>56.267220</td>\n",
       "      <td>20.591260</td>\n",
       "      <td>32.878564</td>\n",
       "      <td>20.000000</td>\n",
       "      <td>2.886815</td>\n",
       "      <td>cat2</td>\n",
       "      <td>70.823087</td>\n",
       "      <td>cat2</td>\n",
       "      <td>1416.142572</td>\n",
       "    </tr>\n",
       "    <tr>\n",
       "      <th>2</th>\n",
       "      <td>1583</td>\n",
       "      <td>4.242641</td>\n",
       "      <td>94.620294</td>\n",
       "      <td>32.771939</td>\n",
       "      <td>54.872580</td>\n",
       "      <td>31.511903</td>\n",
       "      <td>3.276767</td>\n",
       "      <td>cat2</td>\n",
       "      <td>770.742788</td>\n",
       "      <td>cat11</td>\n",
       "      <td>1416.142572</td>\n",
       "    </tr>\n",
       "    <tr>\n",
       "      <th>3</th>\n",
       "      <td>1586</td>\n",
       "      <td>4.000000</td>\n",
       "      <td>87.641314</td>\n",
       "      <td>30.757113</td>\n",
       "      <td>52.697249</td>\n",
       "      <td>30.133038</td>\n",
       "      <td>3.086600</td>\n",
       "      <td>cat2</td>\n",
       "      <td>751.995992</td>\n",
       "      <td>cat13</td>\n",
       "      <td>1416.142572</td>\n",
       "    </tr>\n",
       "    <tr>\n",
       "      <th>4</th>\n",
       "      <td>3487</td>\n",
       "      <td>3.162278</td>\n",
       "      <td>87.549986</td>\n",
       "      <td>31.606961</td>\n",
       "      <td>59.304300</td>\n",
       "      <td>31.591138</td>\n",
       "      <td>3.298560</td>\n",
       "      <td>cat2</td>\n",
       "      <td>695.048624</td>\n",
       "      <td>cat5</td>\n",
       "      <td>1416.142572</td>\n",
       "    </tr>\n",
       "  </tbody>\n",
       "</table>\n",
       "</div>"
      ],
      "text/plain": [
       "   col0      col1       col2       col3       col4       col5      col6  col7  \\\n",
       "0   924  3.000000  70.064256  24.020824  44.508426  24.310492  3.117595  cat2   \n",
       "1   956  4.898979  56.267220  20.591260  32.878564  20.000000  2.886815  cat2   \n",
       "2  1583  4.242641  94.620294  32.771939  54.872580  31.511903  3.276767  cat2   \n",
       "3  1586  4.000000  87.641314  30.757113  52.697249  30.133038  3.086600  cat2   \n",
       "4  3487  3.162278  87.549986  31.606961  59.304300  31.591138  3.298560  cat2   \n",
       "\n",
       "         col8   col9       target  \n",
       "0  398.455102  cat13  1416.142572  \n",
       "1   70.823087   cat2  1416.142572  \n",
       "2  770.742788  cat11  1416.142572  \n",
       "3  751.995992  cat13  1416.142572  \n",
       "4  695.048624   cat5  1416.142572  "
      ]
     },
     "execution_count": 10,
     "metadata": {},
     "output_type": "execute_result"
    }
   ],
   "source": [
    "train_df = pd.read_csv(train_path)\n",
    "\n",
    "train_df.head(5)"
   ]
  },
  {
   "cell_type": "code",
   "execution_count": 11,
   "metadata": {},
   "outputs": [
    {
     "data": {
      "text/plain": [
       "(15000, 11)"
      ]
     },
     "execution_count": 11,
     "metadata": {},
     "output_type": "execute_result"
    }
   ],
   "source": [
    "train_df.shape"
   ]
  },
  {
   "cell_type": "markdown",
   "metadata": {},
   "source": [
    "## Test Dataset"
   ]
  },
  {
   "cell_type": "code",
   "execution_count": 6,
   "metadata": {},
   "outputs": [
    {
     "data": {
      "text/html": [
       "<div>\n",
       "<style scoped>\n",
       "    .dataframe tbody tr th:only-of-type {\n",
       "        vertical-align: middle;\n",
       "    }\n",
       "\n",
       "    .dataframe tbody tr th {\n",
       "        vertical-align: top;\n",
       "    }\n",
       "\n",
       "    .dataframe thead th {\n",
       "        text-align: right;\n",
       "    }\n",
       "</style>\n",
       "<table border=\"1\" class=\"dataframe\">\n",
       "  <thead>\n",
       "    <tr style=\"text-align: right;\">\n",
       "      <th></th>\n",
       "      <th>col0</th>\n",
       "      <th>col1</th>\n",
       "      <th>col2</th>\n",
       "      <th>col3</th>\n",
       "      <th>col4</th>\n",
       "      <th>col5</th>\n",
       "      <th>col6</th>\n",
       "      <th>col7</th>\n",
       "      <th>col8</th>\n",
       "      <th>col9</th>\n",
       "    </tr>\n",
       "  </thead>\n",
       "  <tbody>\n",
       "    <tr>\n",
       "      <th>0</th>\n",
       "      <td>15617</td>\n",
       "      <td>7.211103</td>\n",
       "      <td>36.249138</td>\n",
       "      <td>17.804494</td>\n",
       "      <td>21.748563</td>\n",
       "      <td>15.811388</td>\n",
       "      <td>2.084994</td>\n",
       "      <td>cat1</td>\n",
       "      <td>432.488573</td>\n",
       "      <td>cat5</td>\n",
       "    </tr>\n",
       "    <tr>\n",
       "      <th>1</th>\n",
       "      <td>15618</td>\n",
       "      <td>7.211103</td>\n",
       "      <td>53.404120</td>\n",
       "      <td>24.103942</td>\n",
       "      <td>28.948230</td>\n",
       "      <td>22.583180</td>\n",
       "      <td>2.841742</td>\n",
       "      <td>cat1</td>\n",
       "      <td>151.342594</td>\n",
       "      <td>cat11</td>\n",
       "    </tr>\n",
       "    <tr>\n",
       "      <th>2</th>\n",
       "      <td>15619</td>\n",
       "      <td>7.211103</td>\n",
       "      <td>70.604532</td>\n",
       "      <td>36.810325</td>\n",
       "      <td>42.988371</td>\n",
       "      <td>35.425979</td>\n",
       "      <td>2.218355</td>\n",
       "      <td>cat1</td>\n",
       "      <td>385.458208</td>\n",
       "      <td>cat2</td>\n",
       "    </tr>\n",
       "    <tr>\n",
       "      <th>3</th>\n",
       "      <td>15621</td>\n",
       "      <td>7.211103</td>\n",
       "      <td>27.221315</td>\n",
       "      <td>13.038405</td>\n",
       "      <td>16.643317</td>\n",
       "      <td>12.845233</td>\n",
       "      <td>2.114521</td>\n",
       "      <td>cat1</td>\n",
       "      <td>20.638930</td>\n",
       "      <td>NaN</td>\n",
       "    </tr>\n",
       "    <tr>\n",
       "      <th>4</th>\n",
       "      <td>15622</td>\n",
       "      <td>7.211103</td>\n",
       "      <td>50.823223</td>\n",
       "      <td>25.922963</td>\n",
       "      <td>36.537652</td>\n",
       "      <td>24.758837</td>\n",
       "      <td>1.774176</td>\n",
       "      <td>cat1</td>\n",
       "      <td>709.821361</td>\n",
       "      <td>cat15</td>\n",
       "    </tr>\n",
       "  </tbody>\n",
       "</table>\n",
       "</div>"
      ],
      "text/plain": [
       "    col0      col1       col2       col3       col4       col5      col6  \\\n",
       "0  15617  7.211103  36.249138  17.804494  21.748563  15.811388  2.084994   \n",
       "1  15618  7.211103  53.404120  24.103942  28.948230  22.583180  2.841742   \n",
       "2  15619  7.211103  70.604532  36.810325  42.988371  35.425979  2.218355   \n",
       "3  15621  7.211103  27.221315  13.038405  16.643317  12.845233  2.114521   \n",
       "4  15622  7.211103  50.823223  25.922963  36.537652  24.758837  1.774176   \n",
       "\n",
       "   col7        col8   col9  \n",
       "0  cat1  432.488573   cat5  \n",
       "1  cat1  151.342594  cat11  \n",
       "2  cat1  385.458208   cat2  \n",
       "3  cat1   20.638930    NaN  \n",
       "4  cat1  709.821361  cat15  "
      ]
     },
     "execution_count": 6,
     "metadata": {},
     "output_type": "execute_result"
    }
   ],
   "source": [
    "test_df = pd.read_csv(test_path)\n",
    "\n",
    "test_df.head(5)"
   ]
  },
  {
   "cell_type": "code",
   "execution_count": 12,
   "metadata": {},
   "outputs": [
    {
     "data": {
      "text/plain": [
       "(5640, 10)"
      ]
     },
     "execution_count": 12,
     "metadata": {},
     "output_type": "execute_result"
    }
   ],
   "source": [
    "test_df.shape"
   ]
  },
  {
   "cell_type": "markdown",
   "metadata": {},
   "source": [
    "# Predictions"
   ]
  },
  {
   "cell_type": "markdown",
   "metadata": {},
   "source": [
    "Your predictions on the test set will look like below with 1 column and 5640 rows"
   ]
  },
  {
   "cell_type": "code",
   "execution_count": 16,
   "metadata": {},
   "outputs": [
    {
     "data": {
      "text/plain": [
       "array([   1,    2,    3, ..., 5638, 5639, 5640])"
      ]
     },
     "execution_count": 16,
     "metadata": {},
     "output_type": "execute_result"
    }
   ],
   "source": [
    "np.arange(1,5641)"
   ]
  },
  {
   "cell_type": "code",
   "execution_count": null,
   "metadata": {},
   "outputs": [],
   "source": []
  }
 ],
 "metadata": {
  "kernelspec": {
   "display_name": "Python 3",
   "language": "python",
   "name": "python3"
  },
  "language_info": {
   "codemirror_mode": {
    "name": "ipython",
    "version": 3
   },
   "file_extension": ".py",
   "mimetype": "text/x-python",
   "name": "python",
   "nbconvert_exporter": "python",
   "pygments_lexer": "ipython3",
   "version": "3.6.10"
  }
 },
 "nbformat": 4,
 "nbformat_minor": 4
}
