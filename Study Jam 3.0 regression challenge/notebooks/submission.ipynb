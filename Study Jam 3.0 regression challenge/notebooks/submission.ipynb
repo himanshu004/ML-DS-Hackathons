{
 "metadata": {
  "language_info": {
   "codemirror_mode": {
    "name": "ipython",
    "version": 3
   },
   "file_extension": ".py",
   "mimetype": "text/x-python",
   "name": "python",
   "nbconvert_exporter": "python",
   "pygments_lexer": "ipython3",
   "version": "3.7.6-final"
  },
  "orig_nbformat": 2,
  "kernelspec": {
   "name": "Python 3.7.6 64-bit ('Himanshu': virtualenv)",
   "display_name": "Python 3.7.6 64-bit ('Himanshu': virtualenv)",
   "metadata": {
    "interpreter": {
     "hash": "9fe2f98b7563adc8186c5292bf00518c3401f6f9c8a1445bf4e45c61673b1890"
    }
   }
  }
 },
 "nbformat": 4,
 "nbformat_minor": 2,
 "cells": [
  {
   "cell_type": "code",
   "execution_count": 1,
   "metadata": {},
   "outputs": [],
   "source": [
    "import pandas as pd\n",
    "import numpy as np\n",
    "from sklearn.preprocessing import LabelEncoder,StandardScaler, MinMaxScaler,OneHotEncoder\n",
    "from sklearn.model_selection import train_test_split,cross_val_score\n",
    "import seaborn as sns\n",
    "import matplotlib.pyplot as plt\n",
    "from sklearn.metrics import mean_squared_error\n",
    "# from skle.preprocessing imp\n",
    "\n",
    "from sklearn.linear_model import LogisticRegression, ridge_regression\n",
    "from sklearn.ensemble import RandomForestRegressor #\n",
    "from sklearn.svm import SVR\n",
    "from xgboost import XGBRegressor ##\n",
    "from sklearn.neural_network import MLPRegressor\n",
    "from sklearn.ensemble import AdaBoostRegressor\n",
    "from lightgbm import LGBMRegressor\n",
    "from catboost import CatBoostRegressor\n"
   ]
  },
  {
   "cell_type": "code",
   "execution_count": 2,
   "metadata": {},
   "outputs": [],
   "source": [
    "train_data = pd.read_csv('../data/train.csv')\n",
    "test_data = pd.read_csv('../data/test.csv')\n",
    "combined = [train_data,test_data]"
   ]
  },
  {
   "cell_type": "code",
   "execution_count": 3,
   "metadata": {},
   "outputs": [
    {
     "output_type": "execute_result",
     "data": {
      "text/plain": "   col0      col1       col2       col3       col4       col5      col6  col7  \\\n0   924  3.000000  70.064256  24.020824  44.508426  24.310492  3.117595  cat2   \n1   956  4.898979  56.267220  20.591260  32.878564  20.000000  2.886815  cat2   \n2  1583  4.242641  94.620294  32.771939  54.872580  31.511903  3.276767  cat2   \n3  1586  4.000000  87.641314  30.757113  52.697249  30.133038  3.086600  cat2   \n4  3487  3.162278  87.549986  31.606961  59.304300  31.591138  3.298560  cat2   \n\n         col8   col9       target  \n0  398.455102  cat13  1416.142572  \n1   70.823087   cat2  1416.142572  \n2  770.742788  cat11  1416.142572  \n3  751.995992  cat13  1416.142572  \n4  695.048624   cat5  1416.142572  ",
      "text/html": "<div>\n<style scoped>\n    .dataframe tbody tr th:only-of-type {\n        vertical-align: middle;\n    }\n\n    .dataframe tbody tr th {\n        vertical-align: top;\n    }\n\n    .dataframe thead th {\n        text-align: right;\n    }\n</style>\n<table border=\"1\" class=\"dataframe\">\n  <thead>\n    <tr style=\"text-align: right;\">\n      <th></th>\n      <th>col0</th>\n      <th>col1</th>\n      <th>col2</th>\n      <th>col3</th>\n      <th>col4</th>\n      <th>col5</th>\n      <th>col6</th>\n      <th>col7</th>\n      <th>col8</th>\n      <th>col9</th>\n      <th>target</th>\n    </tr>\n  </thead>\n  <tbody>\n    <tr>\n      <th>0</th>\n      <td>924</td>\n      <td>3.000000</td>\n      <td>70.064256</td>\n      <td>24.020824</td>\n      <td>44.508426</td>\n      <td>24.310492</td>\n      <td>3.117595</td>\n      <td>cat2</td>\n      <td>398.455102</td>\n      <td>cat13</td>\n      <td>1416.142572</td>\n    </tr>\n    <tr>\n      <th>1</th>\n      <td>956</td>\n      <td>4.898979</td>\n      <td>56.267220</td>\n      <td>20.591260</td>\n      <td>32.878564</td>\n      <td>20.000000</td>\n      <td>2.886815</td>\n      <td>cat2</td>\n      <td>70.823087</td>\n      <td>cat2</td>\n      <td>1416.142572</td>\n    </tr>\n    <tr>\n      <th>2</th>\n      <td>1583</td>\n      <td>4.242641</td>\n      <td>94.620294</td>\n      <td>32.771939</td>\n      <td>54.872580</td>\n      <td>31.511903</td>\n      <td>3.276767</td>\n      <td>cat2</td>\n      <td>770.742788</td>\n      <td>cat11</td>\n      <td>1416.142572</td>\n    </tr>\n    <tr>\n      <th>3</th>\n      <td>1586</td>\n      <td>4.000000</td>\n      <td>87.641314</td>\n      <td>30.757113</td>\n      <td>52.697249</td>\n      <td>30.133038</td>\n      <td>3.086600</td>\n      <td>cat2</td>\n      <td>751.995992</td>\n      <td>cat13</td>\n      <td>1416.142572</td>\n    </tr>\n    <tr>\n      <th>4</th>\n      <td>3487</td>\n      <td>3.162278</td>\n      <td>87.549986</td>\n      <td>31.606961</td>\n      <td>59.304300</td>\n      <td>31.591138</td>\n      <td>3.298560</td>\n      <td>cat2</td>\n      <td>695.048624</td>\n      <td>cat5</td>\n      <td>1416.142572</td>\n    </tr>\n  </tbody>\n</table>\n</div>"
     },
     "metadata": {},
     "execution_count": 3
    }
   ],
   "source": [
    "train_data.head()"
   ]
  },
  {
   "cell_type": "code",
   "execution_count": 4,
   "metadata": {},
   "outputs": [
    {
     "output_type": "execute_result",
     "data": {
      "text/plain": "               col0          col1          col2          col3          col4  \\\ncount  15000.000000  15000.000000  15000.000000  14856.000000  15000.000000   \nmean    7500.500000      5.244599     48.152720     21.952897     35.810135   \nstd     4330.271354      1.253538     17.481893      7.712690     12.474110   \nmin        1.000000      1.000000      1.414214      1.414214      1.732051   \n25%     3750.750000      4.358899     37.762415     17.146428     28.089144   \n50%     7500.500000      5.477226     45.628938     20.784610     34.117444   \n75%    11250.250000      6.082763     55.542776     25.396850     41.677332   \nmax    15000.000000      7.211103    198.292713     80.280757    169.014792   \n\n               col5          col6          col8        target  \ncount  15000.000000  15000.000000  15000.000000  15000.000000  \nmean      21.143822      1.895364    405.415168    412.128917  \nstd        7.313136      0.452278    226.439124    372.613689  \nmin        1.414214      0.707036     10.019787   -199.453698  \n25%       16.643317      1.581139    208.007229    137.325117  \n50%       20.149442      1.855748    409.101140    319.536975  \n75%       24.474477      2.156386    597.959193    571.369087  \nmax       77.987178      3.872996    799.963000   1416.142572  ",
      "text/html": "<div>\n<style scoped>\n    .dataframe tbody tr th:only-of-type {\n        vertical-align: middle;\n    }\n\n    .dataframe tbody tr th {\n        vertical-align: top;\n    }\n\n    .dataframe thead th {\n        text-align: right;\n    }\n</style>\n<table border=\"1\" class=\"dataframe\">\n  <thead>\n    <tr style=\"text-align: right;\">\n      <th></th>\n      <th>col0</th>\n      <th>col1</th>\n      <th>col2</th>\n      <th>col3</th>\n      <th>col4</th>\n      <th>col5</th>\n      <th>col6</th>\n      <th>col8</th>\n      <th>target</th>\n    </tr>\n  </thead>\n  <tbody>\n    <tr>\n      <th>count</th>\n      <td>15000.000000</td>\n      <td>15000.000000</td>\n      <td>15000.000000</td>\n      <td>14856.000000</td>\n      <td>15000.000000</td>\n      <td>15000.000000</td>\n      <td>15000.000000</td>\n      <td>15000.000000</td>\n      <td>15000.000000</td>\n    </tr>\n    <tr>\n      <th>mean</th>\n      <td>7500.500000</td>\n      <td>5.244599</td>\n      <td>48.152720</td>\n      <td>21.952897</td>\n      <td>35.810135</td>\n      <td>21.143822</td>\n      <td>1.895364</td>\n      <td>405.415168</td>\n      <td>412.128917</td>\n    </tr>\n    <tr>\n      <th>std</th>\n      <td>4330.271354</td>\n      <td>1.253538</td>\n      <td>17.481893</td>\n      <td>7.712690</td>\n      <td>12.474110</td>\n      <td>7.313136</td>\n      <td>0.452278</td>\n      <td>226.439124</td>\n      <td>372.613689</td>\n    </tr>\n    <tr>\n      <th>min</th>\n      <td>1.000000</td>\n      <td>1.000000</td>\n      <td>1.414214</td>\n      <td>1.414214</td>\n      <td>1.732051</td>\n      <td>1.414214</td>\n      <td>0.707036</td>\n      <td>10.019787</td>\n      <td>-199.453698</td>\n    </tr>\n    <tr>\n      <th>25%</th>\n      <td>3750.750000</td>\n      <td>4.358899</td>\n      <td>37.762415</td>\n      <td>17.146428</td>\n      <td>28.089144</td>\n      <td>16.643317</td>\n      <td>1.581139</td>\n      <td>208.007229</td>\n      <td>137.325117</td>\n    </tr>\n    <tr>\n      <th>50%</th>\n      <td>7500.500000</td>\n      <td>5.477226</td>\n      <td>45.628938</td>\n      <td>20.784610</td>\n      <td>34.117444</td>\n      <td>20.149442</td>\n      <td>1.855748</td>\n      <td>409.101140</td>\n      <td>319.536975</td>\n    </tr>\n    <tr>\n      <th>75%</th>\n      <td>11250.250000</td>\n      <td>6.082763</td>\n      <td>55.542776</td>\n      <td>25.396850</td>\n      <td>41.677332</td>\n      <td>24.474477</td>\n      <td>2.156386</td>\n      <td>597.959193</td>\n      <td>571.369087</td>\n    </tr>\n    <tr>\n      <th>max</th>\n      <td>15000.000000</td>\n      <td>7.211103</td>\n      <td>198.292713</td>\n      <td>80.280757</td>\n      <td>169.014792</td>\n      <td>77.987178</td>\n      <td>3.872996</td>\n      <td>799.963000</td>\n      <td>1416.142572</td>\n    </tr>\n  </tbody>\n</table>\n</div>"
     },
     "metadata": {},
     "execution_count": 4
    }
   ],
   "source": [
    "train_data.describe()"
   ]
  },
  {
   "cell_type": "code",
   "execution_count": 5,
   "metadata": {},
   "outputs": [
    {
     "output_type": "execute_result",
     "data": {
      "text/plain": "Index(['col7', 'col9'], dtype='object')"
     },
     "metadata": {},
     "execution_count": 5
    }
   ],
   "source": [
    "cat_features = train_data.select_dtypes(['object']).columns\n",
    "cat_features"
   ]
  },
  {
   "cell_type": "code",
   "execution_count": 6,
   "metadata": {
    "tags": []
   },
   "outputs": [
    {
     "output_type": "stream",
     "name": "stdout",
     "text": "\n 5\n\n 13\n"
    }
   ],
   "source": [
    "for col in cat_features:\n",
    "    print('\\n', train_data[col].nunique())"
   ]
  },
  {
   "cell_type": "code",
   "execution_count": 7,
   "metadata": {},
   "outputs": [],
   "source": [
    "for dataset in combined:\n",
    "    dataset['col7'] = dataset['col7'].fillna('cat2')"
   ]
  },
  {
   "cell_type": "code",
   "execution_count": 8,
   "metadata": {},
   "outputs": [],
   "source": [
    "for dataset in combined:\n",
    "    dataset['col9'].fillna('cat10',inplace = True)"
   ]
  },
  {
   "cell_type": "code",
   "execution_count": 9,
   "metadata": {},
   "outputs": [],
   "source": [
    "train_data['col3'].fillna(train_data['col3'].mean(),inplace = True)\n",
    "test_data['col3'].fillna(test_data['col3'].mean(),inplace = True)"
   ]
  },
  {
   "cell_type": "code",
   "execution_count": 10,
   "metadata": {},
   "outputs": [],
   "source": [
    "train_data = pd.get_dummies(train_data, prefix = ['col7'], columns = ['col7'])\n",
    "test_data = pd.get_dummies(test_data, prefix = ['col7'], columns = ['col7'])"
   ]
  },
  {
   "cell_type": "code",
   "execution_count": 11,
   "metadata": {},
   "outputs": [],
   "source": [
    "train_data = pd.get_dummies(train_data, prefix = ['col9'], columns = ['col9'])\n",
    "test_data = pd.get_dummies(test_data, prefix = ['col9'], columns = ['col9'])"
   ]
  },
  {
   "cell_type": "code",
   "execution_count": 12,
   "metadata": {
    "tags": []
   },
   "outputs": [
    {
     "output_type": "stream",
     "name": "stdout",
     "text": "<class 'pandas.core.frame.DataFrame'>\nRangeIndex: 15000 entries, 0 to 14999\nData columns (total 27 columns):\n #   Column      Non-Null Count  Dtype  \n---  ------      --------------  -----  \n 0   col0        15000 non-null  int64  \n 1   col1        15000 non-null  float64\n 2   col2        15000 non-null  float64\n 3   col3        15000 non-null  float64\n 4   col4        15000 non-null  float64\n 5   col5        15000 non-null  float64\n 6   col6        15000 non-null  float64\n 7   col8        15000 non-null  float64\n 8   target      15000 non-null  float64\n 9   col7_cat1   15000 non-null  uint8  \n 10  col7_cat2   15000 non-null  uint8  \n 11  col7_cat3   15000 non-null  uint8  \n 12  col7_cat4   15000 non-null  uint8  \n 13  col7_cat6   15000 non-null  uint8  \n 14  col9_cat10  15000 non-null  uint8  \n 15  col9_cat11  15000 non-null  uint8  \n 16  col9_cat12  15000 non-null  uint8  \n 17  col9_cat13  15000 non-null  uint8  \n 18  col9_cat14  15000 non-null  uint8  \n 19  col9_cat15  15000 non-null  uint8  \n 20  col9_cat2   15000 non-null  uint8  \n 21  col9_cat3   15000 non-null  uint8  \n 22  col9_cat4   15000 non-null  uint8  \n 23  col9_cat5   15000 non-null  uint8  \n 24  col9_cat6   15000 non-null  uint8  \n 25  col9_cat8   15000 non-null  uint8  \n 26  col9_na     15000 non-null  uint8  \ndtypes: float64(8), int64(1), uint8(18)\nmemory usage: 1.3 MB\n"
    }
   ],
   "source": [
    "train_data.info()"
   ]
  },
  {
   "cell_type": "code",
   "execution_count": 13,
   "metadata": {},
   "outputs": [
    {
     "output_type": "execute_result",
     "data": {
      "text/plain": "               col0          col1          col2          col3          col4  \\\ncount  15000.000000  15000.000000  15000.000000  15000.000000  15000.000000   \nmean    7500.500000      5.244599     48.152720     21.952897     35.810135   \nstd     4330.271354      1.253538     17.481893      7.675577     12.474110   \nmin        1.000000      1.000000      1.414214      1.414214      1.732051   \n25%     3750.750000      4.358899     37.762415     17.175564     28.089144   \n50%     7500.500000      5.477226     45.628938     20.856654     34.117444   \n75%    11250.250000      6.082763     55.542776     25.337719     41.677332   \nmax    15000.000000      7.211103    198.292713     80.280757    169.014792   \n\n               col5          col6          col8        target     col7_cat1  \\\ncount  15000.000000  15000.000000  15000.000000  15000.000000  15000.000000   \nmean      21.143822      1.895364    405.415168    412.128917      0.099133   \nstd        7.313136      0.452278    226.439124    372.613689      0.298851   \nmin        1.414214      0.707036     10.019787   -199.453698      0.000000   \n25%       16.643317      1.581139    208.007229    137.325117      0.000000   \n50%       20.149442      1.855748    409.101140    319.536975      0.000000   \n75%       24.474477      2.156386    597.959193    571.369087      0.000000   \nmax       77.987178      3.872996    799.963000   1416.142572      1.000000   \n\n       ...    col9_cat13    col9_cat14    col9_cat15     col9_cat2  \\\ncount  ...  15000.000000  15000.000000  15000.000000  15000.000000   \nmean   ...      0.066267      0.070133      0.071933      0.071867   \nstd    ...      0.248756      0.255380      0.258386      0.258276   \nmin    ...      0.000000      0.000000      0.000000      0.000000   \n25%    ...      0.000000      0.000000      0.000000      0.000000   \n50%    ...      0.000000      0.000000      0.000000      0.000000   \n75%    ...      0.000000      0.000000      0.000000      0.000000   \nmax    ...      1.000000      1.000000      1.000000      1.000000   \n\n          col9_cat3     col9_cat4     col9_cat5     col9_cat6     col9_cat8  \\\ncount  15000.000000  15000.000000  15000.000000  15000.000000  15000.000000   \nmean       0.071200      0.069467      0.071333      0.074400      0.074800   \nstd        0.257167      0.254255      0.257389      0.262429      0.263077   \nmin        0.000000      0.000000      0.000000      0.000000      0.000000   \n25%        0.000000      0.000000      0.000000      0.000000      0.000000   \n50%        0.000000      0.000000      0.000000      0.000000      0.000000   \n75%        0.000000      0.000000      0.000000      0.000000      0.000000   \nmax        1.000000      1.000000      1.000000      1.000000      1.000000   \n\n            col9_na  \ncount  15000.000000  \nmean       0.074800  \nstd        0.263077  \nmin        0.000000  \n25%        0.000000  \n50%        0.000000  \n75%        0.000000  \nmax        1.000000  \n\n[8 rows x 27 columns]",
      "text/html": "<div>\n<style scoped>\n    .dataframe tbody tr th:only-of-type {\n        vertical-align: middle;\n    }\n\n    .dataframe tbody tr th {\n        vertical-align: top;\n    }\n\n    .dataframe thead th {\n        text-align: right;\n    }\n</style>\n<table border=\"1\" class=\"dataframe\">\n  <thead>\n    <tr style=\"text-align: right;\">\n      <th></th>\n      <th>col0</th>\n      <th>col1</th>\n      <th>col2</th>\n      <th>col3</th>\n      <th>col4</th>\n      <th>col5</th>\n      <th>col6</th>\n      <th>col8</th>\n      <th>target</th>\n      <th>col7_cat1</th>\n      <th>...</th>\n      <th>col9_cat13</th>\n      <th>col9_cat14</th>\n      <th>col9_cat15</th>\n      <th>col9_cat2</th>\n      <th>col9_cat3</th>\n      <th>col9_cat4</th>\n      <th>col9_cat5</th>\n      <th>col9_cat6</th>\n      <th>col9_cat8</th>\n      <th>col9_na</th>\n    </tr>\n  </thead>\n  <tbody>\n    <tr>\n      <th>count</th>\n      <td>15000.000000</td>\n      <td>15000.000000</td>\n      <td>15000.000000</td>\n      <td>15000.000000</td>\n      <td>15000.000000</td>\n      <td>15000.000000</td>\n      <td>15000.000000</td>\n      <td>15000.000000</td>\n      <td>15000.000000</td>\n      <td>15000.000000</td>\n      <td>...</td>\n      <td>15000.000000</td>\n      <td>15000.000000</td>\n      <td>15000.000000</td>\n      <td>15000.000000</td>\n      <td>15000.000000</td>\n      <td>15000.000000</td>\n      <td>15000.000000</td>\n      <td>15000.000000</td>\n      <td>15000.000000</td>\n      <td>15000.000000</td>\n    </tr>\n    <tr>\n      <th>mean</th>\n      <td>7500.500000</td>\n      <td>5.244599</td>\n      <td>48.152720</td>\n      <td>21.952897</td>\n      <td>35.810135</td>\n      <td>21.143822</td>\n      <td>1.895364</td>\n      <td>405.415168</td>\n      <td>412.128917</td>\n      <td>0.099133</td>\n      <td>...</td>\n      <td>0.066267</td>\n      <td>0.070133</td>\n      <td>0.071933</td>\n      <td>0.071867</td>\n      <td>0.071200</td>\n      <td>0.069467</td>\n      <td>0.071333</td>\n      <td>0.074400</td>\n      <td>0.074800</td>\n      <td>0.074800</td>\n    </tr>\n    <tr>\n      <th>std</th>\n      <td>4330.271354</td>\n      <td>1.253538</td>\n      <td>17.481893</td>\n      <td>7.675577</td>\n      <td>12.474110</td>\n      <td>7.313136</td>\n      <td>0.452278</td>\n      <td>226.439124</td>\n      <td>372.613689</td>\n      <td>0.298851</td>\n      <td>...</td>\n      <td>0.248756</td>\n      <td>0.255380</td>\n      <td>0.258386</td>\n      <td>0.258276</td>\n      <td>0.257167</td>\n      <td>0.254255</td>\n      <td>0.257389</td>\n      <td>0.262429</td>\n      <td>0.263077</td>\n      <td>0.263077</td>\n    </tr>\n    <tr>\n      <th>min</th>\n      <td>1.000000</td>\n      <td>1.000000</td>\n      <td>1.414214</td>\n      <td>1.414214</td>\n      <td>1.732051</td>\n      <td>1.414214</td>\n      <td>0.707036</td>\n      <td>10.019787</td>\n      <td>-199.453698</td>\n      <td>0.000000</td>\n      <td>...</td>\n      <td>0.000000</td>\n      <td>0.000000</td>\n      <td>0.000000</td>\n      <td>0.000000</td>\n      <td>0.000000</td>\n      <td>0.000000</td>\n      <td>0.000000</td>\n      <td>0.000000</td>\n      <td>0.000000</td>\n      <td>0.000000</td>\n    </tr>\n    <tr>\n      <th>25%</th>\n      <td>3750.750000</td>\n      <td>4.358899</td>\n      <td>37.762415</td>\n      <td>17.175564</td>\n      <td>28.089144</td>\n      <td>16.643317</td>\n      <td>1.581139</td>\n      <td>208.007229</td>\n      <td>137.325117</td>\n      <td>0.000000</td>\n      <td>...</td>\n      <td>0.000000</td>\n      <td>0.000000</td>\n      <td>0.000000</td>\n      <td>0.000000</td>\n      <td>0.000000</td>\n      <td>0.000000</td>\n      <td>0.000000</td>\n      <td>0.000000</td>\n      <td>0.000000</td>\n      <td>0.000000</td>\n    </tr>\n    <tr>\n      <th>50%</th>\n      <td>7500.500000</td>\n      <td>5.477226</td>\n      <td>45.628938</td>\n      <td>20.856654</td>\n      <td>34.117444</td>\n      <td>20.149442</td>\n      <td>1.855748</td>\n      <td>409.101140</td>\n      <td>319.536975</td>\n      <td>0.000000</td>\n      <td>...</td>\n      <td>0.000000</td>\n      <td>0.000000</td>\n      <td>0.000000</td>\n      <td>0.000000</td>\n      <td>0.000000</td>\n      <td>0.000000</td>\n      <td>0.000000</td>\n      <td>0.000000</td>\n      <td>0.000000</td>\n      <td>0.000000</td>\n    </tr>\n    <tr>\n      <th>75%</th>\n      <td>11250.250000</td>\n      <td>6.082763</td>\n      <td>55.542776</td>\n      <td>25.337719</td>\n      <td>41.677332</td>\n      <td>24.474477</td>\n      <td>2.156386</td>\n      <td>597.959193</td>\n      <td>571.369087</td>\n      <td>0.000000</td>\n      <td>...</td>\n      <td>0.000000</td>\n      <td>0.000000</td>\n      <td>0.000000</td>\n      <td>0.000000</td>\n      <td>0.000000</td>\n      <td>0.000000</td>\n      <td>0.000000</td>\n      <td>0.000000</td>\n      <td>0.000000</td>\n      <td>0.000000</td>\n    </tr>\n    <tr>\n      <th>max</th>\n      <td>15000.000000</td>\n      <td>7.211103</td>\n      <td>198.292713</td>\n      <td>80.280757</td>\n      <td>169.014792</td>\n      <td>77.987178</td>\n      <td>3.872996</td>\n      <td>799.963000</td>\n      <td>1416.142572</td>\n      <td>1.000000</td>\n      <td>...</td>\n      <td>1.000000</td>\n      <td>1.000000</td>\n      <td>1.000000</td>\n      <td>1.000000</td>\n      <td>1.000000</td>\n      <td>1.000000</td>\n      <td>1.000000</td>\n      <td>1.000000</td>\n      <td>1.000000</td>\n      <td>1.000000</td>\n    </tr>\n  </tbody>\n</table>\n<p>8 rows × 27 columns</p>\n</div>"
     },
     "metadata": {},
     "execution_count": 13
    }
   ],
   "source": [
    "train_data.describe()"
   ]
  },
  {
   "cell_type": "code",
   "execution_count": 14,
   "metadata": {},
   "outputs": [
    {
     "output_type": "execute_result",
     "data": {
      "text/plain": "array(['col0', 'col2', 'col3', 'col4', 'col5', 'col8'], dtype=object)"
     },
     "metadata": {},
     "execution_count": 14
    }
   ],
   "source": [
    "cols = train_data.loc[:,train_data.std() > 2].columns.values\n",
    "cols = cols[:len(cols) - 1]\n",
    "cols"
   ]
  },
  {
   "cell_type": "code",
   "execution_count": 15,
   "metadata": {
    "tags": []
   },
   "outputs": [],
   "source": [
    "sc = StandardScaler()\n",
    "for c in cols:\n",
    "    train_data[c] = sc.fit_transform(train_data[c].values.reshape(-1,1))\n",
    "    test_data[c] = sc.fit_transform(test_data[c].values.reshape(-1,1))"
   ]
  },
  {
   "cell_type": "code",
   "execution_count": 16,
   "metadata": {},
   "outputs": [
    {
     "output_type": "execute_result",
     "data": {
      "text/plain": "Index(['col0', 'col1', 'col2', 'col3', 'col4', 'col5', 'col6', 'col8',\n       'col7_cat1', 'col7_cat2', 'col7_cat3', 'col7_cat4', 'col7_cat6',\n       'col9_cat10', 'col9_cat11', 'col9_cat12', 'col9_cat13', 'col9_cat14',\n       'col9_cat15', 'col9_cat2', 'col9_cat3', 'col9_cat4', 'col9_cat5',\n       'col9_cat6', 'col9_cat8', 'col9_na'],\n      dtype='object')"
     },
     "metadata": {},
     "execution_count": 16
    }
   ],
   "source": [
    "y = train_data.loc[:,'target'].astype(int)\n",
    "X = train_data.drop('target',axis = 1)\n",
    "X.columns"
   ]
  },
  {
   "cell_type": "code",
   "execution_count": 17,
   "metadata": {},
   "outputs": [],
   "source": [
    "test_data['col7_cat4'] = 0"
   ]
  },
  {
   "cell_type": "code",
   "execution_count": 18,
   "metadata": {},
   "outputs": [],
   "source": [
    "x_train,x_val,y_train,y_val = train_test_split(X,y,test_size = 0.2,random_state = 42)\n"
   ]
  },
  {
   "cell_type": "code",
   "execution_count": 21,
   "metadata": {
    "tags": []
   },
   "outputs": [],
   "source": [
    "model = LGBMRegressor(boosting_type='gbdt', objective='regression', num_leaves=1800,\n",
    "                                learning_rate=0.17, n_estimators=100, max_depth=2500,\n",
    "                                metric='rmse', bagging_fraction=0.7, feature_fraction=0.8, reg_lambda=0.9)\n",
    "# model = CatBoostRegressor(iterations = 100,\n",
    "#                           learning_rate = 0.1,\n",
    "#                           depth = 15)\n",
    "# model = LGBMRegressor()\n",
    "clf = model.fit(x_train,y_train)\n"
   ]
  },
  {
   "cell_type": "code",
   "execution_count": 22,
   "metadata": {},
   "outputs": [
    {
     "output_type": "execute_result",
     "data": {
      "text/plain": "28.92948971555465"
     },
     "metadata": {},
     "execution_count": 22
    }
   ],
   "source": [
    "np.sqrt(mean_squared_error(y_train,clf.predict(x_train)))"
   ]
  },
  {
   "cell_type": "code",
   "execution_count": 23,
   "metadata": {},
   "outputs": [
    {
     "output_type": "execute_result",
     "data": {
      "text/plain": "160.05991672597762"
     },
     "metadata": {},
     "execution_count": 23
    }
   ],
   "source": [
    "np.sqrt(mean_squared_error(y_val,clf.predict(x_val)))"
   ]
  },
  {
   "cell_type": "code",
   "execution_count": 24,
   "metadata": {},
   "outputs": [
    {
     "output_type": "execute_result",
     "data": {
      "text/plain": "-32328.569025279452"
     },
     "metadata": {},
     "execution_count": 24
    }
   ],
   "source": [
    "cross_val_score(model,x_val,y_val,scoring='neg_mean_squared_error',cv = 7).mean()"
   ]
  },
  {
   "cell_type": "code",
   "execution_count": 25,
   "metadata": {},
   "outputs": [
    {
     "output_type": "execute_result",
     "data": {
      "text/plain": "array([ 741.54958063, 1224.84608968,  818.10613588, ...,  397.14362301,\n        460.28021511,  343.90950949])"
     },
     "metadata": {},
     "execution_count": 25
    }
   ],
   "source": [
    "y_pred = clf.predict(test_data)\n",
    "y_pred"
   ]
  },
  {
   "cell_type": "code",
   "execution_count": 38,
   "metadata": {},
   "outputs": [
    {
     "output_type": "execute_result",
     "data": {
      "text/plain": "           target\n0      797.924378\n1     1309.517570\n2      850.245309\n3      486.490919\n4      474.041824\n...           ...\n5635   464.435579\n5636   440.818180\n5637   497.695903\n5638   520.585686\n5639   313.101096\n\n[5640 rows x 1 columns]",
      "text/html": "<div>\n<style scoped>\n    .dataframe tbody tr th:only-of-type {\n        vertical-align: middle;\n    }\n\n    .dataframe tbody tr th {\n        vertical-align: top;\n    }\n\n    .dataframe thead th {\n        text-align: right;\n    }\n</style>\n<table border=\"1\" class=\"dataframe\">\n  <thead>\n    <tr style=\"text-align: right;\">\n      <th></th>\n      <th>target</th>\n    </tr>\n  </thead>\n  <tbody>\n    <tr>\n      <th>0</th>\n      <td>797.924378</td>\n    </tr>\n    <tr>\n      <th>1</th>\n      <td>1309.517570</td>\n    </tr>\n    <tr>\n      <th>2</th>\n      <td>850.245309</td>\n    </tr>\n    <tr>\n      <th>3</th>\n      <td>486.490919</td>\n    </tr>\n    <tr>\n      <th>4</th>\n      <td>474.041824</td>\n    </tr>\n    <tr>\n      <th>...</th>\n      <td>...</td>\n    </tr>\n    <tr>\n      <th>5635</th>\n      <td>464.435579</td>\n    </tr>\n    <tr>\n      <th>5636</th>\n      <td>440.818180</td>\n    </tr>\n    <tr>\n      <th>5637</th>\n      <td>497.695903</td>\n    </tr>\n    <tr>\n      <th>5638</th>\n      <td>520.585686</td>\n    </tr>\n    <tr>\n      <th>5639</th>\n      <td>313.101096</td>\n    </tr>\n  </tbody>\n</table>\n<p>5640 rows × 1 columns</p>\n</div>"
     },
     "metadata": {},
     "execution_count": 38
    }
   ],
   "source": [
    "sub = pd.DataFrame(y_pred,index = None,columns=['target'])\n",
    "sub"
   ]
  },
  {
   "cell_type": "code",
   "execution_count": 40,
   "metadata": {},
   "outputs": [],
   "source": [
    "sub.to_csv('himanshu_madan_submission.csv')"
   ]
  }
 ]
}